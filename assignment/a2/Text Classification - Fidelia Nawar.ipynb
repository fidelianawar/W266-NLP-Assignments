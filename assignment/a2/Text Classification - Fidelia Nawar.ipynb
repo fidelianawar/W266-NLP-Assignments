{
 "cells": [
  {
   "cell_type": "markdown",
   "metadata": {
    "id": "n7BzBd-N9mS1"
   },
   "source": [
    "# Assignment 2: Text Classification with Various Neural Networks\n",
    "\n",
    "**Description:** This assignment covers various neural network architectures and components, largely used in the context of classification. You will compare Deep Averaging Networks, Deep Weighted Averaging Networks using Attention, and BERT-based models. You should also be able to develop an intuition for:\n",
    "\n",
    "\n",
    "*   The effects of fine-tuning word vectors or starting with random word vectors\n",
    "*   How various networks behave when the training set size changes\n",
    "* The effect of shuffling your training data\n",
    "*   The benefits of Attention calculations\n",
    "* Working with BERT\n",
    "\n",
    "\n",
    "The assignment notebook closely follows the lesson notebooks. We will use the IMDB dataset and will leverage some of the models, or part of the code, for our current investigation.\n",
    "\n",
    "The initial part of the notebook is purely setup. We will then evaluate how Attention can make Deep Averaging networks better. \n",
    "\n",
    "Do not try to run this entire notebook on your GCP instance as the training of models requires a GPU to work in a timely fashion. This notebook should be run on a Google Colab leveraging a GPU. By default, when you open the notebook in Colab it will try to use a GPU. Total runtime of the entire notebook (with solutions and a Colab GPU) should be about 1h.\n",
    "\n",
    "\n",
    "[![Open In Colab](https://colab.research.google.com/assets/colab-badge.svg)](https://colab.research.google.com/github/datasci-w266/2022-summer-main/blob/master/assignment/a2/Text_classification.ipynb)\n",
    "\n",
    "The overall assignment structure is as follows:\n",
    "\n",
    "1. Setup\n",
    "  \n",
    "  1.1 Libraries, Embeddings,  & Helper Functions\n",
    "\n",
    "  1.2 Data Acquisition\n",
    "\n",
    "  1.3. Data Preparation\n",
    "\n",
    "      1.3.1 Training/Test Sets using Word2Vec \n",
    "\n",
    "      1.3.2 Training/Test Sets for BERT-based models\n",
    "\n",
    "2. Classification with various Word2Vec-based Models\n",
    "\n",
    "  2.1 The Role of Shuffling of the Training Set\n",
    "\n",
    "  2.2 DAN vs Weighted Averaging Models using Attention\n",
    "\n",
    "    2.2.1 Warm-Up\n",
    "    \n",
    "    2.2.2 The WAN Model\n",
    "    \n",
    "  2.3 Approaches for Training of Embeddings \n",
    "\n",
    "3. Classification with BERT\n",
    "\n",
    "  3.1. BERT Basics\n",
    "\n",
    "  3.2 CLS-Token-based Classification \n",
    "\n",
    "  3.3 Averaging of BERT Outputs\n",
    "\n",
    "  3.4. Adding a CNN on top of BERT\n",
    "\n",
    "\n",
    "\n",
    "**INSTRUCTIONS:**: \n",
    "\n",
    "* Questions are always indicated as **QUESTION**, so you can search for this string to make sure you answered all of the questions. You are expected to fill out, run, and submit this notebook, as well as to answer the questions in the **answers** file as you did in a1.\n",
    "* **### YOUR CODE HERE** indicates that you are supposed to write code.\n",
    "\n",
    "* If you want to, you can run all of the cells in section 1 in bulk. This is setup work and no questions are in there. At the end of section 1 we will state all of the relevant variables that were defined and created in section 1.\n",
    "\n",
    "\n",
    "\n"
   ]
  },
  {
   "cell_type": "markdown",
   "metadata": {
    "id": "so-yur1S9mS4"
   },
   "source": [
    "## 1. Setup\n",
    "\n",
    "### 1.1. Libraries and Helper Functions\n",
    "\n",
    "This notebook requires the TensorFlow dataset and other prerequisites that you must download. "
   ]
  },
  {
   "cell_type": "code",
   "execution_count": 4,
   "metadata": {
    "colab": {
     "base_uri": "https://localhost:8080/"
    },
    "id": "8uQnMctL9mS5",
    "outputId": "03528b49-040e-4395-9abc-7d771439c72a"
   },
   "outputs": [
    {
     "name": "stdout",
     "output_type": "stream",
     "text": [
      "\u001b[K     |████████████████████████████████| 24.2 MB 1.7 MB/s \n",
      "\u001b[K     |████████████████████████████████| 4.9 MB 35.8 MB/s \n",
      "\u001b[K     |████████████████████████████████| 4.2 MB 17.4 MB/s \n",
      "\u001b[K     |████████████████████████████████| 86 kB 6.3 MB/s \n",
      "\u001b[K     |████████████████████████████████| 6.6 MB 53.2 MB/s \n",
      "\u001b[K     |████████████████████████████████| 596 kB 56.1 MB/s \n",
      "\u001b[?25h"
     ]
    }
   ],
   "source": [
    "#@title Imports\n",
    "\n",
    "!pip install pydot --quiet\n",
    "!pip install gensim==3.8.3 --quiet\n",
    "!pip install tensorflow-datasets --quiet\n",
    "!pip install -U tensorflow-text==2.8.2 --quiet\n",
    "!pip install transformers --quiet\n",
    "!pip install pydot --quiet"
   ]
  },
  {
   "cell_type": "markdown",
   "metadata": {
    "id": "ZFFBvPMR9mS8"
   },
   "source": [
    "Now we are ready to do the imports."
   ]
  },
  {
   "cell_type": "code",
   "execution_count": 5,
   "metadata": {
    "id": "Q8b9aykE9mS8"
   },
   "outputs": [],
   "source": [
    "#@title Imports\n",
    "\n",
    "import numpy as np\n",
    "import tensorflow as tf\n",
    "from tensorflow import keras\n",
    "\n",
    "from tensorflow.keras.layers import Embedding, Input, Dense, Lambda\n",
    "from tensorflow.keras.models import Model\n",
    "import tensorflow.keras.backend as K\n",
    "import tensorflow_datasets as tfds\n",
    "import tensorflow_text as tf_text\n",
    "\n",
    "from transformers import BertTokenizer, TFBertModel\n",
    "\n",
    "\n",
    "import sklearn as sk\n",
    "import os\n",
    "import nltk\n",
    "from nltk.corpus import reuters\n",
    "from nltk.data import find\n",
    "\n",
    "import matplotlib.pyplot as plt\n",
    "\n",
    "import re\n",
    "\n",
    "#This continues to work with gensim 3.8.3.  It doesn't yet work with 4.x.  \n",
    "#Make sure your pip install command specifies gensim==3.8.3\n",
    "import gensim\n",
    "\n",
    "import numpy as np"
   ]
  },
  {
   "cell_type": "markdown",
   "metadata": {
    "id": "ESElm33U9mS9"
   },
   "source": [
    "Below is a helper function to plot histories."
   ]
  },
  {
   "cell_type": "code",
   "execution_count": 6,
   "metadata": {
    "id": "YKWj6pPM9mS-"
   },
   "outputs": [],
   "source": [
    "#@title Plotting Function\n",
    "\n",
    "# 4-window plot. Small modification from matplotlib examples.\n",
    "\n",
    "def make_plot(axs, history1, \n",
    "              history2, \n",
    "              y_lim_loss_lower=0.4, \n",
    "              y_lim_loss_upper=0.6,\n",
    "              y_lim_accuracy_lower=0.7, \n",
    "              y_lim_accuracy_upper=0.8,\n",
    "              model_1_name='model 1',\n",
    "              model_2_name='model 2',\n",
    "              \n",
    "             ):\n",
    "    box = dict(facecolor='yellow', pad=5, alpha=0.2)\n",
    "\n",
    "    ax1 = axs[0, 0]\n",
    "    ax1.plot(history1.history['loss'])\n",
    "    ax1.plot(history1.history['val_loss'])\n",
    "    ax1.set_title('loss - ' + model_1_name)\n",
    "    ax1.set_ylabel('loss', bbox=box)\n",
    "    ax1.set_ylim(y_lim_loss_lower, y_lim_loss_upper)\n",
    "\n",
    "    ax3 = axs[1, 0]\n",
    "    ax3.set_title('accuracy - ' + model_1_name)\n",
    "    ax3.plot(history1.history['accuracy'])\n",
    "    ax3.plot(history1.history['val_accuracy'])\n",
    "    ax3.set_ylabel('accuracy', bbox=box)\n",
    "    ax3.set_ylim(y_lim_accuracy_lower, y_lim_accuracy_upper)\n",
    "\n",
    "\n",
    "    ax2 = axs[0, 1]\n",
    "    ax2.set_title('loss - ' + model_2_name)\n",
    "    ax2.plot(history2.history['loss'])\n",
    "    ax2.plot(history2.history['val_loss'])\n",
    "    ax2.set_ylim(y_lim_loss_lower, y_lim_loss_upper)\n",
    "\n",
    "    ax4 = axs[1, 1]\n",
    "    ax4.set_title('accuracy - ' + model_2_name)\n",
    "\n",
    "    # small adjustment to account for the 2 accuracy measures in the Weighted Averging Model with Attention\n",
    "    if 'classification_accuracy' in history2.history.keys():\n",
    "      ax4.plot(history2.history['classification_accuracy'])\n",
    "    else:\n",
    "      ax4.plot(history2.history['accuracy'])\n",
    "    \n",
    "    if 'val_classification_accuracy' in history2.history.keys():\n",
    "      ax4.plot(history2.history['val_classification_accuracy'])\n",
    "    else:\n",
    "      ax4.plot(history2.history['val_accuracy'])\n",
    "    ax4.set_ylim(y_lim_accuracy_lower, y_lim_accuracy_upper)"
   ]
  },
  {
   "cell_type": "markdown",
   "metadata": {
    "id": "1QDi-Kg49mS-"
   },
   "source": [
    "Next, we get the word2vec model from nltk."
   ]
  },
  {
   "cell_type": "code",
   "execution_count": 7,
   "metadata": {
    "colab": {
     "base_uri": "https://localhost:8080/"
    },
    "id": "49X1T6an9mS_",
    "outputId": "0322a554-27f1-4810-eed1-53409bcc1e12"
   },
   "outputs": [
    {
     "name": "stdout",
     "output_type": "stream",
     "text": [
      "[nltk_data] Downloading package word2vec_sample to /root/nltk_data...\n",
      "[nltk_data]   Unzipping models/word2vec_sample.zip.\n"
     ]
    }
   ],
   "source": [
    "#@title NLTK & Word2Vec\n",
    "\n",
    "nltk.download('word2vec_sample')\n",
    "\n",
    "word2vec_sample = str(find('models/word2vec_sample/pruned.word2vec.txt'))\n",
    "\n",
    "model = gensim.models.KeyedVectors.load_word2vec_format(word2vec_sample, binary=False)\n"
   ]
  },
  {
   "cell_type": "markdown",
   "metadata": {
    "id": "Y_rdVE3z9mTA"
   },
   "source": [
    "Now here we have the embedding **model** defined, let's see how many words are in the vocabulary:"
   ]
  },
  {
   "cell_type": "code",
   "execution_count": null,
   "metadata": {
    "id": "uoL6l_q89mTA"
   },
   "outputs": [],
   "source": [
    "len(model.vocab)"
   ]
  },
  {
   "cell_type": "markdown",
   "metadata": {
    "id": "r3Q0zOkJ9mTB"
   },
   "source": [
    "How do the word vectors look like? As expected:"
   ]
  },
  {
   "cell_type": "code",
   "execution_count": null,
   "metadata": {
    "id": "ZyAGMYGK9mTB"
   },
   "outputs": [],
   "source": [
    "model['great'][:20]"
   ]
  },
  {
   "cell_type": "markdown",
   "metadata": {
    "id": "2BMraFZS9mTB"
   },
   "source": [
    "We can now build the embedding matrix and a vocabulary dictionary:"
   ]
  },
  {
   "cell_type": "code",
   "execution_count": 8,
   "metadata": {
    "id": "lOTIN3G39mTB"
   },
   "outputs": [],
   "source": [
    "#@title Embedding Matrix Creation\n",
    "\n",
    "EMBEDDING_DIM = len(model['university'])      # we know... it's 300\n",
    "\n",
    "# initialize embedding matrix and word-to-id map:\n",
    "embedding_matrix = np.zeros((len(model.vocab.keys()) + 1, EMBEDDING_DIM))       \n",
    "vocab_dict = {}\n",
    "\n",
    "# build the embedding matrix and the word-to-id map:\n",
    "for i, word in enumerate(model.vocab.keys()):\n",
    "    embedding_vector = model[word]\n",
    "    if embedding_vector is not None:\n",
    "        # words not found in embedding index will be all-zeros.\n",
    "        embedding_matrix[i] = embedding_vector\n",
    "        vocab_dict[word] = i"
   ]
  },
  {
   "cell_type": "code",
   "execution_count": null,
   "metadata": {
    "id": "LGYcZu0N9mTC"
   },
   "outputs": [],
   "source": [
    "embedding_matrix"
   ]
  },
  {
   "cell_type": "markdown",
   "metadata": {
    "id": "YIL1eUtV9mTC"
   },
   "source": [
    "The last row consists of all zeros. We will use that for the UNK token, the placeholder token for unknown words.\n",
    "\n",
    "### 1.2 Data Acquisition\n",
    "\n",
    "\n",
    "We will use the IMDB dataset delivered as part of the TensorFlow-datasets library, and split into training and test sets. For expedience, we will limit ourselves in terms of train and test examples."
   ]
  },
  {
   "cell_type": "code",
   "execution_count": 9,
   "metadata": {
    "colab": {
     "base_uri": "https://localhost:8080/",
     "height": 342,
     "referenced_widgets": [
      "da9465b95e3d4d24b0b93e05f7eb910e",
      "54efc93113e54b95aff4b63023818d06",
      "7885cb5277364ae6ab377cfbb210cc99",
      "6c61ab89161a4dcf9b9ce762e8ba3280",
      "97f8964c19254b4ca05ba757d81d8d1c",
      "d32b851602e84f7ca752fbac7328491d",
      "24389dc32f9c478f8a4cc5ea5195a5d2",
      "ac595e86171841ffa488238c3eaef29c",
      "a7454ca9a8dc4f2ab54bce023d1be88f",
      "eb8348d389424513bdd4d76441594de9",
      "9eeddc965f9142548f15c5589b35eda4",
      "e97c174a35094678a5b420e6d33c8d27",
      "b4305990caf6450cbec5eb51435b4764",
      "341762d89fad4dbaac13ba440c8c0ca6",
      "de599885cffc45f1a51ec34f6ea37084",
      "d47f3f57a12f473b969d86779f48d7d9",
      "362583a9e2a14c2da77d084ca5734821",
      "41897535c04047b496c1c053cd6a654d",
      "1463fe0b68ba4d24bd25f2b4589ca03a",
      "352bf8f3c6144380a130e0e7b23010f2",
      "8d9c4a9bfe2a4ded9c2b688451413b59",
      "c72fc1f3389e4079a2c2d827e4ab2def",
      "3387923786e54b94b6816562de3fd1a2",
      "df7fafafad0f4cd582f5a1a15f3beecd",
      "69f837a21fd94ecfb0b4d000e9890d58",
      "e39092d02f524013b3e7b75b8388a839",
      "1d31aeba415f4515811de6cf720df903",
      "d5eaa0b0f225431d890d0b067a6eff62",
      "d8a2d8016ce943129cdf253e4bef1312",
      "08b23ffd09dd441bad9b5a02587dc3df",
      "acc1e7ea596446e99bf828b38f4d1d86",
      "82f54ba3a3b547e2a07394d7d81feee3",
      "287afa79ad7c41878cb50c3e488c86c0",
      "5c6e5ac4a4db4ceb998e57cfc4b12501",
      "12ade485e76d4074bc50b3356fb38228",
      "b0258b2c523142aa8a4e182c8f91fd91",
      "bce8106e71ce4603a42977da061d20c7",
      "21dfa078e38646f3b3d9a3fddba6389c",
      "e9a8a8b1ed74484b82d45b440629eb6b",
      "717727f2741d4bffaee47703681b4ec8",
      "640f688604254655894d4499e656d9d0",
      "dca82897694348de9cee0a80b19549af",
      "ae2a7e76b2fd4275ad139076892e9a55",
      "534b5738d7a047199822e5101cc16b5d",
      "97217efffc524f0dbf5bcb70dde1a02a",
      "2fdd620be1454871b981e0ad8a993342",
      "08f7f03f820449dbb1a1ee3cfe238ad4",
      "916713157d3d410aa5e7068ac999382a",
      "4268069b0ca341d0b7b3805523b5ef85",
      "fe0f2861e0b14fee8a1c183517775b0f",
      "b8ba54b763f34e6da9b3ea905411327a",
      "8c3d64d1ac3d45faa50e16eeb2d0df6f",
      "e12aa24f5f234bef8f76bb682be74261",
      "d8b357a50ee74767874426aea4659473",
      "2fcdbb187924493987685b4d37d743ca",
      "1d4a0b60242645629122289f7e3a009f",
      "d125f8fb4af44b4ea65bfc1bda7445c4",
      "d6cfb51147054db6afa671918e7d8a74",
      "1f3dc12679174855a922f8717c4c16d0",
      "bea6b8eb9e2443dc8f3be7a28a24e9aa",
      "c0d6577fad9f471f81dcc43690ca18dc",
      "b6d91199904d42daa06969d9455dff52",
      "670f13e3508d4db49efbd68cdaf0e5e0",
      "691a45bfcd67452ab232d18fef37eb58",
      "a9fd29d7371247859b233e62cd34d85e",
      "cc06f9924a02405e89e1794a3e35d0c3",
      "e14b6c4f6c5a451ba8b2d1c7b9061983",
      "58fa04baffbd4a8185fa6fe0232b1b9f",
      "6d6d1680fe74440bb7c7e34367948200",
      "e49dd2a9f37e4e95b7d0047a8d4a530d",
      "333ad892ef1041448dc55ee181e5ea72",
      "b19e2cba477a4ccdb1aaa037c38b2822",
      "3f899b158a6d43eea006abca1ed6f0a0",
      "7720c49e940a4e4aa5990f450c6dbd6e",
      "5fe38ffb4354486eb20323aef4bb9634",
      "f345c4c527b94faa829246b592ce9491",
      "d1df8e9b0bef4534bad3c768ba86c22c",
      "b4016e6e1a604360a322329ef6cec05a",
      "bd9a367af09846478055df42a1aaebdc",
      "10831e5b5583417d88b2dd44911ea347",
      "6bf8e3f7cb4d4c8ba1995ef2fa3247cf",
      "19354abbfbd64454a1749a1c02c2c89d",
      "6ff83731eedd49808455dc22782ee1ae",
      "e3b04e636b214325a49024d042462fd7",
      "55c105284f0b4417a00583282103963a",
      "d0033741bf054838805fb874db6f6924",
      "d0b73906870f4c08b5d1cc4e52ba5ea9",
      "48901f6ed39849b4a101937245008944"
     ]
    },
    "id": "uwOF0qYb9mTC",
    "outputId": "e27e6fb7-4f81-4a4f-8279-8ce89294e4e5"
   },
   "outputs": [
    {
     "name": "stdout",
     "output_type": "stream",
     "text": [
      "\u001b[1mDownloading and preparing dataset imdb_reviews/plain_text/1.0.0 (download: 80.23 MiB, generated: Unknown size, total: 80.23 MiB) to /root/tensorflow_datasets/imdb_reviews/plain_text/1.0.0...\u001b[0m\n"
     ]
    },
    {
     "data": {
      "application/vnd.jupyter.widget-view+json": {
       "model_id": "da9465b95e3d4d24b0b93e05f7eb910e",
       "version_major": 2,
       "version_minor": 0
      },
      "text/plain": [
       "Dl Completed...: 0 url [00:00, ? url/s]"
      ]
     },
     "metadata": {},
     "output_type": "display_data"
    },
    {
     "data": {
      "application/vnd.jupyter.widget-view+json": {
       "model_id": "e97c174a35094678a5b420e6d33c8d27",
       "version_major": 2,
       "version_minor": 0
      },
      "text/plain": [
       "Dl Size...: 0 MiB [00:00, ? MiB/s]"
      ]
     },
     "metadata": {},
     "output_type": "display_data"
    },
    {
     "name": "stdout",
     "output_type": "stream",
     "text": [
      "\n",
      "\n"
     ]
    },
    {
     "data": {
      "application/vnd.jupyter.widget-view+json": {
       "model_id": "3387923786e54b94b6816562de3fd1a2",
       "version_major": 2,
       "version_minor": 0
      },
      "text/plain": [
       "0 examples [00:00, ? examples/s]"
      ]
     },
     "metadata": {},
     "output_type": "display_data"
    },
    {
     "name": "stdout",
     "output_type": "stream",
     "text": [
      "Shuffling and writing examples to /root/tensorflow_datasets/imdb_reviews/plain_text/1.0.0.incompletePSBJNO/imdb_reviews-train.tfrecord\n"
     ]
    },
    {
     "data": {
      "application/vnd.jupyter.widget-view+json": {
       "model_id": "5c6e5ac4a4db4ceb998e57cfc4b12501",
       "version_major": 2,
       "version_minor": 0
      },
      "text/plain": [
       "  0%|          | 0/25000 [00:00<?, ? examples/s]"
      ]
     },
     "metadata": {},
     "output_type": "display_data"
    },
    {
     "data": {
      "application/vnd.jupyter.widget-view+json": {
       "model_id": "97217efffc524f0dbf5bcb70dde1a02a",
       "version_major": 2,
       "version_minor": 0
      },
      "text/plain": [
       "0 examples [00:00, ? examples/s]"
      ]
     },
     "metadata": {},
     "output_type": "display_data"
    },
    {
     "name": "stdout",
     "output_type": "stream",
     "text": [
      "Shuffling and writing examples to /root/tensorflow_datasets/imdb_reviews/plain_text/1.0.0.incompletePSBJNO/imdb_reviews-test.tfrecord\n"
     ]
    },
    {
     "data": {
      "application/vnd.jupyter.widget-view+json": {
       "model_id": "1d4a0b60242645629122289f7e3a009f",
       "version_major": 2,
       "version_minor": 0
      },
      "text/plain": [
       "  0%|          | 0/25000 [00:00<?, ? examples/s]"
      ]
     },
     "metadata": {},
     "output_type": "display_data"
    },
    {
     "data": {
      "application/vnd.jupyter.widget-view+json": {
       "model_id": "e14b6c4f6c5a451ba8b2d1c7b9061983",
       "version_major": 2,
       "version_minor": 0
      },
      "text/plain": [
       "0 examples [00:00, ? examples/s]"
      ]
     },
     "metadata": {},
     "output_type": "display_data"
    },
    {
     "name": "stdout",
     "output_type": "stream",
     "text": [
      "Shuffling and writing examples to /root/tensorflow_datasets/imdb_reviews/plain_text/1.0.0.incompletePSBJNO/imdb_reviews-unsupervised.tfrecord\n"
     ]
    },
    {
     "data": {
      "application/vnd.jupyter.widget-view+json": {
       "model_id": "b4016e6e1a604360a322329ef6cec05a",
       "version_major": 2,
       "version_minor": 0
      },
      "text/plain": [
       "  0%|          | 0/50000 [00:00<?, ? examples/s]"
      ]
     },
     "metadata": {},
     "output_type": "display_data"
    },
    {
     "name": "stderr",
     "output_type": "stream",
     "text": [
      "WARNING:absl:Dataset is using deprecated text encoder API which will be removed soon. Please use the plain_text version of the dataset and migrate to `tensorflow_text`.\n"
     ]
    },
    {
     "name": "stdout",
     "output_type": "stream",
     "text": [
      "\u001b[1mDataset imdb_reviews downloaded and prepared to /root/tensorflow_datasets/imdb_reviews/plain_text/1.0.0. Subsequent calls will reuse this data.\u001b[0m\n"
     ]
    }
   ],
   "source": [
    "train_data, test_data = tfds.load(\n",
    "    name=\"imdb_reviews\", \n",
    "    split=('train[:80%]', 'test[80%:]'),\n",
    "    as_supervised=True)\n",
    "\n",
    "train_examples_batch, train_labels_batch = next(iter(train_data.batch(30000)))\n",
    "test_examples_batch, test_labels_batch = next(iter(test_data.batch(5000)))"
   ]
  },
  {
   "cell_type": "markdown",
   "metadata": {
    "id": "mPHFtgGkHNOQ"
   },
   "source": [
    "It is always highly recommended to look at the data. "
   ]
  },
  {
   "cell_type": "code",
   "execution_count": null,
   "metadata": {
    "id": "wvmWKdVQ9mTC"
   },
   "outputs": [],
   "source": [
    "train_examples_batch[2:4]"
   ]
  },
  {
   "cell_type": "code",
   "execution_count": null,
   "metadata": {
    "id": "BzEnCspD9mTD"
   },
   "outputs": [],
   "source": [
    "train_labels_batch[2:4]"
   ]
  },
  {
   "cell_type": "markdown",
   "metadata": {
    "id": "CplHsqSDMKCa"
   },
   "source": [
    "For convenience, in this assignment we will define a maximum length and only keep the examples that are longer than that length"
   ]
  },
  {
   "cell_type": "code",
   "execution_count": 10,
   "metadata": {
    "id": "Zxu9U3qXMKTW"
   },
   "outputs": [],
   "source": [
    "MAX_SEQUENCE_LENGTH = 100"
   ]
  },
  {
   "cell_type": "markdown",
   "metadata": {
    "id": "1bHwj4vu9mTD"
   },
   "source": [
    "For simplicity, we will also limit ourselves to examples that actually have at least MAX_SEQUENCE_LENGTH tokens.\n",
    "\n",
    "\n",
    "## 1.3. Data Preparation\n",
    "\n",
    "### 1.3.1. Training/Test Sets for Word2Vec-based Models\n",
    "\n",
    "First, we tokenize the data:"
   ]
  },
  {
   "cell_type": "code",
   "execution_count": 11,
   "metadata": {
    "id": "ToVTmC8V9mTD"
   },
   "outputs": [],
   "source": [
    "tokenizer = tf_text.WhitespaceTokenizer()\n",
    "train_tokens = tokenizer.tokenize(train_examples_batch)\n",
    "test_tokens = tokenizer.tokenize(test_examples_batch)"
   ]
  },
  {
   "cell_type": "markdown",
   "metadata": {
    "id": "qXauPwil9mTD"
   },
   "source": [
    "Does this look right?"
   ]
  },
  {
   "cell_type": "code",
   "execution_count": null,
   "metadata": {
    "id": "QZ22GGb-9mTD"
   },
   "outputs": [],
   "source": [
    "train_tokens[0]"
   ]
  },
  {
   "cell_type": "markdown",
   "metadata": {
    "id": "K9D9nqdg9mTE"
   },
   "source": [
    "Yup... looks right. Of course we will need to take care of the encoding later."
   ]
  },
  {
   "cell_type": "markdown",
   "metadata": {
    "id": "XiqFULXx9mTE"
   },
   "source": [
    "Next, we define a simple function that converts the tokens above into the appropriate word2vec index values.   "
   ]
  },
  {
   "cell_type": "code",
   "execution_count": 12,
   "metadata": {
    "id": "5GpZh2Eh9mTE"
   },
   "outputs": [],
   "source": [
    "#@title Definition of sents_to_ids function\n",
    "\n",
    "def sents_to_ids(token_list_list, label_list, num_examples=100000000):\n",
    "    \"\"\"\n",
    "    converting a list of strings to a list of lists of word ids\n",
    "    \"\"\"\n",
    "    text_ids = []\n",
    "    text_labels = []\n",
    "    valid_example_list = []\n",
    "    example_count = 0\n",
    "    use_token_list_list = token_list_list[:num_examples]\n",
    "    for i, token_list in enumerate(use_token_list_list):\n",
    "        if i < num_examples:\n",
    "            try:\n",
    "                example = []\n",
    "                for token in list(token_list.numpy()):\n",
    "                    decoded = token.decode('utf-8').replace('.','').replace(',','').replace('!','')\n",
    "                    try:\n",
    "                        example.append(vocab_dict[decoded])\n",
    "                  \n",
    "                    except:\n",
    "                        example.append(43981)\n",
    "                if len(example) >= MAX_SEQUENCE_LENGTH:\n",
    "                    text_ids.append(example[:MAX_SEQUENCE_LENGTH])\n",
    "                    text_labels.append(label_list[i])\n",
    "                    if example_count % 5000 == 0:\n",
    "                        print('Examples processed: ', example_count)\n",
    "                    valid_example_list.append(i) \n",
    "                    example_count += 1\n",
    "                else:\n",
    "                    pass\n",
    "            except:\n",
    "                pass\n",
    "\n",
    "    \n",
    "    print('Number of examples retained: ', example_count) \n",
    "    return (np.array(text_ids),   np.array(text_labels), valid_example_list) "
   ]
  },
  {
   "cell_type": "markdown",
   "metadata": {
    "id": "gv_elC2m9mTE"
   },
   "source": [
    "Now we can create training and test data that can be fed into the models of interest."
   ]
  },
  {
   "cell_type": "code",
   "execution_count": 13,
   "metadata": {
    "colab": {
     "base_uri": "https://localhost:8080/"
    },
    "id": "y3yIVIvo9mTF",
    "outputId": "e2ed7085-b081-4ffd-c72e-8c410e0fab47"
   },
   "outputs": [
    {
     "name": "stdout",
     "output_type": "stream",
     "text": [
      "Examples processed:  0\n",
      "Examples processed:  5000\n",
      "Examples processed:  10000\n",
      "Examples processed:  15000\n",
      "Number of examples retained:  17418\n",
      "Examples processed:  0\n",
      "Number of examples retained:  4329\n"
     ]
    }
   ],
   "source": [
    "train_input_ids, train_input_labels, train_valid_example_list = sents_to_ids(train_tokens, train_labels_batch)\n",
    "test_input_ids, test_input_labels, test_valid_example_list = sents_to_ids(test_tokens, test_labels_batch)"
   ]
  },
  {
   "cell_type": "markdown",
   "metadata": {
    "id": "Nnk0ldo45Zjr"
   },
   "source": [
    "The variable 'train_valid_example_list' contains the list of chosen examples that we can use later for the construction of the BERT training and test sets."
   ]
  },
  {
   "cell_type": "code",
   "execution_count": null,
   "metadata": {
    "id": "alaUe82y5XeI"
   },
   "outputs": [],
   "source": [
    "train_valid_example_list[:5]"
   ]
  },
  {
   "cell_type": "markdown",
   "metadata": {
    "id": "xEIFFNbQN-Sa"
   },
   "source": [
    "Examples 3 and 4 were apparently shorten than our target length. \n",
    "\n",
    "We will also create a reduced training dataset with only 1000 examples to study the effect of the dataset size.\n"
   ]
  },
  {
   "cell_type": "code",
   "execution_count": 14,
   "metadata": {
    "id": "NyztyBWpN-fJ"
   },
   "outputs": [],
   "source": [
    "REDUCED_TRAINING_SIZE = 1000\n",
    "\n",
    "train_input_ids_reduced = train_input_ids[:REDUCED_TRAINING_SIZE]\n",
    "train_input_labels_reduced = train_input_labels[:REDUCED_TRAINING_SIZE]"
   ]
  },
  {
   "cell_type": "markdown",
   "metadata": {
    "id": "-dP2KY7U9mTF"
   },
   "source": [
    "Let's convince ourselves that the data looks correct:"
   ]
  },
  {
   "cell_type": "code",
   "execution_count": 22,
   "metadata": {
    "colab": {
     "base_uri": "https://localhost:8080/"
    },
    "id": "FtU56wVR9mTF",
    "outputId": "c73af668-501a-4e18-b56d-3c2af07149f7"
   },
   "outputs": [
    {
     "data": {
      "text/plain": [
       "array([[21531, 25272, 12291,  7427, 37254, 34710,  6891, 12917, 38232,\n",
       "        16915, 12929, 16182, 43981, 20526, 23487, 38195, 23807, 42958,\n",
       "        35058, 34177, 19123, 35029, 41270, 29275, 12917, 32597, 20659,\n",
       "          638, 16915, 26144,   174, 32597, 35058, 39971,  2326,  3636,\n",
       "        22434, 35029, 43981, 33922, 29168, 21531, 34710, 16908, 12291,\n",
       "        36880, 28137,  5376, 28038, 38341, 15402, 29155, 18063, 24951,\n",
       "        17433, 17595,  8856, 14193, 43981, 43248, 17433,  6290, 32597,\n",
       "         9001, 11511,  9337, 21807, 39168, 43981, 16856, 28070, 43981,\n",
       "        23245, 43981,  8889,  1331, 43981, 25272, 31976, 19123, 43981,\n",
       "        18063, 36309, 24099, 16915, 43981, 34710, 36633, 25272, 20413,\n",
       "        43981, 33458, 14926, 34194, 12139, 12289, 39617, 36633,  9483,\n",
       "        42958],\n",
       "       [12139,  7841, 19666, 31757, 43981, 17853, 25745, 15445, 33741,\n",
       "        19123, 35029, 16908, 21113, 21068, 43981, 43981,  5668, 43981,\n",
       "        33456,  4942, 34554, 33013,  1200, 27498, 43981, 18802, 20514,\n",
       "        14193, 43981, 43981, 23955, 14042, 15400, 43981, 25973, 32334,\n",
       "        20514, 35029,  7870, 12139, 17108, 25745, 43830, 14193, 28743,\n",
       "        25272, 24081, 15402, 17006,   222, 25272,  7490, 43981, 33994,\n",
       "        43981, 21583, 42659, 12375, 43981, 25574, 19123,  1331, 19870,\n",
       "         7816, 43981, 31696, 25272, 23801, 13877, 20526, 39028, 12139,\n",
       "        27101, 12139, 37939,  7841, 24998, 29109, 43981, 14193, 28743,\n",
       "        19123, 16266,  8017, 14193, 43099, 43981, 16909, 43981, 30811,\n",
       "        14042, 12375, 43981, 25574, 43981, 34511, 21851, 14087,  9370,\n",
       "        33458]])"
      ]
     },
     "execution_count": 22,
     "metadata": {},
     "output_type": "execute_result"
    }
   ],
   "source": [
    "train_input_ids[:2]"
   ]
  },
  {
   "cell_type": "markdown",
   "metadata": {
    "id": "L5svfigoOgaE"
   },
   "source": [
    "### 1.3.2. Training/Test Sets for BERT-based models\n",
    "\n",
    "We already imported the BERT model and the Tokenizer libraries. Now, we create the tokenizer:"
   ]
  },
  {
   "cell_type": "code",
   "execution_count": 15,
   "metadata": {
    "colab": {
     "base_uri": "https://localhost:8080/",
     "height": 113,
     "referenced_widgets": [
      "023b0fe052f74777a8347a57af272b08",
      "00f3c307a581455aba0c4c9117040e15",
      "4d8e7ab180bc4072ab564c4fdbf01da7",
      "cbf592c25b5042058a616df290b1b3b3",
      "041f052269ff468bb1081f2aed75f94c",
      "62e6f69b65294db8b7f26c300b598e0f",
      "5d4dc88a949d4df494015b27986d02b1",
      "e517e8551a0b470a814ac5f23b5f017c",
      "eac61bfa82474a35ad0b4bee34f6c5d4",
      "df5b8349317348609c4bd07ec0e9fba7",
      "dd162eacc4284e32b0db9eee0d470732",
      "6df4c4f7b25c43dd9a97badf7fa0e509",
      "f680761254a74055a7380feff3dbd2b6",
      "5d31248676ca494b9565a314d5f99a17",
      "8415170de41c4717a2450fb47d927b77",
      "2c619e0b1da742758110fb2fd972867a",
      "ca09d0dae0094498ba22a8e666b0853d",
      "ecc243d4f4f74657874fd2882406b152",
      "27d48d60ed3f48eea91fc58633eebfc8",
      "50e7ee154cdd46dfa78e082435b277ce",
      "14539019d51b47e6afe6a0b2664658e6",
      "6b5f5c7900174bc494af84b70b8b3902",
      "7532d311952e40038a2ab9098b901bb9",
      "a3698fce271e407e8a58bb9339a15e12",
      "542eebd2af354d6fa94b15a06dbce0a3",
      "a09ba551d230461a90cff5e1599d0885",
      "f4fe545d11cd40d38dc96bc0d723e5a7",
      "a22b6e92a5004f2aa56da62085d9a59f",
      "483a5a27a8e74873b269695777b1132b",
      "4d9a67996fba40ee8d589a40f6074f3d",
      "bd4b5c38f8eb46968495772709ad8f5b",
      "d30aad314def4f398ed0d0e831075ba4",
      "1575ad27bac748f38f0319c369acd23b"
     ]
    },
    "id": "LEyBUFlT53zk",
    "outputId": "e56ac589-b0a1-4b87-bbca-e4a542a53328"
   },
   "outputs": [
    {
     "data": {
      "application/vnd.jupyter.widget-view+json": {
       "model_id": "023b0fe052f74777a8347a57af272b08",
       "version_major": 2,
       "version_minor": 0
      },
      "text/plain": [
       "Downloading:   0%|          | 0.00/208k [00:00<?, ?B/s]"
      ]
     },
     "metadata": {},
     "output_type": "display_data"
    },
    {
     "data": {
      "application/vnd.jupyter.widget-view+json": {
       "model_id": "6df4c4f7b25c43dd9a97badf7fa0e509",
       "version_major": 2,
       "version_minor": 0
      },
      "text/plain": [
       "Downloading:   0%|          | 0.00/29.0 [00:00<?, ?B/s]"
      ]
     },
     "metadata": {},
     "output_type": "display_data"
    },
    {
     "data": {
      "application/vnd.jupyter.widget-view+json": {
       "model_id": "7532d311952e40038a2ab9098b901bb9",
       "version_major": 2,
       "version_minor": 0
      },
      "text/plain": [
       "Downloading:   0%|          | 0.00/570 [00:00<?, ?B/s]"
      ]
     },
     "metadata": {},
     "output_type": "display_data"
    }
   ],
   "source": [
    "bert_tokenizer = BertTokenizer.from_pretrained('bert-base-cased')"
   ]
  },
  {
   "cell_type": "markdown",
   "metadata": {
    "id": "aYyzQ0Wi9Mdw"
   },
   "source": [
    "Since the Tokenizer of BERT is not a whitespace tokenizer, each sentence will almost certainly result in more BERT tokens than whitespace tokens. Since we don't want to cheat by showing BERT more examples than other models we should restrict ourselves to the data that will also be seen by the other models:  "
   ]
  },
  {
   "cell_type": "code",
   "execution_count": 16,
   "metadata": {
    "id": "qM1qYCxz6z3a"
   },
   "outputs": [],
   "source": [
    "#@title Limit BERT data to the set used with word2vec \n",
    "all_train_examples = [x.decode('utf-8') for x in train_examples_batch.numpy()]\n",
    "all_test_examples = [x.decode('utf-8') for x in test_examples_batch.numpy()]\n",
    "\n",
    "bert_valid_train_examples_text = []\n",
    "bert_valid_train_examples_labels = []\n",
    "\n",
    "bert_valid_test_examples_text = []\n",
    "bert_valid_test_examples_labels = []\n",
    "\n",
    "for valid_example in train_valid_example_list:\n",
    "  bert_valid_train_examples_text.append(all_train_examples[valid_example])\n",
    "  bert_valid_train_examples_labels.append(train_labels_batch[valid_example])\n",
    "\n",
    "for valid_example in test_valid_example_list:\n",
    "  bert_valid_test_examples_text.append(all_test_examples[valid_example])\n",
    "  bert_valid_test_examples_labels.append(test_labels_batch[valid_example])\n",
    "\n",
    "\n"
   ]
  },
  {
   "cell_type": "markdown",
   "metadata": {
    "id": "BuBp01dtAZ4e"
   },
   "source": [
    "Next, we will create our training and test sets for BERT models."
   ]
  },
  {
   "cell_type": "code",
   "execution_count": 17,
   "metadata": {
    "id": "cpSk9zvw532w"
   },
   "outputs": [],
   "source": [
    "#@title BERT Tokenization of training and test data\n",
    "\n",
    "num_train_examples = 2500000\n",
    "num_test_examples = 500000\n",
    "\n",
    "max_length = MAX_SEQUENCE_LENGTH\n",
    "\n",
    "\n",
    "x_train = bert_tokenizer(bert_valid_train_examples_text[:num_train_examples], \n",
    "              max_length=max_length,\n",
    "              truncation=True,\n",
    "              padding='max_length', \n",
    "              return_tensors='tf')\n",
    "y_train = bert_valid_train_examples_labels[:num_train_examples]\n",
    "\n",
    "x_test = bert_tokenizer(bert_valid_test_examples_text[:num_test_examples], \n",
    "              max_length=max_length,\n",
    "              truncation=True,\n",
    "              padding='max_length', \n",
    "              return_tensors='tf')\n",
    "y_test = bert_valid_test_examples_labels[:num_test_examples]\n",
    "\n",
    "\n",
    "def select_min_length_examples(x_data, y_data):\n",
    "\n",
    "  x_input_ids = []\n",
    "  y_labels = []\n",
    "\n",
    "  for ((input_ids, masks), label) in zip(zip(x_data['input_ids'], x_data['attention_mask']), y_data):\n",
    "    if masks[-1] == 1:\n",
    "      x_input_ids.append(input_ids)\n",
    "      y_labels.append(label)\n",
    "\n",
    "  return np.array(x_input_ids), np.array(y_labels) \n"
   ]
  },
  {
   "cell_type": "markdown",
   "metadata": {
    "id": "4-fm4hnNBijx"
   },
   "source": [
    "Next, we will simplify our lives for the purpose of the bulk of the assignment. We know that 1) all inputs  have at least MAX_SEQUENCE_LENGTH tokens, and 2) the input has one section not 2. Therefore, BERT will produce consistent results if we only use the 'input_ids'.\n",
    "\n",
    "Let us create the corresponding data sets:"
   ]
  },
  {
   "cell_type": "code",
   "execution_count": 18,
   "metadata": {
    "id": "x6DHGOdP53_v"
   },
   "outputs": [],
   "source": [
    "bert_train_input_ids, bert_train_labels = select_min_length_examples(x_train, y_train)\n",
    "bert_test_input_ids, bert_test_labels = select_min_length_examples(x_test, y_test)"
   ]
  },
  {
   "cell_type": "markdown",
   "metadata": {
    "id": "Jj-EjMh2CjFj"
   },
   "source": [
    "How many training examples do we have?"
   ]
  },
  {
   "cell_type": "code",
   "execution_count": 23,
   "metadata": {
    "colab": {
     "base_uri": "https://localhost:8080/"
    },
    "id": "Xc6Vu06qCjR8",
    "outputId": "f51646e6-9399-4b60-dbf0-66b7cf53715e"
   },
   "outputs": [
    {
     "data": {
      "text/plain": [
       "(17418, 100)"
      ]
     },
     "execution_count": 23,
     "metadata": {},
     "output_type": "execute_result"
    }
   ],
   "source": [
    "bert_train_input_ids.shape"
   ]
  },
  {
   "cell_type": "markdown",
   "metadata": {
    "id": "k6x4ZOOcCDsl"
   },
   "source": [
    "Great. Looks like the same size training set that we used for the word2vec-based models.\n",
    "\n",
    "We also want to create again a reduced set of size REDUCED_TRAINING_SIZE: "
   ]
  },
  {
   "cell_type": "code",
   "execution_count": 19,
   "metadata": {
    "id": "gRsH34yV54HB"
   },
   "outputs": [],
   "source": [
    "bert_train_input_ids_reduced = bert_train_input_ids[:REDUCED_TRAINING_SIZE]\n",
    "bert_train_labels_reduced = bert_train_labels[:REDUCED_TRAINING_SIZE]"
   ]
  },
  {
   "cell_type": "markdown",
   "metadata": {
    "id": "myNK4ZhQDQBL"
   },
   "source": [
    "Overall, here are the key variables and sets that we created, and that may be used moving forward. If the variable naming does not make it obvious, we also state the purpose:\n",
    "\n",
    "Parameters:\n",
    "\n",
    "* MAX_SEQUENCE_LENGTH (100)\n",
    "* REDUCED_TRAINING_SIZE (1000)\n",
    "\n",
    "Word2vec-based models:\n",
    "\n",
    "*   train(/test)_input_ids: input ids for the training(/test) sets for word2vec models\n",
    "* train(/test)_input_labels: the corresponding labels\n",
    "*   train(/test)_input_ids_reduced: input ids for the reduced training(/test) sets for word2vec models\n",
    "* train(/test)_input_labels_reduced: the corresponding labels for the reduced set\n",
    "\n",
    "BERT:\n",
    "\n",
    "\n",
    "*   bert_train(/test)_input_ids: input ids for the training(/test) sets for BERT models\n",
    "* bert_train(/test)_labels: the corresponding labels for BERT\n",
    "*   bert_train(/test)_input_ids_reduced : input ids for the reduced training(/test) sets for BERT models\n",
    "* bert_train(/test)_labels: the corresponding labels for the reduced set for BERT\n",
    "\n",
    "**NOTE:** We recommend to inspect these variables if you have not gone through the code."
   ]
  },
  {
   "cell_type": "markdown",
   "metadata": {
    "id": "vzbPHBf3GP2O"
   },
   "source": [
    "## 2. Classification with various Word2Vec-based Models"
   ]
  },
  {
   "cell_type": "markdown",
   "metadata": {
    "id": "H7yp2gI-AtCl"
   },
   "source": [
    "**QUESTION:**\n",
    "\n",
    "2.a. Revisit the dataset. Is it balanced? Find the ratio of positive examples for the training sets.\n",
    "\n",
    "2.b. Find the ratio of positive examples for both the test set."
   ]
  },
  {
   "cell_type": "code",
   "execution_count": 24,
   "metadata": {
    "colab": {
     "base_uri": "https://localhost:8080/"
    },
    "id": "x6EAE6cjA9jM",
    "outputId": "59deef26-97cb-459b-ac42-94988fbd284a"
   },
   "outputs": [
    {
     "name": "stdout",
     "output_type": "stream",
     "text": [
      "Positive:Negative Ratio (Train Full) -  0.49351 : 0.50649\n",
      "Positive:Negative Ratio (Train Reduced) -  0.5 : 0.5\n"
     ]
    }
   ],
   "source": [
    "### YOUR CODE HERE\n",
    "\n",
    "def find_ratio(labels):\n",
    "  length = labels.size\n",
    "  positive_count = 0\n",
    "  negative_count = 0\n",
    "\n",
    "  for i in range (length):\n",
    "    if labels[i] == 1:\n",
    "      positive_count += 1\n",
    "    elif labels[i] == 0:\n",
    "      negative_count += 1\n",
    "\n",
    "  positive = round((positive_count/length),5)\n",
    "  negative = round((negative_count/length),5)\n",
    "\n",
    "  return positive, negative\n",
    "\n",
    "pos_train_full, neg_train_full = find_ratio(train_input_labels)\n",
    "pos_train_red, neg_train_red = find_ratio(train_input_labels_reduced)\n",
    "\n",
    "print(f'Positive:Negative Ratio (Train Full) - ', pos_train_full, ':', neg_train_full)\n",
    "print(f'Positive:Negative Ratio (Train Reduced) - ', pos_train_red, ':', neg_train_red)\n",
    "\n",
    "\n",
    "### END YOUR CODE"
   ]
  },
  {
   "cell_type": "code",
   "execution_count": 25,
   "metadata": {
    "colab": {
     "base_uri": "https://localhost:8080/"
    },
    "id": "2K_8eBTHArme",
    "outputId": "6feaaf6e-bfdb-41f7-b453-858bfe647e23"
   },
   "outputs": [
    {
     "name": "stdout",
     "output_type": "stream",
     "text": [
      "Positive:Negative Ratio (Test Full) -  0.49688 : 0.50312\n"
     ]
    }
   ],
   "source": [
    "### YOUR CODE HERE\n",
    "pos_test_full, neg_test_full = find_ratio(test_input_labels)\n",
    "print(f'Positive:Negative Ratio (Test Full) - ', pos_test_full, ':', neg_test_full)\n",
    "\n",
    "### END YOUR CODE"
   ]
  },
  {
   "cell_type": "markdown",
   "metadata": {
    "id": "JY6X0wL3BQKD"
   },
   "source": [
    "### 2.1 The Role of Shuffling of the Training Set\n",
    "\n",
    "\n",
    "We will first revisit the DAN model. \n",
    "\n",
    "2. Reuse the code from the class notebook to build a DAN network with one hidden layer of dimension 100. The optimizer should be Adam. Wrap the model creation in a function according to this API:"
   ]
  },
  {
   "cell_type": "code",
   "execution_count": 26,
   "metadata": {
    "id": "vk-4mCgyBO9S"
   },
   "outputs": [],
   "source": [
    "def create_dan_model(retrain_embeddings=False, \n",
    "                     max_sequence_length=MAX_SEQUENCE_LENGTH,\n",
    "                     hidden_dim=100,\n",
    "                     dropout=0.3,\n",
    "                     embedding_initializer='word2vec', \n",
    "                     learning_rate=0.001):\n",
    "  \"\"\"\n",
    "  Construct the DAN model including the compilation and return it. Parametrize it using the arguments.\n",
    "  :param retrain_embeddings: boolean, indicating whether  the word embeddings are trainable\n",
    "  :param hidden_dim: dimension of the hidden layer\n",
    "  :param dropout: dropout applied to the hidden layer\n",
    "\n",
    "  :returns: the compiled model\n",
    "  \"\"\"\n",
    "\n",
    "  if embedding_initializer == 'word2vec':\n",
    "    embeddings_initializer=tf.keras.initializers.Constant(embedding_matrix)\n",
    "  else:\n",
    "    embeddings_initializer='uniform'\n",
    "\n",
    "  \n",
    "  ### YOUR CODE HERE\n",
    "\n",
    "  # start by creating the dan_embedding_layer. Use the embeddings_initializer. variable defined above.\n",
    "\n",
    "  dan_embedding_layer = Embedding(embedding_matrix.shape[0],\n",
    "                            embedding_matrix.shape[1],\n",
    "                            embeddings_initializer=embeddings_initializer,\n",
    "                            input_length=max_sequence_length,\n",
    "                            trainable=retrain_embeddings)\n",
    "\n",
    "  dan_input_layer = tf.keras.layers.Input(shape=(max_sequence_length,), dtype='int64')\n",
    "  dan_embeddings = dan_embedding_layer(dan_input_layer)\n",
    "  dan_avg_input_embeddings = tf.keras.layers.Lambda(lambda x: K.mean(x, axis=1), name='averaging')(dan_embeddings)\n",
    "  \n",
    "  dan_hidden_out_1 = tf.keras.layers.Dense(hidden_dim, activation='relu', name='hidden_1')(dan_avg_input_embeddings)\n",
    "  dan_hidden_out_1 = tf.keras.layers.Dropout(dropout)(dan_hidden_out_1)\n",
    "\n",
    "  dan_classification = tf.keras.layers.Dense(1, \n",
    "                                           activation='sigmoid', \n",
    "                                           name='dan_classification')(dan_hidden_out_1)\n",
    "\n",
    "  dan_model = tf.keras.models.Model(inputs=dan_input_layer, outputs=[dan_classification])\n",
    "  dan_model.compile(loss='binary_crossentropy',\n",
    "                  optimizer=tf.keras.optimizers.Adam(learning_rate=0.001,\n",
    "                                                beta_1=0.9,\n",
    "                                                beta_2=0.999,\n",
    "                                                epsilon=1e-07,\n",
    "                                                amsgrad=False,\n",
    "                                                name='Adam'),\n",
    "                 metrics='accuracy')                                    \n",
    "  ### END YOUR CODE\n",
    "  return dan_model\n"
   ]
  },
  {
   "cell_type": "markdown",
   "metadata": {
    "id": "Hb4LOJkFlYwF"
   },
   "source": [
    "Let us create a sorted dataset to run our simulations:"
   ]
  },
  {
   "cell_type": "code",
   "execution_count": 27,
   "metadata": {
    "id": "ZX2hWslCflw1"
   },
   "outputs": [],
   "source": [
    "sorted_train_input_data = [(x, y) for (x, y) in zip(list(train_input_ids), list(train_input_labels))]\n",
    "sorted_train_input_data.sort(key = lambda x: x[1])\n",
    "sorted_training_input_ids = np.array([x[0] for x in sorted_train_input_data])\n",
    "sorted_training_labels = np.array([x[1] for x in sorted_train_input_data])"
   ]
  },
  {
   "cell_type": "markdown",
   "metadata": {
    "id": "riQ59wcQmtzs"
   },
   "source": [
    "Next, try to create your DAN model using the default parameters and train it by:\n",
    "\n",
    "1.  Using the sorted dataset\n",
    "2.  Using 'shuffle=False' as one of the model.fit parameters.\n",
    "\n",
    "Make sure you store the history (name it 'dan_sorted_history') as we did in the lesson notebooks. \n",
    "\n"
   ]
  },
  {
   "cell_type": "code",
   "execution_count": 28,
   "metadata": {
    "colab": {
     "base_uri": "https://localhost:8080/"
    },
    "id": "SIgwDUfpi7nu",
    "outputId": "42e3ba29-df5f-41fc-e1e3-a001a2ee0c54"
   },
   "outputs": [
    {
     "name": "stdout",
     "output_type": "stream",
     "text": [
      "Model: \"model_1\"\n",
      "_________________________________________________________________\n",
      " Layer (type)                Output Shape              Param #   \n",
      "=================================================================\n",
      " input_1 (InputLayer)        [(None, 100)]             0         \n",
      "                                                                 \n",
      " embedding (Embedding)       (None, 100, 300)          13194600  \n",
      "                                                                 \n",
      " averaging (Lambda)          (None, 300)               0         \n",
      "                                                                 \n",
      " hidden_1 (Dense)            (None, 100)               30100     \n",
      "                                                                 \n",
      " dropout_39 (Dropout)        (None, 100)               0         \n",
      "                                                                 \n",
      " dan_classification (Dense)  (None, 1)                 101       \n",
      "                                                                 \n",
      "=================================================================\n",
      "Total params: 13,224,801\n",
      "Trainable params: 30,201\n",
      "Non-trainable params: 13,194,600\n",
      "_________________________________________________________________\n",
      "Epoch 1/20\n",
      "545/545 [==============================] - 3s 4ms/step - loss: 0.2967 - accuracy: 0.9236 - val_loss: 2.4993 - val_accuracy: 0.4969\n",
      "Epoch 2/20\n",
      "545/545 [==============================] - 2s 4ms/step - loss: 0.8060 - accuracy: 0.6219 - val_loss: 1.3526 - val_accuracy: 0.4969\n",
      "Epoch 3/20\n",
      "545/545 [==============================] - 2s 3ms/step - loss: 0.7179 - accuracy: 0.6168 - val_loss: 1.1109 - val_accuracy: 0.4969\n",
      "Epoch 4/20\n",
      "545/545 [==============================] - 2s 3ms/step - loss: 0.6646 - accuracy: 0.6464 - val_loss: 1.0221 - val_accuracy: 0.4969\n",
      "Epoch 5/20\n",
      "545/545 [==============================] - 2s 4ms/step - loss: 0.6475 - accuracy: 0.6531 - val_loss: 1.0406 - val_accuracy: 0.4969\n",
      "Epoch 6/20\n",
      "545/545 [==============================] - 2s 4ms/step - loss: 0.6203 - accuracy: 0.6709 - val_loss: 1.2333 - val_accuracy: 0.4969\n",
      "Epoch 7/20\n",
      "545/545 [==============================] - 2s 4ms/step - loss: 0.6210 - accuracy: 0.6972 - val_loss: 1.1713 - val_accuracy: 0.4969\n",
      "Epoch 8/20\n",
      "545/545 [==============================] - 2s 4ms/step - loss: 0.6135 - accuracy: 0.7019 - val_loss: 1.1598 - val_accuracy: 0.4969\n",
      "Epoch 9/20\n",
      "545/545 [==============================] - 2s 4ms/step - loss: 0.6076 - accuracy: 0.7055 - val_loss: 1.1550 - val_accuracy: 0.4969\n",
      "Epoch 10/20\n",
      "545/545 [==============================] - 2s 4ms/step - loss: 0.6025 - accuracy: 0.7081 - val_loss: 1.1536 - val_accuracy: 0.4969\n",
      "Epoch 11/20\n",
      "545/545 [==============================] - 2s 4ms/step - loss: 0.5959 - accuracy: 0.7129 - val_loss: 1.1582 - val_accuracy: 0.4969\n",
      "Epoch 12/20\n",
      "545/545 [==============================] - 2s 4ms/step - loss: 0.5922 - accuracy: 0.7163 - val_loss: 1.1582 - val_accuracy: 0.4969\n",
      "Epoch 13/20\n",
      "545/545 [==============================] - 2s 4ms/step - loss: 0.5845 - accuracy: 0.7174 - val_loss: 1.1682 - val_accuracy: 0.4969\n",
      "Epoch 14/20\n",
      "545/545 [==============================] - 2s 4ms/step - loss: 0.5766 - accuracy: 0.7259 - val_loss: 1.1746 - val_accuracy: 0.4969\n",
      "Epoch 15/20\n",
      "545/545 [==============================] - 2s 4ms/step - loss: 0.5733 - accuracy: 0.7316 - val_loss: 1.1725 - val_accuracy: 0.4969\n",
      "Epoch 16/20\n",
      "545/545 [==============================] - 2s 3ms/step - loss: 0.5646 - accuracy: 0.7348 - val_loss: 1.1820 - val_accuracy: 0.4969\n",
      "Epoch 17/20\n",
      "545/545 [==============================] - 2s 4ms/step - loss: 0.5565 - accuracy: 0.7401 - val_loss: 1.1873 - val_accuracy: 0.4969\n",
      "Epoch 18/20\n",
      "545/545 [==============================] - 2s 4ms/step - loss: 0.5518 - accuracy: 0.7435 - val_loss: 1.1974 - val_accuracy: 0.4969\n",
      "Epoch 19/20\n",
      "545/545 [==============================] - 2s 3ms/step - loss: 0.5440 - accuracy: 0.7500 - val_loss: 1.2064 - val_accuracy: 0.4969\n",
      "Epoch 20/20\n",
      "545/545 [==============================] - 2s 4ms/step - loss: 0.5409 - accuracy: 0.7521 - val_loss: 1.2019 - val_accuracy: 0.4969\n"
     ]
    }
   ],
   "source": [
    "### YOUR CODE HERE\n",
    "\n",
    "dan_model_sorted = create_dan_model()\n",
    "dan_model_sorted.summary()\n",
    "\n",
    "#use dan_sorted_history = ... below\n",
    "dan_sorted_history = dan_model_sorted.fit(sorted_training_input_ids,\n",
    "                        sorted_training_labels,\n",
    "                        validation_data=(test_input_ids, test_input_labels),\n",
    "                        batch_size=32,\n",
    "                        epochs=20,\n",
    "                        shuffle=False\n",
    "             )\n",
    "\n",
    "### END YOUR CODE                        "
   ]
  },
  {
   "cell_type": "markdown",
   "metadata": {
    "id": "a4zFifGHMS1S"
   },
   "source": [
    "**QUESTION:**\n",
    "\n",
    "2.1.a Which number (in percent) is closest to the highest validation accuracy that you observed?\n",
    "\n",
    "  - 50"
   ]
  },
  {
   "cell_type": "markdown",
   "metadata": {
    "id": "RUNYdZ8rnaNX"
   },
   "source": [
    "Next, recreate the same model and train with **'shuffle=True'**. (Note that this is also the default.). Use 'dan_suffled_history' for the history."
   ]
  },
  {
   "cell_type": "code",
   "execution_count": 29,
   "metadata": {
    "colab": {
     "base_uri": "https://localhost:8080/"
    },
    "id": "fEsrjV2QkCo_",
    "outputId": "d8f04cc8-c0a6-4436-8df8-fa2a22591c45"
   },
   "outputs": [
    {
     "name": "stdout",
     "output_type": "stream",
     "text": [
      "Epoch 1/20\n",
      "545/545 [==============================] - 4s 7ms/step - loss: 0.6412 - accuracy: 0.6495 - val_loss: 0.5965 - val_accuracy: 0.6909\n",
      "Epoch 2/20\n",
      "545/545 [==============================] - 2s 4ms/step - loss: 0.5465 - accuracy: 0.7323 - val_loss: 0.5397 - val_accuracy: 0.7283\n",
      "Epoch 3/20\n",
      "545/545 [==============================] - 2s 3ms/step - loss: 0.5089 - accuracy: 0.7523 - val_loss: 0.5173 - val_accuracy: 0.7413\n",
      "Epoch 4/20\n",
      "545/545 [==============================] - 2s 3ms/step - loss: 0.4971 - accuracy: 0.7570 - val_loss: 0.5097 - val_accuracy: 0.7475\n",
      "Epoch 5/20\n",
      "545/545 [==============================] - 2s 4ms/step - loss: 0.4877 - accuracy: 0.7628 - val_loss: 0.5041 - val_accuracy: 0.7487\n",
      "Epoch 6/20\n",
      "545/545 [==============================] - 2s 4ms/step - loss: 0.4806 - accuracy: 0.7688 - val_loss: 0.4992 - val_accuracy: 0.7558\n",
      "Epoch 7/20\n",
      "545/545 [==============================] - 2s 4ms/step - loss: 0.4766 - accuracy: 0.7713 - val_loss: 0.5002 - val_accuracy: 0.7531\n",
      "Epoch 8/20\n",
      "545/545 [==============================] - 2s 4ms/step - loss: 0.4732 - accuracy: 0.7741 - val_loss: 0.4915 - val_accuracy: 0.7577\n",
      "Epoch 9/20\n",
      "545/545 [==============================] - 2s 3ms/step - loss: 0.4693 - accuracy: 0.7743 - val_loss: 0.4902 - val_accuracy: 0.7605\n",
      "Epoch 10/20\n",
      "545/545 [==============================] - 2s 4ms/step - loss: 0.4659 - accuracy: 0.7764 - val_loss: 0.4882 - val_accuracy: 0.7628\n",
      "Epoch 11/20\n",
      "545/545 [==============================] - 2s 3ms/step - loss: 0.4642 - accuracy: 0.7806 - val_loss: 0.4848 - val_accuracy: 0.7648\n",
      "Epoch 12/20\n",
      "545/545 [==============================] - 2s 3ms/step - loss: 0.4613 - accuracy: 0.7797 - val_loss: 0.4835 - val_accuracy: 0.7630\n",
      "Epoch 13/20\n",
      "545/545 [==============================] - 2s 4ms/step - loss: 0.4594 - accuracy: 0.7798 - val_loss: 0.4821 - val_accuracy: 0.7660\n",
      "Epoch 14/20\n",
      "545/545 [==============================] - 2s 4ms/step - loss: 0.4595 - accuracy: 0.7804 - val_loss: 0.4835 - val_accuracy: 0.7614\n",
      "Epoch 15/20\n",
      "545/545 [==============================] - 2s 3ms/step - loss: 0.4564 - accuracy: 0.7833 - val_loss: 0.4810 - val_accuracy: 0.7655\n",
      "Epoch 16/20\n",
      "545/545 [==============================] - 2s 4ms/step - loss: 0.4549 - accuracy: 0.7847 - val_loss: 0.4794 - val_accuracy: 0.7630\n",
      "Epoch 17/20\n",
      "545/545 [==============================] - 2s 4ms/step - loss: 0.4551 - accuracy: 0.7836 - val_loss: 0.4772 - val_accuracy: 0.7672\n",
      "Epoch 18/20\n",
      "545/545 [==============================] - 2s 4ms/step - loss: 0.4525 - accuracy: 0.7852 - val_loss: 0.4772 - val_accuracy: 0.7688\n",
      "Epoch 19/20\n",
      "545/545 [==============================] - 2s 3ms/step - loss: 0.4518 - accuracy: 0.7850 - val_loss: 0.4759 - val_accuracy: 0.7683\n",
      "Epoch 20/20\n",
      "545/545 [==============================] - 2s 4ms/step - loss: 0.4501 - accuracy: 0.7871 - val_loss: 0.4866 - val_accuracy: 0.7616\n"
     ]
    }
   ],
   "source": [
    "### YOUR CODE HERE\n",
    "\n",
    "dan_model_shuffled = create_dan_model()                                                      \n",
    "\n",
    "#use dan_suffled_history = ... below\n",
    "dan_shuffled_history = dan_model_shuffled.fit(sorted_training_input_ids,\n",
    "                        sorted_training_labels,\n",
    "                        validation_data=(test_input_ids, test_input_labels),\n",
    "                        batch_size=32,\n",
    "                        epochs=20,\n",
    "                        shuffle=True)\n",
    "\n",
    "### END YOUR CODE                        "
   ]
  },
  {
   "cell_type": "markdown",
   "metadata": {
    "id": "sXs6UX44ko7P"
   },
   "source": [
    "**QUESTION:**\n",
    "\n",
    "2.1.b Which number (in percent) is closest to the highest validation accuracy that you observed for the shuffled run?\n",
    "\n",
    "  - 75\n"
   ]
  },
  {
   "cell_type": "markdown",
   "metadata": {
    "id": "BYCwHBzyoY0_"
   },
   "source": [
    "Compare the 2 histories in a plot."
   ]
  },
  {
   "cell_type": "code",
   "execution_count": 30,
   "metadata": {
    "colab": {
     "base_uri": "https://localhost:8080/",
     "height": 600
    },
    "id": "ZAlGkoidkun-",
    "outputId": "4a726165-8a44-4556-832c-afdc0e35aa68"
   },
   "outputs": [
    {
     "data": {
      "image/png": "[encoded data removed]",
      "text/plain": [
       "<Figure size 1332x756 with 4 Axes>"
      ]
     },
     "metadata": {
      "needs_background": "light"
     },
     "output_type": "display_data"
    }
   ],
   "source": [
    "fig, axs = plt.subplots(2, 2)\n",
    "fig.subplots_adjust(left=0.2, wspace=0.6)\n",
    "make_plot(axs, \n",
    "          dan_sorted_history,\n",
    "          dan_shuffled_history, \n",
    "          model_1_name='sorted',\n",
    "         model_2_name='shuffled',\n",
    "         y_lim_accuracy_lower=0.40,\n",
    "         y_lim_accuracy_upper=0.82)\n",
    "\n",
    "fig.align_ylabels(axs[:, 1])\n",
    "fig.set_size_inches(18.5, 10.5)\n",
    "plt.show()"
   ]
  },
  {
   "cell_type": "markdown",
   "metadata": {
    "id": "bRWLsg0WNdcE"
   },
   "source": [
    "### 2.2 DAN vs Weighted Averaging Models using Attention \n",
    "\n",
    "#### 2.2.1. Warm-Up: Manual Attention Calculation\n",
    "\n",
    "QUESTION: \n",
    "\n",
    "2.2.1.a Calculate the context vector for the following query and key/value vectors. You can do this manually, or you can use \n",
    "\n",
    "\n",
    "```\n",
    "tf.keras.layers.Attention()\n",
    "```\n",
    "\n",
    "2.2.1.b What are the weights for the key/value vectors?\n"
   ]
  },
  {
   "cell_type": "code",
   "execution_count": 31,
   "metadata": {
    "id": "fpLZyRImNdz5"
   },
   "outputs": [],
   "source": [
    "q = [1, 2., 1]\n",
    "\n",
    "k1 = v1 = [-1, -1, 3.]\n",
    "k2 = v2 = [1, 2, -5.]"
   ]
  },
  {
   "cell_type": "code",
   "execution_count": 32,
   "metadata": {
    "colab": {
     "base_uri": "https://localhost:8080/"
    },
    "id": "DSbKYfjEOmlh",
    "outputId": "b1d81c9c-1d0e-47b3-d840-730b59e29986"
   },
   "outputs": [
    {
     "data": {
      "text/plain": [
       "(<tf.Tensor: shape=(1, 3), dtype=float32, numpy=array([[ 0. ,  0.5, -1. ]], dtype=float32)>,\n",
       " <tf.Tensor: shape=(1, 2), dtype=float32, numpy=array([[0.5, 0.5]], dtype=float32)>)"
      ]
     },
     "execution_count": 32,
     "metadata": {},
     "output_type": "execute_result"
    }
   ],
   "source": [
    "### YOUR CODE HERE\n",
    "test_query = np.array([q])\n",
    "test_values = np.array([k1, k2])\n",
    "tf.keras.layers.Attention()([test_query, test_values], return_attention_scores=True)\n",
    "### END YOUR CODE"
   ]
  },
  {
   "cell_type": "markdown",
   "metadata": {
    "id": "68YFNDesI0Cv"
   },
   "source": [
    "#### 2.2.2 The 'WAN' Model\n",
    "\n",
    "\n",
    "Next, we would like to improve our DAN by attempting to train a neural net that learns to put more weight on some words than others. How could we do that? **Attention** is the answer!\n",
    "\n",
    "Here, we will build a model that you can call \"Weighted Averaging Models using Attention\". You should construct a network that uses attention to weigh the input tokens for a given example.\n",
    "\n",
    "The core structure is the same as for the DAN network, but there are obviously some critical changes:\n",
    "\n",
    "1) How do I create a learnable query vector for the attention calculation, that is supposed to generate the suitable token probabilities? And what is its size?\n",
    "\n",
    "2) What are the key vectors for the attention calculation?\n",
    "\n",
    "3) How does the averaging change? \n",
    "\n",
    "\n",
    "First, the key vectors should be the incoming word vectors.\n",
    "\n",
    "The query vector needs to have the size of the word vectors, as it needs to attend to them. A good way to create the query vector is to generate an embedding for it that you then make trainable:\n",
    "\n",
    "\n",
    "```\n",
    "wan_query_embedding_layer = Embedding(1,  \n",
    "                                      embedding_matrix.shape[1], \n",
    "                                      input_length=1,  \n",
    "                                      trainable=True)\n",
    "```\n",
    "\n",
    "would create an embedding of the proper size for 1 vector.\n",
    "\n",
    "That sounds great... but how do I use this embedding to have a vector available in my calculation? And... make this vector available to all examples in the batch?\n",
    "\n",
    "What you can use is a 'fake input-like layer' that creates for each incoming batch example a '0', that then the query embedding layer can get applied to.\n",
    "Assuming that the input layer for your network is **wan_input_layer**, this could be done with\n",
    "\n",
    "```\n",
    "wan_zero_input = tf.cast((wan_input_layer[:, :1] < -1), 'int64') \n",
    "```\n",
    "\n",
    "You could then have the query vector available for each example through:\n",
    "\n",
    "```\n",
    "wan_query_vector = wan_query_embedding_layer(wan_zero_input)\n",
    "```\n",
    "\n",
    "You will see that this structure is essentially  the same as what we did for word vectors, except that we had to replace the input layer with our fake layer, as there is no actual input. We will also have **2 outputs** (discussed in a bit.)\n",
    "\n",
    "How does the averaging change? You should use:\n",
    "\n",
    "```\n",
    "tf.keras.layers.Attention()\n",
    "```\n",
    "\n",
    "and make sure you consider the proper inputs and outputs for that calculation.\n",
    "\n",
    "So why 2 outputs, and how do we do that? First off, we need the output that makes the classification, as always. What is the second output? We also would like our model to provide us with the attention weights it calculated. This will tell us which words were considered how much for the context creation.\n",
    "\n",
    "We can we implement 2 outputs? You need to have a list of the two outputs. But note that you may also want to have a a list of 2 cost function and 2 metrics. You can use 'None' both times to account for our new second output, and you can ignore the corresponding values that the model report. (In general, the total loss will be a sum of the individual losses. So one would rather construct a loss that always returns zero for the second loss, but as it is very small we can ignore this here.)\n"
   ]
  },
  {
   "cell_type": "code",
   "execution_count": null,
   "metadata": {
    "id": "jDPtN5g79PFK"
   },
   "outputs": [],
   "source": [
    "fake_test_input = tf.constant([[17, 32, 56, 34], [564,23,245, 54]])\n",
    "\n",
    "wan_zero_input = tf.cast((fake_test_input[:, :1] < -1), 'int64')\n",
    "\n",
    "print(wan_zero_input)\n"
   ]
  },
  {
   "cell_type": "code",
   "execution_count": 34,
   "metadata": {
    "colab": {
     "base_uri": "https://localhost:8080/"
    },
    "id": "3YESGjCr9ZR2",
    "outputId": "02165f0d-d4f1-4fda-f141-53aee0421af9"
   },
   "outputs": [
    {
     "name": "stdout",
     "output_type": "stream",
     "text": [
      "tf.Tensor(\n",
      "[[[-0.01273077 -0.01407808 -0.0041371  -0.04247764  0.04539776\n",
      "    0.00486866 -0.03308704  0.02256596 -0.02542434 -0.03551005\n",
      "   -0.0213559  -0.01312661 -0.03851898 -0.02844409 -0.03247529\n",
      "   -0.00107785 -0.02909371  0.04838965  0.00139568 -0.00814654\n",
      "   -0.02910929  0.00665343 -0.0324382  -0.01958717  0.00152136\n",
      "    0.00762372 -0.0023661   0.0215992  -0.0043138  -0.0291266\n",
      "    0.0020499  -0.04806005  0.0492892   0.04061656 -0.01748215\n",
      "   -0.03159838 -0.00659087 -0.04223827 -0.02179668 -0.00159388\n",
      "    0.01193293  0.02416622 -0.0085898   0.00495362  0.00594749\n",
      "   -0.04811163 -0.00377094 -0.00558522 -0.00746727 -0.0295145\n",
      "    0.00107396 -0.04303714 -0.01158424 -0.00607116  0.02213787\n",
      "    0.03904775 -0.01714998  0.01671078  0.04808059 -0.0078507\n",
      "   -0.01244999 -0.01622807  0.04757446  0.01410222 -0.0121492\n",
      "    0.02014666 -0.01758043 -0.02045313 -0.0135925  -0.04723616\n",
      "   -0.04056096  0.04952681 -0.0335141   0.04427815  0.00231987\n",
      "   -0.01355899  0.04127845 -0.01326985  0.0345234  -0.00022979\n",
      "    0.02340591 -0.01160923  0.04134728  0.02771796  0.01217716\n",
      "    0.04071401 -0.00875394  0.02741506  0.01402782  0.03177445\n",
      "    0.01657417  0.01038118 -0.04027413  0.0364696  -0.04407566\n",
      "   -0.04816384  0.03271277 -0.0027527   0.02923306 -0.0070622 ]]\n",
      "\n",
      " [[-0.01273077 -0.01407808 -0.0041371  -0.04247764  0.04539776\n",
      "    0.00486866 -0.03308704  0.02256596 -0.02542434 -0.03551005\n",
      "   -0.0213559  -0.01312661 -0.03851898 -0.02844409 -0.03247529\n",
      "   -0.00107785 -0.02909371  0.04838965  0.00139568 -0.00814654\n",
      "   -0.02910929  0.00665343 -0.0324382  -0.01958717  0.00152136\n",
      "    0.00762372 -0.0023661   0.0215992  -0.0043138  -0.0291266\n",
      "    0.0020499  -0.04806005  0.0492892   0.04061656 -0.01748215\n",
      "   -0.03159838 -0.00659087 -0.04223827 -0.02179668 -0.00159388\n",
      "    0.01193293  0.02416622 -0.0085898   0.00495362  0.00594749\n",
      "   -0.04811163 -0.00377094 -0.00558522 -0.00746727 -0.0295145\n",
      "    0.00107396 -0.04303714 -0.01158424 -0.00607116  0.02213787\n",
      "    0.03904775 -0.01714998  0.01671078  0.04808059 -0.0078507\n",
      "   -0.01244999 -0.01622807  0.04757446  0.01410222 -0.0121492\n",
      "    0.02014666 -0.01758043 -0.02045313 -0.0135925  -0.04723616\n",
      "   -0.04056096  0.04952681 -0.0335141   0.04427815  0.00231987\n",
      "   -0.01355899  0.04127845 -0.01326985  0.0345234  -0.00022979\n",
      "    0.02340591 -0.01160923  0.04134728  0.02771796  0.01217716\n",
      "    0.04071401 -0.00875394  0.02741506  0.01402782  0.03177445\n",
      "    0.01657417  0.01038118 -0.04027413  0.0364696  -0.04407566\n",
      "   -0.04816384  0.03271277 -0.0027527   0.02923306 -0.0070622 ]]], shape=(2, 1, 100), dtype=float32)\n"
     ]
    }
   ],
   "source": [
    "wan_query_embedding_layer = Embedding(1,\n",
    "                                      100,\n",
    "\t                                    input_length=1,\n",
    "\t                                    trainable=True,\n",
    "\t                                    name='query_embedding')\n",
    "\n",
    "print(wan_query_embedding_layer(wan_zero_input))"
   ]
  },
  {
   "cell_type": "code",
   "execution_count": 35,
   "metadata": {
    "id": "_9F8zY4WG3Mg"
   },
   "outputs": [],
   "source": [
    "def create_wan_model(retrain_embeddings=False, \n",
    "                     max_sequence_length=MAX_SEQUENCE_LENGTH,\n",
    "                     hidden_dim=100,\n",
    "                     dropout=0.3,\n",
    "                     learning_rate=0.001):\n",
    "  \"\"\"\n",
    "  Construct the DAN model including the compilation and return it. Parametrize it using the arguments.\n",
    "  :param retrain_embeddings: boolean, indicating whether  the word embeddings are trainable\n",
    "  :param hidden_dim: dimension of the hidden layer\n",
    "  :param dropout: dropout applied to the hidden layer\n",
    "\n",
    "  :returns: the compiled model\n",
    "  \"\"\"\n",
    "  ### YOUR CODE HERE\n",
    "\n",
    "  #store initializer\n",
    "  embeddings_initializer = tf.keras.initializers.Constant(embedding_matrix)\n",
    "\n",
    "  #create query embedding layer\n",
    "  wan_query_embedding_layer = Embedding(1,  \n",
    "                                      embedding_matrix.shape[1], \n",
    "                                      input_length=1,  \n",
    "                                      trainable=True)\n",
    "  \n",
    "  #create wan embedding layer with parameters\n",
    "  wan_embedding_layer = Embedding(embedding_matrix.shape[0],\n",
    "                                  embedding_matrix.shape[1],\n",
    "                                  embeddings_initializer=embeddings_initializer,\n",
    "                                  input_length=max_sequence_length,\n",
    "                                  trainable=retrain_embeddings,\n",
    "                                  name='wan_embedding_layer')\n",
    "  \n",
    "  #layer construction\n",
    "  wan_input_layer = tf.keras.layers.Input(shape=(max_sequence_length,), dtype='int64', name='wan_input_layer')\n",
    "\n",
    "  #attention layer for averaging layer\n",
    "  wan_zero_input = tf.cast((wan_input_layer[:, :1] < -1), 'int64', name='wan_zero_input') \n",
    "  \n",
    "  #create query vector using zero_input\n",
    "  wan_query_vector = wan_query_embedding_layer(wan_zero_input)\n",
    "  \n",
    "  #create embeddings\n",
    "  wan_embeddings = wan_embedding_layer(wan_input_layer)\n",
    "\n",
    "  #store attention context/weights, reshape context\n",
    "  attention_context, attention_weights = tf.keras.layers.Attention()([wan_query_vector, wan_embeddings], return_attention_scores=True)\n",
    "  attention_context_reshaped = tf.keras.layers.Reshape((embedding_matrix.shape[1],))(attention_context)\n",
    "\n",
    "  #create hidden layers\n",
    "  wan_hidden_out_1 = tf.keras.layers.Dense(hidden_dim, activation='relu', name='hidden_1')(attention_context_reshaped)\n",
    "  wan_hidden_out_1 = tf.keras.layers.Dropout(dropout)(wan_hidden_out_1)\n",
    "  \n",
    "  #classification\n",
    "  wan_classification = tf.keras.layers.Dense(1, \n",
    "                                            activation='sigmoid', \n",
    "                                            name='classification')(wan_hidden_out_1)\n",
    "\n",
    "  #model definition\n",
    "  wan_model = tf.keras.models.Model(inputs=wan_input_layer, outputs=[wan_classification, attention_weights])\n",
    "  \n",
    "  #compile with loss func and correct metrics\n",
    "  wan_model.compile(loss=['binary_crossentropy', None],\n",
    "                    optimizer=tf.keras.optimizers.Adam(learning_rate=learning_rate,\n",
    "                                                  beta_1=0.9,\n",
    "                                                  beta_2=0.999,\n",
    "                                                  epsilon=1e-07,\n",
    "                                                  amsgrad=False,\n",
    "                                                  name='Adam'),\n",
    "                                                  metrics=['accuracy', None])\n",
    "  \n",
    "  #display summary\n",
    "  wan_model.summary()\n",
    "  display(keras.utils.plot_model(wan_model, show_shapes=True, dpi=90))\n",
    "\n",
    "  ### END YOUR CODE\n",
    "  return wan_model\n",
    "\n",
    "\n",
    "\n"
   ]
  },
  {
   "cell_type": "markdown",
   "metadata": {
    "id": "a5gnW7j8QHUo"
   },
   "source": [
    "Now run the model for the same dataset as we did for the DAN model and save it in its history 'wan_history':"
   ]
  },
  {
   "cell_type": "code",
   "execution_count": 36,
   "metadata": {
    "colab": {
     "base_uri": "https://localhost:8080/",
     "height": 1000
    },
    "id": "A3WYcv0CNMGC",
    "outputId": "5b013213-d38e-4cca-d17f-053ce37e5cbd"
   },
   "outputs": [
    {
     "name": "stdout",
     "output_type": "stream",
     "text": [
      "Model: \"model_3\"\n",
      "__________________________________________________________________________________________________\n",
      " Layer (type)                   Output Shape         Param #     Connected to                     \n",
      "==================================================================================================\n",
      " wan_input_layer (InputLayer)   [(None, 100)]        0           []                               \n",
      "                                                                                                  \n",
      " tf.__operators__.getitem_1 (Sl  (None, 1)           0           ['wan_input_layer[0][0]']        \n",
      " icingOpLambda)                                                                                   \n",
      "                                                                                                  \n",
      " tf.math.less (TFOpLambda)      (None, 1)            0           ['tf.__operators__.getitem_1[0][0\n",
      "                                                                 ]']                              \n",
      "                                                                                                  \n",
      " tf.cast (TFOpLambda)           (None, 1)            0           ['tf.math.less[0][0]']           \n",
      "                                                                                                  \n",
      " embedding_2 (Embedding)        (None, 1, 300)       300         ['tf.cast[0][0]']                \n",
      "                                                                                                  \n",
      " wan_embedding_layer (Embedding  (None, 100, 300)    13194600    ['wan_input_layer[0][0]']        \n",
      " )                                                                                                \n",
      "                                                                                                  \n",
      " attention_1 (Attention)        ((None, 1, 300),     0           ['embedding_2[0][0]',            \n",
      "                                 (None, 1, 100))                  'wan_embedding_layer[0][0]']    \n",
      "                                                                                                  \n",
      " reshape (Reshape)              (None, 300)          0           ['attention_1[0][0]']            \n",
      "                                                                                                  \n",
      " hidden_1 (Dense)               (None, 100)          30100       ['reshape[0][0]']                \n",
      "                                                                                                  \n",
      " dropout_41 (Dropout)           (None, 100)          0           ['hidden_1[0][0]']               \n",
      "                                                                                                  \n",
      " classification (Dense)         (None, 1)            101         ['dropout_41[0][0]']             \n",
      "                                                                                                  \n",
      "==================================================================================================\n",
      "Total params: 13,225,101\n",
      "Trainable params: 30,501\n",
      "Non-trainable params: 13,194,600\n",
      "__________________________________________________________________________________________________\n"
     ]
    },
    {
     "data": {
      "image/png": "[encoded data removed]",
      "text/plain": [
       "<IPython.core.display.Image object>"
      ]
     },
     "metadata": {},
     "output_type": "display_data"
    },
    {
     "name": "stdout",
     "output_type": "stream",
     "text": [
      "Epoch 1/20\n",
      "545/545 [==============================] - 4s 5ms/step - loss: 0.5877 - classification_loss: 0.5877 - classification_accuracy: 0.6941 - attention_1_accuracy: 0.0083 - val_loss: 0.4959 - val_classification_loss: 0.4959 - val_classification_accuracy: 0.7621 - val_attention_1_accuracy: 0.0056\n",
      "Epoch 2/20\n",
      "545/545 [==============================] - 3s 5ms/step - loss: 0.4721 - classification_loss: 0.4721 - classification_accuracy: 0.7756 - attention_1_accuracy: 0.0064 - val_loss: 0.4738 - val_classification_loss: 0.4738 - val_classification_accuracy: 0.7702 - val_attention_1_accuracy: 0.0046\n",
      "Epoch 3/20\n",
      "545/545 [==============================] - 3s 5ms/step - loss: 0.4570 - classification_loss: 0.4570 - classification_accuracy: 0.7818 - attention_1_accuracy: 0.0063 - val_loss: 0.4661 - val_classification_loss: 0.4661 - val_classification_accuracy: 0.7729 - val_attention_1_accuracy: 0.0041\n",
      "Epoch 4/20\n",
      "545/545 [==============================] - 3s 5ms/step - loss: 0.4464 - classification_loss: 0.4464 - classification_accuracy: 0.7883 - attention_1_accuracy: 0.0058 - val_loss: 0.4658 - val_classification_loss: 0.4658 - val_classification_accuracy: 0.7759 - val_attention_1_accuracy: 0.0037\n",
      "Epoch 5/20\n",
      "545/545 [==============================] - 3s 5ms/step - loss: 0.4425 - classification_loss: 0.4425 - classification_accuracy: 0.7925 - attention_1_accuracy: 0.0057 - val_loss: 0.4546 - val_classification_loss: 0.4546 - val_classification_accuracy: 0.7796 - val_attention_1_accuracy: 0.0039\n",
      "Epoch 6/20\n",
      "545/545 [==============================] - 3s 5ms/step - loss: 0.4371 - classification_loss: 0.4371 - classification_accuracy: 0.7952 - attention_1_accuracy: 0.0055 - val_loss: 0.4542 - val_classification_loss: 0.4542 - val_classification_accuracy: 0.7812 - val_attention_1_accuracy: 0.0038\n",
      "Epoch 7/20\n",
      "545/545 [==============================] - 3s 5ms/step - loss: 0.4329 - classification_loss: 0.4329 - classification_accuracy: 0.7950 - attention_1_accuracy: 0.0057 - val_loss: 0.4492 - val_classification_loss: 0.4492 - val_classification_accuracy: 0.7826 - val_attention_1_accuracy: 0.0040\n",
      "Epoch 8/20\n",
      "545/545 [==============================] - 3s 5ms/step - loss: 0.4319 - classification_loss: 0.4319 - classification_accuracy: 0.7971 - attention_1_accuracy: 0.0058 - val_loss: 0.4485 - val_classification_loss: 0.4485 - val_classification_accuracy: 0.7842 - val_attention_1_accuracy: 0.0038\n",
      "Epoch 9/20\n",
      "545/545 [==============================] - 3s 5ms/step - loss: 0.4272 - classification_loss: 0.4272 - classification_accuracy: 0.7993 - attention_1_accuracy: 0.0058 - val_loss: 0.4465 - val_classification_loss: 0.4465 - val_classification_accuracy: 0.7870 - val_attention_1_accuracy: 0.0038\n",
      "Epoch 10/20\n",
      "545/545 [==============================] - 3s 5ms/step - loss: 0.4258 - classification_loss: 0.4258 - classification_accuracy: 0.8000 - attention_1_accuracy: 0.0058 - val_loss: 0.4482 - val_classification_loss: 0.4482 - val_classification_accuracy: 0.7847 - val_attention_1_accuracy: 0.0040\n",
      "Epoch 11/20\n",
      "545/545 [==============================] - 3s 5ms/step - loss: 0.4238 - classification_loss: 0.4238 - classification_accuracy: 0.8015 - attention_1_accuracy: 0.0058 - val_loss: 0.4449 - val_classification_loss: 0.4449 - val_classification_accuracy: 0.7831 - val_attention_1_accuracy: 0.0042\n",
      "Epoch 12/20\n",
      "545/545 [==============================] - 3s 5ms/step - loss: 0.4199 - classification_loss: 0.4199 - classification_accuracy: 0.8037 - attention_1_accuracy: 0.0062 - val_loss: 0.4453 - val_classification_loss: 0.4453 - val_classification_accuracy: 0.7838 - val_attention_1_accuracy: 0.0042\n",
      "Epoch 13/20\n",
      "545/545 [==============================] - 3s 6ms/step - loss: 0.4200 - classification_loss: 0.4200 - classification_accuracy: 0.8038 - attention_1_accuracy: 0.0061 - val_loss: 0.4445 - val_classification_loss: 0.4445 - val_classification_accuracy: 0.7866 - val_attention_1_accuracy: 0.0040\n",
      "Epoch 14/20\n",
      "545/545 [==============================] - 3s 5ms/step - loss: 0.4178 - classification_loss: 0.4178 - classification_accuracy: 0.8072 - attention_1_accuracy: 0.0058 - val_loss: 0.4412 - val_classification_loss: 0.4412 - val_classification_accuracy: 0.7875 - val_attention_1_accuracy: 0.0041\n",
      "Epoch 15/20\n",
      "545/545 [==============================] - 3s 5ms/step - loss: 0.4166 - classification_loss: 0.4166 - classification_accuracy: 0.8068 - attention_1_accuracy: 0.0056 - val_loss: 0.4431 - val_classification_loss: 0.4431 - val_classification_accuracy: 0.7898 - val_attention_1_accuracy: 0.0039\n",
      "Epoch 16/20\n",
      "545/545 [==============================] - 3s 5ms/step - loss: 0.4140 - classification_loss: 0.4140 - classification_accuracy: 0.8081 - attention_1_accuracy: 0.0058 - val_loss: 0.4414 - val_classification_loss: 0.4414 - val_classification_accuracy: 0.7896 - val_attention_1_accuracy: 0.0037\n",
      "Epoch 17/20\n",
      "545/545 [==============================] - 3s 5ms/step - loss: 0.4123 - classification_loss: 0.4123 - classification_accuracy: 0.8065 - attention_1_accuracy: 0.0059 - val_loss: 0.4376 - val_classification_loss: 0.4376 - val_classification_accuracy: 0.7896 - val_attention_1_accuracy: 0.0035\n",
      "Epoch 18/20\n",
      "545/545 [==============================] - 3s 5ms/step - loss: 0.4104 - classification_loss: 0.4104 - classification_accuracy: 0.8090 - attention_1_accuracy: 0.0056 - val_loss: 0.4445 - val_classification_loss: 0.4445 - val_classification_accuracy: 0.7863 - val_attention_1_accuracy: 0.0035\n",
      "Epoch 19/20\n",
      "545/545 [==============================] - 3s 5ms/step - loss: 0.4100 - classification_loss: 0.4100 - classification_accuracy: 0.8092 - attention_1_accuracy: 0.0058 - val_loss: 0.4358 - val_classification_loss: 0.4358 - val_classification_accuracy: 0.7928 - val_attention_1_accuracy: 0.0035\n",
      "Epoch 20/20\n",
      "545/545 [==============================] - 3s 5ms/step - loss: 0.4095 - classification_loss: 0.4095 - classification_accuracy: 0.8096 - attention_1_accuracy: 0.0057 - val_loss: 0.4353 - val_classification_loss: 0.4353 - val_classification_accuracy: 0.7921 - val_attention_1_accuracy: 0.0035\n"
     ]
    }
   ],
   "source": [
    "### YOUR CODE HERE\n",
    "\n",
    "wan_model = create_wan_model()\n",
    "\n",
    "# use wan_history = ... below\n",
    "wan_history = wan_model.fit(sorted_training_input_ids,\n",
    "                        sorted_training_labels,\n",
    "                        validation_data=(test_input_ids, test_input_labels),\n",
    "                        batch_size=32,\n",
    "                        epochs=20,\n",
    "                        shuffle=True)\n",
    "\n",
    "### END YOUR CODE"
   ]
  },
  {
   "cell_type": "markdown",
   "metadata": {
    "id": "8P0r4zH4k59o"
   },
   "source": [
    "**QUESTION:**\n",
    "\n",
    "2.2.2.a Which number (in percent) is closest to the highest validation accuracy that you observed for the wan training?\n",
    "\n",
    " * 78"
   ]
  },
  {
   "cell_type": "markdown",
   "metadata": {
    "id": "ZAgsZiy8Nx1U"
   },
   "source": [
    "Now compare the results of the initial dan_model training and the wan_model training:"
   ]
  },
  {
   "cell_type": "code",
   "execution_count": 37,
   "metadata": {
    "colab": {
     "base_uri": "https://localhost:8080/",
     "height": 600
    },
    "id": "O-MMBGCWLwe1",
    "outputId": "5d57d1a8-b032-4433-d96d-1913b37ee941"
   },
   "outputs": [
    {
     "data": {
      "image/png": "[encoded data removed]",
      "text/plain": [
       "<Figure size 1332x756 with 4 Axes>"
      ]
     },
     "metadata": {
      "needs_background": "light"
     },
     "output_type": "display_data"
    }
   ],
   "source": [
    "fig, axs = plt.subplots(2, 2)\n",
    "fig.subplots_adjust(left=0.2, wspace=0.6)\n",
    "make_plot(axs, \n",
    "          dan_shuffled_history,\n",
    "          wan_history, \n",
    "          model_1_name='dan',\n",
    "         model_2_name='wan',\n",
    "         y_lim_accuracy_lower=0.70,\n",
    "         y_lim_accuracy_upper=0.82)\n",
    "\n",
    "fig.align_ylabels(axs[:, 1])\n",
    "fig.set_size_inches(18.5, 10.5)\n",
    "plt.show()"
   ]
  },
  {
   "cell_type": "markdown",
   "metadata": {
    "id": "ILMLcnuZOWoT"
   },
   "source": [
    "Next, let us see for the wan_model which words did matter for the classification and which ones did less so. How can we tell? We can look at the attention weights!\n",
    "\n",
    "Consider the first training example:"
   ]
  },
  {
   "cell_type": "code",
   "execution_count": 38,
   "metadata": {
    "colab": {
     "base_uri": "https://localhost:8080/",
     "height": 144
    },
    "id": "53pdy0pwU91Z",
    "outputId": "79f489cc-7bc8-4d55-b94c-42c167a7df58"
   },
   "outputs": [
    {
     "data": {
      "application/vnd.google.colaboratory.intrinsic+json": {
       "type": "string"
      },
      "text/plain": [
       "\"This was an absolutely terrible movie. Don't be lured in by Christopher Walken or Michael Ironside. Both are great actors, but this must simply be their worst role in history. Even their great acting could not redeem this movie's ridiculous storyline. This movie is an early nineties US propaganda piece. The most pathetic scenes were those when the Columbian rebels were making their cases for revolutions. Maria Conchita Alonso appeared phony, and her pseudo-love affair with Walken was nothing but a pathetic emotional plug in a movie that was devoid of any real meaning. I am disappointed that there are movies like this, ruining actor's like Christopher Walken's good name. I could barely sit through it.\""
      ]
     },
     "execution_count": 38,
     "metadata": {},
     "output_type": "execute_result"
    }
   ],
   "source": [
    "train_examples_batch[0].numpy().decode('utf-8')"
   ]
  },
  {
   "cell_type": "markdown",
   "metadata": {
    "id": "B6CFujCuX37x"
   },
   "source": [
    "The corresponding input ids that are suitable formatted, i.e. with max length 100, are these:"
   ]
  },
  {
   "cell_type": "code",
   "execution_count": null,
   "metadata": {
    "colab": {
     "background_save": true
    },
    "id": "T5U6X-fcVD88"
   },
   "outputs": [],
   "source": [
    "probe_input_ids = train_input_ids[0]\n",
    "probe_input_ids"
   ]
  },
  {
   "cell_type": "markdown",
   "metadata": {
    "id": "jWNRYYmUYw-D"
   },
   "source": [
    "and the first 10 corresponding tokens are: "
   ]
  },
  {
   "cell_type": "code",
   "execution_count": 39,
   "metadata": {
    "colab": {
     "base_uri": "https://localhost:8080/"
    },
    "id": "x1h1vScxYxMw",
    "outputId": "2cbc2296-2601-4090-d77c-02afd2fda22f"
   },
   "outputs": [
    {
     "data": {
      "text/plain": [
       "['This',\n",
       " 'was',\n",
       " 'an',\n",
       " 'absolutely',\n",
       " 'terrible',\n",
       " 'movie.',\n",
       " \"Don't\",\n",
       " 'be',\n",
       " 'lured',\n",
       " 'in']"
      ]
     },
     "execution_count": 39,
     "metadata": {},
     "output_type": "execute_result"
    }
   ],
   "source": [
    "probe_tokens = [x.decode('utf-8') for x in train_tokens[0].numpy()][:100]\n",
    "probe_tokens[:10]"
   ]
  },
  {
   "cell_type": "markdown",
   "metadata": {
    "id": "y_9R85S7YOXF"
   },
   "source": [
    "Identify the 5 words with the highest impact and the 5 words with the lowest impact on the score, i.e., identify the 5 words with the largest and  smallest weights, respectively. (Not that multiple occurances of the same word count separately for the exercise).\n",
    "\n",
    "HINT: You should create a list of (word/weight) pairs, and then sort by the second argument. Python's '.sort()' function may come in handy."
   ]
  },
  {
   "cell_type": "code",
   "execution_count": 40,
   "metadata": {
    "colab": {
     "base_uri": "https://localhost:8080/"
    },
    "id": "0UBhi3G0S0v8",
    "outputId": "6849854a-54cf-4c65-bd40-605e763df0c5"
   },
   "outputs": [
    {
     "name": "stdout",
     "output_type": "stream",
     "text": [
      "most important tokens:\n",
      "\t [(0.09375433, 'worst'), (0.07295638, 'terrible'), (0.042977538, 'pathetic'), (0.042977538, 'pathetic'), (0.035451468, 'disappointed'), (0.030038077, 'ridiculous'), (0.027670952, 'devoid'), (0.02298943, 'nothing'), (0.018553773, 'Even'), (0.017143017, 'emotional')]\n",
      "\n",
      "least important tokens:\n",
      "\t [(0.0013829549, 'the'), (0.0018908301, 'or'), (0.0019768868, 'their'), (0.0019768868, 'their'), (0.0019768868, 'their'), (0.002148331, 'be'), (0.002148331, 'be'), (0.002261895, 'I'), (0.002347771, 'this'), (0.002347771, 'this')]\n"
     ]
    }
   ],
   "source": [
    "### YOUR CODE HERE\n",
    "\n",
    "# 'pairs' should be the variable that holds the  token/weight pairs.\n",
    "first_sent_weights = wan_model.predict(train_input_ids[:1])[1][0][0]\n",
    "sorted = np.argsort(first_sent_weights)\n",
    "\n",
    "largest_weights = sorted[:10]\n",
    "smallest_weights = sorted[-10:].tolist()[::-1]\n",
    "\n",
    "wght_idx = np.concatenate((smallest_weights, largest_weights))\n",
    "\n",
    "pairs = []\n",
    "\n",
    "for idx in wght_idx:\n",
    "  pairs.append((first_sent_weights[idx], probe_tokens[idx]))\n",
    "  \n",
    "### END YOUR CODE\n",
    "\n",
    "print('most important tokens:')\n",
    "print('\\t', pairs[:10])\n",
    "print('\\nleast important tokens:')\n",
    "print('\\t', pairs[-10:])\n",
    "\n"
   ]
  },
  {
   "cell_type": "markdown",
   "metadata": {
    "id": "UURhPvLWRBNd"
   },
   "source": [
    " **QUESTION:**\n",
    "\n",
    " 2.2.2.b List the 5 most important words, with the most important first. (Again, if a word appears twice, note it twice.)\n",
    "\n",
    " [worst, terrible, pathetic, pathetic, disappointed]\n",
    "\n",
    " 2.2.2.c List the 5 least important words, with the most important of those first. (Again, if a word appears twice, note it twice.)\n",
    "\n",
    " [the, or, their, their, their]"
   ]
  },
  {
   "cell_type": "markdown",
   "metadata": {
    "id": "5IYOH-QfSj22"
   },
   "source": [
    "### 2.3 Approaches for Training of Embeddings\n",
    "\n",
    "Rerun the DAN Model in 3 configurations:\n",
    "\n",
    "\n",
    "1.   embedding_initializer = 'word2vec' and retrain_embeddings=False\n",
    "2.   embedding_initializer = 'word2vec' and retrain_embeddings=True\n",
    "3.   embedding_initializer = 'uniform' and retrain_embeddings=True\n",
    "\n",
    "\n",
    "**NOTE:** Train the models with static embeddings for 10 epochs and the ones with trainable embeddings for 3 epochs. \n",
    "\n",
    "What do you observe?\n",
    "\n"
   ]
  },
  {
   "cell_type": "code",
   "execution_count": 41,
   "metadata": {
    "id": "h6Pxm-2xU1aw"
   },
   "outputs": [],
   "source": [
    "### YOUR CODE HERE\n",
    "  \n",
    "dan_model_1 = create_dan_model(embedding_initializer = 'word2vec', retrain_embeddings=False)\n",
    "dan_model_2 = create_dan_model(embedding_initializer = 'word2vec', retrain_embeddings=True)\n",
    "dan_model_3 = create_dan_model(embedding_initializer = 'uniform', retrain_embeddings=True)\n",
    "\n",
    "### END YOUR CODE"
   ]
  },
  {
   "cell_type": "markdown",
   "metadata": {
    "id": "a0jwQ6ailUm4"
   },
   "source": [
    "**QUESTION:**\n",
    "\n",
    "2.3.a Which number (in percent) is closest to the highest validation accuracy that you observed for the static model?\n",
    "\n",
    " * 76"
   ]
  },
  {
   "cell_type": "code",
   "execution_count": 42,
   "metadata": {
    "colab": {
     "base_uri": "https://localhost:8080/"
    },
    "id": "TNJSStvBOV3P",
    "outputId": "d86e4723-933f-485e-aa34-91cb6e02c0eb"
   },
   "outputs": [
    {
     "name": "stdout",
     "output_type": "stream",
     "text": [
      "Epoch 1/10\n",
      "545/545 [==============================] - 3s 5ms/step - loss: 0.6460 - accuracy: 0.6480 - val_loss: 0.5982 - val_accuracy: 0.6962\n",
      "Epoch 2/10\n",
      "545/545 [==============================] - 2s 4ms/step - loss: 0.5468 - accuracy: 0.7362 - val_loss: 0.5384 - val_accuracy: 0.7297\n",
      "Epoch 3/10\n",
      "545/545 [==============================] - 2s 4ms/step - loss: 0.5123 - accuracy: 0.7518 - val_loss: 0.5191 - val_accuracy: 0.7394\n",
      "Epoch 4/10\n",
      "545/545 [==============================] - 2s 4ms/step - loss: 0.4963 - accuracy: 0.7600 - val_loss: 0.5203 - val_accuracy: 0.7450\n",
      "Epoch 5/10\n",
      "545/545 [==============================] - 2s 3ms/step - loss: 0.4901 - accuracy: 0.7621 - val_loss: 0.5053 - val_accuracy: 0.7528\n",
      "Epoch 6/10\n",
      "545/545 [==============================] - 2s 4ms/step - loss: 0.4817 - accuracy: 0.7681 - val_loss: 0.5031 - val_accuracy: 0.7554\n",
      "Epoch 7/10\n",
      "545/545 [==============================] - 2s 4ms/step - loss: 0.4789 - accuracy: 0.7702 - val_loss: 0.4988 - val_accuracy: 0.7591\n",
      "Epoch 8/10\n",
      "545/545 [==============================] - 2s 4ms/step - loss: 0.4744 - accuracy: 0.7713 - val_loss: 0.4936 - val_accuracy: 0.7588\n",
      "Epoch 9/10\n",
      "545/545 [==============================] - 2s 3ms/step - loss: 0.4702 - accuracy: 0.7759 - val_loss: 0.4913 - val_accuracy: 0.7607\n",
      "Epoch 10/10\n",
      "545/545 [==============================] - 2s 3ms/step - loss: 0.4676 - accuracy: 0.7770 - val_loss: 0.4940 - val_accuracy: 0.7498\n"
     ]
    }
   ],
   "source": [
    "#dan_model_1 = create_dan_model(embedding_initializer = 'word2vec', retrain_embeddings=False)\n",
    "\n",
    "dan_shuffled_history_1 = dan_model_1.fit(sorted_training_input_ids,\n",
    "                        sorted_training_labels,\n",
    "                        validation_data=(test_input_ids, test_input_labels),\n",
    "                        batch_size=32,\n",
    "                        epochs=10,\n",
    "                        shuffle=True)"
   ]
  },
  {
   "cell_type": "markdown",
   "metadata": {
    "id": "sZXr9UY7lfHE"
   },
   "source": [
    "**QUESTION:**\n",
    "\n",
    "\n",
    "2.3.b Which number (in percent) is closest to the highest validation accuracy that you observed for the model where you initialized with word2vec vectors but allow them to retrain?\n",
    "\n",
    " * 81"
   ]
  },
  {
   "cell_type": "code",
   "execution_count": 43,
   "metadata": {
    "colab": {
     "base_uri": "https://localhost:8080/"
    },
    "id": "ab0Yv-84OsPt",
    "outputId": "678d2254-d341-4678-8b31-de68e4aa5109"
   },
   "outputs": [
    {
     "name": "stdout",
     "output_type": "stream",
     "text": [
      "Epoch 1/3\n",
      "545/545 [==============================] - 7s 11ms/step - loss: 0.4992 - accuracy: 0.7579 - val_loss: 0.4221 - val_accuracy: 0.8062\n",
      "Epoch 2/3\n",
      "545/545 [==============================] - 7s 13ms/step - loss: 0.2965 - accuracy: 0.8778 - val_loss: 0.5006 - val_accuracy: 0.7762\n",
      "Epoch 3/3\n",
      "545/545 [==============================] - 9s 16ms/step - loss: 0.2036 - accuracy: 0.9247 - val_loss: 0.5309 - val_accuracy: 0.7824\n"
     ]
    }
   ],
   "source": [
    "#dan_model_2 = create_dan_model(embedding_initializer = 'word2vec', retrain_embeddings=True)\n",
    "\n",
    "dan_shuffled_history_2 = dan_model_2.fit(sorted_training_input_ids,\n",
    "                        sorted_training_labels,\n",
    "                        validation_data=(test_input_ids, test_input_labels),\n",
    "                        batch_size=32,\n",
    "                        epochs=3,\n",
    "                        shuffle=True)"
   ]
  },
  {
   "cell_type": "markdown",
   "metadata": {
    "id": "hO791d-oYOgg"
   },
   "source": [
    "**QUESTION:**\n",
    "\n",
    "2.3.c Which number (in percent) is closest to the highest validation accuracy that you observed for the model where you initialized randomly and then trained?\n",
    "\n",
    " * 80\n",
    "\n"
   ]
  },
  {
   "cell_type": "code",
   "execution_count": null,
   "metadata": {
    "colab": {
     "background_save": true
    },
    "id": "87la-gA6O6x8",
    "outputId": "32903672-1ea3-4f2d-f890-cbe1b40953f6"
   },
   "outputs": [
    {
     "name": "stdout",
     "output_type": "stream",
     "text": [
      "Epoch 1/3\n",
      "545/545 [==============================] - 80s 146ms/step - loss: 0.4965 - accuracy: 0.7473 - val_loss: 0.4216 - val_accuracy: 0.8050\n",
      "Epoch 2/3\n",
      "545/545 [==============================] - 79s 145ms/step - loss: 0.2910 - accuracy: 0.8827 - val_loss: 0.4490 - val_accuracy: 0.7970\n",
      "Epoch 3/3\n",
      "545/545 [==============================] - 79s 145ms/step - loss: 0.1969 - accuracy: 0.9271 - val_loss: 0.5469 - val_accuracy: 0.7799\n"
     ]
    }
   ],
   "source": [
    "#dan_model_3 = create_dan_model(embedding_initializer = 'uniform', retrain_embeddings=True)\n",
    "\n",
    "dan_shuffled_history_3 = dan_model_3.fit(sorted_training_input_ids,\n",
    "                        sorted_training_labels,\n",
    "                        validation_data=(test_input_ids, test_input_labels),\n",
    "                        batch_size=32,\n",
    "                        epochs=3,\n",
    "                        shuffle=True)"
   ]
  },
  {
   "cell_type": "markdown",
   "metadata": {
    "id": "4BGRT1g6a0T6"
   },
   "source": [
    "\n",
    "##3. BERT-based Classification Models\n",
    "\n",
    "Now we turn to classification with BERT. We will perform classifications with various models that are based on pre-trained BERT models.\n",
    "\n",
    "\n",
    "### 3.1. Basics\n",
    "\n",
    "Let us first explore some basics of BERT. \n",
    "\n",
    "You first need to define the tokenizer and the model for the pre-trained configuration you need.\n",
    "\n",
    "We already got the tokenizer during setup with:\n",
    "\n",
    "```\n",
    "bert_tokenizer = BertTokenizer.from_pretrained('bert-base-cased')\n",
    "```\n",
    "\n",
    "Now, we also need to get the model:"
   ]
  },
  {
   "cell_type": "code",
   "execution_count": 48,
   "metadata": {
    "id": "4Jkq2Xq-QX4G"
   },
   "outputs": [],
   "source": [
    "bert_tokenizer = BertTokenizer.from_pretrained('bert-base-cased')"
   ]
  },
  {
   "cell_type": "code",
   "execution_count": 49,
   "metadata": {
    "colab": {
     "base_uri": "https://localhost:8080/"
    },
    "id": "tnCeDGfFgPlL",
    "outputId": "3fe53c8f-a502-48c3-afe2-e0d110a443cc"
   },
   "outputs": [
    {
     "name": "stderr",
     "output_type": "stream",
     "text": [
      "Some layers from the model checkpoint at bert-base-cased were not used when initializing TFBertModel: ['nsp___cls', 'mlm___cls']\n",
      "- This IS expected if you are initializing TFBertModel from the checkpoint of a model trained on another task or with another architecture (e.g. initializing a BertForSequenceClassification model from a BertForPreTraining model).\n",
      "- This IS NOT expected if you are initializing TFBertModel from the checkpoint of a model that you expect to be exactly identical (initializing a BertForSequenceClassification model from a BertForSequenceClassification model).\n",
      "All the layers of TFBertModel were initialized from the model checkpoint at bert-base-cased.\n",
      "If your task is similar to the task the model of the checkpoint was trained on, you can already use TFBertModel for predictions without further training.\n"
     ]
    }
   ],
   "source": [
    "bert_model = TFBertModel.from_pretrained('bert-base-cased')"
   ]
  },
  {
   "cell_type": "markdown",
   "metadata": {
    "id": "Pz_i57Qsa9Vl"
   },
   "source": [
    "(Ignore the warnings.)\n",
    "\n",
    "Next, consider this input:"
   ]
  },
  {
   "cell_type": "code",
   "execution_count": 47,
   "metadata": {
    "id": "aM3UggLagPn4"
   },
   "outputs": [],
   "source": [
    "test_input = ['this bank is closed on Sunday', 'the steepest bank of the river is dangerous']"
   ]
  },
  {
   "cell_type": "markdown",
   "metadata": {
    "id": "YWaNDy5UbmGU"
   },
   "source": [
    "Now apply the tokenizer to tokenize it:"
   ]
  },
  {
   "cell_type": "code",
   "execution_count": 50,
   "metadata": {
    "colab": {
     "base_uri": "https://localhost:8080/"
    },
    "id": "nmoptRz0bq1o",
    "outputId": "79b235db-517e-499f-96a1-242035043eb1"
   },
   "outputs": [
    {
     "data": {
      "text/plain": [
       "{'input_ids': <tf.Tensor: shape=(2, 12), dtype=int32, numpy=\n",
       "array([[ 101, 1142, 3085, 1110, 1804, 1113, 3625,  102,    0,    0,    0,\n",
       "           0],\n",
       "       [ 101, 1103, 9458, 2556, 3085, 1104, 1103, 2186, 1110, 4249,  102,\n",
       "           0]], dtype=int32)>, 'token_type_ids': <tf.Tensor: shape=(2, 12), dtype=int32, numpy=\n",
       "array([[0, 0, 0, 0, 0, 0, 0, 0, 0, 0, 0, 0],\n",
       "       [0, 0, 0, 0, 0, 0, 0, 0, 0, 0, 0, 0]], dtype=int32)>, 'attention_mask': <tf.Tensor: shape=(2, 12), dtype=int32, numpy=\n",
       "array([[1, 1, 1, 1, 1, 1, 1, 1, 0, 0, 0, 0],\n",
       "       [1, 1, 1, 1, 1, 1, 1, 1, 1, 1, 1, 0]], dtype=int32)>}"
      ]
     },
     "execution_count": 50,
     "metadata": {},
     "output_type": "execute_result"
    }
   ],
   "source": [
    "tokenized_input = bert_tokenizer(test_input, \n",
    "                                 max_length=12,\n",
    "                                 truncation=True,\n",
    "                                 padding='max_length', \n",
    "                                 return_tensors='tf')\n",
    "\n",
    "tokenized_input"
   ]
  },
  {
   "cell_type": "markdown",
   "metadata": {
    "id": "q8WYd810dQwh"
   },
   "source": [
    " QUESTION: \n",
    " \n",
    " 3.1.a  Why do the attention_masks have 4 and 1 zeros, respectively?\n",
    "\n",
    "  *  For the first example 5 positions are padded while for the second one it is only one.\n",
    "\n",
    "------\n",
    "\n",
    "\n",
    "Next, let us look at the BERT outputs for these 2 sentences:"
   ]
  },
  {
   "cell_type": "code",
   "execution_count": 51,
   "metadata": {
    "colab": {
     "base_uri": "https://localhost:8080/"
    },
    "id": "4hpNQPvBehMc",
    "outputId": "2a527da3-fdd8-4f78-f9bd-647a931c0c6a"
   },
   "outputs": [
    {
     "name": "stdout",
     "output_type": "stream",
     "text": [
      "Shape of first BERT output:  (2, 12, 768) \n",
      "\n",
      "Shape of second BERT output::  (2, 768) \n",
      "\n",
      "First BERT output:  tf.Tensor(\n",
      "[[[ 0.3945215   0.04198515  0.06480412 ...  0.05045468  0.2235888\n",
      "    0.24238206]\n",
      "  [-0.09458941  0.06673873 -0.03607529 ...  0.21925794 -0.06967171\n",
      "    0.7444843 ]\n",
      "  [ 0.00561046  0.31316507 -0.17982745 ...  0.19563255 -0.10614748\n",
      "    0.477736  ]\n",
      "  ...\n",
      "  [ 0.22268727 -0.115586    0.15854388 ...  0.3002531   0.01634064\n",
      "    0.5133399 ]\n",
      "  [ 0.31638375 -0.10986965  0.23661818 ...  0.10924109 -0.14340335\n",
      "    0.32835382]\n",
      "  [ 0.34834027 -0.10076497  0.26903206 ...  0.127076   -0.1843014\n",
      "    0.26176214]]\n",
      "\n",
      " [[ 0.44506386  0.22265004 -0.09972464 ... -0.23736243  0.12722528\n",
      "    0.07778173]\n",
      "  [ 0.07407638 -0.3180583  -0.1192466  ... -0.0668015  -0.3061705\n",
      "    0.46923533]\n",
      "  [ 0.3145813   0.62658817  0.00606306 ... -0.03697472 -0.08461309\n",
      "    0.7268304 ]\n",
      "  ...\n",
      "  [ 0.69994617 -0.11628406  0.01613361 ... -0.47437245  0.05725142\n",
      "    0.21830113]\n",
      "  [ 0.5602969   0.08535822 -0.91923475 ... -0.3102014  -0.09382506\n",
      "    0.34911028]\n",
      "  [-0.26863506  0.11328826  0.07555693 ...  0.37382194  0.00740089\n",
      "    0.16682105]]], shape=(2, 12, 768), dtype=float32) \n",
      "\n",
      "Second BERT output:  tf.Tensor(\n",
      "[[-0.6653193   0.47329736  0.9998541  ...  0.99994165 -0.73006696\n",
      "   0.97826153]\n",
      " [-0.62586117  0.44416317  0.99979794 ...  0.99991226 -0.7422423\n",
      "   0.9725732 ]], shape=(2, 768), dtype=float32) \n",
      "\n"
     ]
    }
   ],
   "source": [
    "### YOUR CODE HERE\n",
    "\n",
    "bert_output = bert_model(tokenized_input)\n",
    "\n",
    "print(f'Shape of first BERT output: ', bert_output[0].shape, '\\n')\n",
    "print(f'Shape of second BERT output:: ', bert_output[1].shape, '\\n')\n",
    "\n",
    "print(f'First BERT output: ',  bert_output[0], '\\n')\n",
    "print(f'Second BERT output: ', bert_output[1], '\\n')\n",
    "\n",
    "\n",
    "### END YOUR CODE"
   ]
  },
  {
   "cell_type": "markdown",
   "metadata": {
    "id": "XVNsqd6QRepy"
   },
   "source": [
    " QUESTION: \n",
    " \n",
    " 3.1.b How many outputs are there? 2\n",
    "\n",
    " 3.1.c Which output do we need to use to get token-level embeddings?\n",
    "\n",
    " * the first\n",
    "\n",
    " 3.1.d Which token number corresponds to 'bank' in the first sentence? ('bert_tokenizer.tokenize()' may come in handy.. and don't forget the CLS token! ) 2\n",
    "\n",
    " 3.1.e Which token number corresponds to 'bank' in the second sentence? 4\n",
    "\n",
    " 3.1.f What is the cosine similarity between the BERT outputs for the two occurances of 'bank' in the two sentences?\n",
    "\n",
    " 3.1.g How does this relate to the cosine similarity of 'this' (sentence 1) and 'the' (sentence 2). Compute the cosine similarity.\n",
    "\n",
    " Enter your code below."
   ]
  },
  {
   "cell_type": "code",
   "execution_count": 53,
   "metadata": {
    "colab": {
     "base_uri": "https://localhost:8080/"
    },
    "id": "qAfOnO9zov-y",
    "outputId": "94bb5e2f-1317-4186-ae70-c0d0c314fb7f"
   },
   "outputs": [
    {
     "name": "stdout",
     "output_type": "stream",
     "text": [
      "Part B:  TFBaseModelOutputWithPoolingAndCrossAttentions(last_hidden_state=<tf.Tensor: shape=(2, 12, 768), dtype=float32, numpy=\n",
      "array([[[ 0.3945215 ,  0.04198515,  0.06480412, ...,  0.05045468,\n",
      "          0.2235888 ,  0.24238206],\n",
      "        [-0.09458941,  0.06673873, -0.03607529, ...,  0.21925794,\n",
      "         -0.06967171,  0.7444843 ],\n",
      "        [ 0.00561046,  0.31316507, -0.17982745, ...,  0.19563255,\n",
      "         -0.10614748,  0.477736  ],\n",
      "        ...,\n",
      "        [ 0.22268727, -0.115586  ,  0.15854388, ...,  0.3002531 ,\n",
      "          0.01634064,  0.5133399 ],\n",
      "        [ 0.31638375, -0.10986965,  0.23661818, ...,  0.10924109,\n",
      "         -0.14340335,  0.32835382],\n",
      "        [ 0.34834027, -0.10076497,  0.26903206, ...,  0.127076  ,\n",
      "         -0.1843014 ,  0.26176214]],\n",
      "\n",
      "       [[ 0.44506386,  0.22265004, -0.09972464, ..., -0.23736243,\n",
      "          0.12722528,  0.07778173],\n",
      "        [ 0.07407638, -0.3180583 , -0.1192466 , ..., -0.0668015 ,\n",
      "         -0.3061705 ,  0.46923533],\n",
      "        [ 0.3145813 ,  0.62658817,  0.00606306, ..., -0.03697472,\n",
      "         -0.08461309,  0.7268304 ],\n",
      "        ...,\n",
      "        [ 0.69994617, -0.11628406,  0.01613361, ..., -0.47437245,\n",
      "          0.05725142,  0.21830113],\n",
      "        [ 0.5602969 ,  0.08535822, -0.91923475, ..., -0.3102014 ,\n",
      "         -0.09382506,  0.34911028],\n",
      "        [-0.26863506,  0.11328826,  0.07555693, ...,  0.37382194,\n",
      "          0.00740089,  0.16682105]]], dtype=float32)>, pooler_output=<tf.Tensor: shape=(2, 768), dtype=float32, numpy=\n",
      "array([[-0.6653193 ,  0.47329736,  0.9998541 , ...,  0.99994165,\n",
      "        -0.73006696,  0.97826153],\n",
      "       [-0.62586117,  0.44416317,  0.99979794, ...,  0.99991226,\n",
      "        -0.7422423 ,  0.9725732 ]], dtype=float32)>, past_key_values=None, hidden_states=None, attentions=None, cross_attentions=None)\n",
      "Num outputs:  2 \n",
      "\n",
      "Part D: \n",
      "['this', 'bank', 'is', 'closed', 'on', 'Sunday']\n",
      "Bank token is (first sent): 2\n",
      "\n",
      "Part E: \n",
      "['the', 'steep', '##est', 'bank', 'of', 'the', 'river', 'is', 'dangerous']\n",
      "Bank token is (second sent): 4\n",
      "\n",
      "Part F: \n",
      "\t1.0\t0.74\n",
      "\t0.74\t1.0\n",
      "\n",
      "\n",
      "Part G: \n",
      "\t1.0\t0.81\n",
      "\t0.81\t1.0\n",
      "\n",
      "\n"
     ]
    }
   ],
   "source": [
    "### YOUR CODE HERE\n",
    "\n",
    "#1. -> print it out\n",
    "print('Part B: ', bert_output)\n",
    "print('Num outputs: ', len(bert_model(tokenized_input)), '\\n')\n",
    "\n",
    "#2. -> answer in answer file\n",
    "\n",
    "#3. -> Look at tokenization\n",
    "print('Part D: ')\n",
    "tokenization = bert_tokenizer.tokenize(test_input[0])\n",
    "bank_token = bert_tokenizer(['this bank is closed on Sunday', 'the steepest bank of the river is dangerous'])\n",
    "print(tokenization)\n",
    "print('Bank token is (first sent): 2\\n')\n",
    "\n",
    "#4. -> Look at tokenization\n",
    "print('Part E: ')\n",
    "tokenization = bert_tokenizer.tokenize(test_input[1])\n",
    "bank_token = bert_tokenizer(['this bank is closed on Sunday', 'the steepest bank of the river is dangerous'])\n",
    "print(tokenization)\n",
    "print('Bank token is (second sent): 4\\n')\n",
    "\n",
    "#5.  -> get the vectors and calclate cosine similarity\n",
    "def cosine_distances(vecs):\n",
    "    for v_1 in vecs:\n",
    "        distances = ''\n",
    "        for v_2 in vecs:\n",
    "            distances += ('\\t' + str(np.dot(v_1, v_2)/np.sqrt(np.dot(v_1, v_1) * np.dot(v_2, v_2)))[:4])\n",
    "        print(distances)\n",
    "\n",
    "print('Part F: ')\n",
    "bert_bank_outputs = bert_model(tokenized_input)\n",
    "bank_1 = bert_bank_outputs[0][0, 2]\n",
    "bank_2 = bert_bank_outputs[0][1, 4]\n",
    "banks = [bank_1, bank_2]\n",
    "cosine_distances(banks)\n",
    "print('\\n')\n",
    "\n",
    "#6.  -> get the vectors and calculate cosine similarity\n",
    "print('Part G: ')\n",
    "bank_1 = bert_bank_outputs[0][0, 1]\n",
    "bank_2 = bert_bank_outputs[0][1, 1]\n",
    "banks = [bank_1, bank_2]\n",
    "cosine_distances(banks)\n",
    "print('\\n')\n",
    "\n",
    "### END YOUR CODE"
   ]
  },
  {
   "cell_type": "markdown",
   "metadata": {
    "id": "KBOvsTBwm_Vi"
   },
   "source": [
    "### 3.2 CLS-Token-based Classification \n",
    "\n",
    "In the live session we discussed classification with BERT using the pooled token. We now will do the same but extract the [CLS] token output for each example and use that for classification purposes.\n",
    "\n",
    "Consult the model from the live session and change accordingly.\n",
    "\n",
    "**HINT:**\n",
    "You will want to extract the output of the [CLS] token from the BERT output similarly to what we did above to get the output for 'bank', etc.\n"
   ]
  },
  {
   "cell_type": "code",
   "execution_count": 54,
   "metadata": {
    "id": "V1OAGPTNgPr6"
   },
   "outputs": [],
   "source": [
    "def create_bert_cls_model(hidden_size = 100, \n",
    "                          dropout=0.3,\n",
    "                                learning_rate=0.00005):\n",
    "    \"\"\"\n",
    "    Build a simple classification model with BERT. Use the CLS Token output for classification purposes.\n",
    "    \"\"\"\n",
    "\n",
    "    ### YOUR CODE HERE\n",
    "\n",
    "    #creat bert model\n",
    "    bert_model = TFBertModel.from_pretrained('bert-base-cased')\n",
    "\n",
    "    #store input/token ids and attn mask\n",
    "    input_ids = tf.keras.layers.Input(shape=(max_length,), dtype=tf.int64, name='input_ids_layer') #--SOLUTION--\n",
    "    token_type_ids = tf.keras.layers.Input(shape=(max_length,), dtype=tf.int64, name='token_type_ids_layer')\n",
    "    attention_mask = tf.keras.layers.Input(shape=(max_length,), dtype=tf.int64, name='attention_mask_layer')\n",
    "\n",
    "    #designate inputs\n",
    "    bert_inputs = {'input_ids': input_ids}\n",
    "\n",
    "    #create out model and pooled tokens from input\n",
    "    bert_out = bert_model(bert_inputs) \n",
    "    pooled_token = bert_out[0][:,0]\n",
    "\n",
    "    #create hidden layers\n",
    "    hidden = tf.keras.layers.Dense(hidden_size, activation='relu', name='hidden_layer')(pooled_token)\n",
    "    hidden = tf.keras.layers.Dropout(dropout)(hidden)  \n",
    "\n",
    "    #classification layer\n",
    "    classification = tf.keras.layers.Dense(1, activation='sigmoid',name='classification_layer')(hidden)\n",
    "\n",
    "    #build model and compile with loss/optimizer\n",
    "    classification_model = tf.keras.Model(inputs=[input_ids], outputs=[classification])\n",
    "    \n",
    "    classification_model.compile(optimizer=tf.keras.optimizers.Adam(learning_rate=learning_rate),\n",
    "                            loss=tf.keras.losses.BinaryCrossentropy(from_logits=False), \n",
    "                            metrics='accuracy') \n",
    "\n",
    "    ### END YOUR CODE\n",
    "    \n",
    "    return classification_model"
   ]
  },
  {
   "cell_type": "markdown",
   "metadata": {
    "id": "KcK2PyPNoNc2"
   },
   "source": [
    "Now create the model and run for 2 epochs. Use batch size 8 and the appropriate validation/test set. (We don't make a distinction here.)\n"
   ]
  },
  {
   "cell_type": "code",
   "execution_count": 55,
   "metadata": {
    "colab": {
     "base_uri": "https://localhost:8080/"
    },
    "id": "hIXDr8OdiSyv",
    "outputId": "44e6d09a-5c43-400a-ee29-244d0d3c2632"
   },
   "outputs": [
    {
     "name": "stderr",
     "output_type": "stream",
     "text": [
      "Some layers from the model checkpoint at bert-base-cased were not used when initializing TFBertModel: ['nsp___cls', 'mlm___cls']\n",
      "- This IS expected if you are initializing TFBertModel from the checkpoint of a model trained on another task or with another architecture (e.g. initializing a BertForSequenceClassification model from a BertForPreTraining model).\n",
      "- This IS NOT expected if you are initializing TFBertModel from the checkpoint of a model that you expect to be exactly identical (initializing a BertForSequenceClassification model from a BertForSequenceClassification model).\n",
      "All the layers of TFBertModel were initialized from the model checkpoint at bert-base-cased.\n",
      "If your task is similar to the task the model of the checkpoint was trained on, you can already use TFBertModel for predictions without further training.\n"
     ]
    },
    {
     "name": "stdout",
     "output_type": "stream",
     "text": [
      "Epoch 1/2\n",
      "WARNING:tensorflow:Gradients do not exist for variables ['tf_bert_model_2/bert/pooler/dense/kernel:0', 'tf_bert_model_2/bert/pooler/dense/bias:0'] when minimizing the loss. If you're using `model.compile()`, did you forget to provide a `loss`argument?\n"
     ]
    },
    {
     "name": "stderr",
     "output_type": "stream",
     "text": [
      "WARNING:tensorflow:Gradients do not exist for variables ['tf_bert_model_2/bert/pooler/dense/kernel:0', 'tf_bert_model_2/bert/pooler/dense/bias:0'] when minimizing the loss. If you're using `model.compile()`, did you forget to provide a `loss`argument?\n"
     ]
    },
    {
     "name": "stdout",
     "output_type": "stream",
     "text": [
      "WARNING:tensorflow:Gradients do not exist for variables ['tf_bert_model_2/bert/pooler/dense/kernel:0', 'tf_bert_model_2/bert/pooler/dense/bias:0'] when minimizing the loss. If you're using `model.compile()`, did you forget to provide a `loss`argument?\n"
     ]
    },
    {
     "name": "stderr",
     "output_type": "stream",
     "text": [
      "WARNING:tensorflow:Gradients do not exist for variables ['tf_bert_model_2/bert/pooler/dense/kernel:0', 'tf_bert_model_2/bert/pooler/dense/bias:0'] when minimizing the loss. If you're using `model.compile()`, did you forget to provide a `loss`argument?\n"
     ]
    },
    {
     "name": "stdout",
     "output_type": "stream",
     "text": [
      "2178/2178 [==============================] - 480s 211ms/step - loss: 0.4502 - accuracy: 0.7895 - val_loss: 0.3751 - val_accuracy: 0.8291\n",
      "Epoch 2/2\n",
      "2178/2178 [==============================] - 477s 219ms/step - loss: 0.3046 - accuracy: 0.8735 - val_loss: 0.4905 - val_accuracy: 0.8258\n"
     ]
    }
   ],
   "source": [
    "### YOUR CODE HERE\n",
    "\n",
    "pooled_bert_model = create_bert_cls_model()\n",
    "\n",
    "#fit on bert training ids/labels and validate on bert test ids/labels\n",
    "pooled_bert_model_history = pooled_bert_model.fit([bert_train_input_ids], bert_train_labels,\n",
    "                                                  validation_data=([bert_test_input_ids], bert_test_labels),    \n",
    "                                                  batch_size=8, \n",
    "                                                  epochs=2)  \n",
    "\n",
    "### END YOUR CODE"
   ]
  },
  {
   "cell_type": "markdown",
   "metadata": {
    "id": "LLjgxylMnC0x"
   },
   "source": [
    " QUESTION: \n",
    " \n",
    " 3.2.a Which number (in percent) is closest to the highest validation accuracy that you observed for the [CLS]-classification model?\n",
    "\n",
    " * 82\n",
    " "
   ]
  },
  {
   "cell_type": "markdown",
   "metadata": {
    "id": "3cMVEBuxro4j"
   },
   "source": [
    "### 3.3 Classification by Averaging the BERT outputs\n",
    "\n",
    "Instead of using the [CLS] token, we will now average all of the output tokens that correspond to actual tokens. I.e., ignore the [CLS] and [SEP] tokens. Where are they? First and last for us.\n",
    "\n",
    "\n",
    "**HINT:**\n",
    "You will want to extract all of the relevant tokens and then apply an average across the tokens. You may want to use:\n",
    "\n",
    "\n",
    "```\n",
    "tf.math.reduce_mean()\n",
    "```\n",
    "but you can also do it in other ways.\n",
    "\n"
   ]
  },
  {
   "cell_type": "code",
   "execution_count": null,
   "metadata": {
    "colab": {
     "background_save": true
    },
    "id": "sB2WKwLTk4LY"
   },
   "outputs": [],
   "source": [
    "def create_bert_avg_model(hidden_size = 100, \n",
    "                                dropout=0.3,\n",
    "                                learning_rate=0.00005):\n",
    "    \"\"\"\n",
    "    Build a simple classification model with BERT. Use the average of the BERT output tokens\n",
    "    \"\"\"\n",
    "\n",
    "    ### YOUR CODE HERE\n",
    "\n",
    "    bert_model = TFBertModel.from_pretrained('bert-base-cased')\n",
    "    input_ids = tf.keras.layers.Input(shape=(max_length,), dtype=tf.int64, name='input_ids_layer') #--SOLUTION--\n",
    "    token_type_ids = tf.keras.layers.Input(shape=(max_length,), dtype=tf.int64, name='token_type_ids_layer')\n",
    "    attention_mask = tf.keras.layers.Input(shape=(max_length,), dtype=tf.int64, name='attention_mask_layer')\n",
    "\n",
    "    bert_inputs = {'input_ids': input_ids}\n",
    "    bert_out = bert_model(bert_inputs) \n",
    "\n",
    "    pooled_token = bert_out[0][:,1:-1]\n",
    "    avg_pooled_token = tf.math.reduce_mean(pooled_token, 1)\n",
    "\n",
    "    hidden = tf.keras.layers.Dense(hidden_size, activation='relu', name='hidden_layer')(avg_pooled_token)\n",
    "    hidden = tf.keras.layers.Dropout(dropout)(hidden)  \n",
    "\n",
    "    classification = tf.keras.layers.Dense(1, activation='sigmoid',name='classification_layer')(hidden)\n",
    "\n",
    "    classification_model = tf.keras.Model(inputs=[input_ids], outputs=[classification])\n",
    "    \n",
    "    classification_model.compile(optimizer=tf.keras.optimizers.Adam(learning_rate=learning_rate),\n",
    "                            loss=tf.keras.losses.BinaryCrossentropy(from_logits=False), \n",
    "                            metrics='accuracy') \n",
    "\n",
    "    ### END YOUR CODE\n",
    "\n",
    "    return classification_model"
   ]
  },
  {
   "cell_type": "markdown",
   "metadata": {
    "id": "xcLrgI49tBde"
   },
   "source": [
    "Now create the model and run for 2 epochs. Use batch size 8 and the appropriate validation/test set. (We don't make a distinction here.)"
   ]
  },
  {
   "cell_type": "code",
   "execution_count": null,
   "metadata": {
    "colab": {
     "background_save": true
    },
    "id": "AtS29uRbk4Os",
    "outputId": "075ae2fb-13f2-4129-b685-d4e7d53bb34b"
   },
   "outputs": [
    {
     "name": "stderr",
     "output_type": "stream",
     "text": [
      "Some layers from the model checkpoint at bert-base-cased were not used when initializing TFBertModel: ['nsp___cls', 'mlm___cls']\n",
      "- This IS expected if you are initializing TFBertModel from the checkpoint of a model trained on another task or with another architecture (e.g. initializing a BertForSequenceClassification model from a BertForPreTraining model).\n",
      "- This IS NOT expected if you are initializing TFBertModel from the checkpoint of a model that you expect to be exactly identical (initializing a BertForSequenceClassification model from a BertForSequenceClassification model).\n",
      "All the layers of TFBertModel were initialized from the model checkpoint at bert-base-cased.\n",
      "If your task is similar to the task the model of the checkpoint was trained on, you can already use TFBertModel for predictions without further training.\n"
     ]
    },
    {
     "name": "stdout",
     "output_type": "stream",
     "text": [
      "Epoch 1/2\n",
      "WARNING:tensorflow:Gradients do not exist for variables ['tf_bert_model_2/bert/pooler/dense/kernel:0', 'tf_bert_model_2/bert/pooler/dense/bias:0'] when minimizing the loss. If you're using `model.compile()`, did you forget to provide a `loss`argument?\n"
     ]
    },
    {
     "name": "stderr",
     "output_type": "stream",
     "text": [
      "WARNING:tensorflow:Gradients do not exist for variables ['tf_bert_model_2/bert/pooler/dense/kernel:0', 'tf_bert_model_2/bert/pooler/dense/bias:0'] when minimizing the loss. If you're using `model.compile()`, did you forget to provide a `loss`argument?\n"
     ]
    },
    {
     "name": "stdout",
     "output_type": "stream",
     "text": [
      "WARNING:tensorflow:Gradients do not exist for variables ['tf_bert_model_2/bert/pooler/dense/kernel:0', 'tf_bert_model_2/bert/pooler/dense/bias:0'] when minimizing the loss. If you're using `model.compile()`, did you forget to provide a `loss`argument?\n"
     ]
    },
    {
     "name": "stderr",
     "output_type": "stream",
     "text": [
      "WARNING:tensorflow:Gradients do not exist for variables ['tf_bert_model_2/bert/pooler/dense/kernel:0', 'tf_bert_model_2/bert/pooler/dense/bias:0'] when minimizing the loss. If you're using `model.compile()`, did you forget to provide a `loss`argument?\n"
     ]
    },
    {
     "name": "stdout",
     "output_type": "stream",
     "text": [
      "2178/2178 [==============================] - 469s 209ms/step - loss: 0.4438 - accuracy: 0.7923 - val_loss: 0.3918 - val_accuracy: 0.8258\n",
      "Epoch 2/2\n",
      "2178/2178 [==============================] - 453s 208ms/step - loss: 0.2934 - accuracy: 0.8783 - val_loss: 0.3949 - val_accuracy: 0.8318\n"
     ]
    }
   ],
   "source": [
    "### YOUR CODE HERE\n",
    "\n",
    "avg_pooled_bert_model = create_bert_avg_model()\n",
    "\n",
    "avg_pooled_bert_model_history = avg_pooled_bert_model.fit([bert_train_input_ids], bert_train_labels,\n",
    "                                                  validation_data=([bert_test_input_ids], bert_test_labels),    \n",
    "                                                  batch_size=8, \n",
    "                                                  epochs=2)  \n",
    "\n",
    "### END YOUR CODE"
   ]
  },
  {
   "cell_type": "markdown",
   "metadata": {
    "id": "NiWb3y9anNlG"
   },
   "source": [
    " QUESTION: \n",
    " \n",
    " 3.3.a Which number (in percent) is closest to the highest validation accuracy that you observed for the BERT-averaging-classification model?\n",
    "\n",
    " * 84\n",
    " "
   ]
  },
  {
   "cell_type": "markdown",
   "metadata": {
    "id": "jpVZXfOAt0UC"
   },
   "source": [
    "### 3.4 Adding a CNN on top of BERT\n",
    "\n",
    "Can we also combine advanced architectures? Why not! I the end we deal with tensors and it does not matter whether they are coming from static word embeddings or context-based embeddings coming from BERT. (Whether we want to is another question, but let's try it here.)\n",
    "\n",
    "\n",
    "**HINT:**\n",
    "You should appropriately stitch together the BERT-based components and the CNN components from the lesson notebook. Keep the same parameters, but set dropout to 0.3."
   ]
  },
  {
   "cell_type": "code",
   "execution_count": 20,
   "metadata": {
    "id": "6IJoPmcHk4UO"
   },
   "outputs": [],
   "source": [
    "def create_bert_cnn_model(hidden_size = 100, \n",
    "                                learning_rate=0.00005,\n",
    "                                num_filters = [100, 100, 50, 25],\n",
    "                                kernel_sizes = [3, 5, 10, 20],\n",
    "                                dense_layer_dims = [100, 30],\n",
    "                                dropout = 0.3):\n",
    "    \"\"\"\n",
    "    Build a  classification model with BERT, where you apply CNN layers  to the BERT output\n",
    "    \"\"\"\n",
    "\n",
    "    ### YOUR CODE HERE\n",
    "    \n",
    "    bert_model = TFBertModel.from_pretrained('bert-base-cased')\n",
    "    input_ids = tf.keras.layers.Input(shape=(max_length,), dtype=tf.int64, name='input_ids_layer') #--SOLUTION--\n",
    "\n",
    "    bert_inputs = {'input_ids': input_ids}\n",
    "    bert_out = bert_model(bert_inputs) \n",
    "\n",
    "    pooled_token = bert_out[0][:,1:-1,:]\n",
    "\n",
    "    conv_layers_for_all_kernel_sizes = []\n",
    "\n",
    "    for kernel_size, filters in zip(kernel_sizes, num_filters):\n",
    "        conv_layer = keras.layers.Conv1D(filters=filters, kernel_size=kernel_size, activation='relu')(pooled_token)\n",
    "        conv_layer = keras.layers.GlobalMaxPooling1D()(conv_layer)\n",
    "        conv_layers_for_all_kernel_sizes.append(conv_layer)\n",
    "    \n",
    "    h = keras.layers.concatenate(conv_layers_for_all_kernel_sizes, axis=1)\n",
    "    h = keras.layers.Dropout(rate=dropout)(h)\n",
    "\n",
    "    hidden = tf.keras.layers.Dense(hidden_size, activation='relu', name='hidden_layer')(h)\n",
    "    hidden = tf.keras.layers.Dropout(dropout)(hidden)  \n",
    "\n",
    "    cnn_prediction = keras.layers.Dense(1, activation='sigmoid')(h)\n",
    "    \n",
    "    cnn_model = keras.Model(inputs=input_ids, outputs=cnn_prediction)\n",
    "    \n",
    "    cnn_model.compile(optimizer=tf.keras.optimizers.Adam(learning_rate=learning_rate),\n",
    "                  loss=tf.keras.losses.BinaryCrossentropy(from_logits=False),  # From information theory notebooks.\n",
    "                  metrics='accuracy')\n",
    "    \n",
    "    cnn_model.summary()\n",
    "\n",
    "    ### END YOUR CODE\n",
    "    \n",
    "    return cnn_model"
   ]
  },
  {
   "cell_type": "markdown",
   "metadata": {
    "id": "1KVHhxxIhkqS"
   },
   "source": [
    "Run this model for 2 epochs as well:"
   ]
  },
  {
   "cell_type": "code",
   "execution_count": 21,
   "metadata": {
    "colab": {
     "base_uri": "https://localhost:8080/",
     "height": 1000,
     "referenced_widgets": [
      "f3245d6c034e45aaaf2db0be5a481f6f",
      "b338714c145c41bea4101a115dfeeb89",
      "14f599ec096440f0bfb7002ec67140cd",
      "75170167a33e42208091437a2973ad32",
      "d435927a5f89414fb34dc81dd1193643",
      "d5522fe94260447b938795ce176a6d77",
      "687b42eb30024d0892ee22b03fa90957",
      "80eaa9c5e44f44a3b389c91e0eaaa727",
      "ef251b9306a1409683f48f18907054a3",
      "e11f475ae86c4e27976a4ae27286bf78",
      "5620746e4e9d42308ac3ad97b81671ac"
     ]
    },
    "id": "gobUGAVFk4XG",
    "outputId": "52edab47-6cba-45d1-ef0d-e5c40f9621dd"
   },
   "outputs": [
    {
     "data": {
      "application/vnd.jupyter.widget-view+json": {
       "model_id": "f3245d6c034e45aaaf2db0be5a481f6f",
       "version_major": 2,
       "version_minor": 0
      },
      "text/plain": [
       "Downloading:   0%|          | 0.00/502M [00:00<?, ?B/s]"
      ]
     },
     "metadata": {},
     "output_type": "display_data"
    },
    {
     "name": "stderr",
     "output_type": "stream",
     "text": [
      "Some layers from the model checkpoint at bert-base-cased were not used when initializing TFBertModel: ['nsp___cls', 'mlm___cls']\n",
      "- This IS expected if you are initializing TFBertModel from the checkpoint of a model trained on another task or with another architecture (e.g. initializing a BertForSequenceClassification model from a BertForPreTraining model).\n",
      "- This IS NOT expected if you are initializing TFBertModel from the checkpoint of a model that you expect to be exactly identical (initializing a BertForSequenceClassification model from a BertForSequenceClassification model).\n",
      "All the layers of TFBertModel were initialized from the model checkpoint at bert-base-cased.\n",
      "If your task is similar to the task the model of the checkpoint was trained on, you can already use TFBertModel for predictions without further training.\n"
     ]
    },
    {
     "name": "stdout",
     "output_type": "stream",
     "text": [
      "Model: \"model\"\n",
      "__________________________________________________________________________________________________\n",
      " Layer (type)                   Output Shape         Param #     Connected to                     \n",
      "==================================================================================================\n",
      " input_ids_layer (InputLayer)   [(None, 100)]        0           []                               \n",
      "                                                                                                  \n",
      " tf_bert_model (TFBertModel)    TFBaseModelOutputWi  108310272   ['input_ids_layer[0][0]']        \n",
      "                                thPoolingAndCrossAt                                               \n",
      "                                tentions(last_hidde                                               \n",
      "                                n_state=(None, 100,                                               \n",
      "                                 768),                                                            \n",
      "                                 pooler_output=(Non                                               \n",
      "                                e, 768),                                                          \n",
      "                                 past_key_values=No                                               \n",
      "                                ne, hidden_states=N                                               \n",
      "                                one, attentions=Non                                               \n",
      "                                e, cross_attentions                                               \n",
      "                                =None)                                                            \n",
      "                                                                                                  \n",
      " tf.__operators__.getitem (Slic  (None, 98, 768)     0           ['tf_bert_model[0][0]']          \n",
      " ingOpLambda)                                                                                     \n",
      "                                                                                                  \n",
      " conv1d (Conv1D)                (None, 96, 100)      230500      ['tf.__operators__.getitem[0][0]'\n",
      "                                                                 ]                                \n",
      "                                                                                                  \n",
      " conv1d_1 (Conv1D)              (None, 94, 100)      384100      ['tf.__operators__.getitem[0][0]'\n",
      "                                                                 ]                                \n",
      "                                                                                                  \n",
      " conv1d_2 (Conv1D)              (None, 89, 50)       384050      ['tf.__operators__.getitem[0][0]'\n",
      "                                                                 ]                                \n",
      "                                                                                                  \n",
      " conv1d_3 (Conv1D)              (None, 79, 25)       384025      ['tf.__operators__.getitem[0][0]'\n",
      "                                                                 ]                                \n",
      "                                                                                                  \n",
      " global_max_pooling1d (GlobalMa  (None, 100)         0           ['conv1d[0][0]']                 \n",
      " xPooling1D)                                                                                      \n",
      "                                                                                                  \n",
      " global_max_pooling1d_1 (Global  (None, 100)         0           ['conv1d_1[0][0]']               \n",
      " MaxPooling1D)                                                                                    \n",
      "                                                                                                  \n",
      " global_max_pooling1d_2 (Global  (None, 50)          0           ['conv1d_2[0][0]']               \n",
      " MaxPooling1D)                                                                                    \n",
      "                                                                                                  \n",
      " global_max_pooling1d_3 (Global  (None, 25)          0           ['conv1d_3[0][0]']               \n",
      " MaxPooling1D)                                                                                    \n",
      "                                                                                                  \n",
      " concatenate (Concatenate)      (None, 275)          0           ['global_max_pooling1d[0][0]',   \n",
      "                                                                  'global_max_pooling1d_1[0][0]', \n",
      "                                                                  'global_max_pooling1d_2[0][0]', \n",
      "                                                                  'global_max_pooling1d_3[0][0]'] \n",
      "                                                                                                  \n",
      " dropout_37 (Dropout)           (None, 275)          0           ['concatenate[0][0]']            \n",
      "                                                                                                  \n",
      " dense (Dense)                  (None, 1)            276         ['dropout_37[0][0]']             \n",
      "                                                                                                  \n",
      "==================================================================================================\n",
      "Total params: 109,693,223\n",
      "Trainable params: 109,693,223\n",
      "Non-trainable params: 0\n",
      "__________________________________________________________________________________________________\n",
      "Epoch 1/2\n",
      "WARNING:tensorflow:Gradients do not exist for variables ['tf_bert_model/bert/pooler/dense/kernel:0', 'tf_bert_model/bert/pooler/dense/bias:0'] when minimizing the loss. If you're using `model.compile()`, did you forget to provide a `loss`argument?\n"
     ]
    },
    {
     "name": "stderr",
     "output_type": "stream",
     "text": [
      "WARNING:tensorflow:Gradients do not exist for variables ['tf_bert_model/bert/pooler/dense/kernel:0', 'tf_bert_model/bert/pooler/dense/bias:0'] when minimizing the loss. If you're using `model.compile()`, did you forget to provide a `loss`argument?\n"
     ]
    },
    {
     "name": "stdout",
     "output_type": "stream",
     "text": [
      "WARNING:tensorflow:Gradients do not exist for variables ['tf_bert_model/bert/pooler/dense/kernel:0', 'tf_bert_model/bert/pooler/dense/bias:0'] when minimizing the loss. If you're using `model.compile()`, did you forget to provide a `loss`argument?\n"
     ]
    },
    {
     "name": "stderr",
     "output_type": "stream",
     "text": [
      "WARNING:tensorflow:Gradients do not exist for variables ['tf_bert_model/bert/pooler/dense/kernel:0', 'tf_bert_model/bert/pooler/dense/bias:0'] when minimizing the loss. If you're using `model.compile()`, did you forget to provide a `loss`argument?\n"
     ]
    },
    {
     "name": "stdout",
     "output_type": "stream",
     "text": [
      "2178/2178 [==============================] - 498s 216ms/step - loss: 0.4806 - accuracy: 0.7699 - val_loss: 0.3828 - val_accuracy: 0.8293\n",
      "Epoch 2/2\n",
      "2178/2178 [==============================] - 468s 215ms/step - loss: 0.3382 - accuracy: 0.8533 - val_loss: 0.4363 - val_accuracy: 0.7842\n"
     ]
    }
   ],
   "source": [
    "### YOUR CODE HERE\n",
    "\n",
    "bert_cnn_model = create_bert_cnn_model()\n",
    "bert_cnn_model_history = bert_cnn_model.fit([bert_train_input_ids], bert_train_labels,\n",
    "                                                  validation_data=([bert_test_input_ids], bert_test_labels),    \n",
    "                                                  batch_size=8, \n",
    "                                                  epochs=2)  \n",
    "\n",
    "### END YOUR CODE"
   ]
  },
  {
   "cell_type": "markdown",
   "metadata": {
    "id": "19zjdjc0nTn8"
   },
   "source": [
    " QUESTION: \n",
    " \n",
    "3.4.a Which number (in percent) is closest to the highest validation accuracy that you observed for the BERT-CNN-classification model?\n",
    "\n",
    "84"
   ]
  },
  {
   "cell_type": "markdown",
   "metadata": {
    "id": "_Y3e9X8bvhZf"
   },
   "source": [
    "# That's It! Congratulations... You are Done! We hope you learned a ton!"
   ]
  }
 ],
 "metadata": {
  "accelerator": "GPU",
  "colab": {
   "collapsed_sections": [],
   "name": "Copy_of_Text_classification (2).ipynb",
   "provenance": []
  },
  "kernelspec": {
   "display_name": "Python 3",
   "language": "python",
   "name": "python3"
  },
  "language_info": {
   "codemirror_mode": {
    "name": "ipython",
    "version": 3
   },
   "file_extension": ".py",
   "mimetype": "text/x-python",
   "name": "python",
   "nbconvert_exporter": "python",
   "pygments_lexer": "ipython3",
   "version": "3.7.10"
  },
  "widgets": {
   "application/vnd.jupyter.widget-state+json": {
    "00f3c307a581455aba0c4c9117040e15": {
     "model_module": "@jupyter-widgets/controls",
     "model_module_version": "1.5.0",
     "model_name": "HTMLModel",
     "state": {
      "_dom_classes": [],
      "_model_module": "@jupyter-widgets/controls",
      "_model_module_version": "1.5.0",
      "_model_name": "HTMLModel",
      "_view_count": null,
      "_view_module": "@jupyter-widgets/controls",
      "_view_module_version": "1.5.0",
      "_view_name": "HTMLView",
      "description": "",
      "description_tooltip": null,
      "layout": "IPY_MODEL_62e6f69b65294db8b7f26c300b598e0f",
      "placeholder": "​",
      "style": "IPY_MODEL_5d4dc88a949d4df494015b27986d02b1",
      "value": "Downloading: 100%"
     }
    },
    "023b0fe052f74777a8347a57af272b08": {
     "model_module": "@jupyter-widgets/controls",
     "model_module_version": "1.5.0",
     "model_name": "HBoxModel",
     "state": {
      "_dom_classes": [],
      "_model_module": "@jupyter-widgets/controls",
      "_model_module_version": "1.5.0",
      "_model_name": "HBoxModel",
      "_view_count": null,
      "_view_module": "@jupyter-widgets/controls",
      "_view_module_version": "1.5.0",
      "_view_name": "HBoxView",
      "box_style": "",
      "children": [
       "IPY_MODEL_00f3c307a581455aba0c4c9117040e15",
       "IPY_MODEL_4d8e7ab180bc4072ab564c4fdbf01da7",
       "IPY_MODEL_cbf592c25b5042058a616df290b1b3b3"
      ],
      "layout": "IPY_MODEL_041f052269ff468bb1081f2aed75f94c"
     }
    },
    "041f052269ff468bb1081f2aed75f94c": {
     "model_module": "@jupyter-widgets/base",
     "model_module_version": "1.2.0",
     "model_name": "LayoutModel",
     "state": {
      "_model_module": "@jupyter-widgets/base",
      "_model_module_version": "1.2.0",
      "_model_name": "LayoutModel",
      "_view_count": null,
      "_view_module": "@jupyter-widgets/base",
      "_view_module_version": "1.2.0",
      "_view_name": "LayoutView",
      "align_content": null,
      "align_items": null,
      "align_self": null,
      "border": null,
      "bottom": null,
      "display": null,
      "flex": null,
      "flex_flow": null,
      "grid_area": null,
      "grid_auto_columns": null,
      "grid_auto_flow": null,
      "grid_auto_rows": null,
      "grid_column": null,
      "grid_gap": null,
      "grid_row": null,
      "grid_template_areas": null,
      "grid_template_columns": null,
      "grid_template_rows": null,
      "height": null,
      "justify_content": null,
      "justify_items": null,
      "left": null,
      "margin": null,
      "max_height": null,
      "max_width": null,
      "min_height": null,
      "min_width": null,
      "object_fit": null,
      "object_position": null,
      "order": null,
      "overflow": null,
      "overflow_x": null,
      "overflow_y": null,
      "padding": null,
      "right": null,
      "top": null,
      "visibility": null,
      "width": null
     }
    },
    "08b23ffd09dd441bad9b5a02587dc3df": {
     "model_module": "@jupyter-widgets/base",
     "model_module_version": "1.2.0",
     "model_name": "LayoutModel",
     "state": {
      "_model_module": "@jupyter-widgets/base",
      "_model_module_version": "1.2.0",
      "_model_name": "LayoutModel",
      "_view_count": null,
      "_view_module": "@jupyter-widgets/base",
      "_view_module_version": "1.2.0",
      "_view_name": "LayoutView",
      "align_content": null,
      "align_items": null,
      "align_self": null,
      "border": null,
      "bottom": null,
      "display": null,
      "flex": null,
      "flex_flow": null,
      "grid_area": null,
      "grid_auto_columns": null,
      "grid_auto_flow": null,
      "grid_auto_rows": null,
      "grid_column": null,
      "grid_gap": null,
      "grid_row": null,
      "grid_template_areas": null,
      "grid_template_columns": null,
      "grid_template_rows": null,
      "height": null,
      "justify_content": null,
      "justify_items": null,
      "left": null,
      "margin": null,
      "max_height": null,
      "max_width": null,
      "min_height": null,
      "min_width": null,
      "object_fit": null,
      "object_position": null,
      "order": null,
      "overflow": null,
      "overflow_x": null,
      "overflow_y": null,
      "padding": null,
      "right": null,
      "top": null,
      "visibility": null,
      "width": "20px"
     }
    },
    "08f7f03f820449dbb1a1ee3cfe238ad4": {
     "model_module": "@jupyter-widgets/controls",
     "model_module_version": "1.5.0",
     "model_name": "FloatProgressModel",
     "state": {
      "_dom_classes": [],
      "_model_module": "@jupyter-widgets/controls",
      "_model_module_version": "1.5.0",
      "_model_name": "FloatProgressModel",
      "_view_count": null,
      "_view_module": "@jupyter-widgets/controls",
      "_view_module_version": "1.5.0",
      "_view_name": "ProgressView",
      "bar_style": "info",
      "description": "",
      "description_tooltip": null,
      "layout": "IPY_MODEL_8c3d64d1ac3d45faa50e16eeb2d0df6f",
      "max": 1,
      "min": 0,
      "orientation": "horizontal",
      "style": "IPY_MODEL_e12aa24f5f234bef8f76bb682be74261",
      "value": 1
     }
    },
    "10831e5b5583417d88b2dd44911ea347": {
     "model_module": "@jupyter-widgets/controls",
     "model_module_version": "1.5.0",
     "model_name": "FloatProgressModel",
     "state": {
      "_dom_classes": [],
      "_model_module": "@jupyter-widgets/controls",
      "_model_module_version": "1.5.0",
      "_model_name": "FloatProgressModel",
      "_view_count": null,
      "_view_module": "@jupyter-widgets/controls",
      "_view_module_version": "1.5.0",
      "_view_name": "ProgressView",
      "bar_style": "danger",
      "description": "",
      "description_tooltip": null,
      "layout": "IPY_MODEL_55c105284f0b4417a00583282103963a",
      "max": 50000,
      "min": 0,
      "orientation": "horizontal",
      "style": "IPY_MODEL_d0033741bf054838805fb874db6f6924",
      "value": 49999
     }
    },
    "12ade485e76d4074bc50b3356fb38228": {
     "model_module": "@jupyter-widgets/controls",
     "model_module_version": "1.5.0",
     "model_name": "HTMLModel",
     "state": {
      "_dom_classes": [],
      "_model_module": "@jupyter-widgets/controls",
      "_model_module_version": "1.5.0",
      "_model_name": "HTMLModel",
      "_view_count": null,
      "_view_module": "@jupyter-widgets/controls",
      "_view_module_version": "1.5.0",
      "_view_name": "HTMLView",
      "description": "",
      "description_tooltip": null,
      "layout": "IPY_MODEL_e9a8a8b1ed74484b82d45b440629eb6b",
      "placeholder": "​",
      "style": "IPY_MODEL_717727f2741d4bffaee47703681b4ec8",
      "value": "100%"
     }
    },
    "14539019d51b47e6afe6a0b2664658e6": {
     "model_module": "@jupyter-widgets/base",
     "model_module_version": "1.2.0",
     "model_name": "LayoutModel",
     "state": {
      "_model_module": "@jupyter-widgets/base",
      "_model_module_version": "1.2.0",
      "_model_name": "LayoutModel",
      "_view_count": null,
      "_view_module": "@jupyter-widgets/base",
      "_view_module_version": "1.2.0",
      "_view_name": "LayoutView",
      "align_content": null,
      "align_items": null,
      "align_self": null,
      "border": null,
      "bottom": null,
      "display": null,
      "flex": null,
      "flex_flow": null,
      "grid_area": null,
      "grid_auto_columns": null,
      "grid_auto_flow": null,
      "grid_auto_rows": null,
      "grid_column": null,
      "grid_gap": null,
      "grid_row": null,
      "grid_template_areas": null,
      "grid_template_columns": null,
      "grid_template_rows": null,
      "height": null,
      "justify_content": null,
      "justify_items": null,
      "left": null,
      "margin": null,
      "max_height": null,
      "max_width": null,
      "min_height": null,
      "min_width": null,
      "object_fit": null,
      "object_position": null,
      "order": null,
      "overflow": null,
      "overflow_x": null,
      "overflow_y": null,
      "padding": null,
      "right": null,
      "top": null,
      "visibility": null,
      "width": null
     }
    },
    "1463fe0b68ba4d24bd25f2b4589ca03a": {
     "model_module": "@jupyter-widgets/base",
     "model_module_version": "1.2.0",
     "model_name": "LayoutModel",
     "state": {
      "_model_module": "@jupyter-widgets/base",
      "_model_module_version": "1.2.0",
      "_model_name": "LayoutModel",
      "_view_count": null,
      "_view_module": "@jupyter-widgets/base",
      "_view_module_version": "1.2.0",
      "_view_name": "LayoutView",
      "align_content": null,
      "align_items": null,
      "align_self": null,
      "border": null,
      "bottom": null,
      "display": null,
      "flex": null,
      "flex_flow": null,
      "grid_area": null,
      "grid_auto_columns": null,
      "grid_auto_flow": null,
      "grid_auto_rows": null,
      "grid_column": null,
      "grid_gap": null,
      "grid_row": null,
      "grid_template_areas": null,
      "grid_template_columns": null,
      "grid_template_rows": null,
      "height": null,
      "justify_content": null,
      "justify_items": null,
      "left": null,
      "margin": null,
      "max_height": null,
      "max_width": null,
      "min_height": null,
      "min_width": null,
      "object_fit": null,
      "object_position": null,
      "order": null,
      "overflow": null,
      "overflow_x": null,
      "overflow_y": null,
      "padding": null,
      "right": null,
      "top": null,
      "visibility": null,
      "width": "20px"
     }
    },
    "14f599ec096440f0bfb7002ec67140cd": {
     "model_module": "@jupyter-widgets/controls",
     "model_module_version": "1.5.0",
     "model_name": "FloatProgressModel",
     "state": {
      "_dom_classes": [],
      "_model_module": "@jupyter-widgets/controls",
      "_model_module_version": "1.5.0",
      "_model_name": "FloatProgressModel",
      "_view_count": null,
      "_view_module": "@jupyter-widgets/controls",
      "_view_module_version": "1.5.0",
      "_view_name": "ProgressView",
      "bar_style": "success",
      "description": "",
      "description_tooltip": null,
      "layout": "IPY_MODEL_80eaa9c5e44f44a3b389c91e0eaaa727",
      "max": 526681800,
      "min": 0,
      "orientation": "horizontal",
      "style": "IPY_MODEL_ef251b9306a1409683f48f18907054a3",
      "value": 526681800
     }
    },
    "1575ad27bac748f38f0319c369acd23b": {
     "model_module": "@jupyter-widgets/controls",
     "model_module_version": "1.5.0",
     "model_name": "DescriptionStyleModel",
     "state": {
      "_model_module": "@jupyter-widgets/controls",
      "_model_module_version": "1.5.0",
      "_model_name": "DescriptionStyleModel",
      "_view_count": null,
      "_view_module": "@jupyter-widgets/base",
      "_view_module_version": "1.2.0",
      "_view_name": "StyleView",
      "description_width": ""
     }
    },
    "19354abbfbd64454a1749a1c02c2c89d": {
     "model_module": "@jupyter-widgets/base",
     "model_module_version": "1.2.0",
     "model_name": "LayoutModel",
     "state": {
      "_model_module": "@jupyter-widgets/base",
      "_model_module_version": "1.2.0",
      "_model_name": "LayoutModel",
      "_view_count": null,
      "_view_module": "@jupyter-widgets/base",
      "_view_module_version": "1.2.0",
      "_view_name": "LayoutView",
      "align_content": null,
      "align_items": null,
      "align_self": null,
      "border": null,
      "bottom": null,
      "display": null,
      "flex": null,
      "flex_flow": null,
      "grid_area": null,
      "grid_auto_columns": null,
      "grid_auto_flow": null,
      "grid_auto_rows": null,
      "grid_column": null,
      "grid_gap": null,
      "grid_row": null,
      "grid_template_areas": null,
      "grid_template_columns": null,
      "grid_template_rows": null,
      "height": null,
      "justify_content": null,
      "justify_items": null,
      "left": null,
      "margin": null,
      "max_height": null,
      "max_width": null,
      "min_height": null,
      "min_width": null,
      "object_fit": null,
      "object_position": null,
      "order": null,
      "overflow": null,
      "overflow_x": null,
      "overflow_y": null,
      "padding": null,
      "right": null,
      "top": null,
      "visibility": null,
      "width": null
     }
    },
    "1d31aeba415f4515811de6cf720df903": {
     "model_module": "@jupyter-widgets/base",
     "model_module_version": "1.2.0",
     "model_name": "LayoutModel",
     "state": {
      "_model_module": "@jupyter-widgets/base",
      "_model_module_version": "1.2.0",
      "_model_name": "LayoutModel",
      "_view_count": null,
      "_view_module": "@jupyter-widgets/base",
      "_view_module_version": "1.2.0",
      "_view_name": "LayoutView",
      "align_content": null,
      "align_items": null,
      "align_self": null,
      "border": null,
      "bottom": null,
      "display": null,
      "flex": null,
      "flex_flow": null,
      "grid_area": null,
      "grid_auto_columns": null,
      "grid_auto_flow": null,
      "grid_auto_rows": null,
      "grid_column": null,
      "grid_gap": null,
      "grid_row": null,
      "grid_template_areas": null,
      "grid_template_columns": null,
      "grid_template_rows": null,
      "height": null,
      "justify_content": null,
      "justify_items": null,
      "left": null,
      "margin": null,
      "max_height": null,
      "max_width": null,
      "min_height": null,
      "min_width": null,
      "object_fit": null,
      "object_position": null,
      "order": null,
      "overflow": null,
      "overflow_x": null,
      "overflow_y": null,
      "padding": null,
      "right": null,
      "top": null,
      "visibility": null,
      "width": null
     }
    },
    "1d4a0b60242645629122289f7e3a009f": {
     "model_module": "@jupyter-widgets/controls",
     "model_module_version": "1.5.0",
     "model_name": "HBoxModel",
     "state": {
      "_dom_classes": [],
      "_model_module": "@jupyter-widgets/controls",
      "_model_module_version": "1.5.0",
      "_model_name": "HBoxModel",
      "_view_count": null,
      "_view_module": "@jupyter-widgets/controls",
      "_view_module_version": "1.5.0",
      "_view_name": "HBoxView",
      "box_style": "",
      "children": [
       "IPY_MODEL_d125f8fb4af44b4ea65bfc1bda7445c4",
       "IPY_MODEL_d6cfb51147054db6afa671918e7d8a74",
       "IPY_MODEL_1f3dc12679174855a922f8717c4c16d0"
      ],
      "layout": "IPY_MODEL_bea6b8eb9e2443dc8f3be7a28a24e9aa"
     }
    },
    "1f3dc12679174855a922f8717c4c16d0": {
     "model_module": "@jupyter-widgets/controls",
     "model_module_version": "1.5.0",
     "model_name": "HTMLModel",
     "state": {
      "_dom_classes": [],
      "_model_module": "@jupyter-widgets/controls",
      "_model_module_version": "1.5.0",
      "_model_name": "HTMLModel",
      "_view_count": null,
      "_view_module": "@jupyter-widgets/controls",
      "_view_module_version": "1.5.0",
      "_view_name": "HTMLView",
      "description": "",
      "description_tooltip": null,
      "layout": "IPY_MODEL_a9fd29d7371247859b233e62cd34d85e",
      "placeholder": "​",
      "style": "IPY_MODEL_cc06f9924a02405e89e1794a3e35d0c3",
      "value": " 24999/25000 [00:00&lt;00:00, 81361.35 examples/s]"
     }
    },
    "21dfa078e38646f3b3d9a3fddba6389c": {
     "model_module": "@jupyter-widgets/base",
     "model_module_version": "1.2.0",
     "model_name": "LayoutModel",
     "state": {
      "_model_module": "@jupyter-widgets/base",
      "_model_module_version": "1.2.0",
      "_model_name": "LayoutModel",
      "_view_count": null,
      "_view_module": "@jupyter-widgets/base",
      "_view_module_version": "1.2.0",
      "_view_name": "LayoutView",
      "align_content": null,
      "align_items": null,
      "align_self": null,
      "border": null,
      "bottom": null,
      "display": null,
      "flex": null,
      "flex_flow": null,
      "grid_area": null,
      "grid_auto_columns": null,
      "grid_auto_flow": null,
      "grid_auto_rows": null,
      "grid_column": null,
      "grid_gap": null,
      "grid_row": null,
      "grid_template_areas": null,
      "grid_template_columns": null,
      "grid_template_rows": null,
      "height": null,
      "justify_content": null,
      "justify_items": null,
      "left": null,
      "margin": null,
      "max_height": null,
      "max_width": null,
      "min_height": null,
      "min_width": null,
      "object_fit": null,
      "object_position": null,
      "order": null,
      "overflow": null,
      "overflow_x": null,
      "overflow_y": null,
      "padding": null,
      "right": null,
      "top": null,
      "visibility": null,
      "width": null
     }
    },
    "24389dc32f9c478f8a4cc5ea5195a5d2": {
     "model_module": "@jupyter-widgets/controls",
     "model_module_version": "1.5.0",
     "model_name": "DescriptionStyleModel",
     "state": {
      "_model_module": "@jupyter-widgets/controls",
      "_model_module_version": "1.5.0",
      "_model_name": "DescriptionStyleModel",
      "_view_count": null,
      "_view_module": "@jupyter-widgets/base",
      "_view_module_version": "1.2.0",
      "_view_name": "StyleView",
      "description_width": ""
     }
    },
    "27d48d60ed3f48eea91fc58633eebfc8": {
     "model_module": "@jupyter-widgets/base",
     "model_module_version": "1.2.0",
     "model_name": "LayoutModel",
     "state": {
      "_model_module": "@jupyter-widgets/base",
      "_model_module_version": "1.2.0",
      "_model_name": "LayoutModel",
      "_view_count": null,
      "_view_module": "@jupyter-widgets/base",
      "_view_module_version": "1.2.0",
      "_view_name": "LayoutView",
      "align_content": null,
      "align_items": null,
      "align_self": null,
      "border": null,
      "bottom": null,
      "display": null,
      "flex": null,
      "flex_flow": null,
      "grid_area": null,
      "grid_auto_columns": null,
      "grid_auto_flow": null,
      "grid_auto_rows": null,
      "grid_column": null,
      "grid_gap": null,
      "grid_row": null,
      "grid_template_areas": null,
      "grid_template_columns": null,
      "grid_template_rows": null,
      "height": null,
      "justify_content": null,
      "justify_items": null,
      "left": null,
      "margin": null,
      "max_height": null,
      "max_width": null,
      "min_height": null,
      "min_width": null,
      "object_fit": null,
      "object_position": null,
      "order": null,
      "overflow": null,
      "overflow_x": null,
      "overflow_y": null,
      "padding": null,
      "right": null,
      "top": null,
      "visibility": null,
      "width": null
     }
    },
    "287afa79ad7c41878cb50c3e488c86c0": {
     "model_module": "@jupyter-widgets/controls",
     "model_module_version": "1.5.0",
     "model_name": "DescriptionStyleModel",
     "state": {
      "_model_module": "@jupyter-widgets/controls",
      "_model_module_version": "1.5.0",
      "_model_name": "DescriptionStyleModel",
      "_view_count": null,
      "_view_module": "@jupyter-widgets/base",
      "_view_module_version": "1.2.0",
      "_view_name": "StyleView",
      "description_width": ""
     }
    },
    "2c619e0b1da742758110fb2fd972867a": {
     "model_module": "@jupyter-widgets/base",
     "model_module_version": "1.2.0",
     "model_name": "LayoutModel",
     "state": {
      "_model_module": "@jupyter-widgets/base",
      "_model_module_version": "1.2.0",
      "_model_name": "LayoutModel",
      "_view_count": null,
      "_view_module": "@jupyter-widgets/base",
      "_view_module_version": "1.2.0",
      "_view_name": "LayoutView",
      "align_content": null,
      "align_items": null,
      "align_self": null,
      "border": null,
      "bottom": null,
      "display": null,
      "flex": null,
      "flex_flow": null,
      "grid_area": null,
      "grid_auto_columns": null,
      "grid_auto_flow": null,
      "grid_auto_rows": null,
      "grid_column": null,
      "grid_gap": null,
      "grid_row": null,
      "grid_template_areas": null,
      "grid_template_columns": null,
      "grid_template_rows": null,
      "height": null,
      "justify_content": null,
      "justify_items": null,
      "left": null,
      "margin": null,
      "max_height": null,
      "max_width": null,
      "min_height": null,
      "min_width": null,
      "object_fit": null,
      "object_position": null,
      "order": null,
      "overflow": null,
      "overflow_x": null,
      "overflow_y": null,
      "padding": null,
      "right": null,
      "top": null,
      "visibility": null,
      "width": null
     }
    },
    "2fcdbb187924493987685b4d37d743ca": {
     "model_module": "@jupyter-widgets/controls",
     "model_module_version": "1.5.0",
     "model_name": "DescriptionStyleModel",
     "state": {
      "_model_module": "@jupyter-widgets/controls",
      "_model_module_version": "1.5.0",
      "_model_name": "DescriptionStyleModel",
      "_view_count": null,
      "_view_module": "@jupyter-widgets/base",
      "_view_module_version": "1.2.0",
      "_view_name": "StyleView",
      "description_width": ""
     }
    },
    "2fdd620be1454871b981e0ad8a993342": {
     "model_module": "@jupyter-widgets/controls",
     "model_module_version": "1.5.0",
     "model_name": "HTMLModel",
     "state": {
      "_dom_classes": [],
      "_model_module": "@jupyter-widgets/controls",
      "_model_module_version": "1.5.0",
      "_model_name": "HTMLModel",
      "_view_count": null,
      "_view_module": "@jupyter-widgets/controls",
      "_view_module_version": "1.5.0",
      "_view_name": "HTMLView",
      "description": "",
      "description_tooltip": null,
      "layout": "IPY_MODEL_fe0f2861e0b14fee8a1c183517775b0f",
      "placeholder": "​",
      "style": "IPY_MODEL_b8ba54b763f34e6da9b3ea905411327a",
      "value": ""
     }
    },
    "333ad892ef1041448dc55ee181e5ea72": {
     "model_module": "@jupyter-widgets/base",
     "model_module_version": "1.2.0",
     "model_name": "LayoutModel",
     "state": {
      "_model_module": "@jupyter-widgets/base",
      "_model_module_version": "1.2.0",
      "_model_name": "LayoutModel",
      "_view_count": null,
      "_view_module": "@jupyter-widgets/base",
      "_view_module_version": "1.2.0",
      "_view_name": "LayoutView",
      "align_content": null,
      "align_items": null,
      "align_self": null,
      "border": null,
      "bottom": null,
      "display": null,
      "flex": null,
      "flex_flow": null,
      "grid_area": null,
      "grid_auto_columns": null,
      "grid_auto_flow": null,
      "grid_auto_rows": null,
      "grid_column": null,
      "grid_gap": null,
      "grid_row": null,
      "grid_template_areas": null,
      "grid_template_columns": null,
      "grid_template_rows": null,
      "height": null,
      "justify_content": null,
      "justify_items": null,
      "left": null,
      "margin": null,
      "max_height": null,
      "max_width": null,
      "min_height": null,
      "min_width": null,
      "object_fit": null,
      "object_position": null,
      "order": null,
      "overflow": null,
      "overflow_x": null,
      "overflow_y": null,
      "padding": null,
      "right": null,
      "top": null,
      "visibility": null,
      "width": null
     }
    },
    "3387923786e54b94b6816562de3fd1a2": {
     "model_module": "@jupyter-widgets/controls",
     "model_module_version": "1.5.0",
     "model_name": "HBoxModel",
     "state": {
      "_dom_classes": [],
      "_model_module": "@jupyter-widgets/controls",
      "_model_module_version": "1.5.0",
      "_model_name": "HBoxModel",
      "_view_count": null,
      "_view_module": "@jupyter-widgets/controls",
      "_view_module_version": "1.5.0",
      "_view_name": "HBoxView",
      "box_style": "",
      "children": [
       "IPY_MODEL_df7fafafad0f4cd582f5a1a15f3beecd",
       "IPY_MODEL_69f837a21fd94ecfb0b4d000e9890d58",
       "IPY_MODEL_e39092d02f524013b3e7b75b8388a839"
      ],
      "layout": "IPY_MODEL_1d31aeba415f4515811de6cf720df903"
     }
    },
    "341762d89fad4dbaac13ba440c8c0ca6": {
     "model_module": "@jupyter-widgets/controls",
     "model_module_version": "1.5.0",
     "model_name": "FloatProgressModel",
     "state": {
      "_dom_classes": [],
      "_model_module": "@jupyter-widgets/controls",
      "_model_module_version": "1.5.0",
      "_model_name": "FloatProgressModel",
      "_view_count": null,
      "_view_module": "@jupyter-widgets/controls",
      "_view_module_version": "1.5.0",
      "_view_name": "ProgressView",
      "bar_style": "success",
      "description": "",
      "description_tooltip": null,
      "layout": "IPY_MODEL_1463fe0b68ba4d24bd25f2b4589ca03a",
      "max": 1,
      "min": 0,
      "orientation": "horizontal",
      "style": "IPY_MODEL_352bf8f3c6144380a130e0e7b23010f2",
      "value": 1
     }
    },
    "352bf8f3c6144380a130e0e7b23010f2": {
     "model_module": "@jupyter-widgets/controls",
     "model_module_version": "1.5.0",
     "model_name": "ProgressStyleModel",
     "state": {
      "_model_module": "@jupyter-widgets/controls",
      "_model_module_version": "1.5.0",
      "_model_name": "ProgressStyleModel",
      "_view_count": null,
      "_view_module": "@jupyter-widgets/base",
      "_view_module_version": "1.2.0",
      "_view_name": "StyleView",
      "bar_color": null,
      "description_width": ""
     }
    },
    "362583a9e2a14c2da77d084ca5734821": {
     "model_module": "@jupyter-widgets/base",
     "model_module_version": "1.2.0",
     "model_name": "LayoutModel",
     "state": {
      "_model_module": "@jupyter-widgets/base",
      "_model_module_version": "1.2.0",
      "_model_name": "LayoutModel",
      "_view_count": null,
      "_view_module": "@jupyter-widgets/base",
      "_view_module_version": "1.2.0",
      "_view_name": "LayoutView",
      "align_content": null,
      "align_items": null,
      "align_self": null,
      "border": null,
      "bottom": null,
      "display": null,
      "flex": null,
      "flex_flow": null,
      "grid_area": null,
      "grid_auto_columns": null,
      "grid_auto_flow": null,
      "grid_auto_rows": null,
      "grid_column": null,
      "grid_gap": null,
      "grid_row": null,
      "grid_template_areas": null,
      "grid_template_columns": null,
      "grid_template_rows": null,
      "height": null,
      "justify_content": null,
      "justify_items": null,
      "left": null,
      "margin": null,
      "max_height": null,
      "max_width": null,
      "min_height": null,
      "min_width": null,
      "object_fit": null,
      "object_position": null,
      "order": null,
      "overflow": null,
      "overflow_x": null,
      "overflow_y": null,
      "padding": null,
      "right": null,
      "top": null,
      "visibility": null,
      "width": null
     }
    },
    "3f899b158a6d43eea006abca1ed6f0a0": {
     "model_module": "@jupyter-widgets/controls",
     "model_module_version": "1.5.0",
     "model_name": "DescriptionStyleModel",
     "state": {
      "_model_module": "@jupyter-widgets/controls",
      "_model_module_version": "1.5.0",
      "_model_name": "DescriptionStyleModel",
      "_view_count": null,
      "_view_module": "@jupyter-widgets/base",
      "_view_module_version": "1.2.0",
      "_view_name": "StyleView",
      "description_width": ""
     }
    },
    "41897535c04047b496c1c053cd6a654d": {
     "model_module": "@jupyter-widgets/controls",
     "model_module_version": "1.5.0",
     "model_name": "DescriptionStyleModel",
     "state": {
      "_model_module": "@jupyter-widgets/controls",
      "_model_module_version": "1.5.0",
      "_model_name": "DescriptionStyleModel",
      "_view_count": null,
      "_view_module": "@jupyter-widgets/base",
      "_view_module_version": "1.2.0",
      "_view_name": "StyleView",
      "description_width": ""
     }
    },
    "4268069b0ca341d0b7b3805523b5ef85": {
     "model_module": "@jupyter-widgets/base",
     "model_module_version": "1.2.0",
     "model_name": "LayoutModel",
     "state": {
      "_model_module": "@jupyter-widgets/base",
      "_model_module_version": "1.2.0",
      "_model_name": "LayoutModel",
      "_view_count": null,
      "_view_module": "@jupyter-widgets/base",
      "_view_module_version": "1.2.0",
      "_view_name": "LayoutView",
      "align_content": null,
      "align_items": null,
      "align_self": null,
      "border": null,
      "bottom": null,
      "display": null,
      "flex": null,
      "flex_flow": null,
      "grid_area": null,
      "grid_auto_columns": null,
      "grid_auto_flow": null,
      "grid_auto_rows": null,
      "grid_column": null,
      "grid_gap": null,
      "grid_row": null,
      "grid_template_areas": null,
      "grid_template_columns": null,
      "grid_template_rows": null,
      "height": null,
      "justify_content": null,
      "justify_items": null,
      "left": null,
      "margin": null,
      "max_height": null,
      "max_width": null,
      "min_height": null,
      "min_width": null,
      "object_fit": null,
      "object_position": null,
      "order": null,
      "overflow": null,
      "overflow_x": null,
      "overflow_y": null,
      "padding": null,
      "right": null,
      "top": null,
      "visibility": null,
      "width": null
     }
    },
    "483a5a27a8e74873b269695777b1132b": {
     "model_module": "@jupyter-widgets/controls",
     "model_module_version": "1.5.0",
     "model_name": "DescriptionStyleModel",
     "state": {
      "_model_module": "@jupyter-widgets/controls",
      "_model_module_version": "1.5.0",
      "_model_name": "DescriptionStyleModel",
      "_view_count": null,
      "_view_module": "@jupyter-widgets/base",
      "_view_module_version": "1.2.0",
      "_view_name": "StyleView",
      "description_width": ""
     }
    },
    "48901f6ed39849b4a101937245008944": {
     "model_module": "@jupyter-widgets/controls",
     "model_module_version": "1.5.0",
     "model_name": "DescriptionStyleModel",
     "state": {
      "_model_module": "@jupyter-widgets/controls",
      "_model_module_version": "1.5.0",
      "_model_name": "DescriptionStyleModel",
      "_view_count": null,
      "_view_module": "@jupyter-widgets/base",
      "_view_module_version": "1.2.0",
      "_view_name": "StyleView",
      "description_width": ""
     }
    },
    "4d8e7ab180bc4072ab564c4fdbf01da7": {
     "model_module": "@jupyter-widgets/controls",
     "model_module_version": "1.5.0",
     "model_name": "FloatProgressModel",
     "state": {
      "_dom_classes": [],
      "_model_module": "@jupyter-widgets/controls",
      "_model_module_version": "1.5.0",
      "_model_name": "FloatProgressModel",
      "_view_count": null,
      "_view_module": "@jupyter-widgets/controls",
      "_view_module_version": "1.5.0",
      "_view_name": "ProgressView",
      "bar_style": "success",
      "description": "",
      "description_tooltip": null,
      "layout": "IPY_MODEL_e517e8551a0b470a814ac5f23b5f017c",
      "max": 213450,
      "min": 0,
      "orientation": "horizontal",
      "style": "IPY_MODEL_eac61bfa82474a35ad0b4bee34f6c5d4",
      "value": 213450
     }
    },
    "4d9a67996fba40ee8d589a40f6074f3d": {
     "model_module": "@jupyter-widgets/base",
     "model_module_version": "1.2.0",
     "model_name": "LayoutModel",
     "state": {
      "_model_module": "@jupyter-widgets/base",
      "_model_module_version": "1.2.0",
      "_model_name": "LayoutModel",
      "_view_count": null,
      "_view_module": "@jupyter-widgets/base",
      "_view_module_version": "1.2.0",
      "_view_name": "LayoutView",
      "align_content": null,
      "align_items": null,
      "align_self": null,
      "border": null,
      "bottom": null,
      "display": null,
      "flex": null,
      "flex_flow": null,
      "grid_area": null,
      "grid_auto_columns": null,
      "grid_auto_flow": null,
      "grid_auto_rows": null,
      "grid_column": null,
      "grid_gap": null,
      "grid_row": null,
      "grid_template_areas": null,
      "grid_template_columns": null,
      "grid_template_rows": null,
      "height": null,
      "justify_content": null,
      "justify_items": null,
      "left": null,
      "margin": null,
      "max_height": null,
      "max_width": null,
      "min_height": null,
      "min_width": null,
      "object_fit": null,
      "object_position": null,
      "order": null,
      "overflow": null,
      "overflow_x": null,
      "overflow_y": null,
      "padding": null,
      "right": null,
      "top": null,
      "visibility": null,
      "width": null
     }
    },
    "50e7ee154cdd46dfa78e082435b277ce": {
     "model_module": "@jupyter-widgets/controls",
     "model_module_version": "1.5.0",
     "model_name": "ProgressStyleModel",
     "state": {
      "_model_module": "@jupyter-widgets/controls",
      "_model_module_version": "1.5.0",
      "_model_name": "ProgressStyleModel",
      "_view_count": null,
      "_view_module": "@jupyter-widgets/base",
      "_view_module_version": "1.2.0",
      "_view_name": "StyleView",
      "bar_color": null,
      "description_width": ""
     }
    },
    "534b5738d7a047199822e5101cc16b5d": {
     "model_module": "@jupyter-widgets/controls",
     "model_module_version": "1.5.0",
     "model_name": "DescriptionStyleModel",
     "state": {
      "_model_module": "@jupyter-widgets/controls",
      "_model_module_version": "1.5.0",
      "_model_name": "DescriptionStyleModel",
      "_view_count": null,
      "_view_module": "@jupyter-widgets/base",
      "_view_module_version": "1.2.0",
      "_view_name": "StyleView",
      "description_width": ""
     }
    },
    "542eebd2af354d6fa94b15a06dbce0a3": {
     "model_module": "@jupyter-widgets/controls",
     "model_module_version": "1.5.0",
     "model_name": "FloatProgressModel",
     "state": {
      "_dom_classes": [],
      "_model_module": "@jupyter-widgets/controls",
      "_model_module_version": "1.5.0",
      "_model_name": "FloatProgressModel",
      "_view_count": null,
      "_view_module": "@jupyter-widgets/controls",
      "_view_module_version": "1.5.0",
      "_view_name": "ProgressView",
      "bar_style": "success",
      "description": "",
      "description_tooltip": null,
      "layout": "IPY_MODEL_4d9a67996fba40ee8d589a40f6074f3d",
      "max": 570,
      "min": 0,
      "orientation": "horizontal",
      "style": "IPY_MODEL_bd4b5c38f8eb46968495772709ad8f5b",
      "value": 570
     }
    },
    "54efc93113e54b95aff4b63023818d06": {
     "model_module": "@jupyter-widgets/controls",
     "model_module_version": "1.5.0",
     "model_name": "HTMLModel",
     "state": {
      "_dom_classes": [],
      "_model_module": "@jupyter-widgets/controls",
      "_model_module_version": "1.5.0",
      "_model_name": "HTMLModel",
      "_view_count": null,
      "_view_module": "@jupyter-widgets/controls",
      "_view_module_version": "1.5.0",
      "_view_name": "HTMLView",
      "description": "",
      "description_tooltip": null,
      "layout": "IPY_MODEL_d32b851602e84f7ca752fbac7328491d",
      "placeholder": "​",
      "style": "IPY_MODEL_24389dc32f9c478f8a4cc5ea5195a5d2",
      "value": "Dl Completed...: 100%"
     }
    },
    "55c105284f0b4417a00583282103963a": {
     "model_module": "@jupyter-widgets/base",
     "model_module_version": "1.2.0",
     "model_name": "LayoutModel",
     "state": {
      "_model_module": "@jupyter-widgets/base",
      "_model_module_version": "1.2.0",
      "_model_name": "LayoutModel",
      "_view_count": null,
      "_view_module": "@jupyter-widgets/base",
      "_view_module_version": "1.2.0",
      "_view_name": "LayoutView",
      "align_content": null,
      "align_items": null,
      "align_self": null,
      "border": null,
      "bottom": null,
      "display": null,
      "flex": null,
      "flex_flow": null,
      "grid_area": null,
      "grid_auto_columns": null,
      "grid_auto_flow": null,
      "grid_auto_rows": null,
      "grid_column": null,
      "grid_gap": null,
      "grid_row": null,
      "grid_template_areas": null,
      "grid_template_columns": null,
      "grid_template_rows": null,
      "height": null,
      "justify_content": null,
      "justify_items": null,
      "left": null,
      "margin": null,
      "max_height": null,
      "max_width": null,
      "min_height": null,
      "min_width": null,
      "object_fit": null,
      "object_position": null,
      "order": null,
      "overflow": null,
      "overflow_x": null,
      "overflow_y": null,
      "padding": null,
      "right": null,
      "top": null,
      "visibility": null,
      "width": null
     }
    },
    "5620746e4e9d42308ac3ad97b81671ac": {
     "model_module": "@jupyter-widgets/controls",
     "model_module_version": "1.5.0",
     "model_name": "DescriptionStyleModel",
     "state": {
      "_model_module": "@jupyter-widgets/controls",
      "_model_module_version": "1.5.0",
      "_model_name": "DescriptionStyleModel",
      "_view_count": null,
      "_view_module": "@jupyter-widgets/base",
      "_view_module_version": "1.2.0",
      "_view_name": "StyleView",
      "description_width": ""
     }
    },
    "58fa04baffbd4a8185fa6fe0232b1b9f": {
     "model_module": "@jupyter-widgets/controls",
     "model_module_version": "1.5.0",
     "model_name": "HTMLModel",
     "state": {
      "_dom_classes": [],
      "_model_module": "@jupyter-widgets/controls",
      "_model_module_version": "1.5.0",
      "_model_name": "HTMLModel",
      "_view_count": null,
      "_view_module": "@jupyter-widgets/controls",
      "_view_module_version": "1.5.0",
      "_view_name": "HTMLView",
      "description": "",
      "description_tooltip": null,
      "layout": "IPY_MODEL_b19e2cba477a4ccdb1aaa037c38b2822",
      "placeholder": "​",
      "style": "IPY_MODEL_3f899b158a6d43eea006abca1ed6f0a0",
      "value": ""
     }
    },
    "5c6e5ac4a4db4ceb998e57cfc4b12501": {
     "model_module": "@jupyter-widgets/controls",
     "model_module_version": "1.5.0",
     "model_name": "HBoxModel",
     "state": {
      "_dom_classes": [],
      "_model_module": "@jupyter-widgets/controls",
      "_model_module_version": "1.5.0",
      "_model_name": "HBoxModel",
      "_view_count": null,
      "_view_module": "@jupyter-widgets/controls",
      "_view_module_version": "1.5.0",
      "_view_name": "HBoxView",
      "box_style": "",
      "children": [
       "IPY_MODEL_12ade485e76d4074bc50b3356fb38228",
       "IPY_MODEL_b0258b2c523142aa8a4e182c8f91fd91",
       "IPY_MODEL_bce8106e71ce4603a42977da061d20c7"
      ],
      "layout": "IPY_MODEL_21dfa078e38646f3b3d9a3fddba6389c"
     }
    },
    "5d31248676ca494b9565a314d5f99a17": {
     "model_module": "@jupyter-widgets/controls",
     "model_module_version": "1.5.0",
     "model_name": "FloatProgressModel",
     "state": {
      "_dom_classes": [],
      "_model_module": "@jupyter-widgets/controls",
      "_model_module_version": "1.5.0",
      "_model_name": "FloatProgressModel",
      "_view_count": null,
      "_view_module": "@jupyter-widgets/controls",
      "_view_module_version": "1.5.0",
      "_view_name": "ProgressView",
      "bar_style": "success",
      "description": "",
      "description_tooltip": null,
      "layout": "IPY_MODEL_27d48d60ed3f48eea91fc58633eebfc8",
      "max": 29,
      "min": 0,
      "orientation": "horizontal",
      "style": "IPY_MODEL_50e7ee154cdd46dfa78e082435b277ce",
      "value": 29
     }
    },
    "5d4dc88a949d4df494015b27986d02b1": {
     "model_module": "@jupyter-widgets/controls",
     "model_module_version": "1.5.0",
     "model_name": "DescriptionStyleModel",
     "state": {
      "_model_module": "@jupyter-widgets/controls",
      "_model_module_version": "1.5.0",
      "_model_name": "DescriptionStyleModel",
      "_view_count": null,
      "_view_module": "@jupyter-widgets/base",
      "_view_module_version": "1.2.0",
      "_view_name": "StyleView",
      "description_width": ""
     }
    },
    "5fe38ffb4354486eb20323aef4bb9634": {
     "model_module": "@jupyter-widgets/controls",
     "model_module_version": "1.5.0",
     "model_name": "ProgressStyleModel",
     "state": {
      "_model_module": "@jupyter-widgets/controls",
      "_model_module_version": "1.5.0",
      "_model_name": "ProgressStyleModel",
      "_view_count": null,
      "_view_module": "@jupyter-widgets/base",
      "_view_module_version": "1.2.0",
      "_view_name": "StyleView",
      "bar_color": null,
      "description_width": ""
     }
    },
    "62e6f69b65294db8b7f26c300b598e0f": {
     "model_module": "@jupyter-widgets/base",
     "model_module_version": "1.2.0",
     "model_name": "LayoutModel",
     "state": {
      "_model_module": "@jupyter-widgets/base",
      "_model_module_version": "1.2.0",
      "_model_name": "LayoutModel",
      "_view_count": null,
      "_view_module": "@jupyter-widgets/base",
      "_view_module_version": "1.2.0",
      "_view_name": "LayoutView",
      "align_content": null,
      "align_items": null,
      "align_self": null,
      "border": null,
      "bottom": null,
      "display": null,
      "flex": null,
      "flex_flow": null,
      "grid_area": null,
      "grid_auto_columns": null,
      "grid_auto_flow": null,
      "grid_auto_rows": null,
      "grid_column": null,
      "grid_gap": null,
      "grid_row": null,
      "grid_template_areas": null,
      "grid_template_columns": null,
      "grid_template_rows": null,
      "height": null,
      "justify_content": null,
      "justify_items": null,
      "left": null,
      "margin": null,
      "max_height": null,
      "max_width": null,
      "min_height": null,
      "min_width": null,
      "object_fit": null,
      "object_position": null,
      "order": null,
      "overflow": null,
      "overflow_x": null,
      "overflow_y": null,
      "padding": null,
      "right": null,
      "top": null,
      "visibility": null,
      "width": null
     }
    },
    "640f688604254655894d4499e656d9d0": {
     "model_module": "@jupyter-widgets/base",
     "model_module_version": "1.2.0",
     "model_name": "LayoutModel",
     "state": {
      "_model_module": "@jupyter-widgets/base",
      "_model_module_version": "1.2.0",
      "_model_name": "LayoutModel",
      "_view_count": null,
      "_view_module": "@jupyter-widgets/base",
      "_view_module_version": "1.2.0",
      "_view_name": "LayoutView",
      "align_content": null,
      "align_items": null,
      "align_self": null,
      "border": null,
      "bottom": null,
      "display": null,
      "flex": null,
      "flex_flow": null,
      "grid_area": null,
      "grid_auto_columns": null,
      "grid_auto_flow": null,
      "grid_auto_rows": null,
      "grid_column": null,
      "grid_gap": null,
      "grid_row": null,
      "grid_template_areas": null,
      "grid_template_columns": null,
      "grid_template_rows": null,
      "height": null,
      "justify_content": null,
      "justify_items": null,
      "left": null,
      "margin": null,
      "max_height": null,
      "max_width": null,
      "min_height": null,
      "min_width": null,
      "object_fit": null,
      "object_position": null,
      "order": null,
      "overflow": null,
      "overflow_x": null,
      "overflow_y": null,
      "padding": null,
      "right": null,
      "top": null,
      "visibility": null,
      "width": null
     }
    },
    "670f13e3508d4db49efbd68cdaf0e5e0": {
     "model_module": "@jupyter-widgets/base",
     "model_module_version": "1.2.0",
     "model_name": "LayoutModel",
     "state": {
      "_model_module": "@jupyter-widgets/base",
      "_model_module_version": "1.2.0",
      "_model_name": "LayoutModel",
      "_view_count": null,
      "_view_module": "@jupyter-widgets/base",
      "_view_module_version": "1.2.0",
      "_view_name": "LayoutView",
      "align_content": null,
      "align_items": null,
      "align_self": null,
      "border": null,
      "bottom": null,
      "display": null,
      "flex": null,
      "flex_flow": null,
      "grid_area": null,
      "grid_auto_columns": null,
      "grid_auto_flow": null,
      "grid_auto_rows": null,
      "grid_column": null,
      "grid_gap": null,
      "grid_row": null,
      "grid_template_areas": null,
      "grid_template_columns": null,
      "grid_template_rows": null,
      "height": null,
      "justify_content": null,
      "justify_items": null,
      "left": null,
      "margin": null,
      "max_height": null,
      "max_width": null,
      "min_height": null,
      "min_width": null,
      "object_fit": null,
      "object_position": null,
      "order": null,
      "overflow": null,
      "overflow_x": null,
      "overflow_y": null,
      "padding": null,
      "right": null,
      "top": null,
      "visibility": null,
      "width": null
     }
    },
    "687b42eb30024d0892ee22b03fa90957": {
     "model_module": "@jupyter-widgets/controls",
     "model_module_version": "1.5.0",
     "model_name": "DescriptionStyleModel",
     "state": {
      "_model_module": "@jupyter-widgets/controls",
      "_model_module_version": "1.5.0",
      "_model_name": "DescriptionStyleModel",
      "_view_count": null,
      "_view_module": "@jupyter-widgets/base",
      "_view_module_version": "1.2.0",
      "_view_name": "StyleView",
      "description_width": ""
     }
    },
    "691a45bfcd67452ab232d18fef37eb58": {
     "model_module": "@jupyter-widgets/controls",
     "model_module_version": "1.5.0",
     "model_name": "ProgressStyleModel",
     "state": {
      "_model_module": "@jupyter-widgets/controls",
      "_model_module_version": "1.5.0",
      "_model_name": "ProgressStyleModel",
      "_view_count": null,
      "_view_module": "@jupyter-widgets/base",
      "_view_module_version": "1.2.0",
      "_view_name": "StyleView",
      "bar_color": null,
      "description_width": ""
     }
    },
    "69f837a21fd94ecfb0b4d000e9890d58": {
     "model_module": "@jupyter-widgets/controls",
     "model_module_version": "1.5.0",
     "model_name": "FloatProgressModel",
     "state": {
      "_dom_classes": [],
      "_model_module": "@jupyter-widgets/controls",
      "_model_module_version": "1.5.0",
      "_model_name": "FloatProgressModel",
      "_view_count": null,
      "_view_module": "@jupyter-widgets/controls",
      "_view_module_version": "1.5.0",
      "_view_name": "ProgressView",
      "bar_style": "info",
      "description": "",
      "description_tooltip": null,
      "layout": "IPY_MODEL_08b23ffd09dd441bad9b5a02587dc3df",
      "max": 1,
      "min": 0,
      "orientation": "horizontal",
      "style": "IPY_MODEL_acc1e7ea596446e99bf828b38f4d1d86",
      "value": 1
     }
    },
    "6b5f5c7900174bc494af84b70b8b3902": {
     "model_module": "@jupyter-widgets/controls",
     "model_module_version": "1.5.0",
     "model_name": "DescriptionStyleModel",
     "state": {
      "_model_module": "@jupyter-widgets/controls",
      "_model_module_version": "1.5.0",
      "_model_name": "DescriptionStyleModel",
      "_view_count": null,
      "_view_module": "@jupyter-widgets/base",
      "_view_module_version": "1.2.0",
      "_view_name": "StyleView",
      "description_width": ""
     }
    },
    "6bf8e3f7cb4d4c8ba1995ef2fa3247cf": {
     "model_module": "@jupyter-widgets/controls",
     "model_module_version": "1.5.0",
     "model_name": "HTMLModel",
     "state": {
      "_dom_classes": [],
      "_model_module": "@jupyter-widgets/controls",
      "_model_module_version": "1.5.0",
      "_model_name": "HTMLModel",
      "_view_count": null,
      "_view_module": "@jupyter-widgets/controls",
      "_view_module_version": "1.5.0",
      "_view_name": "HTMLView",
      "description": "",
      "description_tooltip": null,
      "layout": "IPY_MODEL_d0b73906870f4c08b5d1cc4e52ba5ea9",
      "placeholder": "​",
      "style": "IPY_MODEL_48901f6ed39849b4a101937245008944",
      "value": " 49999/50000 [00:00&lt;00:00, 176272.17 examples/s]"
     }
    },
    "6c61ab89161a4dcf9b9ce762e8ba3280": {
     "model_module": "@jupyter-widgets/controls",
     "model_module_version": "1.5.0",
     "model_name": "HTMLModel",
     "state": {
      "_dom_classes": [],
      "_model_module": "@jupyter-widgets/controls",
      "_model_module_version": "1.5.0",
      "_model_name": "HTMLModel",
      "_view_count": null,
      "_view_module": "@jupyter-widgets/controls",
      "_view_module_version": "1.5.0",
      "_view_name": "HTMLView",
      "description": "",
      "description_tooltip": null,
      "layout": "IPY_MODEL_eb8348d389424513bdd4d76441594de9",
      "placeholder": "​",
      "style": "IPY_MODEL_9eeddc965f9142548f15c5589b35eda4",
      "value": " 1/1 [00:49&lt;00:00, 49.56s/ url]"
     }
    },
    "6d6d1680fe74440bb7c7e34367948200": {
     "model_module": "@jupyter-widgets/controls",
     "model_module_version": "1.5.0",
     "model_name": "FloatProgressModel",
     "state": {
      "_dom_classes": [],
      "_model_module": "@jupyter-widgets/controls",
      "_model_module_version": "1.5.0",
      "_model_name": "FloatProgressModel",
      "_view_count": null,
      "_view_module": "@jupyter-widgets/controls",
      "_view_module_version": "1.5.0",
      "_view_name": "ProgressView",
      "bar_style": "info",
      "description": "",
      "description_tooltip": null,
      "layout": "IPY_MODEL_7720c49e940a4e4aa5990f450c6dbd6e",
      "max": 1,
      "min": 0,
      "orientation": "horizontal",
      "style": "IPY_MODEL_5fe38ffb4354486eb20323aef4bb9634",
      "value": 1
     }
    },
    "6df4c4f7b25c43dd9a97badf7fa0e509": {
     "model_module": "@jupyter-widgets/controls",
     "model_module_version": "1.5.0",
     "model_name": "HBoxModel",
     "state": {
      "_dom_classes": [],
      "_model_module": "@jupyter-widgets/controls",
      "_model_module_version": "1.5.0",
      "_model_name": "HBoxModel",
      "_view_count": null,
      "_view_module": "@jupyter-widgets/controls",
      "_view_module_version": "1.5.0",
      "_view_name": "HBoxView",
      "box_style": "",
      "children": [
       "IPY_MODEL_f680761254a74055a7380feff3dbd2b6",
       "IPY_MODEL_5d31248676ca494b9565a314d5f99a17",
       "IPY_MODEL_8415170de41c4717a2450fb47d927b77"
      ],
      "layout": "IPY_MODEL_2c619e0b1da742758110fb2fd972867a"
     }
    },
    "6ff83731eedd49808455dc22782ee1ae": {
     "model_module": "@jupyter-widgets/base",
     "model_module_version": "1.2.0",
     "model_name": "LayoutModel",
     "state": {
      "_model_module": "@jupyter-widgets/base",
      "_model_module_version": "1.2.0",
      "_model_name": "LayoutModel",
      "_view_count": null,
      "_view_module": "@jupyter-widgets/base",
      "_view_module_version": "1.2.0",
      "_view_name": "LayoutView",
      "align_content": null,
      "align_items": null,
      "align_self": null,
      "border": null,
      "bottom": null,
      "display": null,
      "flex": null,
      "flex_flow": null,
      "grid_area": null,
      "grid_auto_columns": null,
      "grid_auto_flow": null,
      "grid_auto_rows": null,
      "grid_column": null,
      "grid_gap": null,
      "grid_row": null,
      "grid_template_areas": null,
      "grid_template_columns": null,
      "grid_template_rows": null,
      "height": null,
      "justify_content": null,
      "justify_items": null,
      "left": null,
      "margin": null,
      "max_height": null,
      "max_width": null,
      "min_height": null,
      "min_width": null,
      "object_fit": null,
      "object_position": null,
      "order": null,
      "overflow": null,
      "overflow_x": null,
      "overflow_y": null,
      "padding": null,
      "right": null,
      "top": null,
      "visibility": null,
      "width": null
     }
    },
    "717727f2741d4bffaee47703681b4ec8": {
     "model_module": "@jupyter-widgets/controls",
     "model_module_version": "1.5.0",
     "model_name": "DescriptionStyleModel",
     "state": {
      "_model_module": "@jupyter-widgets/controls",
      "_model_module_version": "1.5.0",
      "_model_name": "DescriptionStyleModel",
      "_view_count": null,
      "_view_module": "@jupyter-widgets/base",
      "_view_module_version": "1.2.0",
      "_view_name": "StyleView",
      "description_width": ""
     }
    },
    "75170167a33e42208091437a2973ad32": {
     "model_module": "@jupyter-widgets/controls",
     "model_module_version": "1.5.0",
     "model_name": "HTMLModel",
     "state": {
      "_dom_classes": [],
      "_model_module": "@jupyter-widgets/controls",
      "_model_module_version": "1.5.0",
      "_model_name": "HTMLModel",
      "_view_count": null,
      "_view_module": "@jupyter-widgets/controls",
      "_view_module_version": "1.5.0",
      "_view_name": "HTMLView",
      "description": "",
      "description_tooltip": null,
      "layout": "IPY_MODEL_e11f475ae86c4e27976a4ae27286bf78",
      "placeholder": "​",
      "style": "IPY_MODEL_5620746e4e9d42308ac3ad97b81671ac",
      "value": " 502M/502M [00:15&lt;00:00, 42.4MB/s]"
     }
    },
    "7532d311952e40038a2ab9098b901bb9": {
     "model_module": "@jupyter-widgets/controls",
     "model_module_version": "1.5.0",
     "model_name": "HBoxModel",
     "state": {
      "_dom_classes": [],
      "_model_module": "@jupyter-widgets/controls",
      "_model_module_version": "1.5.0",
      "_model_name": "HBoxModel",
      "_view_count": null,
      "_view_module": "@jupyter-widgets/controls",
      "_view_module_version": "1.5.0",
      "_view_name": "HBoxView",
      "box_style": "",
      "children": [
       "IPY_MODEL_a3698fce271e407e8a58bb9339a15e12",
       "IPY_MODEL_542eebd2af354d6fa94b15a06dbce0a3",
       "IPY_MODEL_a09ba551d230461a90cff5e1599d0885"
      ],
      "layout": "IPY_MODEL_f4fe545d11cd40d38dc96bc0d723e5a7"
     }
    },
    "7720c49e940a4e4aa5990f450c6dbd6e": {
     "model_module": "@jupyter-widgets/base",
     "model_module_version": "1.2.0",
     "model_name": "LayoutModel",
     "state": {
      "_model_module": "@jupyter-widgets/base",
      "_model_module_version": "1.2.0",
      "_model_name": "LayoutModel",
      "_view_count": null,
      "_view_module": "@jupyter-widgets/base",
      "_view_module_version": "1.2.0",
      "_view_name": "LayoutView",
      "align_content": null,
      "align_items": null,
      "align_self": null,
      "border": null,
      "bottom": null,
      "display": null,
      "flex": null,
      "flex_flow": null,
      "grid_area": null,
      "grid_auto_columns": null,
      "grid_auto_flow": null,
      "grid_auto_rows": null,
      "grid_column": null,
      "grid_gap": null,
      "grid_row": null,
      "grid_template_areas": null,
      "grid_template_columns": null,
      "grid_template_rows": null,
      "height": null,
      "justify_content": null,
      "justify_items": null,
      "left": null,
      "margin": null,
      "max_height": null,
      "max_width": null,
      "min_height": null,
      "min_width": null,
      "object_fit": null,
      "object_position": null,
      "order": null,
      "overflow": null,
      "overflow_x": null,
      "overflow_y": null,
      "padding": null,
      "right": null,
      "top": null,
      "visibility": null,
      "width": "20px"
     }
    },
    "7885cb5277364ae6ab377cfbb210cc99": {
     "model_module": "@jupyter-widgets/controls",
     "model_module_version": "1.5.0",
     "model_name": "FloatProgressModel",
     "state": {
      "_dom_classes": [],
      "_model_module": "@jupyter-widgets/controls",
      "_model_module_version": "1.5.0",
      "_model_name": "FloatProgressModel",
      "_view_count": null,
      "_view_module": "@jupyter-widgets/controls",
      "_view_module_version": "1.5.0",
      "_view_name": "ProgressView",
      "bar_style": "success",
      "description": "",
      "description_tooltip": null,
      "layout": "IPY_MODEL_ac595e86171841ffa488238c3eaef29c",
      "max": 1,
      "min": 0,
      "orientation": "horizontal",
      "style": "IPY_MODEL_a7454ca9a8dc4f2ab54bce023d1be88f",
      "value": 1
     }
    },
    "80eaa9c5e44f44a3b389c91e0eaaa727": {
     "model_module": "@jupyter-widgets/base",
     "model_module_version": "1.2.0",
     "model_name": "LayoutModel",
     "state": {
      "_model_module": "@jupyter-widgets/base",
      "_model_module_version": "1.2.0",
      "_model_name": "LayoutModel",
      "_view_count": null,
      "_view_module": "@jupyter-widgets/base",
      "_view_module_version": "1.2.0",
      "_view_name": "LayoutView",
      "align_content": null,
      "align_items": null,
      "align_self": null,
      "border": null,
      "bottom": null,
      "display": null,
      "flex": null,
      "flex_flow": null,
      "grid_area": null,
      "grid_auto_columns": null,
      "grid_auto_flow": null,
      "grid_auto_rows": null,
      "grid_column": null,
      "grid_gap": null,
      "grid_row": null,
      "grid_template_areas": null,
      "grid_template_columns": null,
      "grid_template_rows": null,
      "height": null,
      "justify_content": null,
      "justify_items": null,
      "left": null,
      "margin": null,
      "max_height": null,
      "max_width": null,
      "min_height": null,
      "min_width": null,
      "object_fit": null,
      "object_position": null,
      "order": null,
      "overflow": null,
      "overflow_x": null,
      "overflow_y": null,
      "padding": null,
      "right": null,
      "top": null,
      "visibility": null,
      "width": null
     }
    },
    "82f54ba3a3b547e2a07394d7d81feee3": {
     "model_module": "@jupyter-widgets/base",
     "model_module_version": "1.2.0",
     "model_name": "LayoutModel",
     "state": {
      "_model_module": "@jupyter-widgets/base",
      "_model_module_version": "1.2.0",
      "_model_name": "LayoutModel",
      "_view_count": null,
      "_view_module": "@jupyter-widgets/base",
      "_view_module_version": "1.2.0",
      "_view_name": "LayoutView",
      "align_content": null,
      "align_items": null,
      "align_self": null,
      "border": null,
      "bottom": null,
      "display": null,
      "flex": null,
      "flex_flow": null,
      "grid_area": null,
      "grid_auto_columns": null,
      "grid_auto_flow": null,
      "grid_auto_rows": null,
      "grid_column": null,
      "grid_gap": null,
      "grid_row": null,
      "grid_template_areas": null,
      "grid_template_columns": null,
      "grid_template_rows": null,
      "height": null,
      "justify_content": null,
      "justify_items": null,
      "left": null,
      "margin": null,
      "max_height": null,
      "max_width": null,
      "min_height": null,
      "min_width": null,
      "object_fit": null,
      "object_position": null,
      "order": null,
      "overflow": null,
      "overflow_x": null,
      "overflow_y": null,
      "padding": null,
      "right": null,
      "top": null,
      "visibility": null,
      "width": null
     }
    },
    "8415170de41c4717a2450fb47d927b77": {
     "model_module": "@jupyter-widgets/controls",
     "model_module_version": "1.5.0",
     "model_name": "HTMLModel",
     "state": {
      "_dom_classes": [],
      "_model_module": "@jupyter-widgets/controls",
      "_model_module_version": "1.5.0",
      "_model_name": "HTMLModel",
      "_view_count": null,
      "_view_module": "@jupyter-widgets/controls",
      "_view_module_version": "1.5.0",
      "_view_name": "HTMLView",
      "description": "",
      "description_tooltip": null,
      "layout": "IPY_MODEL_14539019d51b47e6afe6a0b2664658e6",
      "placeholder": "​",
      "style": "IPY_MODEL_6b5f5c7900174bc494af84b70b8b3902",
      "value": " 29.0/29.0 [00:00&lt;00:00, 563B/s]"
     }
    },
    "8c3d64d1ac3d45faa50e16eeb2d0df6f": {
     "model_module": "@jupyter-widgets/base",
     "model_module_version": "1.2.0",
     "model_name": "LayoutModel",
     "state": {
      "_model_module": "@jupyter-widgets/base",
      "_model_module_version": "1.2.0",
      "_model_name": "LayoutModel",
      "_view_count": null,
      "_view_module": "@jupyter-widgets/base",
      "_view_module_version": "1.2.0",
      "_view_name": "LayoutView",
      "align_content": null,
      "align_items": null,
      "align_self": null,
      "border": null,
      "bottom": null,
      "display": null,
      "flex": null,
      "flex_flow": null,
      "grid_area": null,
      "grid_auto_columns": null,
      "grid_auto_flow": null,
      "grid_auto_rows": null,
      "grid_column": null,
      "grid_gap": null,
      "grid_row": null,
      "grid_template_areas": null,
      "grid_template_columns": null,
      "grid_template_rows": null,
      "height": null,
      "justify_content": null,
      "justify_items": null,
      "left": null,
      "margin": null,
      "max_height": null,
      "max_width": null,
      "min_height": null,
      "min_width": null,
      "object_fit": null,
      "object_position": null,
      "order": null,
      "overflow": null,
      "overflow_x": null,
      "overflow_y": null,
      "padding": null,
      "right": null,
      "top": null,
      "visibility": null,
      "width": "20px"
     }
    },
    "8d9c4a9bfe2a4ded9c2b688451413b59": {
     "model_module": "@jupyter-widgets/base",
     "model_module_version": "1.2.0",
     "model_name": "LayoutModel",
     "state": {
      "_model_module": "@jupyter-widgets/base",
      "_model_module_version": "1.2.0",
      "_model_name": "LayoutModel",
      "_view_count": null,
      "_view_module": "@jupyter-widgets/base",
      "_view_module_version": "1.2.0",
      "_view_name": "LayoutView",
      "align_content": null,
      "align_items": null,
      "align_self": null,
      "border": null,
      "bottom": null,
      "display": null,
      "flex": null,
      "flex_flow": null,
      "grid_area": null,
      "grid_auto_columns": null,
      "grid_auto_flow": null,
      "grid_auto_rows": null,
      "grid_column": null,
      "grid_gap": null,
      "grid_row": null,
      "grid_template_areas": null,
      "grid_template_columns": null,
      "grid_template_rows": null,
      "height": null,
      "justify_content": null,
      "justify_items": null,
      "left": null,
      "margin": null,
      "max_height": null,
      "max_width": null,
      "min_height": null,
      "min_width": null,
      "object_fit": null,
      "object_position": null,
      "order": null,
      "overflow": null,
      "overflow_x": null,
      "overflow_y": null,
      "padding": null,
      "right": null,
      "top": null,
      "visibility": null,
      "width": null
     }
    },
    "916713157d3d410aa5e7068ac999382a": {
     "model_module": "@jupyter-widgets/controls",
     "model_module_version": "1.5.0",
     "model_name": "HTMLModel",
     "state": {
      "_dom_classes": [],
      "_model_module": "@jupyter-widgets/controls",
      "_model_module_version": "1.5.0",
      "_model_name": "HTMLModel",
      "_view_count": null,
      "_view_module": "@jupyter-widgets/controls",
      "_view_module_version": "1.5.0",
      "_view_name": "HTMLView",
      "description": "",
      "description_tooltip": null,
      "layout": "IPY_MODEL_d8b357a50ee74767874426aea4659473",
      "placeholder": "​",
      "style": "IPY_MODEL_2fcdbb187924493987685b4d37d743ca",
      "value": " 24857/0 [00:08&lt;00:00, 3308.73 examples/s]"
     }
    },
    "97217efffc524f0dbf5bcb70dde1a02a": {
     "model_module": "@jupyter-widgets/controls",
     "model_module_version": "1.5.0",
     "model_name": "HBoxModel",
     "state": {
      "_dom_classes": [],
      "_model_module": "@jupyter-widgets/controls",
      "_model_module_version": "1.5.0",
      "_model_name": "HBoxModel",
      "_view_count": null,
      "_view_module": "@jupyter-widgets/controls",
      "_view_module_version": "1.5.0",
      "_view_name": "HBoxView",
      "box_style": "",
      "children": [
       "IPY_MODEL_2fdd620be1454871b981e0ad8a993342",
       "IPY_MODEL_08f7f03f820449dbb1a1ee3cfe238ad4",
       "IPY_MODEL_916713157d3d410aa5e7068ac999382a"
      ],
      "layout": "IPY_MODEL_4268069b0ca341d0b7b3805523b5ef85"
     }
    },
    "97f8964c19254b4ca05ba757d81d8d1c": {
     "model_module": "@jupyter-widgets/base",
     "model_module_version": "1.2.0",
     "model_name": "LayoutModel",
     "state": {
      "_model_module": "@jupyter-widgets/base",
      "_model_module_version": "1.2.0",
      "_model_name": "LayoutModel",
      "_view_count": null,
      "_view_module": "@jupyter-widgets/base",
      "_view_module_version": "1.2.0",
      "_view_name": "LayoutView",
      "align_content": null,
      "align_items": null,
      "align_self": null,
      "border": null,
      "bottom": null,
      "display": null,
      "flex": null,
      "flex_flow": null,
      "grid_area": null,
      "grid_auto_columns": null,
      "grid_auto_flow": null,
      "grid_auto_rows": null,
      "grid_column": null,
      "grid_gap": null,
      "grid_row": null,
      "grid_template_areas": null,
      "grid_template_columns": null,
      "grid_template_rows": null,
      "height": null,
      "justify_content": null,
      "justify_items": null,
      "left": null,
      "margin": null,
      "max_height": null,
      "max_width": null,
      "min_height": null,
      "min_width": null,
      "object_fit": null,
      "object_position": null,
      "order": null,
      "overflow": null,
      "overflow_x": null,
      "overflow_y": null,
      "padding": null,
      "right": null,
      "top": null,
      "visibility": null,
      "width": null
     }
    },
    "9eeddc965f9142548f15c5589b35eda4": {
     "model_module": "@jupyter-widgets/controls",
     "model_module_version": "1.5.0",
     "model_name": "DescriptionStyleModel",
     "state": {
      "_model_module": "@jupyter-widgets/controls",
      "_model_module_version": "1.5.0",
      "_model_name": "DescriptionStyleModel",
      "_view_count": null,
      "_view_module": "@jupyter-widgets/base",
      "_view_module_version": "1.2.0",
      "_view_name": "StyleView",
      "description_width": ""
     }
    },
    "a09ba551d230461a90cff5e1599d0885": {
     "model_module": "@jupyter-widgets/controls",
     "model_module_version": "1.5.0",
     "model_name": "HTMLModel",
     "state": {
      "_dom_classes": [],
      "_model_module": "@jupyter-widgets/controls",
      "_model_module_version": "1.5.0",
      "_model_name": "HTMLModel",
      "_view_count": null,
      "_view_module": "@jupyter-widgets/controls",
      "_view_module_version": "1.5.0",
      "_view_name": "HTMLView",
      "description": "",
      "description_tooltip": null,
      "layout": "IPY_MODEL_d30aad314def4f398ed0d0e831075ba4",
      "placeholder": "​",
      "style": "IPY_MODEL_1575ad27bac748f38f0319c369acd23b",
      "value": " 570/570 [00:00&lt;00:00, 17.3kB/s]"
     }
    },
    "a22b6e92a5004f2aa56da62085d9a59f": {
     "model_module": "@jupyter-widgets/base",
     "model_module_version": "1.2.0",
     "model_name": "LayoutModel",
     "state": {
      "_model_module": "@jupyter-widgets/base",
      "_model_module_version": "1.2.0",
      "_model_name": "LayoutModel",
      "_view_count": null,
      "_view_module": "@jupyter-widgets/base",
      "_view_module_version": "1.2.0",
      "_view_name": "LayoutView",
      "align_content": null,
      "align_items": null,
      "align_self": null,
      "border": null,
      "bottom": null,
      "display": null,
      "flex": null,
      "flex_flow": null,
      "grid_area": null,
      "grid_auto_columns": null,
      "grid_auto_flow": null,
      "grid_auto_rows": null,
      "grid_column": null,
      "grid_gap": null,
      "grid_row": null,
      "grid_template_areas": null,
      "grid_template_columns": null,
      "grid_template_rows": null,
      "height": null,
      "justify_content": null,
      "justify_items": null,
      "left": null,
      "margin": null,
      "max_height": null,
      "max_width": null,
      "min_height": null,
      "min_width": null,
      "object_fit": null,
      "object_position": null,
      "order": null,
      "overflow": null,
      "overflow_x": null,
      "overflow_y": null,
      "padding": null,
      "right": null,
      "top": null,
      "visibility": null,
      "width": null
     }
    },
    "a3698fce271e407e8a58bb9339a15e12": {
     "model_module": "@jupyter-widgets/controls",
     "model_module_version": "1.5.0",
     "model_name": "HTMLModel",
     "state": {
      "_dom_classes": [],
      "_model_module": "@jupyter-widgets/controls",
      "_model_module_version": "1.5.0",
      "_model_name": "HTMLModel",
      "_view_count": null,
      "_view_module": "@jupyter-widgets/controls",
      "_view_module_version": "1.5.0",
      "_view_name": "HTMLView",
      "description": "",
      "description_tooltip": null,
      "layout": "IPY_MODEL_a22b6e92a5004f2aa56da62085d9a59f",
      "placeholder": "​",
      "style": "IPY_MODEL_483a5a27a8e74873b269695777b1132b",
      "value": "Downloading: 100%"
     }
    },
    "a7454ca9a8dc4f2ab54bce023d1be88f": {
     "model_module": "@jupyter-widgets/controls",
     "model_module_version": "1.5.0",
     "model_name": "ProgressStyleModel",
     "state": {
      "_model_module": "@jupyter-widgets/controls",
      "_model_module_version": "1.5.0",
      "_model_name": "ProgressStyleModel",
      "_view_count": null,
      "_view_module": "@jupyter-widgets/base",
      "_view_module_version": "1.2.0",
      "_view_name": "StyleView",
      "bar_color": null,
      "description_width": ""
     }
    },
    "a9fd29d7371247859b233e62cd34d85e": {
     "model_module": "@jupyter-widgets/base",
     "model_module_version": "1.2.0",
     "model_name": "LayoutModel",
     "state": {
      "_model_module": "@jupyter-widgets/base",
      "_model_module_version": "1.2.0",
      "_model_name": "LayoutModel",
      "_view_count": null,
      "_view_module": "@jupyter-widgets/base",
      "_view_module_version": "1.2.0",
      "_view_name": "LayoutView",
      "align_content": null,
      "align_items": null,
      "align_self": null,
      "border": null,
      "bottom": null,
      "display": null,
      "flex": null,
      "flex_flow": null,
      "grid_area": null,
      "grid_auto_columns": null,
      "grid_auto_flow": null,
      "grid_auto_rows": null,
      "grid_column": null,
      "grid_gap": null,
      "grid_row": null,
      "grid_template_areas": null,
      "grid_template_columns": null,
      "grid_template_rows": null,
      "height": null,
      "justify_content": null,
      "justify_items": null,
      "left": null,
      "margin": null,
      "max_height": null,
      "max_width": null,
      "min_height": null,
      "min_width": null,
      "object_fit": null,
      "object_position": null,
      "order": null,
      "overflow": null,
      "overflow_x": null,
      "overflow_y": null,
      "padding": null,
      "right": null,
      "top": null,
      "visibility": null,
      "width": null
     }
    },
    "ac595e86171841ffa488238c3eaef29c": {
     "model_module": "@jupyter-widgets/base",
     "model_module_version": "1.2.0",
     "model_name": "LayoutModel",
     "state": {
      "_model_module": "@jupyter-widgets/base",
      "_model_module_version": "1.2.0",
      "_model_name": "LayoutModel",
      "_view_count": null,
      "_view_module": "@jupyter-widgets/base",
      "_view_module_version": "1.2.0",
      "_view_name": "LayoutView",
      "align_content": null,
      "align_items": null,
      "align_self": null,
      "border": null,
      "bottom": null,
      "display": null,
      "flex": null,
      "flex_flow": null,
      "grid_area": null,
      "grid_auto_columns": null,
      "grid_auto_flow": null,
      "grid_auto_rows": null,
      "grid_column": null,
      "grid_gap": null,
      "grid_row": null,
      "grid_template_areas": null,
      "grid_template_columns": null,
      "grid_template_rows": null,
      "height": null,
      "justify_content": null,
      "justify_items": null,
      "left": null,
      "margin": null,
      "max_height": null,
      "max_width": null,
      "min_height": null,
      "min_width": null,
      "object_fit": null,
      "object_position": null,
      "order": null,
      "overflow": null,
      "overflow_x": null,
      "overflow_y": null,
      "padding": null,
      "right": null,
      "top": null,
      "visibility": null,
      "width": "20px"
     }
    },
    "acc1e7ea596446e99bf828b38f4d1d86": {
     "model_module": "@jupyter-widgets/controls",
     "model_module_version": "1.5.0",
     "model_name": "ProgressStyleModel",
     "state": {
      "_model_module": "@jupyter-widgets/controls",
      "_model_module_version": "1.5.0",
      "_model_name": "ProgressStyleModel",
      "_view_count": null,
      "_view_module": "@jupyter-widgets/base",
      "_view_module_version": "1.2.0",
      "_view_name": "StyleView",
      "bar_color": null,
      "description_width": ""
     }
    },
    "ae2a7e76b2fd4275ad139076892e9a55": {
     "model_module": "@jupyter-widgets/base",
     "model_module_version": "1.2.0",
     "model_name": "LayoutModel",
     "state": {
      "_model_module": "@jupyter-widgets/base",
      "_model_module_version": "1.2.0",
      "_model_name": "LayoutModel",
      "_view_count": null,
      "_view_module": "@jupyter-widgets/base",
      "_view_module_version": "1.2.0",
      "_view_name": "LayoutView",
      "align_content": null,
      "align_items": null,
      "align_self": null,
      "border": null,
      "bottom": null,
      "display": null,
      "flex": null,
      "flex_flow": null,
      "grid_area": null,
      "grid_auto_columns": null,
      "grid_auto_flow": null,
      "grid_auto_rows": null,
      "grid_column": null,
      "grid_gap": null,
      "grid_row": null,
      "grid_template_areas": null,
      "grid_template_columns": null,
      "grid_template_rows": null,
      "height": null,
      "justify_content": null,
      "justify_items": null,
      "left": null,
      "margin": null,
      "max_height": null,
      "max_width": null,
      "min_height": null,
      "min_width": null,
      "object_fit": null,
      "object_position": null,
      "order": null,
      "overflow": null,
      "overflow_x": null,
      "overflow_y": null,
      "padding": null,
      "right": null,
      "top": null,
      "visibility": null,
      "width": null
     }
    },
    "b0258b2c523142aa8a4e182c8f91fd91": {
     "model_module": "@jupyter-widgets/controls",
     "model_module_version": "1.5.0",
     "model_name": "FloatProgressModel",
     "state": {
      "_dom_classes": [],
      "_model_module": "@jupyter-widgets/controls",
      "_model_module_version": "1.5.0",
      "_model_name": "FloatProgressModel",
      "_view_count": null,
      "_view_module": "@jupyter-widgets/controls",
      "_view_module_version": "1.5.0",
      "_view_name": "ProgressView",
      "bar_style": "danger",
      "description": "",
      "description_tooltip": null,
      "layout": "IPY_MODEL_640f688604254655894d4499e656d9d0",
      "max": 25000,
      "min": 0,
      "orientation": "horizontal",
      "style": "IPY_MODEL_dca82897694348de9cee0a80b19549af",
      "value": 24999
     }
    },
    "b19e2cba477a4ccdb1aaa037c38b2822": {
     "model_module": "@jupyter-widgets/base",
     "model_module_version": "1.2.0",
     "model_name": "LayoutModel",
     "state": {
      "_model_module": "@jupyter-widgets/base",
      "_model_module_version": "1.2.0",
      "_model_name": "LayoutModel",
      "_view_count": null,
      "_view_module": "@jupyter-widgets/base",
      "_view_module_version": "1.2.0",
      "_view_name": "LayoutView",
      "align_content": null,
      "align_items": null,
      "align_self": null,
      "border": null,
      "bottom": null,
      "display": null,
      "flex": null,
      "flex_flow": null,
      "grid_area": null,
      "grid_auto_columns": null,
      "grid_auto_flow": null,
      "grid_auto_rows": null,
      "grid_column": null,
      "grid_gap": null,
      "grid_row": null,
      "grid_template_areas": null,
      "grid_template_columns": null,
      "grid_template_rows": null,
      "height": null,
      "justify_content": null,
      "justify_items": null,
      "left": null,
      "margin": null,
      "max_height": null,
      "max_width": null,
      "min_height": null,
      "min_width": null,
      "object_fit": null,
      "object_position": null,
      "order": null,
      "overflow": null,
      "overflow_x": null,
      "overflow_y": null,
      "padding": null,
      "right": null,
      "top": null,
      "visibility": null,
      "width": null
     }
    },
    "b338714c145c41bea4101a115dfeeb89": {
     "model_module": "@jupyter-widgets/controls",
     "model_module_version": "1.5.0",
     "model_name": "HTMLModel",
     "state": {
      "_dom_classes": [],
      "_model_module": "@jupyter-widgets/controls",
      "_model_module_version": "1.5.0",
      "_model_name": "HTMLModel",
      "_view_count": null,
      "_view_module": "@jupyter-widgets/controls",
      "_view_module_version": "1.5.0",
      "_view_name": "HTMLView",
      "description": "",
      "description_tooltip": null,
      "layout": "IPY_MODEL_d5522fe94260447b938795ce176a6d77",
      "placeholder": "​",
      "style": "IPY_MODEL_687b42eb30024d0892ee22b03fa90957",
      "value": "Downloading: 100%"
     }
    },
    "b4016e6e1a604360a322329ef6cec05a": {
     "model_module": "@jupyter-widgets/controls",
     "model_module_version": "1.5.0",
     "model_name": "HBoxModel",
     "state": {
      "_dom_classes": [],
      "_model_module": "@jupyter-widgets/controls",
      "_model_module_version": "1.5.0",
      "_model_name": "HBoxModel",
      "_view_count": null,
      "_view_module": "@jupyter-widgets/controls",
      "_view_module_version": "1.5.0",
      "_view_name": "HBoxView",
      "box_style": "",
      "children": [
       "IPY_MODEL_bd9a367af09846478055df42a1aaebdc",
       "IPY_MODEL_10831e5b5583417d88b2dd44911ea347",
       "IPY_MODEL_6bf8e3f7cb4d4c8ba1995ef2fa3247cf"
      ],
      "layout": "IPY_MODEL_19354abbfbd64454a1749a1c02c2c89d"
     }
    },
    "b4305990caf6450cbec5eb51435b4764": {
     "model_module": "@jupyter-widgets/controls",
     "model_module_version": "1.5.0",
     "model_name": "HTMLModel",
     "state": {
      "_dom_classes": [],
      "_model_module": "@jupyter-widgets/controls",
      "_model_module_version": "1.5.0",
      "_model_name": "HTMLModel",
      "_view_count": null,
      "_view_module": "@jupyter-widgets/controls",
      "_view_module_version": "1.5.0",
      "_view_name": "HTMLView",
      "description": "",
      "description_tooltip": null,
      "layout": "IPY_MODEL_362583a9e2a14c2da77d084ca5734821",
      "placeholder": "​",
      "style": "IPY_MODEL_41897535c04047b496c1c053cd6a654d",
      "value": "Dl Size...: 100%"
     }
    },
    "b6d91199904d42daa06969d9455dff52": {
     "model_module": "@jupyter-widgets/controls",
     "model_module_version": "1.5.0",
     "model_name": "DescriptionStyleModel",
     "state": {
      "_model_module": "@jupyter-widgets/controls",
      "_model_module_version": "1.5.0",
      "_model_name": "DescriptionStyleModel",
      "_view_count": null,
      "_view_module": "@jupyter-widgets/base",
      "_view_module_version": "1.2.0",
      "_view_name": "StyleView",
      "description_width": ""
     }
    },
    "b8ba54b763f34e6da9b3ea905411327a": {
     "model_module": "@jupyter-widgets/controls",
     "model_module_version": "1.5.0",
     "model_name": "DescriptionStyleModel",
     "state": {
      "_model_module": "@jupyter-widgets/controls",
      "_model_module_version": "1.5.0",
      "_model_name": "DescriptionStyleModel",
      "_view_count": null,
      "_view_module": "@jupyter-widgets/base",
      "_view_module_version": "1.2.0",
      "_view_name": "StyleView",
      "description_width": ""
     }
    },
    "bce8106e71ce4603a42977da061d20c7": {
     "model_module": "@jupyter-widgets/controls",
     "model_module_version": "1.5.0",
     "model_name": "HTMLModel",
     "state": {
      "_dom_classes": [],
      "_model_module": "@jupyter-widgets/controls",
      "_model_module_version": "1.5.0",
      "_model_name": "HTMLModel",
      "_view_count": null,
      "_view_module": "@jupyter-widgets/controls",
      "_view_module_version": "1.5.0",
      "_view_name": "HTMLView",
      "description": "",
      "description_tooltip": null,
      "layout": "IPY_MODEL_ae2a7e76b2fd4275ad139076892e9a55",
      "placeholder": "​",
      "style": "IPY_MODEL_534b5738d7a047199822e5101cc16b5d",
      "value": " 24999/25000 [00:00&lt;00:00, 57043.80 examples/s]"
     }
    },
    "bd4b5c38f8eb46968495772709ad8f5b": {
     "model_module": "@jupyter-widgets/controls",
     "model_module_version": "1.5.0",
     "model_name": "ProgressStyleModel",
     "state": {
      "_model_module": "@jupyter-widgets/controls",
      "_model_module_version": "1.5.0",
      "_model_name": "ProgressStyleModel",
      "_view_count": null,
      "_view_module": "@jupyter-widgets/base",
      "_view_module_version": "1.2.0",
      "_view_name": "StyleView",
      "bar_color": null,
      "description_width": ""
     }
    },
    "bd9a367af09846478055df42a1aaebdc": {
     "model_module": "@jupyter-widgets/controls",
     "model_module_version": "1.5.0",
     "model_name": "HTMLModel",
     "state": {
      "_dom_classes": [],
      "_model_module": "@jupyter-widgets/controls",
      "_model_module_version": "1.5.0",
      "_model_name": "HTMLModel",
      "_view_count": null,
      "_view_module": "@jupyter-widgets/controls",
      "_view_module_version": "1.5.0",
      "_view_name": "HTMLView",
      "description": "",
      "description_tooltip": null,
      "layout": "IPY_MODEL_6ff83731eedd49808455dc22782ee1ae",
      "placeholder": "​",
      "style": "IPY_MODEL_e3b04e636b214325a49024d042462fd7",
      "value": "100%"
     }
    },
    "bea6b8eb9e2443dc8f3be7a28a24e9aa": {
     "model_module": "@jupyter-widgets/base",
     "model_module_version": "1.2.0",
     "model_name": "LayoutModel",
     "state": {
      "_model_module": "@jupyter-widgets/base",
      "_model_module_version": "1.2.0",
      "_model_name": "LayoutModel",
      "_view_count": null,
      "_view_module": "@jupyter-widgets/base",
      "_view_module_version": "1.2.0",
      "_view_name": "LayoutView",
      "align_content": null,
      "align_items": null,
      "align_self": null,
      "border": null,
      "bottom": null,
      "display": null,
      "flex": null,
      "flex_flow": null,
      "grid_area": null,
      "grid_auto_columns": null,
      "grid_auto_flow": null,
      "grid_auto_rows": null,
      "grid_column": null,
      "grid_gap": null,
      "grid_row": null,
      "grid_template_areas": null,
      "grid_template_columns": null,
      "grid_template_rows": null,
      "height": null,
      "justify_content": null,
      "justify_items": null,
      "left": null,
      "margin": null,
      "max_height": null,
      "max_width": null,
      "min_height": null,
      "min_width": null,
      "object_fit": null,
      "object_position": null,
      "order": null,
      "overflow": null,
      "overflow_x": null,
      "overflow_y": null,
      "padding": null,
      "right": null,
      "top": null,
      "visibility": null,
      "width": null
     }
    },
    "c0d6577fad9f471f81dcc43690ca18dc": {
     "model_module": "@jupyter-widgets/base",
     "model_module_version": "1.2.0",
     "model_name": "LayoutModel",
     "state": {
      "_model_module": "@jupyter-widgets/base",
      "_model_module_version": "1.2.0",
      "_model_name": "LayoutModel",
      "_view_count": null,
      "_view_module": "@jupyter-widgets/base",
      "_view_module_version": "1.2.0",
      "_view_name": "LayoutView",
      "align_content": null,
      "align_items": null,
      "align_self": null,
      "border": null,
      "bottom": null,
      "display": null,
      "flex": null,
      "flex_flow": null,
      "grid_area": null,
      "grid_auto_columns": null,
      "grid_auto_flow": null,
      "grid_auto_rows": null,
      "grid_column": null,
      "grid_gap": null,
      "grid_row": null,
      "grid_template_areas": null,
      "grid_template_columns": null,
      "grid_template_rows": null,
      "height": null,
      "justify_content": null,
      "justify_items": null,
      "left": null,
      "margin": null,
      "max_height": null,
      "max_width": null,
      "min_height": null,
      "min_width": null,
      "object_fit": null,
      "object_position": null,
      "order": null,
      "overflow": null,
      "overflow_x": null,
      "overflow_y": null,
      "padding": null,
      "right": null,
      "top": null,
      "visibility": null,
      "width": null
     }
    },
    "c72fc1f3389e4079a2c2d827e4ab2def": {
     "model_module": "@jupyter-widgets/controls",
     "model_module_version": "1.5.0",
     "model_name": "DescriptionStyleModel",
     "state": {
      "_model_module": "@jupyter-widgets/controls",
      "_model_module_version": "1.5.0",
      "_model_name": "DescriptionStyleModel",
      "_view_count": null,
      "_view_module": "@jupyter-widgets/base",
      "_view_module_version": "1.2.0",
      "_view_name": "StyleView",
      "description_width": ""
     }
    },
    "ca09d0dae0094498ba22a8e666b0853d": {
     "model_module": "@jupyter-widgets/base",
     "model_module_version": "1.2.0",
     "model_name": "LayoutModel",
     "state": {
      "_model_module": "@jupyter-widgets/base",
      "_model_module_version": "1.2.0",
      "_model_name": "LayoutModel",
      "_view_count": null,
      "_view_module": "@jupyter-widgets/base",
      "_view_module_version": "1.2.0",
      "_view_name": "LayoutView",
      "align_content": null,
      "align_items": null,
      "align_self": null,
      "border": null,
      "bottom": null,
      "display": null,
      "flex": null,
      "flex_flow": null,
      "grid_area": null,
      "grid_auto_columns": null,
      "grid_auto_flow": null,
      "grid_auto_rows": null,
      "grid_column": null,
      "grid_gap": null,
      "grid_row": null,
      "grid_template_areas": null,
      "grid_template_columns": null,
      "grid_template_rows": null,
      "height": null,
      "justify_content": null,
      "justify_items": null,
      "left": null,
      "margin": null,
      "max_height": null,
      "max_width": null,
      "min_height": null,
      "min_width": null,
      "object_fit": null,
      "object_position": null,
      "order": null,
      "overflow": null,
      "overflow_x": null,
      "overflow_y": null,
      "padding": null,
      "right": null,
      "top": null,
      "visibility": null,
      "width": null
     }
    },
    "cbf592c25b5042058a616df290b1b3b3": {
     "model_module": "@jupyter-widgets/controls",
     "model_module_version": "1.5.0",
     "model_name": "HTMLModel",
     "state": {
      "_dom_classes": [],
      "_model_module": "@jupyter-widgets/controls",
      "_model_module_version": "1.5.0",
      "_model_name": "HTMLModel",
      "_view_count": null,
      "_view_module": "@jupyter-widgets/controls",
      "_view_module_version": "1.5.0",
      "_view_name": "HTMLView",
      "description": "",
      "description_tooltip": null,
      "layout": "IPY_MODEL_df5b8349317348609c4bd07ec0e9fba7",
      "placeholder": "​",
      "style": "IPY_MODEL_dd162eacc4284e32b0db9eee0d470732",
      "value": " 208k/208k [00:00&lt;00:00, 168kB/s]"
     }
    },
    "cc06f9924a02405e89e1794a3e35d0c3": {
     "model_module": "@jupyter-widgets/controls",
     "model_module_version": "1.5.0",
     "model_name": "DescriptionStyleModel",
     "state": {
      "_model_module": "@jupyter-widgets/controls",
      "_model_module_version": "1.5.0",
      "_model_name": "DescriptionStyleModel",
      "_view_count": null,
      "_view_module": "@jupyter-widgets/base",
      "_view_module_version": "1.2.0",
      "_view_name": "StyleView",
      "description_width": ""
     }
    },
    "d0033741bf054838805fb874db6f6924": {
     "model_module": "@jupyter-widgets/controls",
     "model_module_version": "1.5.0",
     "model_name": "ProgressStyleModel",
     "state": {
      "_model_module": "@jupyter-widgets/controls",
      "_model_module_version": "1.5.0",
      "_model_name": "ProgressStyleModel",
      "_view_count": null,
      "_view_module": "@jupyter-widgets/base",
      "_view_module_version": "1.2.0",
      "_view_name": "StyleView",
      "bar_color": null,
      "description_width": ""
     }
    },
    "d0b73906870f4c08b5d1cc4e52ba5ea9": {
     "model_module": "@jupyter-widgets/base",
     "model_module_version": "1.2.0",
     "model_name": "LayoutModel",
     "state": {
      "_model_module": "@jupyter-widgets/base",
      "_model_module_version": "1.2.0",
      "_model_name": "LayoutModel",
      "_view_count": null,
      "_view_module": "@jupyter-widgets/base",
      "_view_module_version": "1.2.0",
      "_view_name": "LayoutView",
      "align_content": null,
      "align_items": null,
      "align_self": null,
      "border": null,
      "bottom": null,
      "display": null,
      "flex": null,
      "flex_flow": null,
      "grid_area": null,
      "grid_auto_columns": null,
      "grid_auto_flow": null,
      "grid_auto_rows": null,
      "grid_column": null,
      "grid_gap": null,
      "grid_row": null,
      "grid_template_areas": null,
      "grid_template_columns": null,
      "grid_template_rows": null,
      "height": null,
      "justify_content": null,
      "justify_items": null,
      "left": null,
      "margin": null,
      "max_height": null,
      "max_width": null,
      "min_height": null,
      "min_width": null,
      "object_fit": null,
      "object_position": null,
      "order": null,
      "overflow": null,
      "overflow_x": null,
      "overflow_y": null,
      "padding": null,
      "right": null,
      "top": null,
      "visibility": null,
      "width": null
     }
    },
    "d125f8fb4af44b4ea65bfc1bda7445c4": {
     "model_module": "@jupyter-widgets/controls",
     "model_module_version": "1.5.0",
     "model_name": "HTMLModel",
     "state": {
      "_dom_classes": [],
      "_model_module": "@jupyter-widgets/controls",
      "_model_module_version": "1.5.0",
      "_model_name": "HTMLModel",
      "_view_count": null,
      "_view_module": "@jupyter-widgets/controls",
      "_view_module_version": "1.5.0",
      "_view_name": "HTMLView",
      "description": "",
      "description_tooltip": null,
      "layout": "IPY_MODEL_c0d6577fad9f471f81dcc43690ca18dc",
      "placeholder": "​",
      "style": "IPY_MODEL_b6d91199904d42daa06969d9455dff52",
      "value": "100%"
     }
    },
    "d1df8e9b0bef4534bad3c768ba86c22c": {
     "model_module": "@jupyter-widgets/controls",
     "model_module_version": "1.5.0",
     "model_name": "DescriptionStyleModel",
     "state": {
      "_model_module": "@jupyter-widgets/controls",
      "_model_module_version": "1.5.0",
      "_model_name": "DescriptionStyleModel",
      "_view_count": null,
      "_view_module": "@jupyter-widgets/base",
      "_view_module_version": "1.2.0",
      "_view_name": "StyleView",
      "description_width": ""
     }
    },
    "d30aad314def4f398ed0d0e831075ba4": {
     "model_module": "@jupyter-widgets/base",
     "model_module_version": "1.2.0",
     "model_name": "LayoutModel",
     "state": {
      "_model_module": "@jupyter-widgets/base",
      "_model_module_version": "1.2.0",
      "_model_name": "LayoutModel",
      "_view_count": null,
      "_view_module": "@jupyter-widgets/base",
      "_view_module_version": "1.2.0",
      "_view_name": "LayoutView",
      "align_content": null,
      "align_items": null,
      "align_self": null,
      "border": null,
      "bottom": null,
      "display": null,
      "flex": null,
      "flex_flow": null,
      "grid_area": null,
      "grid_auto_columns": null,
      "grid_auto_flow": null,
      "grid_auto_rows": null,
      "grid_column": null,
      "grid_gap": null,
      "grid_row": null,
      "grid_template_areas": null,
      "grid_template_columns": null,
      "grid_template_rows": null,
      "height": null,
      "justify_content": null,
      "justify_items": null,
      "left": null,
      "margin": null,
      "max_height": null,
      "max_width": null,
      "min_height": null,
      "min_width": null,
      "object_fit": null,
      "object_position": null,
      "order": null,
      "overflow": null,
      "overflow_x": null,
      "overflow_y": null,
      "padding": null,
      "right": null,
      "top": null,
      "visibility": null,
      "width": null
     }
    },
    "d32b851602e84f7ca752fbac7328491d": {
     "model_module": "@jupyter-widgets/base",
     "model_module_version": "1.2.0",
     "model_name": "LayoutModel",
     "state": {
      "_model_module": "@jupyter-widgets/base",
      "_model_module_version": "1.2.0",
      "_model_name": "LayoutModel",
      "_view_count": null,
      "_view_module": "@jupyter-widgets/base",
      "_view_module_version": "1.2.0",
      "_view_name": "LayoutView",
      "align_content": null,
      "align_items": null,
      "align_self": null,
      "border": null,
      "bottom": null,
      "display": null,
      "flex": null,
      "flex_flow": null,
      "grid_area": null,
      "grid_auto_columns": null,
      "grid_auto_flow": null,
      "grid_auto_rows": null,
      "grid_column": null,
      "grid_gap": null,
      "grid_row": null,
      "grid_template_areas": null,
      "grid_template_columns": null,
      "grid_template_rows": null,
      "height": null,
      "justify_content": null,
      "justify_items": null,
      "left": null,
      "margin": null,
      "max_height": null,
      "max_width": null,
      "min_height": null,
      "min_width": null,
      "object_fit": null,
      "object_position": null,
      "order": null,
      "overflow": null,
      "overflow_x": null,
      "overflow_y": null,
      "padding": null,
      "right": null,
      "top": null,
      "visibility": null,
      "width": null
     }
    },
    "d435927a5f89414fb34dc81dd1193643": {
     "model_module": "@jupyter-widgets/base",
     "model_module_version": "1.2.0",
     "model_name": "LayoutModel",
     "state": {
      "_model_module": "@jupyter-widgets/base",
      "_model_module_version": "1.2.0",
      "_model_name": "LayoutModel",
      "_view_count": null,
      "_view_module": "@jupyter-widgets/base",
      "_view_module_version": "1.2.0",
      "_view_name": "LayoutView",
      "align_content": null,
      "align_items": null,
      "align_self": null,
      "border": null,
      "bottom": null,
      "display": null,
      "flex": null,
      "flex_flow": null,
      "grid_area": null,
      "grid_auto_columns": null,
      "grid_auto_flow": null,
      "grid_auto_rows": null,
      "grid_column": null,
      "grid_gap": null,
      "grid_row": null,
      "grid_template_areas": null,
      "grid_template_columns": null,
      "grid_template_rows": null,
      "height": null,
      "justify_content": null,
      "justify_items": null,
      "left": null,
      "margin": null,
      "max_height": null,
      "max_width": null,
      "min_height": null,
      "min_width": null,
      "object_fit": null,
      "object_position": null,
      "order": null,
      "overflow": null,
      "overflow_x": null,
      "overflow_y": null,
      "padding": null,
      "right": null,
      "top": null,
      "visibility": null,
      "width": null
     }
    },
    "d47f3f57a12f473b969d86779f48d7d9": {
     "model_module": "@jupyter-widgets/base",
     "model_module_version": "1.2.0",
     "model_name": "LayoutModel",
     "state": {
      "_model_module": "@jupyter-widgets/base",
      "_model_module_version": "1.2.0",
      "_model_name": "LayoutModel",
      "_view_count": null,
      "_view_module": "@jupyter-widgets/base",
      "_view_module_version": "1.2.0",
      "_view_name": "LayoutView",
      "align_content": null,
      "align_items": null,
      "align_self": null,
      "border": null,
      "bottom": null,
      "display": null,
      "flex": null,
      "flex_flow": null,
      "grid_area": null,
      "grid_auto_columns": null,
      "grid_auto_flow": null,
      "grid_auto_rows": null,
      "grid_column": null,
      "grid_gap": null,
      "grid_row": null,
      "grid_template_areas": null,
      "grid_template_columns": null,
      "grid_template_rows": null,
      "height": null,
      "justify_content": null,
      "justify_items": null,
      "left": null,
      "margin": null,
      "max_height": null,
      "max_width": null,
      "min_height": null,
      "min_width": null,
      "object_fit": null,
      "object_position": null,
      "order": null,
      "overflow": null,
      "overflow_x": null,
      "overflow_y": null,
      "padding": null,
      "right": null,
      "top": null,
      "visibility": null,
      "width": null
     }
    },
    "d5522fe94260447b938795ce176a6d77": {
     "model_module": "@jupyter-widgets/base",
     "model_module_version": "1.2.0",
     "model_name": "LayoutModel",
     "state": {
      "_model_module": "@jupyter-widgets/base",
      "_model_module_version": "1.2.0",
      "_model_name": "LayoutModel",
      "_view_count": null,
      "_view_module": "@jupyter-widgets/base",
      "_view_module_version": "1.2.0",
      "_view_name": "LayoutView",
      "align_content": null,
      "align_items": null,
      "align_self": null,
      "border": null,
      "bottom": null,
      "display": null,
      "flex": null,
      "flex_flow": null,
      "grid_area": null,
      "grid_auto_columns": null,
      "grid_auto_flow": null,
      "grid_auto_rows": null,
      "grid_column": null,
      "grid_gap": null,
      "grid_row": null,
      "grid_template_areas": null,
      "grid_template_columns": null,
      "grid_template_rows": null,
      "height": null,
      "justify_content": null,
      "justify_items": null,
      "left": null,
      "margin": null,
      "max_height": null,
      "max_width": null,
      "min_height": null,
      "min_width": null,
      "object_fit": null,
      "object_position": null,
      "order": null,
      "overflow": null,
      "overflow_x": null,
      "overflow_y": null,
      "padding": null,
      "right": null,
      "top": null,
      "visibility": null,
      "width": null
     }
    },
    "d5eaa0b0f225431d890d0b067a6eff62": {
     "model_module": "@jupyter-widgets/base",
     "model_module_version": "1.2.0",
     "model_name": "LayoutModel",
     "state": {
      "_model_module": "@jupyter-widgets/base",
      "_model_module_version": "1.2.0",
      "_model_name": "LayoutModel",
      "_view_count": null,
      "_view_module": "@jupyter-widgets/base",
      "_view_module_version": "1.2.0",
      "_view_name": "LayoutView",
      "align_content": null,
      "align_items": null,
      "align_self": null,
      "border": null,
      "bottom": null,
      "display": null,
      "flex": null,
      "flex_flow": null,
      "grid_area": null,
      "grid_auto_columns": null,
      "grid_auto_flow": null,
      "grid_auto_rows": null,
      "grid_column": null,
      "grid_gap": null,
      "grid_row": null,
      "grid_template_areas": null,
      "grid_template_columns": null,
      "grid_template_rows": null,
      "height": null,
      "justify_content": null,
      "justify_items": null,
      "left": null,
      "margin": null,
      "max_height": null,
      "max_width": null,
      "min_height": null,
      "min_width": null,
      "object_fit": null,
      "object_position": null,
      "order": null,
      "overflow": null,
      "overflow_x": null,
      "overflow_y": null,
      "padding": null,
      "right": null,
      "top": null,
      "visibility": null,
      "width": null
     }
    },
    "d6cfb51147054db6afa671918e7d8a74": {
     "model_module": "@jupyter-widgets/controls",
     "model_module_version": "1.5.0",
     "model_name": "FloatProgressModel",
     "state": {
      "_dom_classes": [],
      "_model_module": "@jupyter-widgets/controls",
      "_model_module_version": "1.5.0",
      "_model_name": "FloatProgressModel",
      "_view_count": null,
      "_view_module": "@jupyter-widgets/controls",
      "_view_module_version": "1.5.0",
      "_view_name": "ProgressView",
      "bar_style": "danger",
      "description": "",
      "description_tooltip": null,
      "layout": "IPY_MODEL_670f13e3508d4db49efbd68cdaf0e5e0",
      "max": 25000,
      "min": 0,
      "orientation": "horizontal",
      "style": "IPY_MODEL_691a45bfcd67452ab232d18fef37eb58",
      "value": 24999
     }
    },
    "d8a2d8016ce943129cdf253e4bef1312": {
     "model_module": "@jupyter-widgets/controls",
     "model_module_version": "1.5.0",
     "model_name": "DescriptionStyleModel",
     "state": {
      "_model_module": "@jupyter-widgets/controls",
      "_model_module_version": "1.5.0",
      "_model_name": "DescriptionStyleModel",
      "_view_count": null,
      "_view_module": "@jupyter-widgets/base",
      "_view_module_version": "1.2.0",
      "_view_name": "StyleView",
      "description_width": ""
     }
    },
    "d8b357a50ee74767874426aea4659473": {
     "model_module": "@jupyter-widgets/base",
     "model_module_version": "1.2.0",
     "model_name": "LayoutModel",
     "state": {
      "_model_module": "@jupyter-widgets/base",
      "_model_module_version": "1.2.0",
      "_model_name": "LayoutModel",
      "_view_count": null,
      "_view_module": "@jupyter-widgets/base",
      "_view_module_version": "1.2.0",
      "_view_name": "LayoutView",
      "align_content": null,
      "align_items": null,
      "align_self": null,
      "border": null,
      "bottom": null,
      "display": null,
      "flex": null,
      "flex_flow": null,
      "grid_area": null,
      "grid_auto_columns": null,
      "grid_auto_flow": null,
      "grid_auto_rows": null,
      "grid_column": null,
      "grid_gap": null,
      "grid_row": null,
      "grid_template_areas": null,
      "grid_template_columns": null,
      "grid_template_rows": null,
      "height": null,
      "justify_content": null,
      "justify_items": null,
      "left": null,
      "margin": null,
      "max_height": null,
      "max_width": null,
      "min_height": null,
      "min_width": null,
      "object_fit": null,
      "object_position": null,
      "order": null,
      "overflow": null,
      "overflow_x": null,
      "overflow_y": null,
      "padding": null,
      "right": null,
      "top": null,
      "visibility": null,
      "width": null
     }
    },
    "da9465b95e3d4d24b0b93e05f7eb910e": {
     "model_module": "@jupyter-widgets/controls",
     "model_module_version": "1.5.0",
     "model_name": "HBoxModel",
     "state": {
      "_dom_classes": [],
      "_model_module": "@jupyter-widgets/controls",
      "_model_module_version": "1.5.0",
      "_model_name": "HBoxModel",
      "_view_count": null,
      "_view_module": "@jupyter-widgets/controls",
      "_view_module_version": "1.5.0",
      "_view_name": "HBoxView",
      "box_style": "",
      "children": [
       "IPY_MODEL_54efc93113e54b95aff4b63023818d06",
       "IPY_MODEL_7885cb5277364ae6ab377cfbb210cc99",
       "IPY_MODEL_6c61ab89161a4dcf9b9ce762e8ba3280"
      ],
      "layout": "IPY_MODEL_97f8964c19254b4ca05ba757d81d8d1c"
     }
    },
    "dca82897694348de9cee0a80b19549af": {
     "model_module": "@jupyter-widgets/controls",
     "model_module_version": "1.5.0",
     "model_name": "ProgressStyleModel",
     "state": {
      "_model_module": "@jupyter-widgets/controls",
      "_model_module_version": "1.5.0",
      "_model_name": "ProgressStyleModel",
      "_view_count": null,
      "_view_module": "@jupyter-widgets/base",
      "_view_module_version": "1.2.0",
      "_view_name": "StyleView",
      "bar_color": null,
      "description_width": ""
     }
    },
    "dd162eacc4284e32b0db9eee0d470732": {
     "model_module": "@jupyter-widgets/controls",
     "model_module_version": "1.5.0",
     "model_name": "DescriptionStyleModel",
     "state": {
      "_model_module": "@jupyter-widgets/controls",
      "_model_module_version": "1.5.0",
      "_model_name": "DescriptionStyleModel",
      "_view_count": null,
      "_view_module": "@jupyter-widgets/base",
      "_view_module_version": "1.2.0",
      "_view_name": "StyleView",
      "description_width": ""
     }
    },
    "de599885cffc45f1a51ec34f6ea37084": {
     "model_module": "@jupyter-widgets/controls",
     "model_module_version": "1.5.0",
     "model_name": "HTMLModel",
     "state": {
      "_dom_classes": [],
      "_model_module": "@jupyter-widgets/controls",
      "_model_module_version": "1.5.0",
      "_model_name": "HTMLModel",
      "_view_count": null,
      "_view_module": "@jupyter-widgets/controls",
      "_view_module_version": "1.5.0",
      "_view_name": "HTMLView",
      "description": "",
      "description_tooltip": null,
      "layout": "IPY_MODEL_8d9c4a9bfe2a4ded9c2b688451413b59",
      "placeholder": "​",
      "style": "IPY_MODEL_c72fc1f3389e4079a2c2d827e4ab2def",
      "value": " 80/80 [00:49&lt;00:00,  4.77 MiB/s]"
     }
    },
    "df5b8349317348609c4bd07ec0e9fba7": {
     "model_module": "@jupyter-widgets/base",
     "model_module_version": "1.2.0",
     "model_name": "LayoutModel",
     "state": {
      "_model_module": "@jupyter-widgets/base",
      "_model_module_version": "1.2.0",
      "_model_name": "LayoutModel",
      "_view_count": null,
      "_view_module": "@jupyter-widgets/base",
      "_view_module_version": "1.2.0",
      "_view_name": "LayoutView",
      "align_content": null,
      "align_items": null,
      "align_self": null,
      "border": null,
      "bottom": null,
      "display": null,
      "flex": null,
      "flex_flow": null,
      "grid_area": null,
      "grid_auto_columns": null,
      "grid_auto_flow": null,
      "grid_auto_rows": null,
      "grid_column": null,
      "grid_gap": null,
      "grid_row": null,
      "grid_template_areas": null,
      "grid_template_columns": null,
      "grid_template_rows": null,
      "height": null,
      "justify_content": null,
      "justify_items": null,
      "left": null,
      "margin": null,
      "max_height": null,
      "max_width": null,
      "min_height": null,
      "min_width": null,
      "object_fit": null,
      "object_position": null,
      "order": null,
      "overflow": null,
      "overflow_x": null,
      "overflow_y": null,
      "padding": null,
      "right": null,
      "top": null,
      "visibility": null,
      "width": null
     }
    },
    "df7fafafad0f4cd582f5a1a15f3beecd": {
     "model_module": "@jupyter-widgets/controls",
     "model_module_version": "1.5.0",
     "model_name": "HTMLModel",
     "state": {
      "_dom_classes": [],
      "_model_module": "@jupyter-widgets/controls",
      "_model_module_version": "1.5.0",
      "_model_name": "HTMLModel",
      "_view_count": null,
      "_view_module": "@jupyter-widgets/controls",
      "_view_module_version": "1.5.0",
      "_view_name": "HTMLView",
      "description": "",
      "description_tooltip": null,
      "layout": "IPY_MODEL_d5eaa0b0f225431d890d0b067a6eff62",
      "placeholder": "​",
      "style": "IPY_MODEL_d8a2d8016ce943129cdf253e4bef1312",
      "value": ""
     }
    },
    "e11f475ae86c4e27976a4ae27286bf78": {
     "model_module": "@jupyter-widgets/base",
     "model_module_version": "1.2.0",
     "model_name": "LayoutModel",
     "state": {
      "_model_module": "@jupyter-widgets/base",
      "_model_module_version": "1.2.0",
      "_model_name": "LayoutModel",
      "_view_count": null,
      "_view_module": "@jupyter-widgets/base",
      "_view_module_version": "1.2.0",
      "_view_name": "LayoutView",
      "align_content": null,
      "align_items": null,
      "align_self": null,
      "border": null,
      "bottom": null,
      "display": null,
      "flex": null,
      "flex_flow": null,
      "grid_area": null,
      "grid_auto_columns": null,
      "grid_auto_flow": null,
      "grid_auto_rows": null,
      "grid_column": null,
      "grid_gap": null,
      "grid_row": null,
      "grid_template_areas": null,
      "grid_template_columns": null,
      "grid_template_rows": null,
      "height": null,
      "justify_content": null,
      "justify_items": null,
      "left": null,
      "margin": null,
      "max_height": null,
      "max_width": null,
      "min_height": null,
      "min_width": null,
      "object_fit": null,
      "object_position": null,
      "order": null,
      "overflow": null,
      "overflow_x": null,
      "overflow_y": null,
      "padding": null,
      "right": null,
      "top": null,
      "visibility": null,
      "width": null
     }
    },
    "e12aa24f5f234bef8f76bb682be74261": {
     "model_module": "@jupyter-widgets/controls",
     "model_module_version": "1.5.0",
     "model_name": "ProgressStyleModel",
     "state": {
      "_model_module": "@jupyter-widgets/controls",
      "_model_module_version": "1.5.0",
      "_model_name": "ProgressStyleModel",
      "_view_count": null,
      "_view_module": "@jupyter-widgets/base",
      "_view_module_version": "1.2.0",
      "_view_name": "StyleView",
      "bar_color": null,
      "description_width": ""
     }
    },
    "e14b6c4f6c5a451ba8b2d1c7b9061983": {
     "model_module": "@jupyter-widgets/controls",
     "model_module_version": "1.5.0",
     "model_name": "HBoxModel",
     "state": {
      "_dom_classes": [],
      "_model_module": "@jupyter-widgets/controls",
      "_model_module_version": "1.5.0",
      "_model_name": "HBoxModel",
      "_view_count": null,
      "_view_module": "@jupyter-widgets/controls",
      "_view_module_version": "1.5.0",
      "_view_name": "HBoxView",
      "box_style": "",
      "children": [
       "IPY_MODEL_58fa04baffbd4a8185fa6fe0232b1b9f",
       "IPY_MODEL_6d6d1680fe74440bb7c7e34367948200",
       "IPY_MODEL_e49dd2a9f37e4e95b7d0047a8d4a530d"
      ],
      "layout": "IPY_MODEL_333ad892ef1041448dc55ee181e5ea72"
     }
    },
    "e39092d02f524013b3e7b75b8388a839": {
     "model_module": "@jupyter-widgets/controls",
     "model_module_version": "1.5.0",
     "model_name": "HTMLModel",
     "state": {
      "_dom_classes": [],
      "_model_module": "@jupyter-widgets/controls",
      "_model_module_version": "1.5.0",
      "_model_name": "HTMLModel",
      "_view_count": null,
      "_view_module": "@jupyter-widgets/controls",
      "_view_module_version": "1.5.0",
      "_view_name": "HTMLView",
      "description": "",
      "description_tooltip": null,
      "layout": "IPY_MODEL_82f54ba3a3b547e2a07394d7d81feee3",
      "placeholder": "​",
      "style": "IPY_MODEL_287afa79ad7c41878cb50c3e488c86c0",
      "value": " 24766/0 [00:10&lt;00:00, 3384.04 examples/s]"
     }
    },
    "e3b04e636b214325a49024d042462fd7": {
     "model_module": "@jupyter-widgets/controls",
     "model_module_version": "1.5.0",
     "model_name": "DescriptionStyleModel",
     "state": {
      "_model_module": "@jupyter-widgets/controls",
      "_model_module_version": "1.5.0",
      "_model_name": "DescriptionStyleModel",
      "_view_count": null,
      "_view_module": "@jupyter-widgets/base",
      "_view_module_version": "1.2.0",
      "_view_name": "StyleView",
      "description_width": ""
     }
    },
    "e49dd2a9f37e4e95b7d0047a8d4a530d": {
     "model_module": "@jupyter-widgets/controls",
     "model_module_version": "1.5.0",
     "model_name": "HTMLModel",
     "state": {
      "_dom_classes": [],
      "_model_module": "@jupyter-widgets/controls",
      "_model_module_version": "1.5.0",
      "_model_name": "HTMLModel",
      "_view_count": null,
      "_view_module": "@jupyter-widgets/controls",
      "_view_module_version": "1.5.0",
      "_view_name": "HTMLView",
      "description": "",
      "description_tooltip": null,
      "layout": "IPY_MODEL_f345c4c527b94faa829246b592ce9491",
      "placeholder": "​",
      "style": "IPY_MODEL_d1df8e9b0bef4534bad3c768ba86c22c",
      "value": " 49667/0 [00:19&lt;00:00, 3560.13 examples/s]"
     }
    },
    "e517e8551a0b470a814ac5f23b5f017c": {
     "model_module": "@jupyter-widgets/base",
     "model_module_version": "1.2.0",
     "model_name": "LayoutModel",
     "state": {
      "_model_module": "@jupyter-widgets/base",
      "_model_module_version": "1.2.0",
      "_model_name": "LayoutModel",
      "_view_count": null,
      "_view_module": "@jupyter-widgets/base",
      "_view_module_version": "1.2.0",
      "_view_name": "LayoutView",
      "align_content": null,
      "align_items": null,
      "align_self": null,
      "border": null,
      "bottom": null,
      "display": null,
      "flex": null,
      "flex_flow": null,
      "grid_area": null,
      "grid_auto_columns": null,
      "grid_auto_flow": null,
      "grid_auto_rows": null,
      "grid_column": null,
      "grid_gap": null,
      "grid_row": null,
      "grid_template_areas": null,
      "grid_template_columns": null,
      "grid_template_rows": null,
      "height": null,
      "justify_content": null,
      "justify_items": null,
      "left": null,
      "margin": null,
      "max_height": null,
      "max_width": null,
      "min_height": null,
      "min_width": null,
      "object_fit": null,
      "object_position": null,
      "order": null,
      "overflow": null,
      "overflow_x": null,
      "overflow_y": null,
      "padding": null,
      "right": null,
      "top": null,
      "visibility": null,
      "width": null
     }
    },
    "e97c174a35094678a5b420e6d33c8d27": {
     "model_module": "@jupyter-widgets/controls",
     "model_module_version": "1.5.0",
     "model_name": "HBoxModel",
     "state": {
      "_dom_classes": [],
      "_model_module": "@jupyter-widgets/controls",
      "_model_module_version": "1.5.0",
      "_model_name": "HBoxModel",
      "_view_count": null,
      "_view_module": "@jupyter-widgets/controls",
      "_view_module_version": "1.5.0",
      "_view_name": "HBoxView",
      "box_style": "",
      "children": [
       "IPY_MODEL_b4305990caf6450cbec5eb51435b4764",
       "IPY_MODEL_341762d89fad4dbaac13ba440c8c0ca6",
       "IPY_MODEL_de599885cffc45f1a51ec34f6ea37084"
      ],
      "layout": "IPY_MODEL_d47f3f57a12f473b969d86779f48d7d9"
     }
    },
    "e9a8a8b1ed74484b82d45b440629eb6b": {
     "model_module": "@jupyter-widgets/base",
     "model_module_version": "1.2.0",
     "model_name": "LayoutModel",
     "state": {
      "_model_module": "@jupyter-widgets/base",
      "_model_module_version": "1.2.0",
      "_model_name": "LayoutModel",
      "_view_count": null,
      "_view_module": "@jupyter-widgets/base",
      "_view_module_version": "1.2.0",
      "_view_name": "LayoutView",
      "align_content": null,
      "align_items": null,
      "align_self": null,
      "border": null,
      "bottom": null,
      "display": null,
      "flex": null,
      "flex_flow": null,
      "grid_area": null,
      "grid_auto_columns": null,
      "grid_auto_flow": null,
      "grid_auto_rows": null,
      "grid_column": null,
      "grid_gap": null,
      "grid_row": null,
      "grid_template_areas": null,
      "grid_template_columns": null,
      "grid_template_rows": null,
      "height": null,
      "justify_content": null,
      "justify_items": null,
      "left": null,
      "margin": null,
      "max_height": null,
      "max_width": null,
      "min_height": null,
      "min_width": null,
      "object_fit": null,
      "object_position": null,
      "order": null,
      "overflow": null,
      "overflow_x": null,
      "overflow_y": null,
      "padding": null,
      "right": null,
      "top": null,
      "visibility": null,
      "width": null
     }
    },
    "eac61bfa82474a35ad0b4bee34f6c5d4": {
     "model_module": "@jupyter-widgets/controls",
     "model_module_version": "1.5.0",
     "model_name": "ProgressStyleModel",
     "state": {
      "_model_module": "@jupyter-widgets/controls",
      "_model_module_version": "1.5.0",
      "_model_name": "ProgressStyleModel",
      "_view_count": null,
      "_view_module": "@jupyter-widgets/base",
      "_view_module_version": "1.2.0",
      "_view_name": "StyleView",
      "bar_color": null,
      "description_width": ""
     }
    },
    "eb8348d389424513bdd4d76441594de9": {
     "model_module": "@jupyter-widgets/base",
     "model_module_version": "1.2.0",
     "model_name": "LayoutModel",
     "state": {
      "_model_module": "@jupyter-widgets/base",
      "_model_module_version": "1.2.0",
      "_model_name": "LayoutModel",
      "_view_count": null,
      "_view_module": "@jupyter-widgets/base",
      "_view_module_version": "1.2.0",
      "_view_name": "LayoutView",
      "align_content": null,
      "align_items": null,
      "align_self": null,
      "border": null,
      "bottom": null,
      "display": null,
      "flex": null,
      "flex_flow": null,
      "grid_area": null,
      "grid_auto_columns": null,
      "grid_auto_flow": null,
      "grid_auto_rows": null,
      "grid_column": null,
      "grid_gap": null,
      "grid_row": null,
      "grid_template_areas": null,
      "grid_template_columns": null,
      "grid_template_rows": null,
      "height": null,
      "justify_content": null,
      "justify_items": null,
      "left": null,
      "margin": null,
      "max_height": null,
      "max_width": null,
      "min_height": null,
      "min_width": null,
      "object_fit": null,
      "object_position": null,
      "order": null,
      "overflow": null,
      "overflow_x": null,
      "overflow_y": null,
      "padding": null,
      "right": null,
      "top": null,
      "visibility": null,
      "width": null
     }
    },
    "ecc243d4f4f74657874fd2882406b152": {
     "model_module": "@jupyter-widgets/controls",
     "model_module_version": "1.5.0",
     "model_name": "DescriptionStyleModel",
     "state": {
      "_model_module": "@jupyter-widgets/controls",
      "_model_module_version": "1.5.0",
      "_model_name": "DescriptionStyleModel",
      "_view_count": null,
      "_view_module": "@jupyter-widgets/base",
      "_view_module_version": "1.2.0",
      "_view_name": "StyleView",
      "description_width": ""
     }
    },
    "ef251b9306a1409683f48f18907054a3": {
     "model_module": "@jupyter-widgets/controls",
     "model_module_version": "1.5.0",
     "model_name": "ProgressStyleModel",
     "state": {
      "_model_module": "@jupyter-widgets/controls",
      "_model_module_version": "1.5.0",
      "_model_name": "ProgressStyleModel",
      "_view_count": null,
      "_view_module": "@jupyter-widgets/base",
      "_view_module_version": "1.2.0",
      "_view_name": "StyleView",
      "bar_color": null,
      "description_width": ""
     }
    },
    "f3245d6c034e45aaaf2db0be5a481f6f": {
     "model_module": "@jupyter-widgets/controls",
     "model_module_version": "1.5.0",
     "model_name": "HBoxModel",
     "state": {
      "_dom_classes": [],
      "_model_module": "@jupyter-widgets/controls",
      "_model_module_version": "1.5.0",
      "_model_name": "HBoxModel",
      "_view_count": null,
      "_view_module": "@jupyter-widgets/controls",
      "_view_module_version": "1.5.0",
      "_view_name": "HBoxView",
      "box_style": "",
      "children": [
       "IPY_MODEL_b338714c145c41bea4101a115dfeeb89",
       "IPY_MODEL_14f599ec096440f0bfb7002ec67140cd",
       "IPY_MODEL_75170167a33e42208091437a2973ad32"
      ],
      "layout": "IPY_MODEL_d435927a5f89414fb34dc81dd1193643"
     }
    },
    "f345c4c527b94faa829246b592ce9491": {
     "model_module": "@jupyter-widgets/base",
     "model_module_version": "1.2.0",
     "model_name": "LayoutModel",
     "state": {
      "_model_module": "@jupyter-widgets/base",
      "_model_module_version": "1.2.0",
      "_model_name": "LayoutModel",
      "_view_count": null,
      "_view_module": "@jupyter-widgets/base",
      "_view_module_version": "1.2.0",
      "_view_name": "LayoutView",
      "align_content": null,
      "align_items": null,
      "align_self": null,
      "border": null,
      "bottom": null,
      "display": null,
      "flex": null,
      "flex_flow": null,
      "grid_area": null,
      "grid_auto_columns": null,
      "grid_auto_flow": null,
      "grid_auto_rows": null,
      "grid_column": null,
      "grid_gap": null,
      "grid_row": null,
      "grid_template_areas": null,
      "grid_template_columns": null,
      "grid_template_rows": null,
      "height": null,
      "justify_content": null,
      "justify_items": null,
      "left": null,
      "margin": null,
      "max_height": null,
      "max_width": null,
      "min_height": null,
      "min_width": null,
      "object_fit": null,
      "object_position": null,
      "order": null,
      "overflow": null,
      "overflow_x": null,
      "overflow_y": null,
      "padding": null,
      "right": null,
      "top": null,
      "visibility": null,
      "width": null
     }
    },
    "f4fe545d11cd40d38dc96bc0d723e5a7": {
     "model_module": "@jupyter-widgets/base",
     "model_module_version": "1.2.0",
     "model_name": "LayoutModel",
     "state": {
      "_model_module": "@jupyter-widgets/base",
      "_model_module_version": "1.2.0",
      "_model_name": "LayoutModel",
      "_view_count": null,
      "_view_module": "@jupyter-widgets/base",
      "_view_module_version": "1.2.0",
      "_view_name": "LayoutView",
      "align_content": null,
      "align_items": null,
      "align_self": null,
      "border": null,
      "bottom": null,
      "display": null,
      "flex": null,
      "flex_flow": null,
      "grid_area": null,
      "grid_auto_columns": null,
      "grid_auto_flow": null,
      "grid_auto_rows": null,
      "grid_column": null,
      "grid_gap": null,
      "grid_row": null,
      "grid_template_areas": null,
      "grid_template_columns": null,
      "grid_template_rows": null,
      "height": null,
      "justify_content": null,
      "justify_items": null,
      "left": null,
      "margin": null,
      "max_height": null,
      "max_width": null,
      "min_height": null,
      "min_width": null,
      "object_fit": null,
      "object_position": null,
      "order": null,
      "overflow": null,
      "overflow_x": null,
      "overflow_y": null,
      "padding": null,
      "right": null,
      "top": null,
      "visibility": null,
      "width": null
     }
    },
    "f680761254a74055a7380feff3dbd2b6": {
     "model_module": "@jupyter-widgets/controls",
     "model_module_version": "1.5.0",
     "model_name": "HTMLModel",
     "state": {
      "_dom_classes": [],
      "_model_module": "@jupyter-widgets/controls",
      "_model_module_version": "1.5.0",
      "_model_name": "HTMLModel",
      "_view_count": null,
      "_view_module": "@jupyter-widgets/controls",
      "_view_module_version": "1.5.0",
      "_view_name": "HTMLView",
      "description": "",
      "description_tooltip": null,
      "layout": "IPY_MODEL_ca09d0dae0094498ba22a8e666b0853d",
      "placeholder": "​",
      "style": "IPY_MODEL_ecc243d4f4f74657874fd2882406b152",
      "value": "Downloading: 100%"
     }
    },
    "fe0f2861e0b14fee8a1c183517775b0f": {
     "model_module": "@jupyter-widgets/base",
     "model_module_version": "1.2.0",
     "model_name": "LayoutModel",
     "state": {
      "_model_module": "@jupyter-widgets/base",
      "_model_module_version": "1.2.0",
      "_model_name": "LayoutModel",
      "_view_count": null,
      "_view_module": "@jupyter-widgets/base",
      "_view_module_version": "1.2.0",
      "_view_name": "LayoutView",
      "align_content": null,
      "align_items": null,
      "align_self": null,
      "border": null,
      "bottom": null,
      "display": null,
      "flex": null,
      "flex_flow": null,
      "grid_area": null,
      "grid_auto_columns": null,
      "grid_auto_flow": null,
      "grid_auto_rows": null,
      "grid_column": null,
      "grid_gap": null,
      "grid_row": null,
      "grid_template_areas": null,
      "grid_template_columns": null,
      "grid_template_rows": null,
      "height": null,
      "justify_content": null,
      "justify_items": null,
      "left": null,
      "margin": null,
      "max_height": null,
      "max_width": null,
      "min_height": null,
      "min_width": null,
      "object_fit": null,
      "object_position": null,
      "order": null,
      "overflow": null,
      "overflow_x": null,
      "overflow_y": null,
      "padding": null,
      "right": null,
      "top": null,
      "visibility": null,
      "width": null
     }
    }
   }
  }
 },
 "nbformat": 4,
 "nbformat_minor": 0
}
