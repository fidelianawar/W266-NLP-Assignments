{
 "cells": [
  {
   "cell_type": "markdown",
   "metadata": {
    "id": "Z-44Qz4-Xd1o"
   },
   "source": [
    "# Assignment 3: Fine tuning a multiclass classification BERT model\n",
    "\n",
    "**Description:** This assignment covers fine-tuning of a multiclass classification. You will compare two different types of solutions using BERT-based models. You should also be able to develop an intuition for:\n",
    "\n",
    "\n",
    "* Working with BERT\n",
    "* The effects of using different model checkpoints and fine-tuning some hyperparameters\n",
    "* Different metrics to measure the effectiveness of your model\n",
    "* The effect of partially cleaning/normalizing your training data\n",
    "\n",
    "\n",
    "\n",
    "The assignment notebook closely follows the lesson notebooks. We will use the 20 newsgroups dataset and will leverage some of the models, or part of the code, for our current investigation. \n",
    "\n",
    "**You are strongly encouraged to read through the entire notebook before answering any questions or writing any code.**\n",
    "\n",
    "The initial part of the notebook is purely setup. We will then generate our BERT model and see if and how we can improve it. \n",
    "\n",
    "Do not try to run this entire notebook on your GCP instance as the training of models requires a GPU to work in a timely fashion. This notebook should be run on a Google Colab leveraging a GPU. By default, when you open the notebook in Colab it will try to use a GPU. Total runtime of the entire notebook (with solutions and a Colab GPU) should be about 1h.\n",
    "\n",
    "\n",
    "[![Open In Colab](https://colab.research.google.com/assets/colab-badge.svg)](https://colab.research.google.com/github/datasci-w266/2022-summer-main/blob/master/assignment/a3/Multiclass_text_classification.ipynb)\n",
    "\n",
    "The overall assignment structure is as follows:\n",
    "\n",
    "1. Setup\n",
    "  \n",
    "  1.1 Libraries & Helper Functions\n",
    "\n",
    "  1.2 Data Acquisition\n",
    "\n",
    "  1.3 Training/Test/Validation Sets for BERT-based models\n",
    "\n",
    "2. Classification with a fine tuned BERT model\n",
    "\n",
    "  2.1 Create the specified BERT model\n",
    "  \n",
    "  2.2 Fine tune the BERT model as directed\n",
    "\n",
    "  2.3 Examine the predictions with various metrics\n",
    "\n",
    "3. Classification with some preprocessed data and the BERT model\n",
    "\n",
    "  3.1 Clean up the data a bit\n",
    "\n",
    "  3.2 Regenerate the data with the appropriate tokenizer\n",
    "\n",
    "  3.3 Regenerate the BERT model\n",
    "\n",
    "  3.4. Rerun the data and examine the predictions\n",
    "\n",
    "4. Try again with a different mini batch size to see if that improves performance  \n",
    "\n",
    "\n",
    "\n",
    "**INSTRUCTIONS:**: \n",
    "\n",
    "* Questions are always indicated as **QUESTION:**, so you can search for this string to make sure you answered all of the questions. You are expected to fill out, run, and submit this notebook, as well as to answer the questions in the **answers** file as you did in a1 and a2.\n",
    "\n",
    "* **### YOUR CODE HERE** indicates that you are supposed to write code.\n",
    "\n",
    "* If you want to, you can run all of the cells in section 1 in bulk. This is setup work and no questions are in there. At the end of section 1 we will state all of the relevant variables that were defined and created in section 1.\n"
   ]
  },
  {
   "cell_type": "markdown",
   "metadata": {
    "id": "NK2xTV-Xisrl"
   },
   "source": [
    "### 1. Setup\n",
    "\n",
    "Lets get all our libraries and download and process our data."
   ]
  },
  {
   "cell_type": "code",
   "execution_count": 2,
   "metadata": {
    "colab": {
     "base_uri": "https://localhost:8080/"
    },
    "id": "3gzOXaFdmgO8",
    "outputId": "17524b42-7706-4d44-bf57-61719d18b100"
   },
   "outputs": [
    {
     "name": "stdout",
     "output_type": "stream",
     "text": [
      "\u001b[K     |████████████████████████████████| 4.4 MB 8.6 MB/s \n",
      "\u001b[K     |████████████████████████████████| 596 kB 63.2 MB/s \n",
      "\u001b[K     |████████████████████████████████| 6.6 MB 52.7 MB/s \n",
      "\u001b[K     |████████████████████████████████| 101 kB 13.5 MB/s \n",
      "\u001b[?25h"
     ]
    }
   ],
   "source": [
    "!pip install -q transformers"
   ]
  },
  {
   "cell_type": "code",
   "execution_count": 3,
   "metadata": {
    "id": "ULcKJUjHmkZT"
   },
   "outputs": [],
   "source": [
    "!pip install pydot --quiet"
   ]
  },
  {
   "cell_type": "code",
   "execution_count": 4,
   "metadata": {
    "id": "aTq7Qjqbmkfv"
   },
   "outputs": [],
   "source": [
    "from sklearn.datasets import fetch_20newsgroups\n",
    "from sklearn.model_selection import train_test_split\n",
    "from sklearn.metrics import classification_report"
   ]
  },
  {
   "cell_type": "code",
   "execution_count": 5,
   "metadata": {
    "id": "-6E-xzDawK0Q"
   },
   "outputs": [],
   "source": [
    "from collections import Counter\n",
    "import numpy as np\n",
    "import tensorflow as tf\n",
    "from tensorflow import keras\n",
    "\n",
    "import seaborn as sns\n",
    "import matplotlib.pyplot as plt\n",
    "from pprint import pprint "
   ]
  },
  {
   "cell_type": "code",
   "execution_count": 6,
   "metadata": {
    "id": "99yIOuqFXMwU"
   },
   "outputs": [],
   "source": [
    "from transformers import BertTokenizer, TFBertModel"
   ]
  },
  {
   "cell_type": "code",
   "execution_count": 7,
   "metadata": {
    "id": "Rdg4Hpbu9ItX"
   },
   "outputs": [],
   "source": [
    "# 4-window plot. Small modification from matplotlib examples.\n",
    "\n",
    "def make_plot(axs, history1, \n",
    "              history2, \n",
    "              y_lim_loss_lower=0.4, \n",
    "              y_lim_loss_upper=1.6,\n",
    "              y_lim_accuracy_lower=0.4, \n",
    "              y_lim_accuracy_upper=0.9,\n",
    "              model_1_name='model 1',\n",
    "              model_2_name='model 2',\n",
    "              \n",
    "             ):\n",
    "    box = dict(facecolor='yellow', pad=5, alpha=0.2)\n",
    "\n",
    "    ax1 = axs[0, 0]\n",
    "    ax1.plot(history1.history['loss'])\n",
    "    ax1.plot(history1.history['val_loss'])\n",
    "    ax1.set_title('loss - ' + model_1_name)\n",
    "    ax1.set_ylabel('loss', bbox=box)\n",
    "    ax1.set_ylim(y_lim_loss_lower, y_lim_loss_upper)\n",
    "\n",
    "    ax3 = axs[1, 0]\n",
    "    ax3.set_title('accuracy - ' + model_1_name)\n",
    "    ax3.plot(history1.history['accuracy'])\n",
    "    ax3.plot(history1.history['val_accuracy'])\n",
    "    ax3.set_ylabel('accuracy', bbox=box)\n",
    "    ax3.set_ylim(y_lim_accuracy_lower, y_lim_accuracy_upper)\n",
    "\n",
    "\n",
    "    ax2 = axs[0, 1]\n",
    "    ax2.set_title('loss - ' + model_2_name)\n",
    "    ax2.plot(history2.history['loss'])\n",
    "    ax2.plot(history2.history['val_loss'])\n",
    "    ax2.set_ylim(y_lim_loss_lower, y_lim_loss_upper)\n",
    "\n",
    "    ax4 = axs[1, 1]\n",
    "    ax4.set_title('accuracy - ' + model_2_name)\n",
    "    ax4.plot(history2.history['accuracy'])\n",
    "    ax4.plot(history2.history['val_accuracy'])\n",
    "    ax4.set_ylim(y_lim_accuracy_lower, y_lim_accuracy_upper)"
   ]
  },
  {
   "cell_type": "code",
   "execution_count": 8,
   "metadata": {
    "id": "UWk_PZ9hmkk0"
   },
   "outputs": [],
   "source": [
    "def read_20newsgroups(test_size=0.1):\n",
    "  # download & load 20newsgroups dataset from sklearn's repos\n",
    "  dataset = fetch_20newsgroups(subset=\"all\", shuffle=True, remove=(\"headers\", \"footers\", \"quotes\"))\n",
    "  documents = dataset.data\n",
    "  labels = dataset.target\n",
    "  # split into training & testing a return data as well as label names\n",
    "  return train_test_split(documents, labels, test_size=test_size), dataset.target_names\n",
    "  \n",
    "# call the function\n",
    "(train_texts, test_texts, train_labels, test_labels), target_names = read_20newsgroups()"
   ]
  },
  {
   "cell_type": "markdown",
   "metadata": {
    "id": "8Ocyl9dnb1OM"
   },
   "source": [
    "Take a look at the records.  We basically have a long string of text and an associated label.  That label is the Usenet group where the posting occured. The records are the raw text.  They vary significantly in size."
   ]
  },
  {
   "cell_type": "code",
   "execution_count": 9,
   "metadata": {
    "colab": {
     "base_uri": "https://localhost:8080/"
    },
    "id": "O7Akxu2Umkpo",
    "outputId": "1eee96a7-3d94-41e2-e47a-7bcc8ed11fa3"
   },
   "outputs": [
    {
     "data": {
      "text/plain": [
       "['\\n\\nI saw this a few years ago on \"Tomorrow\\'s World\" (low-brow BBC\\ntechnology news program).  The patient is lowered into a bath of\\nde-ionized water and carefully positioned.  High intensity pressure\\nwaves are generated by an electric spark in the water (you don\\'t get\\nelectrocuted because de-ionised water does not conduct).  These waves are\\nfocused on the kidneys by a parabolic reflector and cause the stone to\\nbreak up.  This is completely painless.\\n\\nOf course, you then have to get these little bits of gravel through\\nthe urethra.  Ouch!\\n\\nPaul.\\n',\n",
       " \"\\n   I suppose a foul ball machine (like Brett Butler) is pretty valuable,\\n   but I'd rather watch (and root for) the lower OBP guys who can\\n   actually hit the ball.\\n\\nAnd I'd rather watch (and root for) a team that scores lots of runs\\nand wins games.\\n\\nOf course, I'm rooting for the Rockies and Andres anyway.  But that's\\nfor irrational hometown reaons.  I also root for Frank Thomas. :)\"]"
      ]
     },
     "execution_count": 9,
     "metadata": {},
     "output_type": "execute_result"
    }
   ],
   "source": [
    "train_texts[:2]"
   ]
  },
  {
   "cell_type": "markdown",
   "metadata": {
    "id": "1eKIgSBdcHy9"
   },
   "source": [
    "Notice the \"labels\" are just integers that are an offset into the list of target names."
   ]
  },
  {
   "cell_type": "code",
   "execution_count": 10,
   "metadata": {
    "colab": {
     "base_uri": "https://localhost:8080/"
    },
    "id": "KRnu9CSQnMNN",
    "outputId": "2f7e84c2-9a0b-470e-c97f-9742e970ff14"
   },
   "outputs": [
    {
     "data": {
      "text/plain": [
       "array([13,  9])"
      ]
     },
     "execution_count": 10,
     "metadata": {},
     "output_type": "execute_result"
    }
   ],
   "source": [
    "train_labels[:2]"
   ]
  },
  {
   "cell_type": "markdown",
   "metadata": {
    "id": "F-ksEnmbcWBt"
   },
   "source": [
    "The variable ''target_names'' stores all of the names of the labels."
   ]
  },
  {
   "cell_type": "code",
   "execution_count": 11,
   "metadata": {
    "colab": {
     "base_uri": "https://localhost:8080/"
    },
    "id": "qvNAnCstx-3S",
    "outputId": "68d21580-624e-4029-c0eb-bf134d029bb0"
   },
   "outputs": [
    {
     "name": "stdout",
     "output_type": "stream",
     "text": [
      "['alt.atheism', 'comp.graphics', 'comp.os.ms-windows.misc', 'comp.sys.ibm.pc.hardware', 'comp.sys.mac.hardware', 'comp.windows.x', 'misc.forsale', 'rec.autos', 'rec.motorcycles', 'rec.sport.baseball', 'rec.sport.hockey', 'sci.crypt', 'sci.electronics', 'sci.med', 'sci.space', 'soc.religion.christian', 'talk.politics.guns', 'talk.politics.mideast', 'talk.politics.misc', 'talk.religion.misc']\n"
     ]
    }
   ],
   "source": [
    "print(target_names)"
   ]
  },
  {
   "cell_type": "markdown",
   "metadata": {
    "id": "m1SmEVYOcwP6"
   },
   "source": [
    "We already have a test set and a train set.  Let's explicitly set aside part of our training set for validation purposes."
   ]
  },
  {
   "cell_type": "code",
   "execution_count": 12,
   "metadata": {
    "id": "H1toWirQAAZ8"
   },
   "outputs": [],
   "source": [
    "len(train_texts)\n",
    "valid_texts = train_texts[16000:]\n",
    "valid_labels = train_labels[16000:]\n",
    "train_texts = train_texts[:16000]\n",
    "train_labels = train_labels[:16000]"
   ]
  },
  {
   "cell_type": "markdown",
   "metadata": {
    "id": "aBMiGVwHc76-"
   },
   "source": [
    "The validation set will always have 961 records."
   ]
  },
  {
   "cell_type": "code",
   "execution_count": 13,
   "metadata": {
    "colab": {
     "base_uri": "https://localhost:8080/"
    },
    "id": "bzuXsJjwAAOr",
    "outputId": "20202949-9a3f-4c62-bac4-8577ab880d52"
   },
   "outputs": [
    {
     "data": {
      "text/plain": [
       "961"
      ]
     },
     "execution_count": 13,
     "metadata": {},
     "output_type": "execute_result"
    }
   ],
   "source": [
    "len(valid_texts)"
   ]
  },
  {
   "cell_type": "markdown",
   "metadata": {
    "id": "SBy5EKYwdBcZ"
   },
   "source": [
    "The training set will always have 16000 records."
   ]
  },
  {
   "cell_type": "code",
   "execution_count": 14,
   "metadata": {
    "colab": {
     "base_uri": "https://localhost:8080/"
    },
    "id": "MMVgiD8SCHUk",
    "outputId": "40bcefd2-0e2d-4488-b47e-1a5876732ac3"
   },
   "outputs": [
    {
     "data": {
      "text/plain": [
       "16000"
      ]
     },
     "execution_count": 14,
     "metadata": {},
     "output_type": "execute_result"
    }
   ],
   "source": [
    "len(train_texts)"
   ]
  },
  {
   "cell_type": "code",
   "execution_count": 15,
   "metadata": {
    "id": "mFISqjoM335H"
   },
   "outputs": [],
   "source": [
    "#get the labels in a needed data format for validation\n",
    "npvalid_labels = np.asarray(valid_labels)"
   ]
  },
  {
   "cell_type": "markdown",
   "metadata": {
    "id": "d3T5uytRdK7I"
   },
   "source": [
    "* train_texts - an array of text strings for training\n",
    "* test_texts - an array of text strings for testing \n",
    "* valid texts - an array of text strings for validation\n",
    "* train_labels - an array of integers representing the labels associated with train_texts\n",
    "* test_labels - an array of integers representing the labels associated with test_texts\n",
    "* valid_labels - an array of integers representing the labels associated with valid_texts\n",
    "* target_names - an array of label strings that correspond to the integers in the *_labels arrays\n",
    "\n",
    "### 2. Classification with a fine tuned BERT model\n",
    "\n",
    "Let's pick our BERT model.  We'll start with the base BERT model and we'll use the cased version since our data has capital and lower case letters."
   ]
  },
  {
   "cell_type": "code",
   "execution_count": 16,
   "metadata": {
    "id": "zjFWaM2ZnMIC"
   },
   "outputs": [],
   "source": [
    "#make it easier to use a variety of BERT subword models\n",
    "model_checkpoint = 'bert-base-cased'"
   ]
  },
  {
   "cell_type": "code",
   "execution_count": 17,
   "metadata": {
    "colab": {
     "base_uri": "https://localhost:8080/",
     "height": 255,
     "referenced_widgets": [
      "30a5915a735f48f58496ca726c1243f3",
      "bade5d1753ee4e959222934578dfae12",
      "4d254fe3d6cf4cdab5db790c7acbcc8a",
      "5456863bd9aa447d93646d202cf47628",
      "bd84b3376de34f558ca34dcefeee7055",
      "383bbac30a0149f8a3ebae4fb83c5ef3",
      "86aaba42a0044faf819a75d6aab37386",
      "b6cfd14efa014233809a02f0b9399bbc",
      "a02da9eedddd40eaaa47ea5e7b04498c",
      "5349570efac14eabba68d1666d598c51",
      "ea18b41e67234190917aac901d2d8670",
      "2043abb4d55347d7b696fbc361accbc2",
      "32193068dffa4b0f8d44c222da8dfa97",
      "1f5fb0c058874b0189e01bd2907263fb",
      "bd6c6410b33f41c095e1166659884e12",
      "de142906dc934418821767af368e68d3",
      "fc5ac88148184226b28fc7c706ed6689",
      "257088bc80fd4c26832512d920609d67",
      "cc2d9163c09a4bfabd14030e9431fba0",
      "391eadfa93a243e8addc466fa0dd1b04",
      "b852629bc4984b04a80ffe7bfadd4e61",
      "ca00fe48736e465c80c6d62d4989db75",
      "02a9750f9fdb4239a5bcc057b91f92e0",
      "f58723cad853437998b7aba71f3864c0",
      "17548b97850e4fe3b6eab52e642da867",
      "6150b98e70764ae7b91ea2e14a488245",
      "3ce72fd08ad549d7a6e9befa38af50dc",
      "47c1fbb6ff2c482a87a1ba7d76b000de",
      "d7d50abafee444bbb98883238ec92b8a",
      "691e411a81ac44b7b0c3e55e228b5cb3",
      "5223cf7c94764d08ba3aad619344edce",
      "c822f598c5b3411e809be2f74bde9d0b",
      "65a82ba42c234edd9e1ebbde749d8929",
      "b24a72a81d354db5ba55765ba6095e7b",
      "4c37b6fa4be34d4d9d763059db7dd727",
      "2aeb0659118a40259b7b130fcf7c31fc",
      "b3ecd164af7e4d16861ce718e6875b9e",
      "86c4a3f762384058b15e5dbffa645cd1",
      "6221a97ae0654950a1d3da4d14479433",
      "64e73a897ba244faaf8b622f9624fd37",
      "23774c41f47a418685d1110404237951",
      "23ea0202dedf4fe2aaeca547cd5eab18",
      "c2c088b66b0b4c528da4e2e9c21408cd",
      "872b831c1cfa4d5398879fff99eb868d"
     ]
    },
    "id": "-7gV_GUdn9Ck",
    "outputId": "5f78e1d5-8ea0-43cc-a24f-96b2f3c94c0e"
   },
   "outputs": [
    {
     "data": {
      "application/vnd.jupyter.widget-view+json": {
       "model_id": "30a5915a735f48f58496ca726c1243f3",
       "version_major": 2,
       "version_minor": 0
      },
      "text/plain": [
       "Downloading:   0%|          | 0.00/208k [00:00<?, ?B/s]"
      ]
     },
     "metadata": {},
     "output_type": "display_data"
    },
    {
     "data": {
      "application/vnd.jupyter.widget-view+json": {
       "model_id": "2043abb4d55347d7b696fbc361accbc2",
       "version_major": 2,
       "version_minor": 0
      },
      "text/plain": [
       "Downloading:   0%|          | 0.00/29.0 [00:00<?, ?B/s]"
      ]
     },
     "metadata": {},
     "output_type": "display_data"
    },
    {
     "data": {
      "application/vnd.jupyter.widget-view+json": {
       "model_id": "02a9750f9fdb4239a5bcc057b91f92e0",
       "version_major": 2,
       "version_minor": 0
      },
      "text/plain": [
       "Downloading:   0%|          | 0.00/570 [00:00<?, ?B/s]"
      ]
     },
     "metadata": {},
     "output_type": "display_data"
    },
    {
     "data": {
      "application/vnd.jupyter.widget-view+json": {
       "model_id": "b24a72a81d354db5ba55765ba6095e7b",
       "version_major": 2,
       "version_minor": 0
      },
      "text/plain": [
       "Downloading:   0%|          | 0.00/502M [00:00<?, ?B/s]"
      ]
     },
     "metadata": {},
     "output_type": "display_data"
    },
    {
     "name": "stderr",
     "output_type": "stream",
     "text": [
      "Some layers from the model checkpoint at bert-base-cased were not used when initializing TFBertModel: ['nsp___cls', 'mlm___cls']\n",
      "- This IS expected if you are initializing TFBertModel from the checkpoint of a model trained on another task or with another architecture (e.g. initializing a BertForSequenceClassification model from a BertForPreTraining model).\n",
      "- This IS NOT expected if you are initializing TFBertModel from the checkpoint of a model that you expect to be exactly identical (initializing a BertForSequenceClassification model from a BertForSequenceClassification model).\n",
      "All the layers of TFBertModel were initialized from the model checkpoint at bert-base-cased.\n",
      "If your task is similar to the task the model of the checkpoint was trained on, you can already use TFBertModel for predictions without further training.\n"
     ]
    }
   ],
   "source": [
    "bert_tokenizer = BertTokenizer.from_pretrained(model_checkpoint)\n",
    "bert_model = TFBertModel.from_pretrained(model_checkpoint)"
   ]
  },
  {
   "cell_type": "markdown",
   "metadata": {
    "id": "ZJGkIHSHdilH"
   },
   "source": [
    "We're setting our maximum training record length to 200.  BERT models can handle more and after you've completed the assignment you're welcome to try larger and small sized records."
   ]
  },
  {
   "cell_type": "code",
   "execution_count": 18,
   "metadata": {
    "id": "h_59AaVznMCV"
   },
   "outputs": [],
   "source": [
    "max_length = 200"
   ]
  },
  {
   "cell_type": "markdown",
   "metadata": {
    "id": "n6d54_bqd58L"
   },
   "source": [
    "Now we'll tokenize our three data slices.  This will take a minute or two."
   ]
  },
  {
   "cell_type": "code",
   "execution_count": 19,
   "metadata": {
    "id": "bgv0nftinL6z"
   },
   "outputs": [],
   "source": [
    "# tokenize the dataset, truncate when passed `max_length`, \n",
    "# and pad with 0's when less than `max_length` and return a tf Tensor\n",
    "train_encodings = bert_tokenizer(train_texts, truncation=True, padding=True, max_length=max_length, return_tensors='tf')\n",
    "valid_encodings = bert_tokenizer(valid_texts, truncation=True, padding=True, max_length=max_length, return_tensors='tf')\n",
    "test_encodings = bert_tokenizer(test_texts, truncation=True, padding=True, max_length=max_length, return_tensors='tf')"
   ]
  },
  {
   "cell_type": "markdown",
   "metadata": {
    "id": "2gNS0Fi0emN8"
   },
   "source": [
    "Notice our input_ids for the first training record and their padding. The train_encodings also includes an array of token_type_ids and an attention_mask array. "
   ]
  },
  {
   "cell_type": "code",
   "execution_count": 20,
   "metadata": {
    "colab": {
     "base_uri": "https://localhost:8080/"
    },
    "id": "XFEXxgAmnLve",
    "outputId": "64eb759d-8935-49bd-e1c7-50febb080c18"
   },
   "outputs": [
    {
     "data": {
      "text/plain": [
       "<tf.Tensor: shape=(1, 200), dtype=int32, numpy=\n",
       "array([[  101,   146,  1486,  1142,   170,  1374,  1201,  2403,  1113,\n",
       "          107, 10656,   112,   188,  1291,   107,   113,  1822,   118,\n",
       "         8001,  3173,  2815,  2371,  1788,   114,   119,  1109,  5351,\n",
       "         1110,  6069,  1154,   170, 10919,  1104,  1260,   118, 14469,\n",
       "         2200,  1447,  1105,  4727, 11059,   119,  1693,  7657,  2997,\n",
       "         5685,  1132,  6455,  1118,  1126,  3651, 14798,  1107,  1103,\n",
       "         1447,   113,  1128,  1274,   112,   189,  1243, 24266, 26357,\n",
       "         1272,  1260,   118, 14469,  3673,  1447,  1674,  1136,  5880,\n",
       "          114,   119,  1636,  5685,  1132,  3378,  1113,  1103, 16042,\n",
       "         1116,  1118,   170, 18311, 21022,  7977,  1766,  1105,  2612,\n",
       "         1103,  2576,  1106,  2549,  1146,   119,  1188,  1110,  2423,\n",
       "         2489,  2008,   119,  2096,  1736,   117,  1128,  1173,  1138,\n",
       "         1106,  1243,  1292,  1376,  9182,  1104, 11898,  1194,  1103,\n",
       "          190,  8127, 20955,   119,   152,  9827,   106,  1795,   119,\n",
       "          102,     0,     0,     0,     0,     0,     0,     0,     0,\n",
       "            0,     0,     0,     0,     0,     0,     0,     0,     0,\n",
       "            0,     0,     0,     0,     0,     0,     0,     0,     0,\n",
       "            0,     0,     0,     0,     0,     0,     0,     0,     0,\n",
       "            0,     0,     0,     0,     0,     0,     0,     0,     0,\n",
       "            0,     0,     0,     0,     0,     0,     0,     0,     0,\n",
       "            0,     0,     0,     0,     0,     0,     0,     0,     0,\n",
       "            0,     0,     0,     0,     0,     0,     0,     0,     0,\n",
       "            0,     0]], dtype=int32)>"
      ]
     },
     "execution_count": 20,
     "metadata": {},
     "output_type": "execute_result"
    }
   ],
   "source": [
    "train_encodings.input_ids[:1]"
   ]
  },
  {
   "cell_type": "markdown",
   "metadata": {
    "id": "23lwfDw2T6gI"
   },
   "source": [
    "Write a function to create this multiclass bert model.\n",
    "\n",
    "Keep in mind the following:\n",
    "* Each record can have one of n labels where n = the size of target_names.\n",
    "* We'll still want a hidden size layer of size 100\n",
    "* We'll also want dropout\n",
    "* Our classification layer will need to be appropriately sized and use the correct non-linearity for a multi-class problem.\n",
    "* Since we have multiple labels we can no longer use binary cross entropy.  Instead we need to change our loss metric to a categorical cross entropy.  Which of the two categorical cross entropy metrics will work best here? \n"
   ]
  },
  {
   "cell_type": "code",
   "execution_count": null,
   "metadata": {
    "id": "RtWMrLi4tIun"
   },
   "outputs": [],
   "source": [
    "def create_bert_multiclass_model(train_layers=-1,\n",
    "                          hidden_size = 100, \n",
    "                          dropout=0.3,\n",
    "                          learning_rate=0.00005):\n",
    "    \"\"\"\n",
    "    Build a simple classification model with BERT. Use the Pooled Output for classification purposes.\n",
    "    \"\"\"\n",
    "    ### YOUR CODE HERE\n",
    "\n",
    "    #restrict training to the train_layers outer transformer layers\n",
    "    if not train_layers == -1:\n",
    "\n",
    "            retrain_layers = []\n",
    "\n",
    "            for retrain_layer_number in range(train_layers):\n",
    "\n",
    "                layer_code = '_' + str(11 - retrain_layer_number)\n",
    "                retrain_layers.append(layer_code)\n",
    "\n",
    "            for w in bert_model.weights:\n",
    "                if not any([x in w.name for x in retrain_layers]):\n",
    "                    w._trainable = False\n",
    "\n",
    "    input_ids = tf.keras.layers.Input(shape=(max_length,), dtype=tf.int64, name='input_ids_layer') #--SOLUTION--\n",
    "    token_type_ids = tf.keras.layers.Input(shape=(max_length,), dtype=tf.int64, name='token_type_ids_layer')\n",
    "    attention_mask = tf.keras.layers.Input(shape=(max_length,), dtype=tf.int64, name='attention_mask_layer')\n",
    "\n",
    "    ##bert_inputs = {'input_ids': input_ids,\n",
    "    #              'token_type_ids': token_type_ids,\n",
    "    #              'attention_mask': attention_mask\n",
    "    #               }\n",
    "\n",
    "    #bert_out = bert_model([input_ids, token_type_ids, attention_mask])\n",
    "\n",
    "    \n",
    "    bert_inputs = {'input_ids': input_ids,\n",
    "                   'token_type_ids': token_type_ids,\n",
    "                   'attention_mask': attention_mask}         \n",
    "\n",
    "    bert_out = bert_model(bert_inputs) \n",
    "\n",
    "    pooled_token = bert_out[1]\n",
    "\n",
    "    hidden = tf.keras.layers.Dense(hidden_size, activation='relu', name='hidden_layer')(pooled_token)\n",
    "    hidden = tf.keras.layers.Dropout(dropout)(hidden)  \n",
    "\n",
    "    classification = tf.keras.layers.Dense(len(target_names), activation='sigmoid', name='classification_layer')(hidden)\n",
    "\n",
    "    classification_model = tf.keras.Model(inputs=[input_ids, token_type_ids, attention_mask], outputs=[classification])\n",
    "    \n",
    "    classification_model.compile(optimizer=tf.keras.optimizers.Adam(learning_rate=learning_rate),\n",
    "                                 loss = tf.keras.losses.SparseCategoricalCrossentropy(from_logits=True),\n",
    "                                 metrics='accuracy') \n",
    "    ### END YOUR CODE\n",
    "    return classification_model"
   ]
  },
  {
   "cell_type": "code",
   "execution_count": null,
   "metadata": {
    "id": "uR-Id158tIlH"
   },
   "outputs": [],
   "source": [
    "pooled_bert_model = create_bert_multiclass_model()"
   ]
  },
  {
   "cell_type": "code",
   "execution_count": null,
   "metadata": {
    "colab": {
     "base_uri": "https://localhost:8080/"
    },
    "id": "bMxpO16-tIaE",
    "outputId": "aa9e69f7-c4c3-45a3-ba6b-0d472e329dc9"
   },
   "outputs": [
    {
     "name": "stdout",
     "output_type": "stream",
     "text": [
      "Model: \"model\"\n",
      "__________________________________________________________________________________________________\n",
      " Layer (type)                   Output Shape         Param #     Connected to                     \n",
      "==================================================================================================\n",
      " attention_mask_layer (InputLay  [(None, 200)]       0           []                               \n",
      " er)                                                                                              \n",
      "                                                                                                  \n",
      " input_ids_layer (InputLayer)   [(None, 200)]        0           []                               \n",
      "                                                                                                  \n",
      " token_type_ids_layer (InputLay  [(None, 200)]       0           []                               \n",
      " er)                                                                                              \n",
      "                                                                                                  \n",
      " tf_bert_model (TFBertModel)    TFBaseModelOutputWi  108310272   ['attention_mask_layer[0][0]',   \n",
      "                                thPoolingAndCrossAt               'input_ids_layer[0][0]',        \n",
      "                                tentions(last_hidde               'token_type_ids_layer[0][0]']   \n",
      "                                n_state=(None, 200,                                               \n",
      "                                 768),                                                            \n",
      "                                 pooler_output=(Non                                               \n",
      "                                e, 768),                                                          \n",
      "                                 past_key_values=No                                               \n",
      "                                ne, hidden_states=N                                               \n",
      "                                one, attentions=Non                                               \n",
      "                                e, cross_attentions                                               \n",
      "                                =None)                                                            \n",
      "                                                                                                  \n",
      " hidden_layer (Dense)           (None, 100)          76900       ['tf_bert_model[0][1]']          \n",
      "                                                                                                  \n",
      " dropout_37 (Dropout)           (None, 100)          0           ['hidden_layer[0][0]']           \n",
      "                                                                                                  \n",
      " classification_layer (Dense)   (None, 20)           2020        ['dropout_37[0][0]']             \n",
      "                                                                                                  \n",
      "==================================================================================================\n",
      "Total params: 108,389,192\n",
      "Trainable params: 108,389,192\n",
      "Non-trainable params: 0\n",
      "__________________________________________________________________________________________________\n"
     ]
    }
   ],
   "source": [
    "pooled_bert_model.summary()"
   ]
  },
  {
   "cell_type": "markdown",
   "metadata": {
    "id": "5chyZZnHdlf9"
   },
   "source": [
    "**QUESTION:** 2.1 How many trainable parameters are in your dense hidden layer? 76900  \n",
    "\n",
    "**QUESTION:** 2.2 How many trainable parameters are in your classification layer? 2020"
   ]
  },
  {
   "cell_type": "code",
   "execution_count": null,
   "metadata": {
    "colab": {
     "base_uri": "https://localhost:8080/",
     "height": 267
    },
    "id": "xe3tTWX6FVZL",
    "outputId": "35e08faf-68b2-4db8-cfcd-f92bf6284121"
   },
   "outputs": [
    {
     "data": {
      "image/png": "[encoded data removed]",
      "text/plain": [
       "<IPython.core.display.Image object>"
      ]
     },
     "execution_count": 24,
     "metadata": {},
     "output_type": "execute_result"
    }
   ],
   "source": [
    "keras.utils.plot_model(pooled_bert_model, show_shapes=True, dpi=90)"
   ]
  },
  {
   "cell_type": "code",
   "execution_count": null,
   "metadata": {
    "colab": {
     "base_uri": "https://localhost:8080/"
    },
    "id": "aLLjb3mOtICy",
    "outputId": "94a66354-7155-406b-d22e-5ad7a724bd6f"
   },
   "outputs": [
    {
     "name": "stderr",
     "output_type": "stream",
     "text": [
      "/usr/local/lib/python3.7/dist-packages/tensorflow/python/util/dispatch.py:1082: UserWarning: \"`sparse_categorical_crossentropy` received `from_logits=True`, but the `output` argument was produced by a sigmoid or softmax activation and thus does not represent logits. Was this intended?\"\n",
      "  return dispatch_target(*args, **kwargs)\n"
     ]
    },
    {
     "name": "stdout",
     "output_type": "stream",
     "text": [
      "2000/2000 [==============================] - 716s 352ms/step - loss: 1.4890 - accuracy: 0.5621 - val_loss: 1.0356 - val_accuracy: 0.6941\n"
     ]
    }
   ],
   "source": [
    "#It takes 10 to 14 minutes to complete an epoch when using a GPU\n",
    "pooled_bert_model_history_8 = pooled_bert_model.fit([train_encodings.input_ids, train_encodings.token_type_ids, train_encodings.attention_mask], \n",
    "                                                  train_labels,   \n",
    "                                                  validation_data=([valid_encodings.input_ids, valid_encodings.token_type_ids, valid_encodings.attention_mask], \n",
    "                                                  npvalid_labels),    \n",
    "                                                  batch_size=8, \n",
    "                                                  epochs=1)  "
   ]
  },
  {
   "cell_type": "code",
   "execution_count": null,
   "metadata": {
    "colab": {
     "base_uri": "https://localhost:8080/"
    },
    "id": "gSeVbp1dqEK_",
    "outputId": "edb1f795-491a-4dee-9dbb-03b68ee724ad"
   },
   "outputs": [
    {
     "name": "stderr",
     "output_type": "stream",
     "text": [
      "/usr/local/lib/python3.7/dist-packages/tensorflow/python/util/dispatch.py:1082: UserWarning: \"`sparse_categorical_crossentropy` received `from_logits=True`, but the `output` argument was produced by a sigmoid or softmax activation and thus does not represent logits. Was this intended?\"\n",
      "  return dispatch_target(*args, **kwargs)\n"
     ]
    },
    {
     "name": "stdout",
     "output_type": "stream",
     "text": [
      "1000/1000 [==============================] - 671s 665ms/step - loss: 0.8635 - accuracy: 0.7467 - val_loss: 0.8560 - val_accuracy: 0.7419\n"
     ]
    }
   ],
   "source": [
    "#It takes 10 to 14 minutes to complete an epoch when using a GPU\n",
    "pooled_bert_model_history_16 = pooled_bert_model.fit([train_encodings.input_ids, train_encodings.token_type_ids, train_encodings.attention_mask], \n",
    "                                                  train_labels,   \n",
    "                                                  validation_data=([valid_encodings.input_ids, valid_encodings.token_type_ids, valid_encodings.attention_mask], \n",
    "                                                  npvalid_labels),    \n",
    "                                                  batch_size=16, \n",
    "                                                  epochs=1)  "
   ]
  },
  {
   "cell_type": "markdown",
   "metadata": {
    "id": "rdHlOd4LJUOH"
   },
   "source": [
    "Now we need to run evaluate against our fine-tuned model.  This will give us an overall accuracy based on the test set."
   ]
  },
  {
   "cell_type": "code",
   "execution_count": null,
   "metadata": {
    "colab": {
     "base_uri": "https://localhost:8080/"
    },
    "id": "dPQn2tJPEGdU",
    "outputId": "7f56cfd5-5364-4ef1-fb75-1703f5a460e5"
   },
   "outputs": [
    {
     "name": "stdout",
     "output_type": "stream",
     "text": [
      "59/59 [==============================] - 26s 438ms/step - loss: 1.1026 - accuracy: 0.6716\n",
      "Test loss: 1.102589726448059\n",
      "Test accuracy: 0.6716180443763733\n"
     ]
    }
   ],
   "source": [
    "#batch 8, ML=200\n",
    "score = pooled_bert_model.evaluate([test_encodings.input_ids, test_encodings.token_type_ids, test_encodings.attention_mask], \n",
    "                                                  test_labels) \n",
    "\n",
    "print('Test loss:', score[0]) \n",
    "print('Test accuracy:', score[1])"
   ]
  },
  {
   "cell_type": "code",
   "execution_count": null,
   "metadata": {
    "colab": {
     "base_uri": "https://localhost:8080/"
    },
    "id": "uZHbjT9gEoDZ",
    "outputId": "1a0d6359-4168-458c-a3fa-e1327e28a479"
   },
   "outputs": [
    {
     "name": "stdout",
     "output_type": "stream",
     "text": [
      "59/59 [==============================] - 26s 442ms/step - loss: 0.9877 - accuracy: 0.7114\n",
      "Test loss: 0.9876919388771057\n",
      "Test accuracy: 0.7114058136940002\n"
     ]
    }
   ],
   "source": [
    "#batch 16, ML=200\n",
    "score = pooled_bert_model.evaluate([test_encodings.input_ids, test_encodings.token_type_ids, test_encodings.attention_mask], \n",
    "                                                  test_labels) \n",
    "\n",
    "print('Test loss:', score[0]) \n",
    "print('Test accuracy:', score[1])"
   ]
  },
  {
   "cell_type": "markdown",
   "metadata": {
    "id": "3CnyZsXLfLJt"
   },
   "source": [
    "**QUESTION:** 2.3 What is the Test accuracy score you get from your model with a batch size of 8? (Just copy and paste the value into the answers sheet and round to five significant digits.) 0.67162"
   ]
  },
  {
   "cell_type": "code",
   "execution_count": null,
   "metadata": {
    "id": "NS7Gp_IYEiJ_"
   },
   "outputs": [],
   "source": [
    "#run predict for the first three elements in the test data set\n",
    "predictions = pooled_bert_model.predict([test_encodings.input_ids[:3], test_encodings.token_type_ids[:3], test_encodings.attention_mask[:3]])"
   ]
  },
  {
   "cell_type": "code",
   "execution_count": null,
   "metadata": {
    "colab": {
     "base_uri": "https://localhost:8080/"
    },
    "id": "ymGM8QnpchnC",
    "outputId": "bf59d152-ca69-454f-e4b2-da45379a05a4"
   },
   "outputs": [
    {
     "data": {
      "text/plain": [
       "array([[0.17646836, 0.8508868 , 0.9213056 , 0.9519139 , 0.5910483 ,\n",
       "        0.20457752, 0.5001679 , 0.32555935, 0.18640374, 0.09634408,\n",
       "        0.04824606, 0.8954679 , 0.86881214, 0.12848747, 0.2738763 ,\n",
       "        0.20150867, 0.25230396, 0.17851786, 0.20908052, 0.3658493 ],\n",
       "       [0.0865555 , 0.34523457, 0.37723   , 0.2533444 , 0.11982042,\n",
       "        0.07422915, 0.16106229, 0.50065345, 0.0856825 , 0.0274203 ,\n",
       "        0.06020093, 0.99978083, 0.7568118 , 0.42429534, 0.36970198,\n",
       "        0.17194428, 0.66915935, 0.17260581, 0.2724434 , 0.4216314 ],\n",
       "       [0.38818866, 0.08951665, 0.19895498, 0.06892935, 0.08748294,\n",
       "        0.34368962, 0.18673083, 0.21935625, 0.33452275, 0.2146962 ,\n",
       "        0.35647777, 0.76109666, 0.41601437, 0.3630512 , 0.6369548 ,\n",
       "        0.08509275, 0.99843127, 0.41148326, 0.94643   , 0.7267671 ]],\n",
       "      dtype=float32)"
      ]
     },
     "execution_count": 34,
     "metadata": {},
     "output_type": "execute_result"
    }
   ],
   "source": [
    "predictions"
   ]
  },
  {
   "cell_type": "code",
   "execution_count": null,
   "metadata": {
    "colab": {
     "base_uri": "https://localhost:8080/"
    },
    "id": "-ahMJ-zwEiCs",
    "outputId": "68f92a33-2c14-4388-9eab-4aa65602f883"
   },
   "outputs": [
    {
     "data": {
      "text/plain": [
       "<tf.Tensor: shape=(1885,), dtype=int64, numpy=array([ 3, 11, 16, ...,  1, 17, 13])>"
      ]
     },
     "execution_count": 35,
     "metadata": {},
     "output_type": "execute_result"
    }
   ],
   "source": [
    "#run and capture all predictions from our test set using model.predict\n",
    "### YOUR CODE HERE\n",
    "predictions = pooled_bert_model.predict([test_encodings.input_ids, test_encodings.token_type_ids, test_encodings.attention_mask])\n",
    "### END YOUR CODE\n",
    "\n",
    "#now we need to get the highest probability in the distribution for each prediction\n",
    "#and store that in a tf.Tensor\n",
    "predictions = tf.argmax(predictions, axis=-1)\n",
    "predictions"
   ]
  },
  {
   "cell_type": "markdown",
   "metadata": {
    "id": "LGI8oA6fMWTI"
   },
   "source": [
    "There are two ways to see what's going on with our classifier.  Overall accuracy is interesting but it can be misleading.  We need to make sure that each of our categories' prediction performance is operating at an equal or higher level than the overall.\n",
    "\n",
    "Here we'll use the classification report from scikit learn.  It expects two inputs as arrays.  One is the ground truth (y_true) and the other is the associated prediction (y_pred).  This is based on gethering all the predictions from our our test set."
   ]
  },
  {
   "cell_type": "code",
   "execution_count": null,
   "metadata": {
    "colab": {
     "base_uri": "https://localhost:8080/"
    },
    "id": "wPqioIbh2XIE",
    "outputId": "fbcd1d6e-1639-4c47-efee-d98c46e71cd9"
   },
   "outputs": [
    {
     "name": "stdout",
     "output_type": "stream",
     "text": [
      "                          precision    recall  f1-score   support\n",
      "\n",
      "             alt.atheism       0.46      0.57      0.51        68\n",
      "           comp.graphics       0.57      0.73      0.64        93\n",
      " comp.os.ms-windows.misc       0.76      0.68      0.72       114\n",
      "comp.sys.ibm.pc.hardware       0.61      0.62      0.62       101\n",
      "   comp.sys.mac.hardware       0.89      0.46      0.60        92\n",
      "          comp.windows.x       0.86      0.77      0.81       103\n",
      "            misc.forsale       0.76      0.80      0.78        86\n",
      "               rec.autos       0.80      0.71      0.75        93\n",
      "         rec.motorcycles       0.76      0.67      0.71        97\n",
      "      rec.sport.baseball       0.88      0.76      0.82        84\n",
      "        rec.sport.hockey       0.51      0.99      0.68        91\n",
      "               sci.crypt       0.79      0.76      0.78       101\n",
      "         sci.electronics       0.60      0.75      0.67       114\n",
      "                 sci.med       0.92      0.89      0.91       103\n",
      "               sci.space       0.75      0.78      0.77        99\n",
      "  soc.religion.christian       0.78      0.77      0.78       117\n",
      "      talk.politics.guns       0.68      0.78      0.72        89\n",
      "   talk.politics.mideast       0.83      0.83      0.83       105\n",
      "      talk.politics.misc       0.65      0.53      0.59        73\n",
      "      talk.religion.misc       0.25      0.03      0.06        62\n",
      "\n",
      "                accuracy                           0.71      1885\n",
      "               macro avg       0.71      0.69      0.69      1885\n",
      "            weighted avg       0.72      0.71      0.70      1885\n",
      "\n"
     ]
    }
   ],
   "source": [
    "print(classification_report(test_labels, predictions.numpy(), target_names=target_names))"
   ]
  },
  {
   "cell_type": "markdown",
   "metadata": {
    "id": "ddMMQ2vBOJKj"
   },
   "source": [
    "**QUESTION:** 2.4 What is the macro average f1 score you get from the classification report for batch size 8? 0.65\n",
    "\n",
    "Now we'll generate another very valuable visualization of what's happening with our classifier -- a confusion matrix."
   ]
  },
  {
   "cell_type": "code",
   "execution_count": null,
   "metadata": {
    "id": "udwdL6iKEh7b"
   },
   "outputs": [],
   "source": [
    "cm = tf.math.confusion_matrix(test_labels, predictions)\n",
    "cm = cm/cm.numpy().sum(axis=1)[:, tf.newaxis]\n"
   ]
  },
  {
   "cell_type": "markdown",
   "metadata": {
    "id": "_9YL2AlQOY4Y"
   },
   "source": [
    "And now we'll display it!"
   ]
  },
  {
   "cell_type": "code",
   "execution_count": null,
   "metadata": {
    "colab": {
     "base_uri": "https://localhost:8080/",
     "height": 585
    },
    "id": "gh0Bxg-8EhzZ",
    "outputId": "db404e8c-e713-474b-927d-263c9e0c736c"
   },
   "outputs": [
    {
     "data": {
      "text/plain": [
       "Text(159.0, 0.5, 'True')"
      ]
     },
     "execution_count": 32,
     "metadata": {},
     "output_type": "execute_result"
    },
    {
     "data": {
      "image/png": "[encoded data removed]",
      "text/plain": [
       "<Figure size 1440x504 with 2 Axes>"
      ]
     },
     "metadata": {
      "needs_background": "light"
     },
     "output_type": "display_data"
    }
   ],
   "source": [
    "plt.figure(figsize=(20,7))\n",
    "sns.heatmap(\n",
    "    cm, annot=True,\n",
    "    xticklabels=target_names,\n",
    "    yticklabels=target_names)\n",
    "plt.xlabel(\"Predicted\")\n",
    "plt.ylabel(\"True\")\n"
   ]
  },
  {
   "cell_type": "markdown",
   "metadata": {
    "id": "6OKhCGVDOgdl"
   },
   "source": [
    "### 3. Classification with some preprocessed data and the BERT model\n",
    "\n",
    "Okay, not bad.  As you saw there are a lot of odd characters in our input so maybe cleaning some of those out and forcing everything to lower case while running a bert-base-uncased model will give us some imporvement in our prediciotns.  Let's give that a shot.  First let's clean out our text a bit.  Remember, it is critical that we preform identical preprocessing on our training, text, and validation sets."
   ]
  },
  {
   "cell_type": "code",
   "execution_count": null,
   "metadata": {
    "colab": {
     "base_uri": "https://localhost:8080/"
    },
    "id": "b0rAv6nLmrwN",
    "outputId": "780ef20d-efad-4312-b7ca-181c7d970aa6"
   },
   "outputs": [
    {
     "name": "stderr",
     "output_type": "stream",
     "text": [
      "[nltk_data] Downloading package omw-1.4 to /root/nltk_data...\n",
      "[nltk_data]   Unzipping corpora/omw-1.4.zip.\n",
      "[nltk_data] Downloading package wordnet to /root/nltk_data...\n",
      "[nltk_data]   Unzipping corpora/wordnet.zip.\n",
      "[nltk_data] Downloading package stopwords to /root/nltk_data...\n",
      "[nltk_data]   Unzipping corpora/stopwords.zip.\n"
     ]
    }
   ],
   "source": [
    "import re\n",
    "import nltk\n",
    "import spacy\n",
    "from nltk.stem import WordNetLemmatizer\n",
    "\n",
    "nltk.download('omw-1.4')\n",
    "nltk.download('wordnet')\n",
    "nltk.download('stopwords')\n",
    "\n",
    "#Stop words present in the library\n",
    "stopwords = nltk.corpus.stopwords.words('english')\n",
    "\n",
    "#defining the object for Lemmatization\n",
    "wordnet_lemmatizer = WordNetLemmatizer()\n",
    "\n",
    "nlp = spacy.load('en_core_web_sm', disable=['parser', 'ner'])\n",
    "\n",
    "def preprocess(sentence):\n",
    "    sentence=str(sentence)\n",
    "    sentence = sentence.lower()\n",
    "    sentence = sentence.replace('\\n', ' ')\n",
    "    \n",
    "    #what other characters or strings might you replace to clean up this data\n",
    "    #we don't expect a full set.  Please enter six of them here.\n",
    "    ### YOUR CODE HERE\n",
    "    \n",
    "    #remove punctuation\n",
    "    sentence = re.sub(r'[^\\w\\s]', '', sentence)\n",
    "\n",
    "    #remove numbers\n",
    "    sentence = re.sub('[0-9\\n]',' ',sentence)\n",
    "\n",
    "    #remove tabs\n",
    "    sentence = sentence.replace('\\t', ' ')\n",
    "\n",
    "    #remove dashes\n",
    "    sentence = sentence.replace('-', ' ')\n",
    "\n",
    "    #remove dashes\n",
    "    sentence = sentence.replace('—', ' ')\n",
    "\n",
    "    #get the lemma of each word\n",
    "    #sentence = [wordnet_lemmatizer.lemmatize(word) for word in sentence]\n",
    "\n",
    "    #remove stop words\n",
    "    #sentence= [i for i in sentence if i not in stopwords]\n",
    "\n",
    "    ### END YOUR CODE\n",
    "    return sentence\n",
    "\n",
    "cleantrain_texts = list(map(preprocess, train_texts))\n",
    "\n",
    "#you need to make sure you apply the same preprocessing to the test and validation sets\n",
    "### YOUR CODE HERE\n",
    "\n",
    "cleantest_texts = list(map(preprocess, test_texts))\n",
    "cleanvalid_texts = list(map(preprocess, valid_texts))\n",
    "\n",
    "### END YOUR CODE"
   ]
  },
  {
   "cell_type": "code",
   "execution_count": null,
   "metadata": {
    "colab": {
     "base_uri": "https://localhost:8080/"
    },
    "id": "HkgjST9LEXkr",
    "outputId": "92d376bd-c9c0-4c17-d789-33b525631186"
   },
   "outputs": [
    {
     "data": {
      "text/plain": [
       "[' please let us know if you get a solid answer to the question of legality of other strong cryptosystems   so far any references i have seen have been weaselwords more plans in the future etc but nothing that could be taken as a no strong crypto will not be outlawed  i have heard not verified that the crime bill before congress has language that either requires escrow of keys or that will regard all systems unapproved for public use like strong cryptosystems not trivially broken by the govt or without escrowed keys which one cannot readily change read use being only permitted by folks with special connections or government agencies as either terrorist tools or drug dealers tools  not outlawed specifically but by added civil forfeiture powers and clever wording effectively outlawed for all intents and purposes  now for some idle speculation  for those who dont care hit n now  crypto being effectively outlawed could be done without specifically outlawing any class of crypto systems  for example a crowbar hammers screwdrivers and such can be regarded as burglar tools pretty much at the whim of the authorities based primarily on the individual possessing them in the car etc not being in a trade that makes routine use of these tools  in a like manner one who has no legitimate need govt definition for strong crypto software or systems and is caught using them might find themselves in possession of terrorist tools in other words if one is not working for a corporation with extremely sensitive commercial data that warrants in the feds opinion strong security or a government agency and securing only workrelated data not personal data one will most likely be nailed on this if discoverd a personal desire for privacy most certainly will not be regarded as a legitimate need  why do you want such strong security especially from legitimate law enforcement an individual with legitimate endeavors would not be so concerned  government is not in the business of revealing your personal secrets to the public so you must be trying to conceal or planning to conceal some unlawful or criminal activity  do you have something to hide hmmmm i expect that initially there will be some people selected either at random or who happen to have been troublemakers for the purposes of making an example for those who think the feds are not serious about this mega s  one asking about a right to privacy will probably get a response that there is no constitutional right for privacy spelled out as such an argument used in the abortion debate  you do not have a right to have security that legitimate law enforcement cannot break as suggested in the clipper press release  this in a nutshell is what i find so extremely frightening  not only for crypto systems as in this case but for the precident it will set laying the groundwork for future erosions of privacy escrow of both safedeposit box keys  master keys or combinations for privately owned safes and so on  why not  i cannot think of a better way to make an endrun around those inconvenient parts of the us constitution  a law cannot be easily declared unconstitutional if it there is no specific law  it would simply be a minor extension of the rico statutes or wod policies a simple policy decision just like so many of the gun regulations are mainly batf policy decisions  the conversation of the fed agents would go something like  we are gonna seize your home your computers your car your bank account you dont have to undress and give us yer clothes unless you have a floppy in yer pocket because they are all connected with your acquisition transport and use of terrorist tools andor drug dealers tools  part of the wod or against terrorism ya unnerstand no decent american subject would be against these noble causes  note we are not accusing you of any wrongdoing  we are only saying your home computers car bank assets are connected with wrongdoing somehow  they housed transported and funded these terrorist tools only a civil matter   hehheh  we had this tipgrin  therefore the constitutional protection on individual rights do not apply  we are arresting the tainted property not youevil grin  if you wish to deposit a bond hire some attorneys and go to court to prove the innocence of this property that they are not terrorist tools and again to prove they are not also drug dealers tools go ahead we have no problem with that  course with your bank assets seized no car computer or home probably no job too and your lessthanlimitless resources you might run into some minor practical difficulties grin  that is what has me going so damned ballistic  it is exactly how the logic goes when someone gives a tip that your home has been used to store drugs  note no trace of drugs need to be found on the property only some bozo who will say yup  i stored stuff in that dudes house probably to get out of a    year sentence for dealing  much more cost effective to let him walk to bust another day and hit the jackpot with your assets  ob disclaimer of course  ok note that i am not a lawyer and can only base these speculations on what i have readheardbeen told regarding past civil forfeiture cases and how they are used to augment the budgets of assorted agencies or to get cooperation of folks who just want to be left alone or who do not wish to be put in a risky situation especially in areas where they are denied either meaningful police protection and the means to be able to even pretend to defend themselves as is quite common back east like nj ma nyc wa dc or out west in ca  these people have the choice of cowering under the government boot or cowering under threats of pissed off drug dealing gangbangers helpless in either case all behind some dude who drops a dime on you for his gain or behind the feds wanting to make an example  civil forfeiture being the hook  point is are these speculations way out of line or are they all too typical and if so does the extension to crypto and just about anything that the feds regard as inconvenient seem reasonable  and if not why not what are our guarantees besides the government promises  none  ',\n",
       " 'i have a    cl    which i stopped riding about   years ago i upgraded to an    sabre      i parked it in the corner of my parking lot and planned on draining the gas spraying oil in the tank etc to get it ready to store well after a lot of procrastination all i ended up doing was throwing a  tarp on it  well now i have to move and want to clean up the      i tried starting it with someone elses battery and had no luck  my first guess is that it is the gas and so i plan on draining it and replacing it with new gas i can only pray that i didnt trash the carbeurators  the question is what do i do with this old gas  i am not going to run it in my sabre and i think that there is enough that i dont want to burn it campus police dont think too kindly about bonfires  dumping it isnt a great idea          thanks for any ideas george heinz   win the         question  what does this c code do no fair compiling it',\n",
       " ' many people responded with more anecdotal stories i think its safe to say the original poster is already familiar with such stories presumably he wants hard info to substantiate or refute claims about msg making people ill   similarly debunking such claims without doing research whether literature and lab is equally beside the point the original poster no doubt already knows that some people think chinese restaurant syndrome is bogus  placebos are all very interesting but irrelevant to the question of what effects msg has you could have real effects and placebo effects people may have allergies in addition    have you read olneys work i fail to see how citing results from peerreviewed studies qualifies as bizarrely cracked   tests have been done on rhesus monkeys as well i have never seen a study where the mode of administration was intraventricular  the glu and asp were administered orally some studies used iv and sc intraventricular is not a normal admin method for food tox studies for obvious reasons you must not have read the peerreviewed works that i referred to or you would never have come up with this brain injection bunk   pardon me but where are you getting this from have you read the journals have you done a thorough literature search  but youre right mice arent the best to study this on theyre four times less sensitive than humans to msg   the point is exceeding the window of course theyre amino acids note that people with pku cannot tolerate any phenylalanine  olneys research compared infant human diets specifically the amount of freely available glu in mothers milk versus commercial baby foods vs typical lunch items from the standard american diet such as packaged soup mixes he found that one could exceed the projected safety margin for infant humans by at least fourfold in a single meal of processed foods mothers milk was well below the effective dose    between who over what i would be most interested in seeing you provide peerreviewed nonfoodindustryfunded citations to articles disputing that msg has no effects whatsoever    hmm com why am i not surprised',\n",
       " 'from article  r mhtinna  cronkitecentralsuncom by dbernardclesuncentralsuncom dave bernard  i noticed that too  special agent asshole actually ricks stated that david koresh had explosives that could blow up an armored vehicle    feet into the air  it looked like to me that the bds had plenty of opportunity to use these explosivesprovided that they had them in the first place  for example when one of the tanks was injecting cs gas into the ranch house yes ranch house the bds werent living in a fortress they could have easily destroyed or disabled that tank because it was idling there for a considerable length of time  so why didnt they do this  could it be that they didnt have any explosives or similar munitions  i just dont buy what the atf and fbi have been saying  hopefully the truth will come out  heres something noteworthy  after the fire had been burning for some time an explosion occurredjust one explosion  the media said that this was some of the explosives that the bds posessed going off  i dont think this was the case  my brother and i noticed that this socalled explosion resembled a plume of propane gas being ignited we figure that this is what it was because of how the explosion looked and sounded  obviously it wasnt due to something like tnt dynamite or c   i have seen a propane explosion beforethe explosion in the ranch house greatly resembled this  also i noticed something that looked like a propane tank in the charred ruble the next day  isnt it curious that the atf wasnt very forthcoming about how the four officers got killed  many weeks had gone by before they stated that some of the officers had been killed andor wounded by grenades thrown by the bds  earlier when someone asked one of the spokespersons about whether or not an autopsy had been performed on the slain agents they said that an autopsy had been done but they werent ready to release the findings  now why is this  does the atf have something to hide perhaps those four agents were killed by friendly fire  what is the cause of death exactly  no one has ever said what it is  what is certain is this  atf agents did throw grenades into the compound  as a matter of fact mr koresh handed his lawyer a grenade body during one of the lawyers visits to the compound  later on the lawyer gave the grenade body i dont know if it was a dud or a spent one btw to the atf  how much do you want to bet that this grenade will mysteriously disappear  at this point in time the only people we know who had grenades was the atf agents  wouldnt it be a shocker if the no one ever found any evidence of grenades rockets or explosives in the rubble  the atf would sure have egg on their face then  note that the atf is doing the initial sweep of the rubble  the fbi and the texas rangers wont investigate until the atf is done  this looks like a perfect opportunity for the atf to make sure that others find what they want for them to find if you know what i mean  im probably being a little paranoid here but if i am i have could reason to be  recall that several weeks had gone by before anyone said that the bds had used grenades also recall that early on the atf had denied that their agents used grenades on the bds  someone is lying here   scott kennedy  brewer and patriot',\n",
       " '   it isnt    use tar on the unx box and gtak   zip on the dos box needs aspi driver   ralf ',\n",
       " '  but whatever the neutrons hit has a good chance of absorbing the neutron and becoming radioactive itself mostly that means water turning into harmless heavy water but some neutrons would  also hit bones and the resulting harmfull secondard radioactives would remain in the body for decades i think an unshielded nuclear warhead could reasonably be considered a public health hazard  as for a shielded warhead i think a fair amount of maintaince is required for it to remain safely shielded eg storage in a dry temperatureregulated facility etc for private ownership to be unregulated i think a single individual must be able not only to keep the weapon but keep it in a safe condition if any random private citizen could not properly keep maintain and store a nuclear weapon then some regulation is clearly appropriate    i disagree with this purpose the job of the militia is to defend themselves and their community if you look at the american  revolution as an example the militias won by seperating themselves from and becoming independent of a repressive government they didnt overthrow it and those communities canada and england for  example that didnt defend themselves were still under that same old regime if the role of the militia were offensive to go out and destroy repressive governments nuclear weapons _might_ be appropriate but their jobs is defensive and nuclear weapons arent suited for that  there is also the question of personal and collective arms the second amendment definately protects ownership of personal weapons since the very nature of the militia requires members to provide their own arms but it isnt clear if it covers other arms certainly not all members would supply for example a tank only a few could or if they were to be used effectively should however those providing the heavy weapons have a  disproportionate control over the militia and its fierpower the militias as the framers envisioned them were extremely democratic if only    of the members supported the cause only    would respond to a muster and the militias firepower would be proportionately reduced militia firepower and the popular will were therefore linked but if a small minority of the members supplied a large fraction of the firepower in the form of heavy weapons this would all change the militias firepower would depend on the will of a small minority not of the general public worse that minority would be quite different from the general public at the very least they would be much richer as a result i think the nature and character of the militia requires that each member provide a roughly equal share of the militias firepower his personal weapons and some equitable fraction of a squads heavier firepower',\n",
       " 'dont know who scored but the isles     franchise record in playoff ot games took game four by a score of    for their third consecutive ot win over the capitals tonight at uniondale if you know please post who scored for a isles fan living in atlantahockey hell  lord stans a uniondale man  go isles',\n",
       " 'on the subject of how many competing rc orders there are let me point out the golden dawn is only the outer order of that tradition  the inner order is the roseae rubeae et aurae crucis  thats ruby rose and gold cross in rough translation  the gd is a rosicrucian order as are all derivative groups  of course real rosicrucians never admit to being rosicrucian  enjoy the journey                       branarthur                                       queer peculiar and wyrd ',\n",
       " 'is there a version of wcl that has been ported to solaris   including ansi c i had numerous problems trying to compile wcl under solaris  and the functions do not have prototypes    i have wcl     from the sun user groups      cds  please email answers as i am not on this list  ',\n",
       " 'i have a bunch of questions about the encryption scheme referenced in the subject of this message  what is the relative data privacy provided by the above sequence as compared with straight des does the addition of compression then encrypting make the cyphertext significantly harder to crack using current methods than straight des would running crypt after des provide greater data privacy  is it important to remove the constant compress header before encryption thank you net for your wisdom',\n",
       " ' i asked some simple questions at different occations i dont understand why some people insulted me for those simple questions anyway i didnt reply to them with the same language and i wont because    there is no need   there is no benefit    i dont have time  to reply to those garbages  by the way do you want to know who am i i am not a nationalist arab of       i am not a comonist arab of   s are you sure that you want to hear  my name i am a muslim fighter i am the same child who  fight with your armed soldier with stone i am the same guy who wants to  bring justice to palestine i am the same fighter who wants to kicked israel out of south lebonon in the same way of the       i am the son of khomeini i am honored to be a hezbullah dont you know me just ask rabin he knows me   hamid ',\n",
       " 'i am looking for one of those color lcd screens you place on an overhead projector and control the presentation with a mac  can you recommend me a particular brand what price are we talking about  thanks ',\n",
       " ' note this is being posted for a friend do not reply to my account please        direct all replies to scott burke at scottsparcomcom   alpine     s  cd shuttle  paid     want    obo alpine      remote cd changer control  paid     want    obo boston proseries     subwoofers    box  paid     want    obo  all equipment is under   months old and includes a fullreplacement  year warranty from original point of purchase  the subwoofer box was custom designed to fit in the back of a bronco ii and is    by    by     send replies to scottsparcomcom   scott burke  project leader  sparcom corporation  corvallis or scottsparcomcom  telephone              fax                                       just waiting for the nuts              brett barksdale        brettporkyoceorstedu',\n",
       " '                                                                                    facing                              female plug end                                                                                                                                                                                                              anyone recognize this  its my little layout of a eight pin female plug connector used for many mac peripherals  problemproblemproblem   printer cheap cables using this configuration switch a couple of pins between one end and the other  i want to use cheap cables for an ab box  anyone know which pins get reversed so i can do some creative editing on the internals of my box  any help would be greatly appreciated ',\n",
       " ' nope germany has extremely restrictive citizenship laws  the  ethnic germans who have lived in russia for over     years  automatically become citizens if they move to germany but the turks who are now in their third generation in germany cant its not a very good example to show citizenship without descent  karl  ',\n",
       " '   well there were    outs in a row with no hits or walks in between but really he only retired    batters in a row  the first out of the game was the front end of a double play  still counts as a backend perfect game in my book though   congrats to chris bosio  too bad the brewers couldnt hold on to him',\n",
       " '   i do not know of any vga type cards that have bnc outputs but extron sells a vga to bnc cable set that works good with my  fg  if you are trying to optimize the display with a good video card try contacting        getnine  i use and like the level   card   ',\n",
       " ' i saw a lifetime medical television show a few months back on travel medicine  it briefly mentioned some drugs which when started two or three days before getting to altitude could assist in acclimitazation  unfortunately all that i can recall is that the drug stimulated breathing at night  i dont know if that makes sense it seems to me that the new drug which stimulates red blood cell production would be a more logical approach erythropoiten sp  alas i didnt record the program but wish i had since i live at over     ft and my mother gets sick when visiting  please let me know if you get more informative responses',\n",
       " 'choose any or all of the following as an answer to the above  ',\n",
       " ' not just because of the riflemen  they also have many hard bunkers in the mountains that would be nearly impossible to penetrate as for tanks they would be rather useless in such mountainous terrain     gee thats a new one  he thought it was a different ethnic group   since hitler was determined to control at the least all of europe do you think he gave a damn about international monetary concerns   also theres a lot of gold in swiss vaults  dont you think he new that  if he could have he would have taken switzerland  however crazy as he was he wasnt totally stupid  it would have cost him a hell of a lot to take switzerland with no guarantee that an invasion would be successful  he probably figured or his generals did when he was listening to them that it wasnt worth the cost']"
      ]
     },
     "execution_count": 39,
     "metadata": {},
     "output_type": "execute_result"
    }
   ],
   "source": [
    "cleantrain_texts[:20]"
   ]
  },
  {
   "cell_type": "code",
   "execution_count": null,
   "metadata": {
    "colab": {
     "base_uri": "https://localhost:8080/"
    },
    "id": "qbsCtKK3mrny",
    "outputId": "2f5d9b0f-9f48-49e2-ebfb-d6fd8df4e72f"
   },
   "outputs": [
    {
     "data": {
      "text/plain": [
       "[' please let us know if you get a solid answer to the question of legality of other strong cryptosystems   so far any references i have seen have been weaselwords more plans in the future etc but nothing that could be taken as a no strong crypto will not be outlawed  i have heard not verified that the crime bill before congress has language that either requires escrow of keys or that will regard all systems unapproved for public use like strong cryptosystems not trivially broken by the govt or without escrowed keys which one cannot readily change read use being only permitted by folks with special connections or government agencies as either terrorist tools or drug dealers tools  not outlawed specifically but by added civil forfeiture powers and clever wording effectively outlawed for all intents and purposes  now for some idle speculation  for those who dont care hit n now  crypto being effectively outlawed could be done without specifically outlawing any class of crypto systems  for example a crowbar hammers screwdrivers and such can be regarded as burglar tools pretty much at the whim of the authorities based primarily on the individual possessing them in the car etc not being in a trade that makes routine use of these tools  in a like manner one who has no legitimate need govt definition for strong crypto software or systems and is caught using them might find themselves in possession of terrorist tools in other words if one is not working for a corporation with extremely sensitive commercial data that warrants in the feds opinion strong security or a government agency and securing only workrelated data not personal data one will most likely be nailed on this if discoverd a personal desire for privacy most certainly will not be regarded as a legitimate need  why do you want such strong security especially from legitimate law enforcement an individual with legitimate endeavors would not be so concerned  government is not in the business of revealing your personal secrets to the public so you must be trying to conceal or planning to conceal some unlawful or criminal activity  do you have something to hide hmmmm i expect that initially there will be some people selected either at random or who happen to have been troublemakers for the purposes of making an example for those who think the feds are not serious about this mega s  one asking about a right to privacy will probably get a response that there is no constitutional right for privacy spelled out as such an argument used in the abortion debate  you do not have a right to have security that legitimate law enforcement cannot break as suggested in the clipper press release  this in a nutshell is what i find so extremely frightening  not only for crypto systems as in this case but for the precident it will set laying the groundwork for future erosions of privacy escrow of both safedeposit box keys  master keys or combinations for privately owned safes and so on  why not  i cannot think of a better way to make an endrun around those inconvenient parts of the us constitution  a law cannot be easily declared unconstitutional if it there is no specific law  it would simply be a minor extension of the rico statutes or wod policies a simple policy decision just like so many of the gun regulations are mainly batf policy decisions  the conversation of the fed agents would go something like  we are gonna seize your home your computers your car your bank account you dont have to undress and give us yer clothes unless you have a floppy in yer pocket because they are all connected with your acquisition transport and use of terrorist tools andor drug dealers tools  part of the wod or against terrorism ya unnerstand no decent american subject would be against these noble causes  note we are not accusing you of any wrongdoing  we are only saying your home computers car bank assets are connected with wrongdoing somehow  they housed transported and funded these terrorist tools only a civil matter   hehheh  we had this tipgrin  therefore the constitutional protection on individual rights do not apply  we are arresting the tainted property not youevil grin  if you wish to deposit a bond hire some attorneys and go to court to prove the innocence of this property that they are not terrorist tools and again to prove they are not also drug dealers tools go ahead we have no problem with that  course with your bank assets seized no car computer or home probably no job too and your lessthanlimitless resources you might run into some minor practical difficulties grin  that is what has me going so damned ballistic  it is exactly how the logic goes when someone gives a tip that your home has been used to store drugs  note no trace of drugs need to be found on the property only some bozo who will say yup  i stored stuff in that dudes house probably to get out of a    year sentence for dealing  much more cost effective to let him walk to bust another day and hit the jackpot with your assets  ob disclaimer of course  ok note that i am not a lawyer and can only base these speculations on what i have readheardbeen told regarding past civil forfeiture cases and how they are used to augment the budgets of assorted agencies or to get cooperation of folks who just want to be left alone or who do not wish to be put in a risky situation especially in areas where they are denied either meaningful police protection and the means to be able to even pretend to defend themselves as is quite common back east like nj ma nyc wa dc or out west in ca  these people have the choice of cowering under the government boot or cowering under threats of pissed off drug dealing gangbangers helpless in either case all behind some dude who drops a dime on you for his gain or behind the feds wanting to make an example  civil forfeiture being the hook  point is are these speculations way out of line or are they all too typical and if so does the extension to crypto and just about anything that the feds regard as inconvenient seem reasonable  and if not why not what are our guarantees besides the government promises  none  ',\n",
       " 'i have a    cl    which i stopped riding about   years ago i upgraded to an    sabre      i parked it in the corner of my parking lot and planned on draining the gas spraying oil in the tank etc to get it ready to store well after a lot of procrastination all i ended up doing was throwing a  tarp on it  well now i have to move and want to clean up the      i tried starting it with someone elses battery and had no luck  my first guess is that it is the gas and so i plan on draining it and replacing it with new gas i can only pray that i didnt trash the carbeurators  the question is what do i do with this old gas  i am not going to run it in my sabre and i think that there is enough that i dont want to burn it campus police dont think too kindly about bonfires  dumping it isnt a great idea          thanks for any ideas george heinz   win the         question  what does this c code do no fair compiling it']"
      ]
     },
     "execution_count": 41,
     "metadata": {},
     "output_type": "execute_result"
    }
   ],
   "source": [
    "cleantrain_texts[:2]"
   ]
  },
  {
   "cell_type": "code",
   "execution_count": null,
   "metadata": {
    "colab": {
     "base_uri": "https://localhost:8080/"
    },
    "id": "TJD-PasK6RIp",
    "outputId": "f9762dac-ecc2-4800-aff7-06b15b648b89"
   },
   "outputs": [
    {
     "data": {
      "text/plain": [
       "['   who knows i just quoted what was written in scsi director    ive tried calling transoft corp about this and have either gotten the response huh to yep to nah you would expect that a damaging state ment like this would have _some_ data to back it up  anyone want transofts phone number',\n",
       " 'here are some ideas for those of you who want to oppose the white house clipper chip crypto initiative  i think this is going to be a tough measure to fight since the government has invested a lot of resources in developing this highprofile initiative  they are serious about it now  it wont be as easy as it was defeating senate bill     in       possible actions to take in response     mobilize your friends to to all the things on this list and more     work the press  talk with your local newspapers science and technology reporter  write to your favorite trade rags  better yet write some articles yourself for your favorite magazines or newspapers  explain why the clipper chip initiative is a bad idea  remember to tailor it to your audience  the general public may be slow to grasp why its a bad idea since it seems so technical and arcane and innocent sounding  try not to come across as a flaming libertarian paranoid extremist even if you are one      lobby congress  write letters and make phone calls to your member of congress in your own district as well as your two us senators  many members of congress have aides that advise them of technology issues  talk to those aides     involve your local political parties  the libertarian party would certainly be interested  there are also libertarian wings of the democrat and republican parties  the right to privacy has a surprisingly broad appeal spanning all parts of the political spectrum  we have many natural allies  the aclu  the nra  other activist groups that may someday find themselves facing a government that can suppress them much more efficiently if these trends play themselves out  but you must articulate our arguments well if you want to draw in people who are not familiar with these issues     contribute money to the electronic frontier foundation eff and computer professionals for social responsibility cpsr assuming these groups will fight this initiative  they need money for legal expenses and lobbying     mobilize opposition in industry  companies that will presumably develop products that will incorporate the clipper chip should be lobbied against it from within and from without  if you work for a telecommunications equipment vendor first enlist the aid of your coworkers and fellow engineers against this initiative and then present your companys management with a united front of engineering talent against this initiative  write persuasive memos to your management with your name and your colleagues names on it  hold meetings on it     publicize deploy and entrench as much guerrilla technomonkeywrenching apparatus as you can  that means pgp anonymous mail forwarding systems based on pgp pgp key servers etc  the widespread availability of this kind of technology might also be used as an argument that it cant be effectively suppressed by government action  i will also be working to develop new useful tools for these purposes      be prepared to engage in an impending public policy debate on this topic  we dont know yet how tough this fight will be so we may have to compromise to get most of what we want  if we cant outright defeat it we may have to live with a modified version of this clipper chip plan in the end  so wed better be prepared to analyze the governments plan and articulate how we want it modified ']"
      ]
     },
     "execution_count": 42,
     "metadata": {},
     "output_type": "execute_result"
    }
   ],
   "source": [
    "cleantest_texts[:2]"
   ]
  },
  {
   "cell_type": "code",
   "execution_count": null,
   "metadata": {
    "colab": {
     "base_uri": "https://localhost:8080/",
     "height": 255,
     "referenced_widgets": [
      "fa99b46e3f6249058d3c6c2843cea6b1",
      "f9e25c1fbbb24d33b93f15631eec6aaf",
      "10824e09337c43a2ac8ed5ce8916ad24",
      "ce44e91374d34ef9acbede00512dcfd1",
      "10ab185f40a84c34b9745c5c66a4336e",
      "b198b88d937b47f8ad803b25bf772cd5",
      "120f7cb1e5de4af9a35aa597a73d1eba",
      "54aa707dd9ed49049f91e23c6e922933",
      "cbb0f59b2dc94350b035514b560a1240",
      "ceab6a287bbc4b4cabd47e9743ba1bde",
      "711f9b80dfed4bfa84f1e2b45cfdcf33",
      "39034c1b06744bfbb8ea0bae1fb0083e",
      "afa1c06b10e54194aee7afcdbec74e0e",
      "0448cea25e564cc2a13b7d4986d4f68e",
      "a463aa645b2947a99f51c3da47ecb5df",
      "c4ab4579f8884939b9c840bbb7c46a62",
      "262155e276ed4a8d90c0461cad322788",
      "df4dcab2f6d648479aa88d4493fd2062",
      "5f304d41b7564054bbec2b1e75547f1b",
      "66e09a7101f641b294f39e5bd1dd0298",
      "dc6a470c0fce49bf96f3a41b6ca363cb",
      "70e6926cf8534549a9cb710ba0d81192",
      "8bdc00da64b84af89b7a66d2f9f118a8",
      "2e9c7c4ffe9e4d108aeacd7519462e10",
      "fd0c2e107a1a4a07a13db74f086d385c",
      "859f8bf4c4174c8d9b1ab548fd64d0b5",
      "91685bae984140d99afe4f1681bce98e",
      "0668a01f91754bb582080f4ba265e504",
      "62b5e0a59413417aae68fc86023abb10",
      "0e23355dcd004cf6b94a5738d47459b1",
      "f8e9421cf4624c0cbe713217af8b36ca",
      "779952005e2248bbb5c9393867126666",
      "35f19d69a1c340888954c1f63ed1a599",
      "8067f40277a84d48b62442b8165310ab",
      "b76b1b4b1cb6493fb31f0decd309a43a",
      "ecc05922ca9e4ac7bcf24be11a9ca4d7",
      "2598fc2e8df24934b991058b473e6994",
      "380deea8ded14a10b15a845d0bb28931",
      "ee91be89d9b34c239436f696e1f50c56",
      "7cf709cb6d124e019e6db7942c40eb4f",
      "8d01239a5e0a4198acf95d1aaf0766c5",
      "4e30193308f74272a2b1cdde1f2b0533",
      "d6a038de96074cae9035cf7fdad99e70",
      "9ea5a47f70034ebebde1218a470af31f"
     ]
    },
    "id": "zHe5qG5hKGwF",
    "outputId": "6b7fcc45-f599-45b6-e04c-1bc107422d6a"
   },
   "outputs": [
    {
     "data": {
      "application/vnd.jupyter.widget-view+json": {
       "model_id": "fa99b46e3f6249058d3c6c2843cea6b1",
       "version_major": 2,
       "version_minor": 0
      },
      "text/plain": [
       "Downloading:   0%|          | 0.00/226k [00:00<?, ?B/s]"
      ]
     },
     "metadata": {},
     "output_type": "display_data"
    },
    {
     "data": {
      "application/vnd.jupyter.widget-view+json": {
       "model_id": "39034c1b06744bfbb8ea0bae1fb0083e",
       "version_major": 2,
       "version_minor": 0
      },
      "text/plain": [
       "Downloading:   0%|          | 0.00/28.0 [00:00<?, ?B/s]"
      ]
     },
     "metadata": {},
     "output_type": "display_data"
    },
    {
     "data": {
      "application/vnd.jupyter.widget-view+json": {
       "model_id": "8bdc00da64b84af89b7a66d2f9f118a8",
       "version_major": 2,
       "version_minor": 0
      },
      "text/plain": [
       "Downloading:   0%|          | 0.00/570 [00:00<?, ?B/s]"
      ]
     },
     "metadata": {},
     "output_type": "display_data"
    },
    {
     "data": {
      "application/vnd.jupyter.widget-view+json": {
       "model_id": "8067f40277a84d48b62442b8165310ab",
       "version_major": 2,
       "version_minor": 0
      },
      "text/plain": [
       "Downloading:   0%|          | 0.00/511M [00:00<?, ?B/s]"
      ]
     },
     "metadata": {},
     "output_type": "display_data"
    },
    {
     "name": "stderr",
     "output_type": "stream",
     "text": [
      "Some layers from the model checkpoint at bert-base-uncased were not used when initializing TFBertModel: ['nsp___cls', 'mlm___cls']\n",
      "- This IS expected if you are initializing TFBertModel from the checkpoint of a model trained on another task or with another architecture (e.g. initializing a BertForSequenceClassification model from a BertForPreTraining model).\n",
      "- This IS NOT expected if you are initializing TFBertModel from the checkpoint of a model that you expect to be exactly identical (initializing a BertForSequenceClassification model from a BertForSequenceClassification model).\n",
      "All the layers of TFBertModel were initialized from the model checkpoint at bert-base-uncased.\n",
      "If your task is similar to the task the model of the checkpoint was trained on, you can already use TFBertModel for predictions without further training.\n"
     ]
    }
   ],
   "source": [
    "model_checkpoint = 'bert-base-uncased'\n",
    "bert_uctokenizer = BertTokenizer.from_pretrained(model_checkpoint)\n",
    "bert_model = TFBertModel.from_pretrained(model_checkpoint)"
   ]
  },
  {
   "cell_type": "code",
   "execution_count": null,
   "metadata": {
    "id": "PtmIllK0mrf5"
   },
   "outputs": [],
   "source": [
    "# tokenize the dataset, truncate when passed `max_length`, \n",
    "# and pad with 0's when less than `max_length`\n",
    "cleantrain_encodings = bert_uctokenizer(cleantrain_texts, truncation=True, padding=True, max_length=max_length, return_tensors='tf')\n",
    "cleanvalid_encodings = bert_uctokenizer(cleanvalid_texts, truncation=True, padding=True, max_length=max_length, return_tensors='tf')\n",
    "cleantest_encodings = bert_uctokenizer(cleantest_texts, truncation=True, padding=True, max_length=max_length, return_tensors='tf')"
   ]
  },
  {
   "cell_type": "code",
   "execution_count": null,
   "metadata": {
    "colab": {
     "base_uri": "https://localhost:8080/"
    },
    "id": "KuYEEO3xLDXG",
    "outputId": "ac3f32b8-02f4-45ba-a11c-e072da4f4865"
   },
   "outputs": [
    {
     "data": {
      "text/plain": [
       "<tf.Tensor: shape=(2, 200), dtype=int32, numpy=\n",
       "array([[  101,  1999,  1996,  2607,  1997, 10537,  1996, 19546,  2007,\n",
       "         2070, 12455,  1045,  2234,  2408,  2242,  2008,  2001,  3294,\n",
       "         2047,  2000,  2033,  1998,  1045,  2245,  8909,  3749,  2009,\n",
       "         2005,  7615,  2000,  2562,  2023,  2004,  4766,  2004,  2825,\n",
       "         2292,  2033,  2110,  2026,  8089,  2004,  1037, 11703,  8017,\n",
       "         8082,  4861,  1998,  2059,  9444,  4122,  2000,  2064,  7615,\n",
       "         2006,  2009, 10468,  2054,  1045,  2228,  4921,  2063,  5159,\n",
       "         2003,  2008,  1996,  7655,  1996,  2702,  3094,  8163,  2004,\n",
       "         2109,  2011,  9952,  2003,  2025,  1037,  4431,  2000,  4654,\n",
       "         2021,  2738,  1037,  4431,  2000,  2702,  5664, 15152,  2015,\n",
       "         2013,  4654,  2083,  4654,  2008,  2003,  1996,  7655,  1996,\n",
       "         2702,  3094,  8163,  2323,  2062, 14125,  2022,  5421,  1996,\n",
       "         2702, 15152,  2015,  1997,  2029,  1996,  6019,  2057,  2655,\n",
       "         1996,  2702,  3094,  8163,  2003,  2428,  2069,  1996,  2034,\n",
       "        10047,  2025,  3294,  6427,  2008,  1996,  2682,  2003,  2995,\n",
       "         2021,  2005,  5682,  1997,  6594,  2292,  2033,  7475,  2009,\n",
       "         2004,  2295,  1045,  2001,  2469,  9918,  4637,  1996,  2682,\n",
       "         2801,  2045,  4995,  2102,  2428,  2702,  3094,  8163,  1999,\n",
       "         4654,  1999,  2344,  2000,  2131,  3094,  8163,  2017,  2031,\n",
       "         2000,  2131,  2048,  1997,  2068,  2041,  1997, 11086,  1998,\n",
       "         1996, 11086,  3209,  2079,  2025,  2490,  2107,  1037,  2407,\n",
       "         2138,  2027,  2024,  2035,  2055,  2025,  7425,  4691,  2060,\n",
       "         5932,   102],\n",
       "       [  101,  6581,  3160, 10805,  1045,  6522,  8913,  1996,  6998,\n",
       "         2017,  2131,  2097,  2022, 23045,  2004,  2057,  2064,  2025,\n",
       "         3305,  1996,  2568,  1997,  2643,  2021,  2000,  3535,  2000,\n",
       "         3437,  2017,  4415,  2643,  1997,  1996,  6331,  2038,  2445,\n",
       "         2149,  4286,  2128, 20051, 12848,  2135,  2210,  2055,  2129,\n",
       "         2002, 18754,  2000,  3648, 14938,  1996,  2034,  3231,  2003,\n",
       "         2216,  2040,  2031, 19337,  7416,  7178,  2008,  4441,  4828,\n",
       "         2003,  1996,  2365,  1997,  2643,  1998,  2008,  2010,  2331,\n",
       "         1998, 15218,  2001, 10514, 26989, 13013,  2000,  3710,  3425,\n",
       "         2005,  2035,  1996,  4490,  2057, 10797,  2008,  2024,  3308,\n",
       "         1999,  1996,  2159,  1997,  2643,  1996,  6331,  4455,  2023,\n",
       "         8254,  2005,  2216,  2040,  3280,  2077,  1996,  2203,  1997,\n",
       "         1996,  2088,  3270,  3726,  2525,  2351,  2009,  2003,  2062,\n",
       "         8552,  2000,  4863,  2302, 10876,  2075,  1999,  2000, 18856,\n",
       "        17322,  2643,  2442,  3648,  2111,  2006,  1996,  8670, 21369,\n",
       "         2015,  1997,  2037,  2573,  1999,  2023,  2088,  2174,  2045,\n",
       "         2003,  2053,  4606,  1998, 15718,  2291,  2005,  2643,  2002,\n",
       "         2038,  4161,  2008,  2002,  2064,  2025, 19242,  6259, 29238,\n",
       "         3258,  2947,  2002,  2064,  2069,  2241,  2115,  4276,  9961,\n",
       "         2000,  2444,  2007,  2032,  2006,  1996,  3308,  1999,  2115,\n",
       "         2166,  2204,  2111,  2748,  2130,  8135,  2024,  2183,  2000,\n",
       "         7887,  8254,  2077,  2643,  1996,  3017,  7570, 22507,  4283,\n",
       "         2643,   102]], dtype=int32)>"
      ]
     },
     "execution_count": 45,
     "metadata": {},
     "output_type": "execute_result"
    }
   ],
   "source": [
    "cleanvalid_encodings.input_ids[:2]"
   ]
  },
  {
   "cell_type": "markdown",
   "metadata": {
    "id": "dSQd_UDQhmQd"
   },
   "source": [
    "Call the function to recreate our BERT model only this time it will use the model_checkpoint of bert-base-uncased."
   ]
  },
  {
   "cell_type": "code",
   "execution_count": null,
   "metadata": {
    "id": "s7hR7ahmmrYL"
   },
   "outputs": [],
   "source": [
    "clean_pooled_bert_model = create_bert_multiclass_model()"
   ]
  },
  {
   "cell_type": "markdown",
   "metadata": {
    "id": "u5RbfaUJrfmF"
   },
   "source": [
    ""
   ]
  },
  {
   "cell_type": "code",
   "execution_count": null,
   "metadata": {
    "colab": {
     "base_uri": "https://localhost:8080/"
    },
    "id": "O4Qsai6UmrOj",
    "outputId": "138d77a9-78b2-4d16-9b33-5d91e77c3bd2"
   },
   "outputs": [
    {
     "name": "stderr",
     "output_type": "stream",
     "text": [
      "/usr/local/lib/python3.7/dist-packages/tensorflow/python/util/dispatch.py:1082: UserWarning: \"`sparse_categorical_crossentropy` received `from_logits=True`, but the `output` argument was produced by a sigmoid or softmax activation and thus does not represent logits. Was this intended?\"\n",
      "  return dispatch_target(*args, **kwargs)\n"
     ]
    },
    {
     "name": "stdout",
     "output_type": "stream",
     "text": [
      "2000/2000 [==============================] - 711s 350ms/step - loss: 1.4089 - accuracy: 0.5875 - val_loss: 0.9272 - val_accuracy: 0.7263\n"
     ]
    }
   ],
   "source": [
    "clean_pooled_bert_model_history = clean_pooled_bert_model.fit([cleantrain_encodings.input_ids, cleantrain_encodings.token_type_ids, cleantrain_encodings.attention_mask], \n",
    "                                                  train_labels,   \n",
    "                                                  validation_data=([cleanvalid_encodings.input_ids, cleanvalid_encodings.token_type_ids, cleanvalid_encodings.attention_mask],\n",
    "                                                                   npvalid_labels),    \n",
    "                                                  batch_size=8, \n",
    "                                                  epochs=1)"
   ]
  },
  {
   "cell_type": "code",
   "execution_count": null,
   "metadata": {
    "colab": {
     "base_uri": "https://localhost:8080/"
    },
    "id": "ESAg7q9TQvEn",
    "outputId": "5e2177db-e069-42e3-e114-c4a048967acb"
   },
   "outputs": [
    {
     "metadata": {
      "tags": null
     },
     "name": "stderr",
     "output_type": "stream",
     "text": [
      "/usr/local/lib/python3.7/dist-packages/tensorflow/python/util/dispatch.py:1082: UserWarning: \"`sparse_categorical_crossentropy` received `from_logits=True`, but the `output` argument was produced by a sigmoid or softmax activation and thus does not represent logits. Was this intended?\"\n",
      "  return dispatch_target(*args, **kwargs)\n"
     ]
    },
    {
     "name": "stdout",
     "output_type": "stream",
     "text": [
      "1000/1000 [==============================] - 673s 664ms/step - loss: 1.0058 - accuracy: 0.7260 - val_loss: 0.8511 - val_accuracy: 0.7596\n"
     ]
    }
   ],
   "source": [
    "clean_pooled_bert_model_history = clean_pooled_bert_model.fit([cleantrain_encodings.input_ids, cleantrain_encodings.token_type_ids, cleantrain_encodings.attention_mask], \n",
    "                                                  train_labels,   \n",
    "                                                  validation_data=([cleanvalid_encodings.input_ids, cleanvalid_encodings.token_type_ids, cleanvalid_encodings.attention_mask],\n",
    "                                                                   npvalid_labels),    \n",
    "                                                  batch_size=16, \n",
    "                                                  epochs=1)"
   ]
  },
  {
   "cell_type": "markdown",
   "metadata": {
    "id": "A6dQZRNCh6__"
   },
   "source": [
    "This will only display a plot if we've run for more than one epoch.  We're not asking you to run more than one in this assignment but when you're done you might try running another just to see how much more the model learns."
   ]
  },
  {
   "cell_type": "code",
   "execution_count": null,
   "metadata": {
    "colab": {
     "base_uri": "https://localhost:8080/",
     "height": 635
    },
    "id": "RrM1DHfrEiPx",
    "outputId": "6060defe-affe-4535-e692-0ec723c8a928"
   },
   "outputs": [
    {
     "data": {
      "image/png": "[encoded data removed]",
      "text/plain": [
       "<Figure size 1332x756 with 4 Axes>"
      ]
     },
     "metadata": {
      "needs_background": "light"
     },
     "output_type": "display_data"
    }
   ],
   "source": [
    "fig, axs = plt.subplots(2, 2)\n",
    "fig.subplots_adjust(left=0.2, wspace=0.6)\n",
    "make_plot(axs, \n",
    "          pooled_bert_model_history, \n",
    "          clean_pooled_bert_model_history, \n",
    "          model_1_name='raw',\n",
    "         model_2_name='clean',\n",
    "         y_lim_accuracy_lower=0.42,\n",
    "         y_lim_accuracy_upper=0.82)\n",
    "\n",
    "fig.align_ylabels(axs[:, 1])\n",
    "fig.set_size_inches(18.5, 10.5)\n",
    "plt.show()"
   ]
  },
  {
   "cell_type": "code",
   "execution_count": null,
   "metadata": {
    "id": "KZqAPcaMg9m-"
   },
   "outputs": [],
   "source": [
    ""
   ]
  },
  {
   "cell_type": "code",
   "execution_count": null,
   "metadata": {
    "colab": {
     "base_uri": "https://localhost:8080/"
    },
    "id": "BkW9hMq9g9dV",
    "outputId": "e9219714-36d6-4e3d-9b07-9cb2a7392684"
   },
   "outputs": [
    {
     "name": "stdout",
     "output_type": "stream",
     "text": [
      "59/59 [==============================] - 27s 451ms/step - loss: 0.9422 - accuracy: 0.7199\n",
      "Test loss: 0.9421560764312744\n",
      "Test accuracy: 0.7198938727378845\n"
     ]
    }
   ],
   "source": [
    "#Evaluate the fine tuned clean model against the cleaned test data\n",
    "### YOUR CODE HERE\n",
    "\n",
    "score = clean_pooled_bert_model.evaluate([cleantest_encodings.input_ids, cleantest_encodings.token_type_ids, cleantest_encodings.attention_mask], \n",
    "                                                  test_labels) \n",
    "### END YOUR CODE\n",
    "print('Test loss:', score[0]) \n",
    "print('Test accuracy:', score[1])"
   ]
  },
  {
   "cell_type": "markdown",
   "metadata": {
    "id": "DPaUdul4hlp0"
   },
   "source": [
    "**QUESTION:** \n",
    "\n",
    "3.1 What is the test accuracy you get when you run the cleaned model with batch size 8? 0.70981\n"
   ]
  },
  {
   "cell_type": "code",
   "execution_count": null,
   "metadata": {
    "colab": {
     "base_uri": "https://localhost:8080/"
    },
    "id": "TrWtaXSug9UR",
    "outputId": "743068c2-8230-4488-f714-8f1eac328df1"
   },
   "outputs": [
    {
     "data": {
      "text/plain": [
       "<tf.Tensor: shape=(1885,), dtype=int64, numpy=array([ 3, 11, 16, ...,  1, 17, 13])>"
      ]
     },
     "execution_count": 53,
     "metadata": {},
     "output_type": "execute_result"
    }
   ],
   "source": [
    "#run and capture all the predictions from the clean test data\n",
    "### YOUR CODE HERE \n",
    "predictions = clean_pooled_bert_model.predict([cleantest_encodings.input_ids, cleantest_encodings.token_type_ids, cleantest_encodings.attention_mask])\n",
    "### END YOUR CODE\n",
    "\n",
    "#now we need to get the highest probability in the distribution for each prediction\n",
    "#and store that in a tf.Tensor\n",
    "predictions = tf.argmax(predictions, axis=-1)\n",
    "### END YOUR CODE\n",
    "predictions"
   ]
  },
  {
   "cell_type": "code",
   "execution_count": null,
   "metadata": {
    "id": "DoiKD8Y2g9LN"
   },
   "outputs": [],
   "source": [
    "#Generate a confusion matrix using your new clean test predictions\n",
    "ccm = tf.math.confusion_matrix(test_labels, predictions)\n",
    "ccm = ccm/ccm.numpy().sum(axis=1)[:, tf.newaxis]\n",
    "### YOUR CODE HERE\n",
    "### END YOUR CODE"
   ]
  },
  {
   "cell_type": "code",
   "execution_count": null,
   "metadata": {
    "colab": {
     "base_uri": "https://localhost:8080/",
     "height": 585
    },
    "id": "McHH8iKpg9AC",
    "outputId": "0bf49380-61bc-4b82-b87f-c00b79205b89"
   },
   "outputs": [
    {
     "data": {
      "text/plain": [
       "Text(159.0, 0.5, 'True')"
      ]
     },
     "execution_count": 47,
     "metadata": {},
     "output_type": "execute_result"
    },
    {
     "data": {
      "image/png": "[encoded data removed]",
      "text/plain": [
       "<Figure size 1440x504 with 2 Axes>"
      ]
     },
     "metadata": {
      "needs_background": "light"
     },
     "output_type": "display_data"
    }
   ],
   "source": [
    "#display that new confusion matrix\n",
    "plt.figure(figsize=(20,7))\n",
    "sns.heatmap(\n",
    "    ccm, annot=True,\n",
    "    xticklabels=target_names,\n",
    "    yticklabels=target_names)\n",
    "plt.xlabel(\"Predicted\")\n",
    "plt.ylabel(\"True\")"
   ]
  },
  {
   "cell_type": "code",
   "execution_count": null,
   "metadata": {
    "colab": {
     "base_uri": "https://localhost:8080/"
    },
    "id": "c_h2J81owbgf",
    "outputId": "028f144e-792f-44c4-85ca-92beb85712d6"
   },
   "outputs": [
    {
     "name": "stdout",
     "output_type": "stream",
     "text": [
      "                          precision    recall  f1-score   support\n",
      "\n",
      "             alt.atheism       0.46      0.59      0.52        68\n",
      "           comp.graphics       0.58      0.76      0.66        93\n",
      " comp.os.ms-windows.misc       0.71      0.65      0.68       114\n",
      "comp.sys.ibm.pc.hardware       0.59      0.63      0.61       101\n",
      "   comp.sys.mac.hardware       0.78      0.62      0.69        92\n",
      "          comp.windows.x       0.88      0.76      0.81       103\n",
      "            misc.forsale       0.78      0.78      0.78        86\n",
      "               rec.autos       0.68      0.81      0.74        93\n",
      "         rec.motorcycles       0.43      0.68      0.53        97\n",
      "      rec.sport.baseball       0.85      0.83      0.84        84\n",
      "        rec.sport.hockey       0.94      0.92      0.93        91\n",
      "               sci.crypt       0.88      0.70      0.78       101\n",
      "         sci.electronics       0.67      0.65      0.66       114\n",
      "                 sci.med       0.95      0.83      0.89       103\n",
      "               sci.space       0.66      0.85      0.74        99\n",
      "  soc.religion.christian       0.72      0.76      0.74       117\n",
      "      talk.politics.guns       0.65      0.76      0.70        89\n",
      "   talk.politics.mideast       0.95      0.78      0.86       105\n",
      "      talk.politics.misc       0.72      0.47      0.57        73\n",
      "      talk.religion.misc       0.50      0.06      0.11        62\n",
      "\n",
      "                accuracy                           0.71      1885\n",
      "               macro avg       0.72      0.70      0.69      1885\n",
      "            weighted avg       0.73      0.71      0.71      1885\n",
      "\n"
     ]
    }
   ],
   "source": [
    "# Run the sklearn classification_report again with the new predictions\n",
    "### YOUR CODE HERE\n",
    "print(classification_report(test_labels, predictions.numpy(), target_names=target_names))\n",
    "### END YOUR CODE"
   ]
  },
  {
   "cell_type": "markdown",
   "metadata": {
    "id": "KUQEz34EihRQ"
   },
   "source": [
    "**QUESTION:**\n",
    "\n",
    "3.2 What is the weighted avg F1 score in the classification when you run the cleaned model with batch size of 8? 0.69"
   ]
  },
  {
   "cell_type": "markdown",
   "metadata": {
    "id": "TTZcBibxR153"
   },
   "source": [
    "### 4. Try again with a different mini batch size to see if that improves performance\n",
    "\n",
    "Now go back and rerun both the regular and the clean data models but change the batchsize to 16 instead of 8.\n",
    "\n",
    "** You do NOT need to rebuild the data. You just need to rerun the BERT models and the metrics for the new batch size **\n",
    "\n",
    "What do you notice?  Does the accuracy go up or down?\n",
    "\n",
    "The test accuracy goes up with larger batch size and after cleaning. The cleaning and greater batch size help with increasing accuracy because irrelevant terms/tokens are removed for better model evaluation."
   ]
  },
  {
   "cell_type": "markdown",
   "metadata": {
    "id": "8jXBmgS2iXDI"
   },
   "source": [
    "**QUESTION:**\n",
    "\n",
    "4.1 What is the Test accuracy you get when you run the cleaned model with batch size 16? (copy and paste the value rounding to five significant digits) 0.71989\n",
    "\n",
    "4.2 Which category is consistenly underperforming in both the classification reports and the confusion matrices? talk.religion.misc"
   ]
  },
  {
   "cell_type": "code",
   "execution_count": null,
   "metadata": {
    "id": "Xg2Dtjpzg7nT"
   },
   "outputs": [],
   "source": [
    ""
   ]
  },
  {
   "cell_type": "markdown",
   "metadata": {
    "id": "coyVPop8SuG9"
   },
   "source": [
    "Count up the train labels to see how many records there are for each of the 20 categories.  We've assumed they're evenly distributed. "
   ]
  },
  {
   "cell_type": "code",
   "execution_count": 21,
   "metadata": {
    "colab": {
     "base_uri": "https://localhost:8080/"
    },
    "id": "Lj98aBdmNMrE",
    "outputId": "2492d34e-aa68-47b8-c713-4ff26435b973"
   },
   "outputs": [
    {
     "name": "stdout",
     "output_type": "stream",
     "text": [
      "{'alt.atheism': 678,\n",
      " 'comp.graphics': 824,\n",
      " 'comp.os.ms-windows.misc': 842,\n",
      " 'comp.sys.ibm.pc.hardware': 843,\n",
      " 'comp.sys.mac.hardware': 819,\n",
      " 'comp.windows.x': 838,\n",
      " 'misc.forsale': 833,\n",
      " 'rec.autos': 844,\n",
      " 'rec.motorcycles': 848,\n",
      " 'rec.sport.baseball': 855,\n",
      " 'rec.sport.hockey': 852,\n",
      " 'sci.crypt': 827,\n",
      " 'sci.electronics': 843,\n",
      " 'sci.med': 823,\n",
      " 'sci.space': 838,\n",
      " 'soc.religion.christian': 837,\n",
      " 'talk.politics.guns': 773,\n",
      " 'talk.politics.mideast': 805,\n",
      " 'talk.politics.misc': 646,\n",
      " 'talk.religion.misc': 532}\n"
     ]
    }
   ],
   "source": [
    "count_dict = dict(zip(target_names, np.unique(train_labels, return_counts=True)[1]))\n",
    "\n",
    "### YOUR CODE HERE\n",
    "### END YOUR CODE\n",
    "pprint(count_dict, compact=True)"
   ]
  },
  {
   "cell_type": "markdown",
   "metadata": {
    "id": "ppncPlCzzz0B"
   },
   "source": [
    "**QUESTION:** \n",
    "\n",
    "4.3 The training data set is evenly distributed across all of the categories (True or False)?  False\n",
    "\n",
    "Is there a possible relation between those counts and what we've seen in the confusion matrices? Some values in the confusion matrix may have skewed results because of the difference in distribution across the categories."
   ]
  }
 ],
 "metadata": {
  "accelerator": "GPU",
  "colab": {
   "collapsed_sections": [],
   "name": "Copy of Copy of Multiclass_text_classification.ipynb",
   "provenance": []
  },
  "kernelspec": {
   "display_name": "Python 3",
   "name": "python3"
  },
  "language_info": {
   "name": "python"
  },
  "widgets": {
   "application/vnd.jupyter.widget-state+json": {
    "02a9750f9fdb4239a5bcc057b91f92e0": {
     "model_module": "@jupyter-widgets/controls",
     "model_module_version": "1.5.0",
     "model_name": "HBoxModel",
     "state": {
      "_dom_classes": [],
      "_model_module": "@jupyter-widgets/controls",
      "_model_module_version": "1.5.0",
      "_model_name": "HBoxModel",
      "_view_count": null,
      "_view_module": "@jupyter-widgets/controls",
      "_view_module_version": "1.5.0",
      "_view_name": "HBoxView",
      "box_style": "",
      "children": [
       "IPY_MODEL_f58723cad853437998b7aba71f3864c0",
       "IPY_MODEL_17548b97850e4fe3b6eab52e642da867",
       "IPY_MODEL_6150b98e70764ae7b91ea2e14a488245"
      ],
      "layout": "IPY_MODEL_3ce72fd08ad549d7a6e9befa38af50dc"
     }
    },
    "0448cea25e564cc2a13b7d4986d4f68e": {
     "model_module": "@jupyter-widgets/controls",
     "model_module_version": "1.5.0",
     "model_name": "FloatProgressModel",
     "state": {
      "_dom_classes": [],
      "_model_module": "@jupyter-widgets/controls",
      "_model_module_version": "1.5.0",
      "_model_name": "FloatProgressModel",
      "_view_count": null,
      "_view_module": "@jupyter-widgets/controls",
      "_view_module_version": "1.5.0",
      "_view_name": "ProgressView",
      "bar_style": "success",
      "description": "",
      "description_tooltip": null,
      "layout": "IPY_MODEL_5f304d41b7564054bbec2b1e75547f1b",
      "max": 28,
      "min": 0,
      "orientation": "horizontal",
      "style": "IPY_MODEL_66e09a7101f641b294f39e5bd1dd0298",
      "value": 28
     }
    },
    "0668a01f91754bb582080f4ba265e504": {
     "model_module": "@jupyter-widgets/base",
     "model_module_version": "1.2.0",
     "model_name": "LayoutModel",
     "state": {
      "_model_module": "@jupyter-widgets/base",
      "_model_module_version": "1.2.0",
      "_model_name": "LayoutModel",
      "_view_count": null,
      "_view_module": "@jupyter-widgets/base",
      "_view_module_version": "1.2.0",
      "_view_name": "LayoutView",
      "align_content": null,
      "align_items": null,
      "align_self": null,
      "border": null,
      "bottom": null,
      "display": null,
      "flex": null,
      "flex_flow": null,
      "grid_area": null,
      "grid_auto_columns": null,
      "grid_auto_flow": null,
      "grid_auto_rows": null,
      "grid_column": null,
      "grid_gap": null,
      "grid_row": null,
      "grid_template_areas": null,
      "grid_template_columns": null,
      "grid_template_rows": null,
      "height": null,
      "justify_content": null,
      "justify_items": null,
      "left": null,
      "margin": null,
      "max_height": null,
      "max_width": null,
      "min_height": null,
      "min_width": null,
      "object_fit": null,
      "object_position": null,
      "order": null,
      "overflow": null,
      "overflow_x": null,
      "overflow_y": null,
      "padding": null,
      "right": null,
      "top": null,
      "visibility": null,
      "width": null
     }
    },
    "0e23355dcd004cf6b94a5738d47459b1": {
     "model_module": "@jupyter-widgets/base",
     "model_module_version": "1.2.0",
     "model_name": "LayoutModel",
     "state": {
      "_model_module": "@jupyter-widgets/base",
      "_model_module_version": "1.2.0",
      "_model_name": "LayoutModel",
      "_view_count": null,
      "_view_module": "@jupyter-widgets/base",
      "_view_module_version": "1.2.0",
      "_view_name": "LayoutView",
      "align_content": null,
      "align_items": null,
      "align_self": null,
      "border": null,
      "bottom": null,
      "display": null,
      "flex": null,
      "flex_flow": null,
      "grid_area": null,
      "grid_auto_columns": null,
      "grid_auto_flow": null,
      "grid_auto_rows": null,
      "grid_column": null,
      "grid_gap": null,
      "grid_row": null,
      "grid_template_areas": null,
      "grid_template_columns": null,
      "grid_template_rows": null,
      "height": null,
      "justify_content": null,
      "justify_items": null,
      "left": null,
      "margin": null,
      "max_height": null,
      "max_width": null,
      "min_height": null,
      "min_width": null,
      "object_fit": null,
      "object_position": null,
      "order": null,
      "overflow": null,
      "overflow_x": null,
      "overflow_y": null,
      "padding": null,
      "right": null,
      "top": null,
      "visibility": null,
      "width": null
     }
    },
    "10824e09337c43a2ac8ed5ce8916ad24": {
     "model_module": "@jupyter-widgets/controls",
     "model_module_version": "1.5.0",
     "model_name": "FloatProgressModel",
     "state": {
      "_dom_classes": [],
      "_model_module": "@jupyter-widgets/controls",
      "_model_module_version": "1.5.0",
      "_model_name": "FloatProgressModel",
      "_view_count": null,
      "_view_module": "@jupyter-widgets/controls",
      "_view_module_version": "1.5.0",
      "_view_name": "ProgressView",
      "bar_style": "success",
      "description": "",
      "description_tooltip": null,
      "layout": "IPY_MODEL_54aa707dd9ed49049f91e23c6e922933",
      "max": 231508,
      "min": 0,
      "orientation": "horizontal",
      "style": "IPY_MODEL_cbb0f59b2dc94350b035514b560a1240",
      "value": 231508
     }
    },
    "10ab185f40a84c34b9745c5c66a4336e": {
     "model_module": "@jupyter-widgets/base",
     "model_module_version": "1.2.0",
     "model_name": "LayoutModel",
     "state": {
      "_model_module": "@jupyter-widgets/base",
      "_model_module_version": "1.2.0",
      "_model_name": "LayoutModel",
      "_view_count": null,
      "_view_module": "@jupyter-widgets/base",
      "_view_module_version": "1.2.0",
      "_view_name": "LayoutView",
      "align_content": null,
      "align_items": null,
      "align_self": null,
      "border": null,
      "bottom": null,
      "display": null,
      "flex": null,
      "flex_flow": null,
      "grid_area": null,
      "grid_auto_columns": null,
      "grid_auto_flow": null,
      "grid_auto_rows": null,
      "grid_column": null,
      "grid_gap": null,
      "grid_row": null,
      "grid_template_areas": null,
      "grid_template_columns": null,
      "grid_template_rows": null,
      "height": null,
      "justify_content": null,
      "justify_items": null,
      "left": null,
      "margin": null,
      "max_height": null,
      "max_width": null,
      "min_height": null,
      "min_width": null,
      "object_fit": null,
      "object_position": null,
      "order": null,
      "overflow": null,
      "overflow_x": null,
      "overflow_y": null,
      "padding": null,
      "right": null,
      "top": null,
      "visibility": null,
      "width": null
     }
    },
    "120f7cb1e5de4af9a35aa597a73d1eba": {
     "model_module": "@jupyter-widgets/controls",
     "model_module_version": "1.5.0",
     "model_name": "DescriptionStyleModel",
     "state": {
      "_model_module": "@jupyter-widgets/controls",
      "_model_module_version": "1.5.0",
      "_model_name": "DescriptionStyleModel",
      "_view_count": null,
      "_view_module": "@jupyter-widgets/base",
      "_view_module_version": "1.2.0",
      "_view_name": "StyleView",
      "description_width": ""
     }
    },
    "17548b97850e4fe3b6eab52e642da867": {
     "model_module": "@jupyter-widgets/controls",
     "model_module_version": "1.5.0",
     "model_name": "FloatProgressModel",
     "state": {
      "_dom_classes": [],
      "_model_module": "@jupyter-widgets/controls",
      "_model_module_version": "1.5.0",
      "_model_name": "FloatProgressModel",
      "_view_count": null,
      "_view_module": "@jupyter-widgets/controls",
      "_view_module_version": "1.5.0",
      "_view_name": "ProgressView",
      "bar_style": "success",
      "description": "",
      "description_tooltip": null,
      "layout": "IPY_MODEL_691e411a81ac44b7b0c3e55e228b5cb3",
      "max": 570,
      "min": 0,
      "orientation": "horizontal",
      "style": "IPY_MODEL_5223cf7c94764d08ba3aad619344edce",
      "value": 570
     }
    },
    "1f5fb0c058874b0189e01bd2907263fb": {
     "model_module": "@jupyter-widgets/controls",
     "model_module_version": "1.5.0",
     "model_name": "FloatProgressModel",
     "state": {
      "_dom_classes": [],
      "_model_module": "@jupyter-widgets/controls",
      "_model_module_version": "1.5.0",
      "_model_name": "FloatProgressModel",
      "_view_count": null,
      "_view_module": "@jupyter-widgets/controls",
      "_view_module_version": "1.5.0",
      "_view_name": "ProgressView",
      "bar_style": "success",
      "description": "",
      "description_tooltip": null,
      "layout": "IPY_MODEL_cc2d9163c09a4bfabd14030e9431fba0",
      "max": 29,
      "min": 0,
      "orientation": "horizontal",
      "style": "IPY_MODEL_391eadfa93a243e8addc466fa0dd1b04",
      "value": 29
     }
    },
    "2043abb4d55347d7b696fbc361accbc2": {
     "model_module": "@jupyter-widgets/controls",
     "model_module_version": "1.5.0",
     "model_name": "HBoxModel",
     "state": {
      "_dom_classes": [],
      "_model_module": "@jupyter-widgets/controls",
      "_model_module_version": "1.5.0",
      "_model_name": "HBoxModel",
      "_view_count": null,
      "_view_module": "@jupyter-widgets/controls",
      "_view_module_version": "1.5.0",
      "_view_name": "HBoxView",
      "box_style": "",
      "children": [
       "IPY_MODEL_32193068dffa4b0f8d44c222da8dfa97",
       "IPY_MODEL_1f5fb0c058874b0189e01bd2907263fb",
       "IPY_MODEL_bd6c6410b33f41c095e1166659884e12"
      ],
      "layout": "IPY_MODEL_de142906dc934418821767af368e68d3"
     }
    },
    "23774c41f47a418685d1110404237951": {
     "model_module": "@jupyter-widgets/base",
     "model_module_version": "1.2.0",
     "model_name": "LayoutModel",
     "state": {
      "_model_module": "@jupyter-widgets/base",
      "_model_module_version": "1.2.0",
      "_model_name": "LayoutModel",
      "_view_count": null,
      "_view_module": "@jupyter-widgets/base",
      "_view_module_version": "1.2.0",
      "_view_name": "LayoutView",
      "align_content": null,
      "align_items": null,
      "align_self": null,
      "border": null,
      "bottom": null,
      "display": null,
      "flex": null,
      "flex_flow": null,
      "grid_area": null,
      "grid_auto_columns": null,
      "grid_auto_flow": null,
      "grid_auto_rows": null,
      "grid_column": null,
      "grid_gap": null,
      "grid_row": null,
      "grid_template_areas": null,
      "grid_template_columns": null,
      "grid_template_rows": null,
      "height": null,
      "justify_content": null,
      "justify_items": null,
      "left": null,
      "margin": null,
      "max_height": null,
      "max_width": null,
      "min_height": null,
      "min_width": null,
      "object_fit": null,
      "object_position": null,
      "order": null,
      "overflow": null,
      "overflow_x": null,
      "overflow_y": null,
      "padding": null,
      "right": null,
      "top": null,
      "visibility": null,
      "width": null
     }
    },
    "23ea0202dedf4fe2aaeca547cd5eab18": {
     "model_module": "@jupyter-widgets/controls",
     "model_module_version": "1.5.0",
     "model_name": "ProgressStyleModel",
     "state": {
      "_model_module": "@jupyter-widgets/controls",
      "_model_module_version": "1.5.0",
      "_model_name": "ProgressStyleModel",
      "_view_count": null,
      "_view_module": "@jupyter-widgets/base",
      "_view_module_version": "1.2.0",
      "_view_name": "StyleView",
      "bar_color": null,
      "description_width": ""
     }
    },
    "257088bc80fd4c26832512d920609d67": {
     "model_module": "@jupyter-widgets/controls",
     "model_module_version": "1.5.0",
     "model_name": "DescriptionStyleModel",
     "state": {
      "_model_module": "@jupyter-widgets/controls",
      "_model_module_version": "1.5.0",
      "_model_name": "DescriptionStyleModel",
      "_view_count": null,
      "_view_module": "@jupyter-widgets/base",
      "_view_module_version": "1.2.0",
      "_view_name": "StyleView",
      "description_width": ""
     }
    },
    "2598fc2e8df24934b991058b473e6994": {
     "model_module": "@jupyter-widgets/controls",
     "model_module_version": "1.5.0",
     "model_name": "HTMLModel",
     "state": {
      "_dom_classes": [],
      "_model_module": "@jupyter-widgets/controls",
      "_model_module_version": "1.5.0",
      "_model_name": "HTMLModel",
      "_view_count": null,
      "_view_module": "@jupyter-widgets/controls",
      "_view_module_version": "1.5.0",
      "_view_name": "HTMLView",
      "description": "",
      "description_tooltip": null,
      "layout": "IPY_MODEL_d6a038de96074cae9035cf7fdad99e70",
      "placeholder": "​",
      "style": "IPY_MODEL_9ea5a47f70034ebebde1218a470af31f",
      "value": " 511M/511M [00:09&lt;00:00, 50.4MB/s]"
     }
    },
    "262155e276ed4a8d90c0461cad322788": {
     "model_module": "@jupyter-widgets/base",
     "model_module_version": "1.2.0",
     "model_name": "LayoutModel",
     "state": {
      "_model_module": "@jupyter-widgets/base",
      "_model_module_version": "1.2.0",
      "_model_name": "LayoutModel",
      "_view_count": null,
      "_view_module": "@jupyter-widgets/base",
      "_view_module_version": "1.2.0",
      "_view_name": "LayoutView",
      "align_content": null,
      "align_items": null,
      "align_self": null,
      "border": null,
      "bottom": null,
      "display": null,
      "flex": null,
      "flex_flow": null,
      "grid_area": null,
      "grid_auto_columns": null,
      "grid_auto_flow": null,
      "grid_auto_rows": null,
      "grid_column": null,
      "grid_gap": null,
      "grid_row": null,
      "grid_template_areas": null,
      "grid_template_columns": null,
      "grid_template_rows": null,
      "height": null,
      "justify_content": null,
      "justify_items": null,
      "left": null,
      "margin": null,
      "max_height": null,
      "max_width": null,
      "min_height": null,
      "min_width": null,
      "object_fit": null,
      "object_position": null,
      "order": null,
      "overflow": null,
      "overflow_x": null,
      "overflow_y": null,
      "padding": null,
      "right": null,
      "top": null,
      "visibility": null,
      "width": null
     }
    },
    "2aeb0659118a40259b7b130fcf7c31fc": {
     "model_module": "@jupyter-widgets/controls",
     "model_module_version": "1.5.0",
     "model_name": "FloatProgressModel",
     "state": {
      "_dom_classes": [],
      "_model_module": "@jupyter-widgets/controls",
      "_model_module_version": "1.5.0",
      "_model_name": "FloatProgressModel",
      "_view_count": null,
      "_view_module": "@jupyter-widgets/controls",
      "_view_module_version": "1.5.0",
      "_view_name": "ProgressView",
      "bar_style": "success",
      "description": "",
      "description_tooltip": null,
      "layout": "IPY_MODEL_23774c41f47a418685d1110404237951",
      "max": 526681800,
      "min": 0,
      "orientation": "horizontal",
      "style": "IPY_MODEL_23ea0202dedf4fe2aaeca547cd5eab18",
      "value": 526681800
     }
    },
    "2e9c7c4ffe9e4d108aeacd7519462e10": {
     "model_module": "@jupyter-widgets/controls",
     "model_module_version": "1.5.0",
     "model_name": "HTMLModel",
     "state": {
      "_dom_classes": [],
      "_model_module": "@jupyter-widgets/controls",
      "_model_module_version": "1.5.0",
      "_model_name": "HTMLModel",
      "_view_count": null,
      "_view_module": "@jupyter-widgets/controls",
      "_view_module_version": "1.5.0",
      "_view_name": "HTMLView",
      "description": "",
      "description_tooltip": null,
      "layout": "IPY_MODEL_0668a01f91754bb582080f4ba265e504",
      "placeholder": "​",
      "style": "IPY_MODEL_62b5e0a59413417aae68fc86023abb10",
      "value": "Downloading: 100%"
     }
    },
    "30a5915a735f48f58496ca726c1243f3": {
     "model_module": "@jupyter-widgets/controls",
     "model_module_version": "1.5.0",
     "model_name": "HBoxModel",
     "state": {
      "_dom_classes": [],
      "_model_module": "@jupyter-widgets/controls",
      "_model_module_version": "1.5.0",
      "_model_name": "HBoxModel",
      "_view_count": null,
      "_view_module": "@jupyter-widgets/controls",
      "_view_module_version": "1.5.0",
      "_view_name": "HBoxView",
      "box_style": "",
      "children": [
       "IPY_MODEL_bade5d1753ee4e959222934578dfae12",
       "IPY_MODEL_4d254fe3d6cf4cdab5db790c7acbcc8a",
       "IPY_MODEL_5456863bd9aa447d93646d202cf47628"
      ],
      "layout": "IPY_MODEL_bd84b3376de34f558ca34dcefeee7055"
     }
    },
    "32193068dffa4b0f8d44c222da8dfa97": {
     "model_module": "@jupyter-widgets/controls",
     "model_module_version": "1.5.0",
     "model_name": "HTMLModel",
     "state": {
      "_dom_classes": [],
      "_model_module": "@jupyter-widgets/controls",
      "_model_module_version": "1.5.0",
      "_model_name": "HTMLModel",
      "_view_count": null,
      "_view_module": "@jupyter-widgets/controls",
      "_view_module_version": "1.5.0",
      "_view_name": "HTMLView",
      "description": "",
      "description_tooltip": null,
      "layout": "IPY_MODEL_fc5ac88148184226b28fc7c706ed6689",
      "placeholder": "​",
      "style": "IPY_MODEL_257088bc80fd4c26832512d920609d67",
      "value": "Downloading: 100%"
     }
    },
    "35f19d69a1c340888954c1f63ed1a599": {
     "model_module": "@jupyter-widgets/controls",
     "model_module_version": "1.5.0",
     "model_name": "DescriptionStyleModel",
     "state": {
      "_model_module": "@jupyter-widgets/controls",
      "_model_module_version": "1.5.0",
      "_model_name": "DescriptionStyleModel",
      "_view_count": null,
      "_view_module": "@jupyter-widgets/base",
      "_view_module_version": "1.2.0",
      "_view_name": "StyleView",
      "description_width": ""
     }
    },
    "380deea8ded14a10b15a845d0bb28931": {
     "model_module": "@jupyter-widgets/base",
     "model_module_version": "1.2.0",
     "model_name": "LayoutModel",
     "state": {
      "_model_module": "@jupyter-widgets/base",
      "_model_module_version": "1.2.0",
      "_model_name": "LayoutModel",
      "_view_count": null,
      "_view_module": "@jupyter-widgets/base",
      "_view_module_version": "1.2.0",
      "_view_name": "LayoutView",
      "align_content": null,
      "align_items": null,
      "align_self": null,
      "border": null,
      "bottom": null,
      "display": null,
      "flex": null,
      "flex_flow": null,
      "grid_area": null,
      "grid_auto_columns": null,
      "grid_auto_flow": null,
      "grid_auto_rows": null,
      "grid_column": null,
      "grid_gap": null,
      "grid_row": null,
      "grid_template_areas": null,
      "grid_template_columns": null,
      "grid_template_rows": null,
      "height": null,
      "justify_content": null,
      "justify_items": null,
      "left": null,
      "margin": null,
      "max_height": null,
      "max_width": null,
      "min_height": null,
      "min_width": null,
      "object_fit": null,
      "object_position": null,
      "order": null,
      "overflow": null,
      "overflow_x": null,
      "overflow_y": null,
      "padding": null,
      "right": null,
      "top": null,
      "visibility": null,
      "width": null
     }
    },
    "383bbac30a0149f8a3ebae4fb83c5ef3": {
     "model_module": "@jupyter-widgets/base",
     "model_module_version": "1.2.0",
     "model_name": "LayoutModel",
     "state": {
      "_model_module": "@jupyter-widgets/base",
      "_model_module_version": "1.2.0",
      "_model_name": "LayoutModel",
      "_view_count": null,
      "_view_module": "@jupyter-widgets/base",
      "_view_module_version": "1.2.0",
      "_view_name": "LayoutView",
      "align_content": null,
      "align_items": null,
      "align_self": null,
      "border": null,
      "bottom": null,
      "display": null,
      "flex": null,
      "flex_flow": null,
      "grid_area": null,
      "grid_auto_columns": null,
      "grid_auto_flow": null,
      "grid_auto_rows": null,
      "grid_column": null,
      "grid_gap": null,
      "grid_row": null,
      "grid_template_areas": null,
      "grid_template_columns": null,
      "grid_template_rows": null,
      "height": null,
      "justify_content": null,
      "justify_items": null,
      "left": null,
      "margin": null,
      "max_height": null,
      "max_width": null,
      "min_height": null,
      "min_width": null,
      "object_fit": null,
      "object_position": null,
      "order": null,
      "overflow": null,
      "overflow_x": null,
      "overflow_y": null,
      "padding": null,
      "right": null,
      "top": null,
      "visibility": null,
      "width": null
     }
    },
    "39034c1b06744bfbb8ea0bae1fb0083e": {
     "model_module": "@jupyter-widgets/controls",
     "model_module_version": "1.5.0",
     "model_name": "HBoxModel",
     "state": {
      "_dom_classes": [],
      "_model_module": "@jupyter-widgets/controls",
      "_model_module_version": "1.5.0",
      "_model_name": "HBoxModel",
      "_view_count": null,
      "_view_module": "@jupyter-widgets/controls",
      "_view_module_version": "1.5.0",
      "_view_name": "HBoxView",
      "box_style": "",
      "children": [
       "IPY_MODEL_afa1c06b10e54194aee7afcdbec74e0e",
       "IPY_MODEL_0448cea25e564cc2a13b7d4986d4f68e",
       "IPY_MODEL_a463aa645b2947a99f51c3da47ecb5df"
      ],
      "layout": "IPY_MODEL_c4ab4579f8884939b9c840bbb7c46a62"
     }
    },
    "391eadfa93a243e8addc466fa0dd1b04": {
     "model_module": "@jupyter-widgets/controls",
     "model_module_version": "1.5.0",
     "model_name": "ProgressStyleModel",
     "state": {
      "_model_module": "@jupyter-widgets/controls",
      "_model_module_version": "1.5.0",
      "_model_name": "ProgressStyleModel",
      "_view_count": null,
      "_view_module": "@jupyter-widgets/base",
      "_view_module_version": "1.2.0",
      "_view_name": "StyleView",
      "bar_color": null,
      "description_width": ""
     }
    },
    "3ce72fd08ad549d7a6e9befa38af50dc": {
     "model_module": "@jupyter-widgets/base",
     "model_module_version": "1.2.0",
     "model_name": "LayoutModel",
     "state": {
      "_model_module": "@jupyter-widgets/base",
      "_model_module_version": "1.2.0",
      "_model_name": "LayoutModel",
      "_view_count": null,
      "_view_module": "@jupyter-widgets/base",
      "_view_module_version": "1.2.0",
      "_view_name": "LayoutView",
      "align_content": null,
      "align_items": null,
      "align_self": null,
      "border": null,
      "bottom": null,
      "display": null,
      "flex": null,
      "flex_flow": null,
      "grid_area": null,
      "grid_auto_columns": null,
      "grid_auto_flow": null,
      "grid_auto_rows": null,
      "grid_column": null,
      "grid_gap": null,
      "grid_row": null,
      "grid_template_areas": null,
      "grid_template_columns": null,
      "grid_template_rows": null,
      "height": null,
      "justify_content": null,
      "justify_items": null,
      "left": null,
      "margin": null,
      "max_height": null,
      "max_width": null,
      "min_height": null,
      "min_width": null,
      "object_fit": null,
      "object_position": null,
      "order": null,
      "overflow": null,
      "overflow_x": null,
      "overflow_y": null,
      "padding": null,
      "right": null,
      "top": null,
      "visibility": null,
      "width": null
     }
    },
    "47c1fbb6ff2c482a87a1ba7d76b000de": {
     "model_module": "@jupyter-widgets/base",
     "model_module_version": "1.2.0",
     "model_name": "LayoutModel",
     "state": {
      "_model_module": "@jupyter-widgets/base",
      "_model_module_version": "1.2.0",
      "_model_name": "LayoutModel",
      "_view_count": null,
      "_view_module": "@jupyter-widgets/base",
      "_view_module_version": "1.2.0",
      "_view_name": "LayoutView",
      "align_content": null,
      "align_items": null,
      "align_self": null,
      "border": null,
      "bottom": null,
      "display": null,
      "flex": null,
      "flex_flow": null,
      "grid_area": null,
      "grid_auto_columns": null,
      "grid_auto_flow": null,
      "grid_auto_rows": null,
      "grid_column": null,
      "grid_gap": null,
      "grid_row": null,
      "grid_template_areas": null,
      "grid_template_columns": null,
      "grid_template_rows": null,
      "height": null,
      "justify_content": null,
      "justify_items": null,
      "left": null,
      "margin": null,
      "max_height": null,
      "max_width": null,
      "min_height": null,
      "min_width": null,
      "object_fit": null,
      "object_position": null,
      "order": null,
      "overflow": null,
      "overflow_x": null,
      "overflow_y": null,
      "padding": null,
      "right": null,
      "top": null,
      "visibility": null,
      "width": null
     }
    },
    "4c37b6fa4be34d4d9d763059db7dd727": {
     "model_module": "@jupyter-widgets/controls",
     "model_module_version": "1.5.0",
     "model_name": "HTMLModel",
     "state": {
      "_dom_classes": [],
      "_model_module": "@jupyter-widgets/controls",
      "_model_module_version": "1.5.0",
      "_model_name": "HTMLModel",
      "_view_count": null,
      "_view_module": "@jupyter-widgets/controls",
      "_view_module_version": "1.5.0",
      "_view_name": "HTMLView",
      "description": "",
      "description_tooltip": null,
      "layout": "IPY_MODEL_6221a97ae0654950a1d3da4d14479433",
      "placeholder": "​",
      "style": "IPY_MODEL_64e73a897ba244faaf8b622f9624fd37",
      "value": "Downloading: 100%"
     }
    },
    "4d254fe3d6cf4cdab5db790c7acbcc8a": {
     "model_module": "@jupyter-widgets/controls",
     "model_module_version": "1.5.0",
     "model_name": "FloatProgressModel",
     "state": {
      "_dom_classes": [],
      "_model_module": "@jupyter-widgets/controls",
      "_model_module_version": "1.5.0",
      "_model_name": "FloatProgressModel",
      "_view_count": null,
      "_view_module": "@jupyter-widgets/controls",
      "_view_module_version": "1.5.0",
      "_view_name": "ProgressView",
      "bar_style": "success",
      "description": "",
      "description_tooltip": null,
      "layout": "IPY_MODEL_b6cfd14efa014233809a02f0b9399bbc",
      "max": 213450,
      "min": 0,
      "orientation": "horizontal",
      "style": "IPY_MODEL_a02da9eedddd40eaaa47ea5e7b04498c",
      "value": 213450
     }
    },
    "4e30193308f74272a2b1cdde1f2b0533": {
     "model_module": "@jupyter-widgets/controls",
     "model_module_version": "1.5.0",
     "model_name": "ProgressStyleModel",
     "state": {
      "_model_module": "@jupyter-widgets/controls",
      "_model_module_version": "1.5.0",
      "_model_name": "ProgressStyleModel",
      "_view_count": null,
      "_view_module": "@jupyter-widgets/base",
      "_view_module_version": "1.2.0",
      "_view_name": "StyleView",
      "bar_color": null,
      "description_width": ""
     }
    },
    "5223cf7c94764d08ba3aad619344edce": {
     "model_module": "@jupyter-widgets/controls",
     "model_module_version": "1.5.0",
     "model_name": "ProgressStyleModel",
     "state": {
      "_model_module": "@jupyter-widgets/controls",
      "_model_module_version": "1.5.0",
      "_model_name": "ProgressStyleModel",
      "_view_count": null,
      "_view_module": "@jupyter-widgets/base",
      "_view_module_version": "1.2.0",
      "_view_name": "StyleView",
      "bar_color": null,
      "description_width": ""
     }
    },
    "5349570efac14eabba68d1666d598c51": {
     "model_module": "@jupyter-widgets/base",
     "model_module_version": "1.2.0",
     "model_name": "LayoutModel",
     "state": {
      "_model_module": "@jupyter-widgets/base",
      "_model_module_version": "1.2.0",
      "_model_name": "LayoutModel",
      "_view_count": null,
      "_view_module": "@jupyter-widgets/base",
      "_view_module_version": "1.2.0",
      "_view_name": "LayoutView",
      "align_content": null,
      "align_items": null,
      "align_self": null,
      "border": null,
      "bottom": null,
      "display": null,
      "flex": null,
      "flex_flow": null,
      "grid_area": null,
      "grid_auto_columns": null,
      "grid_auto_flow": null,
      "grid_auto_rows": null,
      "grid_column": null,
      "grid_gap": null,
      "grid_row": null,
      "grid_template_areas": null,
      "grid_template_columns": null,
      "grid_template_rows": null,
      "height": null,
      "justify_content": null,
      "justify_items": null,
      "left": null,
      "margin": null,
      "max_height": null,
      "max_width": null,
      "min_height": null,
      "min_width": null,
      "object_fit": null,
      "object_position": null,
      "order": null,
      "overflow": null,
      "overflow_x": null,
      "overflow_y": null,
      "padding": null,
      "right": null,
      "top": null,
      "visibility": null,
      "width": null
     }
    },
    "5456863bd9aa447d93646d202cf47628": {
     "model_module": "@jupyter-widgets/controls",
     "model_module_version": "1.5.0",
     "model_name": "HTMLModel",
     "state": {
      "_dom_classes": [],
      "_model_module": "@jupyter-widgets/controls",
      "_model_module_version": "1.5.0",
      "_model_name": "HTMLModel",
      "_view_count": null,
      "_view_module": "@jupyter-widgets/controls",
      "_view_module_version": "1.5.0",
      "_view_name": "HTMLView",
      "description": "",
      "description_tooltip": null,
      "layout": "IPY_MODEL_5349570efac14eabba68d1666d598c51",
      "placeholder": "​",
      "style": "IPY_MODEL_ea18b41e67234190917aac901d2d8670",
      "value": " 208k/208k [00:00&lt;00:00, 455kB/s]"
     }
    },
    "54aa707dd9ed49049f91e23c6e922933": {
     "model_module": "@jupyter-widgets/base",
     "model_module_version": "1.2.0",
     "model_name": "LayoutModel",
     "state": {
      "_model_module": "@jupyter-widgets/base",
      "_model_module_version": "1.2.0",
      "_model_name": "LayoutModel",
      "_view_count": null,
      "_view_module": "@jupyter-widgets/base",
      "_view_module_version": "1.2.0",
      "_view_name": "LayoutView",
      "align_content": null,
      "align_items": null,
      "align_self": null,
      "border": null,
      "bottom": null,
      "display": null,
      "flex": null,
      "flex_flow": null,
      "grid_area": null,
      "grid_auto_columns": null,
      "grid_auto_flow": null,
      "grid_auto_rows": null,
      "grid_column": null,
      "grid_gap": null,
      "grid_row": null,
      "grid_template_areas": null,
      "grid_template_columns": null,
      "grid_template_rows": null,
      "height": null,
      "justify_content": null,
      "justify_items": null,
      "left": null,
      "margin": null,
      "max_height": null,
      "max_width": null,
      "min_height": null,
      "min_width": null,
      "object_fit": null,
      "object_position": null,
      "order": null,
      "overflow": null,
      "overflow_x": null,
      "overflow_y": null,
      "padding": null,
      "right": null,
      "top": null,
      "visibility": null,
      "width": null
     }
    },
    "5f304d41b7564054bbec2b1e75547f1b": {
     "model_module": "@jupyter-widgets/base",
     "model_module_version": "1.2.0",
     "model_name": "LayoutModel",
     "state": {
      "_model_module": "@jupyter-widgets/base",
      "_model_module_version": "1.2.0",
      "_model_name": "LayoutModel",
      "_view_count": null,
      "_view_module": "@jupyter-widgets/base",
      "_view_module_version": "1.2.0",
      "_view_name": "LayoutView",
      "align_content": null,
      "align_items": null,
      "align_self": null,
      "border": null,
      "bottom": null,
      "display": null,
      "flex": null,
      "flex_flow": null,
      "grid_area": null,
      "grid_auto_columns": null,
      "grid_auto_flow": null,
      "grid_auto_rows": null,
      "grid_column": null,
      "grid_gap": null,
      "grid_row": null,
      "grid_template_areas": null,
      "grid_template_columns": null,
      "grid_template_rows": null,
      "height": null,
      "justify_content": null,
      "justify_items": null,
      "left": null,
      "margin": null,
      "max_height": null,
      "max_width": null,
      "min_height": null,
      "min_width": null,
      "object_fit": null,
      "object_position": null,
      "order": null,
      "overflow": null,
      "overflow_x": null,
      "overflow_y": null,
      "padding": null,
      "right": null,
      "top": null,
      "visibility": null,
      "width": null
     }
    },
    "6150b98e70764ae7b91ea2e14a488245": {
     "model_module": "@jupyter-widgets/controls",
     "model_module_version": "1.5.0",
     "model_name": "HTMLModel",
     "state": {
      "_dom_classes": [],
      "_model_module": "@jupyter-widgets/controls",
      "_model_module_version": "1.5.0",
      "_model_name": "HTMLModel",
      "_view_count": null,
      "_view_module": "@jupyter-widgets/controls",
      "_view_module_version": "1.5.0",
      "_view_name": "HTMLView",
      "description": "",
      "description_tooltip": null,
      "layout": "IPY_MODEL_c822f598c5b3411e809be2f74bde9d0b",
      "placeholder": "​",
      "style": "IPY_MODEL_65a82ba42c234edd9e1ebbde749d8929",
      "value": " 570/570 [00:00&lt;00:00, 11.1kB/s]"
     }
    },
    "6221a97ae0654950a1d3da4d14479433": {
     "model_module": "@jupyter-widgets/base",
     "model_module_version": "1.2.0",
     "model_name": "LayoutModel",
     "state": {
      "_model_module": "@jupyter-widgets/base",
      "_model_module_version": "1.2.0",
      "_model_name": "LayoutModel",
      "_view_count": null,
      "_view_module": "@jupyter-widgets/base",
      "_view_module_version": "1.2.0",
      "_view_name": "LayoutView",
      "align_content": null,
      "align_items": null,
      "align_self": null,
      "border": null,
      "bottom": null,
      "display": null,
      "flex": null,
      "flex_flow": null,
      "grid_area": null,
      "grid_auto_columns": null,
      "grid_auto_flow": null,
      "grid_auto_rows": null,
      "grid_column": null,
      "grid_gap": null,
      "grid_row": null,
      "grid_template_areas": null,
      "grid_template_columns": null,
      "grid_template_rows": null,
      "height": null,
      "justify_content": null,
      "justify_items": null,
      "left": null,
      "margin": null,
      "max_height": null,
      "max_width": null,
      "min_height": null,
      "min_width": null,
      "object_fit": null,
      "object_position": null,
      "order": null,
      "overflow": null,
      "overflow_x": null,
      "overflow_y": null,
      "padding": null,
      "right": null,
      "top": null,
      "visibility": null,
      "width": null
     }
    },
    "62b5e0a59413417aae68fc86023abb10": {
     "model_module": "@jupyter-widgets/controls",
     "model_module_version": "1.5.0",
     "model_name": "DescriptionStyleModel",
     "state": {
      "_model_module": "@jupyter-widgets/controls",
      "_model_module_version": "1.5.0",
      "_model_name": "DescriptionStyleModel",
      "_view_count": null,
      "_view_module": "@jupyter-widgets/base",
      "_view_module_version": "1.2.0",
      "_view_name": "StyleView",
      "description_width": ""
     }
    },
    "64e73a897ba244faaf8b622f9624fd37": {
     "model_module": "@jupyter-widgets/controls",
     "model_module_version": "1.5.0",
     "model_name": "DescriptionStyleModel",
     "state": {
      "_model_module": "@jupyter-widgets/controls",
      "_model_module_version": "1.5.0",
      "_model_name": "DescriptionStyleModel",
      "_view_count": null,
      "_view_module": "@jupyter-widgets/base",
      "_view_module_version": "1.2.0",
      "_view_name": "StyleView",
      "description_width": ""
     }
    },
    "65a82ba42c234edd9e1ebbde749d8929": {
     "model_module": "@jupyter-widgets/controls",
     "model_module_version": "1.5.0",
     "model_name": "DescriptionStyleModel",
     "state": {
      "_model_module": "@jupyter-widgets/controls",
      "_model_module_version": "1.5.0",
      "_model_name": "DescriptionStyleModel",
      "_view_count": null,
      "_view_module": "@jupyter-widgets/base",
      "_view_module_version": "1.2.0",
      "_view_name": "StyleView",
      "description_width": ""
     }
    },
    "66e09a7101f641b294f39e5bd1dd0298": {
     "model_module": "@jupyter-widgets/controls",
     "model_module_version": "1.5.0",
     "model_name": "ProgressStyleModel",
     "state": {
      "_model_module": "@jupyter-widgets/controls",
      "_model_module_version": "1.5.0",
      "_model_name": "ProgressStyleModel",
      "_view_count": null,
      "_view_module": "@jupyter-widgets/base",
      "_view_module_version": "1.2.0",
      "_view_name": "StyleView",
      "bar_color": null,
      "description_width": ""
     }
    },
    "691e411a81ac44b7b0c3e55e228b5cb3": {
     "model_module": "@jupyter-widgets/base",
     "model_module_version": "1.2.0",
     "model_name": "LayoutModel",
     "state": {
      "_model_module": "@jupyter-widgets/base",
      "_model_module_version": "1.2.0",
      "_model_name": "LayoutModel",
      "_view_count": null,
      "_view_module": "@jupyter-widgets/base",
      "_view_module_version": "1.2.0",
      "_view_name": "LayoutView",
      "align_content": null,
      "align_items": null,
      "align_self": null,
      "border": null,
      "bottom": null,
      "display": null,
      "flex": null,
      "flex_flow": null,
      "grid_area": null,
      "grid_auto_columns": null,
      "grid_auto_flow": null,
      "grid_auto_rows": null,
      "grid_column": null,
      "grid_gap": null,
      "grid_row": null,
      "grid_template_areas": null,
      "grid_template_columns": null,
      "grid_template_rows": null,
      "height": null,
      "justify_content": null,
      "justify_items": null,
      "left": null,
      "margin": null,
      "max_height": null,
      "max_width": null,
      "min_height": null,
      "min_width": null,
      "object_fit": null,
      "object_position": null,
      "order": null,
      "overflow": null,
      "overflow_x": null,
      "overflow_y": null,
      "padding": null,
      "right": null,
      "top": null,
      "visibility": null,
      "width": null
     }
    },
    "70e6926cf8534549a9cb710ba0d81192": {
     "model_module": "@jupyter-widgets/controls",
     "model_module_version": "1.5.0",
     "model_name": "DescriptionStyleModel",
     "state": {
      "_model_module": "@jupyter-widgets/controls",
      "_model_module_version": "1.5.0",
      "_model_name": "DescriptionStyleModel",
      "_view_count": null,
      "_view_module": "@jupyter-widgets/base",
      "_view_module_version": "1.2.0",
      "_view_name": "StyleView",
      "description_width": ""
     }
    },
    "711f9b80dfed4bfa84f1e2b45cfdcf33": {
     "model_module": "@jupyter-widgets/controls",
     "model_module_version": "1.5.0",
     "model_name": "DescriptionStyleModel",
     "state": {
      "_model_module": "@jupyter-widgets/controls",
      "_model_module_version": "1.5.0",
      "_model_name": "DescriptionStyleModel",
      "_view_count": null,
      "_view_module": "@jupyter-widgets/base",
      "_view_module_version": "1.2.0",
      "_view_name": "StyleView",
      "description_width": ""
     }
    },
    "779952005e2248bbb5c9393867126666": {
     "model_module": "@jupyter-widgets/base",
     "model_module_version": "1.2.0",
     "model_name": "LayoutModel",
     "state": {
      "_model_module": "@jupyter-widgets/base",
      "_model_module_version": "1.2.0",
      "_model_name": "LayoutModel",
      "_view_count": null,
      "_view_module": "@jupyter-widgets/base",
      "_view_module_version": "1.2.0",
      "_view_name": "LayoutView",
      "align_content": null,
      "align_items": null,
      "align_self": null,
      "border": null,
      "bottom": null,
      "display": null,
      "flex": null,
      "flex_flow": null,
      "grid_area": null,
      "grid_auto_columns": null,
      "grid_auto_flow": null,
      "grid_auto_rows": null,
      "grid_column": null,
      "grid_gap": null,
      "grid_row": null,
      "grid_template_areas": null,
      "grid_template_columns": null,
      "grid_template_rows": null,
      "height": null,
      "justify_content": null,
      "justify_items": null,
      "left": null,
      "margin": null,
      "max_height": null,
      "max_width": null,
      "min_height": null,
      "min_width": null,
      "object_fit": null,
      "object_position": null,
      "order": null,
      "overflow": null,
      "overflow_x": null,
      "overflow_y": null,
      "padding": null,
      "right": null,
      "top": null,
      "visibility": null,
      "width": null
     }
    },
    "7cf709cb6d124e019e6db7942c40eb4f": {
     "model_module": "@jupyter-widgets/controls",
     "model_module_version": "1.5.0",
     "model_name": "DescriptionStyleModel",
     "state": {
      "_model_module": "@jupyter-widgets/controls",
      "_model_module_version": "1.5.0",
      "_model_name": "DescriptionStyleModel",
      "_view_count": null,
      "_view_module": "@jupyter-widgets/base",
      "_view_module_version": "1.2.0",
      "_view_name": "StyleView",
      "description_width": ""
     }
    },
    "8067f40277a84d48b62442b8165310ab": {
     "model_module": "@jupyter-widgets/controls",
     "model_module_version": "1.5.0",
     "model_name": "HBoxModel",
     "state": {
      "_dom_classes": [],
      "_model_module": "@jupyter-widgets/controls",
      "_model_module_version": "1.5.0",
      "_model_name": "HBoxModel",
      "_view_count": null,
      "_view_module": "@jupyter-widgets/controls",
      "_view_module_version": "1.5.0",
      "_view_name": "HBoxView",
      "box_style": "",
      "children": [
       "IPY_MODEL_b76b1b4b1cb6493fb31f0decd309a43a",
       "IPY_MODEL_ecc05922ca9e4ac7bcf24be11a9ca4d7",
       "IPY_MODEL_2598fc2e8df24934b991058b473e6994"
      ],
      "layout": "IPY_MODEL_380deea8ded14a10b15a845d0bb28931"
     }
    },
    "859f8bf4c4174c8d9b1ab548fd64d0b5": {
     "model_module": "@jupyter-widgets/controls",
     "model_module_version": "1.5.0",
     "model_name": "HTMLModel",
     "state": {
      "_dom_classes": [],
      "_model_module": "@jupyter-widgets/controls",
      "_model_module_version": "1.5.0",
      "_model_name": "HTMLModel",
      "_view_count": null,
      "_view_module": "@jupyter-widgets/controls",
      "_view_module_version": "1.5.0",
      "_view_name": "HTMLView",
      "description": "",
      "description_tooltip": null,
      "layout": "IPY_MODEL_779952005e2248bbb5c9393867126666",
      "placeholder": "​",
      "style": "IPY_MODEL_35f19d69a1c340888954c1f63ed1a599",
      "value": " 570/570 [00:00&lt;00:00, 15.0kB/s]"
     }
    },
    "86aaba42a0044faf819a75d6aab37386": {
     "model_module": "@jupyter-widgets/controls",
     "model_module_version": "1.5.0",
     "model_name": "DescriptionStyleModel",
     "state": {
      "_model_module": "@jupyter-widgets/controls",
      "_model_module_version": "1.5.0",
      "_model_name": "DescriptionStyleModel",
      "_view_count": null,
      "_view_module": "@jupyter-widgets/base",
      "_view_module_version": "1.2.0",
      "_view_name": "StyleView",
      "description_width": ""
     }
    },
    "86c4a3f762384058b15e5dbffa645cd1": {
     "model_module": "@jupyter-widgets/base",
     "model_module_version": "1.2.0",
     "model_name": "LayoutModel",
     "state": {
      "_model_module": "@jupyter-widgets/base",
      "_model_module_version": "1.2.0",
      "_model_name": "LayoutModel",
      "_view_count": null,
      "_view_module": "@jupyter-widgets/base",
      "_view_module_version": "1.2.0",
      "_view_name": "LayoutView",
      "align_content": null,
      "align_items": null,
      "align_self": null,
      "border": null,
      "bottom": null,
      "display": null,
      "flex": null,
      "flex_flow": null,
      "grid_area": null,
      "grid_auto_columns": null,
      "grid_auto_flow": null,
      "grid_auto_rows": null,
      "grid_column": null,
      "grid_gap": null,
      "grid_row": null,
      "grid_template_areas": null,
      "grid_template_columns": null,
      "grid_template_rows": null,
      "height": null,
      "justify_content": null,
      "justify_items": null,
      "left": null,
      "margin": null,
      "max_height": null,
      "max_width": null,
      "min_height": null,
      "min_width": null,
      "object_fit": null,
      "object_position": null,
      "order": null,
      "overflow": null,
      "overflow_x": null,
      "overflow_y": null,
      "padding": null,
      "right": null,
      "top": null,
      "visibility": null,
      "width": null
     }
    },
    "872b831c1cfa4d5398879fff99eb868d": {
     "model_module": "@jupyter-widgets/controls",
     "model_module_version": "1.5.0",
     "model_name": "DescriptionStyleModel",
     "state": {
      "_model_module": "@jupyter-widgets/controls",
      "_model_module_version": "1.5.0",
      "_model_name": "DescriptionStyleModel",
      "_view_count": null,
      "_view_module": "@jupyter-widgets/base",
      "_view_module_version": "1.2.0",
      "_view_name": "StyleView",
      "description_width": ""
     }
    },
    "8bdc00da64b84af89b7a66d2f9f118a8": {
     "model_module": "@jupyter-widgets/controls",
     "model_module_version": "1.5.0",
     "model_name": "HBoxModel",
     "state": {
      "_dom_classes": [],
      "_model_module": "@jupyter-widgets/controls",
      "_model_module_version": "1.5.0",
      "_model_name": "HBoxModel",
      "_view_count": null,
      "_view_module": "@jupyter-widgets/controls",
      "_view_module_version": "1.5.0",
      "_view_name": "HBoxView",
      "box_style": "",
      "children": [
       "IPY_MODEL_2e9c7c4ffe9e4d108aeacd7519462e10",
       "IPY_MODEL_fd0c2e107a1a4a07a13db74f086d385c",
       "IPY_MODEL_859f8bf4c4174c8d9b1ab548fd64d0b5"
      ],
      "layout": "IPY_MODEL_91685bae984140d99afe4f1681bce98e"
     }
    },
    "8d01239a5e0a4198acf95d1aaf0766c5": {
     "model_module": "@jupyter-widgets/base",
     "model_module_version": "1.2.0",
     "model_name": "LayoutModel",
     "state": {
      "_model_module": "@jupyter-widgets/base",
      "_model_module_version": "1.2.0",
      "_model_name": "LayoutModel",
      "_view_count": null,
      "_view_module": "@jupyter-widgets/base",
      "_view_module_version": "1.2.0",
      "_view_name": "LayoutView",
      "align_content": null,
      "align_items": null,
      "align_self": null,
      "border": null,
      "bottom": null,
      "display": null,
      "flex": null,
      "flex_flow": null,
      "grid_area": null,
      "grid_auto_columns": null,
      "grid_auto_flow": null,
      "grid_auto_rows": null,
      "grid_column": null,
      "grid_gap": null,
      "grid_row": null,
      "grid_template_areas": null,
      "grid_template_columns": null,
      "grid_template_rows": null,
      "height": null,
      "justify_content": null,
      "justify_items": null,
      "left": null,
      "margin": null,
      "max_height": null,
      "max_width": null,
      "min_height": null,
      "min_width": null,
      "object_fit": null,
      "object_position": null,
      "order": null,
      "overflow": null,
      "overflow_x": null,
      "overflow_y": null,
      "padding": null,
      "right": null,
      "top": null,
      "visibility": null,
      "width": null
     }
    },
    "91685bae984140d99afe4f1681bce98e": {
     "model_module": "@jupyter-widgets/base",
     "model_module_version": "1.2.0",
     "model_name": "LayoutModel",
     "state": {
      "_model_module": "@jupyter-widgets/base",
      "_model_module_version": "1.2.0",
      "_model_name": "LayoutModel",
      "_view_count": null,
      "_view_module": "@jupyter-widgets/base",
      "_view_module_version": "1.2.0",
      "_view_name": "LayoutView",
      "align_content": null,
      "align_items": null,
      "align_self": null,
      "border": null,
      "bottom": null,
      "display": null,
      "flex": null,
      "flex_flow": null,
      "grid_area": null,
      "grid_auto_columns": null,
      "grid_auto_flow": null,
      "grid_auto_rows": null,
      "grid_column": null,
      "grid_gap": null,
      "grid_row": null,
      "grid_template_areas": null,
      "grid_template_columns": null,
      "grid_template_rows": null,
      "height": null,
      "justify_content": null,
      "justify_items": null,
      "left": null,
      "margin": null,
      "max_height": null,
      "max_width": null,
      "min_height": null,
      "min_width": null,
      "object_fit": null,
      "object_position": null,
      "order": null,
      "overflow": null,
      "overflow_x": null,
      "overflow_y": null,
      "padding": null,
      "right": null,
      "top": null,
      "visibility": null,
      "width": null
     }
    },
    "9ea5a47f70034ebebde1218a470af31f": {
     "model_module": "@jupyter-widgets/controls",
     "model_module_version": "1.5.0",
     "model_name": "DescriptionStyleModel",
     "state": {
      "_model_module": "@jupyter-widgets/controls",
      "_model_module_version": "1.5.0",
      "_model_name": "DescriptionStyleModel",
      "_view_count": null,
      "_view_module": "@jupyter-widgets/base",
      "_view_module_version": "1.2.0",
      "_view_name": "StyleView",
      "description_width": ""
     }
    },
    "a02da9eedddd40eaaa47ea5e7b04498c": {
     "model_module": "@jupyter-widgets/controls",
     "model_module_version": "1.5.0",
     "model_name": "ProgressStyleModel",
     "state": {
      "_model_module": "@jupyter-widgets/controls",
      "_model_module_version": "1.5.0",
      "_model_name": "ProgressStyleModel",
      "_view_count": null,
      "_view_module": "@jupyter-widgets/base",
      "_view_module_version": "1.2.0",
      "_view_name": "StyleView",
      "bar_color": null,
      "description_width": ""
     }
    },
    "a463aa645b2947a99f51c3da47ecb5df": {
     "model_module": "@jupyter-widgets/controls",
     "model_module_version": "1.5.0",
     "model_name": "HTMLModel",
     "state": {
      "_dom_classes": [],
      "_model_module": "@jupyter-widgets/controls",
      "_model_module_version": "1.5.0",
      "_model_name": "HTMLModel",
      "_view_count": null,
      "_view_module": "@jupyter-widgets/controls",
      "_view_module_version": "1.5.0",
      "_view_name": "HTMLView",
      "description": "",
      "description_tooltip": null,
      "layout": "IPY_MODEL_dc6a470c0fce49bf96f3a41b6ca363cb",
      "placeholder": "​",
      "style": "IPY_MODEL_70e6926cf8534549a9cb710ba0d81192",
      "value": " 28.0/28.0 [00:00&lt;00:00, 838B/s]"
     }
    },
    "afa1c06b10e54194aee7afcdbec74e0e": {
     "model_module": "@jupyter-widgets/controls",
     "model_module_version": "1.5.0",
     "model_name": "HTMLModel",
     "state": {
      "_dom_classes": [],
      "_model_module": "@jupyter-widgets/controls",
      "_model_module_version": "1.5.0",
      "_model_name": "HTMLModel",
      "_view_count": null,
      "_view_module": "@jupyter-widgets/controls",
      "_view_module_version": "1.5.0",
      "_view_name": "HTMLView",
      "description": "",
      "description_tooltip": null,
      "layout": "IPY_MODEL_262155e276ed4a8d90c0461cad322788",
      "placeholder": "​",
      "style": "IPY_MODEL_df4dcab2f6d648479aa88d4493fd2062",
      "value": "Downloading: 100%"
     }
    },
    "b198b88d937b47f8ad803b25bf772cd5": {
     "model_module": "@jupyter-widgets/base",
     "model_module_version": "1.2.0",
     "model_name": "LayoutModel",
     "state": {
      "_model_module": "@jupyter-widgets/base",
      "_model_module_version": "1.2.0",
      "_model_name": "LayoutModel",
      "_view_count": null,
      "_view_module": "@jupyter-widgets/base",
      "_view_module_version": "1.2.0",
      "_view_name": "LayoutView",
      "align_content": null,
      "align_items": null,
      "align_self": null,
      "border": null,
      "bottom": null,
      "display": null,
      "flex": null,
      "flex_flow": null,
      "grid_area": null,
      "grid_auto_columns": null,
      "grid_auto_flow": null,
      "grid_auto_rows": null,
      "grid_column": null,
      "grid_gap": null,
      "grid_row": null,
      "grid_template_areas": null,
      "grid_template_columns": null,
      "grid_template_rows": null,
      "height": null,
      "justify_content": null,
      "justify_items": null,
      "left": null,
      "margin": null,
      "max_height": null,
      "max_width": null,
      "min_height": null,
      "min_width": null,
      "object_fit": null,
      "object_position": null,
      "order": null,
      "overflow": null,
      "overflow_x": null,
      "overflow_y": null,
      "padding": null,
      "right": null,
      "top": null,
      "visibility": null,
      "width": null
     }
    },
    "b24a72a81d354db5ba55765ba6095e7b": {
     "model_module": "@jupyter-widgets/controls",
     "model_module_version": "1.5.0",
     "model_name": "HBoxModel",
     "state": {
      "_dom_classes": [],
      "_model_module": "@jupyter-widgets/controls",
      "_model_module_version": "1.5.0",
      "_model_name": "HBoxModel",
      "_view_count": null,
      "_view_module": "@jupyter-widgets/controls",
      "_view_module_version": "1.5.0",
      "_view_name": "HBoxView",
      "box_style": "",
      "children": [
       "IPY_MODEL_4c37b6fa4be34d4d9d763059db7dd727",
       "IPY_MODEL_2aeb0659118a40259b7b130fcf7c31fc",
       "IPY_MODEL_b3ecd164af7e4d16861ce718e6875b9e"
      ],
      "layout": "IPY_MODEL_86c4a3f762384058b15e5dbffa645cd1"
     }
    },
    "b3ecd164af7e4d16861ce718e6875b9e": {
     "model_module": "@jupyter-widgets/controls",
     "model_module_version": "1.5.0",
     "model_name": "HTMLModel",
     "state": {
      "_dom_classes": [],
      "_model_module": "@jupyter-widgets/controls",
      "_model_module_version": "1.5.0",
      "_model_name": "HTMLModel",
      "_view_count": null,
      "_view_module": "@jupyter-widgets/controls",
      "_view_module_version": "1.5.0",
      "_view_name": "HTMLView",
      "description": "",
      "description_tooltip": null,
      "layout": "IPY_MODEL_c2c088b66b0b4c528da4e2e9c21408cd",
      "placeholder": "​",
      "style": "IPY_MODEL_872b831c1cfa4d5398879fff99eb868d",
      "value": " 502M/502M [00:10&lt;00:00, 53.5MB/s]"
     }
    },
    "b6cfd14efa014233809a02f0b9399bbc": {
     "model_module": "@jupyter-widgets/base",
     "model_module_version": "1.2.0",
     "model_name": "LayoutModel",
     "state": {
      "_model_module": "@jupyter-widgets/base",
      "_model_module_version": "1.2.0",
      "_model_name": "LayoutModel",
      "_view_count": null,
      "_view_module": "@jupyter-widgets/base",
      "_view_module_version": "1.2.0",
      "_view_name": "LayoutView",
      "align_content": null,
      "align_items": null,
      "align_self": null,
      "border": null,
      "bottom": null,
      "display": null,
      "flex": null,
      "flex_flow": null,
      "grid_area": null,
      "grid_auto_columns": null,
      "grid_auto_flow": null,
      "grid_auto_rows": null,
      "grid_column": null,
      "grid_gap": null,
      "grid_row": null,
      "grid_template_areas": null,
      "grid_template_columns": null,
      "grid_template_rows": null,
      "height": null,
      "justify_content": null,
      "justify_items": null,
      "left": null,
      "margin": null,
      "max_height": null,
      "max_width": null,
      "min_height": null,
      "min_width": null,
      "object_fit": null,
      "object_position": null,
      "order": null,
      "overflow": null,
      "overflow_x": null,
      "overflow_y": null,
      "padding": null,
      "right": null,
      "top": null,
      "visibility": null,
      "width": null
     }
    },
    "b76b1b4b1cb6493fb31f0decd309a43a": {
     "model_module": "@jupyter-widgets/controls",
     "model_module_version": "1.5.0",
     "model_name": "HTMLModel",
     "state": {
      "_dom_classes": [],
      "_model_module": "@jupyter-widgets/controls",
      "_model_module_version": "1.5.0",
      "_model_name": "HTMLModel",
      "_view_count": null,
      "_view_module": "@jupyter-widgets/controls",
      "_view_module_version": "1.5.0",
      "_view_name": "HTMLView",
      "description": "",
      "description_tooltip": null,
      "layout": "IPY_MODEL_ee91be89d9b34c239436f696e1f50c56",
      "placeholder": "​",
      "style": "IPY_MODEL_7cf709cb6d124e019e6db7942c40eb4f",
      "value": "Downloading: 100%"
     }
    },
    "b852629bc4984b04a80ffe7bfadd4e61": {
     "model_module": "@jupyter-widgets/base",
     "model_module_version": "1.2.0",
     "model_name": "LayoutModel",
     "state": {
      "_model_module": "@jupyter-widgets/base",
      "_model_module_version": "1.2.0",
      "_model_name": "LayoutModel",
      "_view_count": null,
      "_view_module": "@jupyter-widgets/base",
      "_view_module_version": "1.2.0",
      "_view_name": "LayoutView",
      "align_content": null,
      "align_items": null,
      "align_self": null,
      "border": null,
      "bottom": null,
      "display": null,
      "flex": null,
      "flex_flow": null,
      "grid_area": null,
      "grid_auto_columns": null,
      "grid_auto_flow": null,
      "grid_auto_rows": null,
      "grid_column": null,
      "grid_gap": null,
      "grid_row": null,
      "grid_template_areas": null,
      "grid_template_columns": null,
      "grid_template_rows": null,
      "height": null,
      "justify_content": null,
      "justify_items": null,
      "left": null,
      "margin": null,
      "max_height": null,
      "max_width": null,
      "min_height": null,
      "min_width": null,
      "object_fit": null,
      "object_position": null,
      "order": null,
      "overflow": null,
      "overflow_x": null,
      "overflow_y": null,
      "padding": null,
      "right": null,
      "top": null,
      "visibility": null,
      "width": null
     }
    },
    "bade5d1753ee4e959222934578dfae12": {
     "model_module": "@jupyter-widgets/controls",
     "model_module_version": "1.5.0",
     "model_name": "HTMLModel",
     "state": {
      "_dom_classes": [],
      "_model_module": "@jupyter-widgets/controls",
      "_model_module_version": "1.5.0",
      "_model_name": "HTMLModel",
      "_view_count": null,
      "_view_module": "@jupyter-widgets/controls",
      "_view_module_version": "1.5.0",
      "_view_name": "HTMLView",
      "description": "",
      "description_tooltip": null,
      "layout": "IPY_MODEL_383bbac30a0149f8a3ebae4fb83c5ef3",
      "placeholder": "​",
      "style": "IPY_MODEL_86aaba42a0044faf819a75d6aab37386",
      "value": "Downloading: 100%"
     }
    },
    "bd6c6410b33f41c095e1166659884e12": {
     "model_module": "@jupyter-widgets/controls",
     "model_module_version": "1.5.0",
     "model_name": "HTMLModel",
     "state": {
      "_dom_classes": [],
      "_model_module": "@jupyter-widgets/controls",
      "_model_module_version": "1.5.0",
      "_model_name": "HTMLModel",
      "_view_count": null,
      "_view_module": "@jupyter-widgets/controls",
      "_view_module_version": "1.5.0",
      "_view_name": "HTMLView",
      "description": "",
      "description_tooltip": null,
      "layout": "IPY_MODEL_b852629bc4984b04a80ffe7bfadd4e61",
      "placeholder": "​",
      "style": "IPY_MODEL_ca00fe48736e465c80c6d62d4989db75",
      "value": " 29.0/29.0 [00:00&lt;00:00, 637B/s]"
     }
    },
    "bd84b3376de34f558ca34dcefeee7055": {
     "model_module": "@jupyter-widgets/base",
     "model_module_version": "1.2.0",
     "model_name": "LayoutModel",
     "state": {
      "_model_module": "@jupyter-widgets/base",
      "_model_module_version": "1.2.0",
      "_model_name": "LayoutModel",
      "_view_count": null,
      "_view_module": "@jupyter-widgets/base",
      "_view_module_version": "1.2.0",
      "_view_name": "LayoutView",
      "align_content": null,
      "align_items": null,
      "align_self": null,
      "border": null,
      "bottom": null,
      "display": null,
      "flex": null,
      "flex_flow": null,
      "grid_area": null,
      "grid_auto_columns": null,
      "grid_auto_flow": null,
      "grid_auto_rows": null,
      "grid_column": null,
      "grid_gap": null,
      "grid_row": null,
      "grid_template_areas": null,
      "grid_template_columns": null,
      "grid_template_rows": null,
      "height": null,
      "justify_content": null,
      "justify_items": null,
      "left": null,
      "margin": null,
      "max_height": null,
      "max_width": null,
      "min_height": null,
      "min_width": null,
      "object_fit": null,
      "object_position": null,
      "order": null,
      "overflow": null,
      "overflow_x": null,
      "overflow_y": null,
      "padding": null,
      "right": null,
      "top": null,
      "visibility": null,
      "width": null
     }
    },
    "c2c088b66b0b4c528da4e2e9c21408cd": {
     "model_module": "@jupyter-widgets/base",
     "model_module_version": "1.2.0",
     "model_name": "LayoutModel",
     "state": {
      "_model_module": "@jupyter-widgets/base",
      "_model_module_version": "1.2.0",
      "_model_name": "LayoutModel",
      "_view_count": null,
      "_view_module": "@jupyter-widgets/base",
      "_view_module_version": "1.2.0",
      "_view_name": "LayoutView",
      "align_content": null,
      "align_items": null,
      "align_self": null,
      "border": null,
      "bottom": null,
      "display": null,
      "flex": null,
      "flex_flow": null,
      "grid_area": null,
      "grid_auto_columns": null,
      "grid_auto_flow": null,
      "grid_auto_rows": null,
      "grid_column": null,
      "grid_gap": null,
      "grid_row": null,
      "grid_template_areas": null,
      "grid_template_columns": null,
      "grid_template_rows": null,
      "height": null,
      "justify_content": null,
      "justify_items": null,
      "left": null,
      "margin": null,
      "max_height": null,
      "max_width": null,
      "min_height": null,
      "min_width": null,
      "object_fit": null,
      "object_position": null,
      "order": null,
      "overflow": null,
      "overflow_x": null,
      "overflow_y": null,
      "padding": null,
      "right": null,
      "top": null,
      "visibility": null,
      "width": null
     }
    },
    "c4ab4579f8884939b9c840bbb7c46a62": {
     "model_module": "@jupyter-widgets/base",
     "model_module_version": "1.2.0",
     "model_name": "LayoutModel",
     "state": {
      "_model_module": "@jupyter-widgets/base",
      "_model_module_version": "1.2.0",
      "_model_name": "LayoutModel",
      "_view_count": null,
      "_view_module": "@jupyter-widgets/base",
      "_view_module_version": "1.2.0",
      "_view_name": "LayoutView",
      "align_content": null,
      "align_items": null,
      "align_self": null,
      "border": null,
      "bottom": null,
      "display": null,
      "flex": null,
      "flex_flow": null,
      "grid_area": null,
      "grid_auto_columns": null,
      "grid_auto_flow": null,
      "grid_auto_rows": null,
      "grid_column": null,
      "grid_gap": null,
      "grid_row": null,
      "grid_template_areas": null,
      "grid_template_columns": null,
      "grid_template_rows": null,
      "height": null,
      "justify_content": null,
      "justify_items": null,
      "left": null,
      "margin": null,
      "max_height": null,
      "max_width": null,
      "min_height": null,
      "min_width": null,
      "object_fit": null,
      "object_position": null,
      "order": null,
      "overflow": null,
      "overflow_x": null,
      "overflow_y": null,
      "padding": null,
      "right": null,
      "top": null,
      "visibility": null,
      "width": null
     }
    },
    "c822f598c5b3411e809be2f74bde9d0b": {
     "model_module": "@jupyter-widgets/base",
     "model_module_version": "1.2.0",
     "model_name": "LayoutModel",
     "state": {
      "_model_module": "@jupyter-widgets/base",
      "_model_module_version": "1.2.0",
      "_model_name": "LayoutModel",
      "_view_count": null,
      "_view_module": "@jupyter-widgets/base",
      "_view_module_version": "1.2.0",
      "_view_name": "LayoutView",
      "align_content": null,
      "align_items": null,
      "align_self": null,
      "border": null,
      "bottom": null,
      "display": null,
      "flex": null,
      "flex_flow": null,
      "grid_area": null,
      "grid_auto_columns": null,
      "grid_auto_flow": null,
      "grid_auto_rows": null,
      "grid_column": null,
      "grid_gap": null,
      "grid_row": null,
      "grid_template_areas": null,
      "grid_template_columns": null,
      "grid_template_rows": null,
      "height": null,
      "justify_content": null,
      "justify_items": null,
      "left": null,
      "margin": null,
      "max_height": null,
      "max_width": null,
      "min_height": null,
      "min_width": null,
      "object_fit": null,
      "object_position": null,
      "order": null,
      "overflow": null,
      "overflow_x": null,
      "overflow_y": null,
      "padding": null,
      "right": null,
      "top": null,
      "visibility": null,
      "width": null
     }
    },
    "ca00fe48736e465c80c6d62d4989db75": {
     "model_module": "@jupyter-widgets/controls",
     "model_module_version": "1.5.0",
     "model_name": "DescriptionStyleModel",
     "state": {
      "_model_module": "@jupyter-widgets/controls",
      "_model_module_version": "1.5.0",
      "_model_name": "DescriptionStyleModel",
      "_view_count": null,
      "_view_module": "@jupyter-widgets/base",
      "_view_module_version": "1.2.0",
      "_view_name": "StyleView",
      "description_width": ""
     }
    },
    "cbb0f59b2dc94350b035514b560a1240": {
     "model_module": "@jupyter-widgets/controls",
     "model_module_version": "1.5.0",
     "model_name": "ProgressStyleModel",
     "state": {
      "_model_module": "@jupyter-widgets/controls",
      "_model_module_version": "1.5.0",
      "_model_name": "ProgressStyleModel",
      "_view_count": null,
      "_view_module": "@jupyter-widgets/base",
      "_view_module_version": "1.2.0",
      "_view_name": "StyleView",
      "bar_color": null,
      "description_width": ""
     }
    },
    "cc2d9163c09a4bfabd14030e9431fba0": {
     "model_module": "@jupyter-widgets/base",
     "model_module_version": "1.2.0",
     "model_name": "LayoutModel",
     "state": {
      "_model_module": "@jupyter-widgets/base",
      "_model_module_version": "1.2.0",
      "_model_name": "LayoutModel",
      "_view_count": null,
      "_view_module": "@jupyter-widgets/base",
      "_view_module_version": "1.2.0",
      "_view_name": "LayoutView",
      "align_content": null,
      "align_items": null,
      "align_self": null,
      "border": null,
      "bottom": null,
      "display": null,
      "flex": null,
      "flex_flow": null,
      "grid_area": null,
      "grid_auto_columns": null,
      "grid_auto_flow": null,
      "grid_auto_rows": null,
      "grid_column": null,
      "grid_gap": null,
      "grid_row": null,
      "grid_template_areas": null,
      "grid_template_columns": null,
      "grid_template_rows": null,
      "height": null,
      "justify_content": null,
      "justify_items": null,
      "left": null,
      "margin": null,
      "max_height": null,
      "max_width": null,
      "min_height": null,
      "min_width": null,
      "object_fit": null,
      "object_position": null,
      "order": null,
      "overflow": null,
      "overflow_x": null,
      "overflow_y": null,
      "padding": null,
      "right": null,
      "top": null,
      "visibility": null,
      "width": null
     }
    },
    "ce44e91374d34ef9acbede00512dcfd1": {
     "model_module": "@jupyter-widgets/controls",
     "model_module_version": "1.5.0",
     "model_name": "HTMLModel",
     "state": {
      "_dom_classes": [],
      "_model_module": "@jupyter-widgets/controls",
      "_model_module_version": "1.5.0",
      "_model_name": "HTMLModel",
      "_view_count": null,
      "_view_module": "@jupyter-widgets/controls",
      "_view_module_version": "1.5.0",
      "_view_name": "HTMLView",
      "description": "",
      "description_tooltip": null,
      "layout": "IPY_MODEL_ceab6a287bbc4b4cabd47e9743ba1bde",
      "placeholder": "​",
      "style": "IPY_MODEL_711f9b80dfed4bfa84f1e2b45cfdcf33",
      "value": " 226k/226k [00:00&lt;00:00, 848kB/s]"
     }
    },
    "ceab6a287bbc4b4cabd47e9743ba1bde": {
     "model_module": "@jupyter-widgets/base",
     "model_module_version": "1.2.0",
     "model_name": "LayoutModel",
     "state": {
      "_model_module": "@jupyter-widgets/base",
      "_model_module_version": "1.2.0",
      "_model_name": "LayoutModel",
      "_view_count": null,
      "_view_module": "@jupyter-widgets/base",
      "_view_module_version": "1.2.0",
      "_view_name": "LayoutView",
      "align_content": null,
      "align_items": null,
      "align_self": null,
      "border": null,
      "bottom": null,
      "display": null,
      "flex": null,
      "flex_flow": null,
      "grid_area": null,
      "grid_auto_columns": null,
      "grid_auto_flow": null,
      "grid_auto_rows": null,
      "grid_column": null,
      "grid_gap": null,
      "grid_row": null,
      "grid_template_areas": null,
      "grid_template_columns": null,
      "grid_template_rows": null,
      "height": null,
      "justify_content": null,
      "justify_items": null,
      "left": null,
      "margin": null,
      "max_height": null,
      "max_width": null,
      "min_height": null,
      "min_width": null,
      "object_fit": null,
      "object_position": null,
      "order": null,
      "overflow": null,
      "overflow_x": null,
      "overflow_y": null,
      "padding": null,
      "right": null,
      "top": null,
      "visibility": null,
      "width": null
     }
    },
    "d6a038de96074cae9035cf7fdad99e70": {
     "model_module": "@jupyter-widgets/base",
     "model_module_version": "1.2.0",
     "model_name": "LayoutModel",
     "state": {
      "_model_module": "@jupyter-widgets/base",
      "_model_module_version": "1.2.0",
      "_model_name": "LayoutModel",
      "_view_count": null,
      "_view_module": "@jupyter-widgets/base",
      "_view_module_version": "1.2.0",
      "_view_name": "LayoutView",
      "align_content": null,
      "align_items": null,
      "align_self": null,
      "border": null,
      "bottom": null,
      "display": null,
      "flex": null,
      "flex_flow": null,
      "grid_area": null,
      "grid_auto_columns": null,
      "grid_auto_flow": null,
      "grid_auto_rows": null,
      "grid_column": null,
      "grid_gap": null,
      "grid_row": null,
      "grid_template_areas": null,
      "grid_template_columns": null,
      "grid_template_rows": null,
      "height": null,
      "justify_content": null,
      "justify_items": null,
      "left": null,
      "margin": null,
      "max_height": null,
      "max_width": null,
      "min_height": null,
      "min_width": null,
      "object_fit": null,
      "object_position": null,
      "order": null,
      "overflow": null,
      "overflow_x": null,
      "overflow_y": null,
      "padding": null,
      "right": null,
      "top": null,
      "visibility": null,
      "width": null
     }
    },
    "d7d50abafee444bbb98883238ec92b8a": {
     "model_module": "@jupyter-widgets/controls",
     "model_module_version": "1.5.0",
     "model_name": "DescriptionStyleModel",
     "state": {
      "_model_module": "@jupyter-widgets/controls",
      "_model_module_version": "1.5.0",
      "_model_name": "DescriptionStyleModel",
      "_view_count": null,
      "_view_module": "@jupyter-widgets/base",
      "_view_module_version": "1.2.0",
      "_view_name": "StyleView",
      "description_width": ""
     }
    },
    "dc6a470c0fce49bf96f3a41b6ca363cb": {
     "model_module": "@jupyter-widgets/base",
     "model_module_version": "1.2.0",
     "model_name": "LayoutModel",
     "state": {
      "_model_module": "@jupyter-widgets/base",
      "_model_module_version": "1.2.0",
      "_model_name": "LayoutModel",
      "_view_count": null,
      "_view_module": "@jupyter-widgets/base",
      "_view_module_version": "1.2.0",
      "_view_name": "LayoutView",
      "align_content": null,
      "align_items": null,
      "align_self": null,
      "border": null,
      "bottom": null,
      "display": null,
      "flex": null,
      "flex_flow": null,
      "grid_area": null,
      "grid_auto_columns": null,
      "grid_auto_flow": null,
      "grid_auto_rows": null,
      "grid_column": null,
      "grid_gap": null,
      "grid_row": null,
      "grid_template_areas": null,
      "grid_template_columns": null,
      "grid_template_rows": null,
      "height": null,
      "justify_content": null,
      "justify_items": null,
      "left": null,
      "margin": null,
      "max_height": null,
      "max_width": null,
      "min_height": null,
      "min_width": null,
      "object_fit": null,
      "object_position": null,
      "order": null,
      "overflow": null,
      "overflow_x": null,
      "overflow_y": null,
      "padding": null,
      "right": null,
      "top": null,
      "visibility": null,
      "width": null
     }
    },
    "de142906dc934418821767af368e68d3": {
     "model_module": "@jupyter-widgets/base",
     "model_module_version": "1.2.0",
     "model_name": "LayoutModel",
     "state": {
      "_model_module": "@jupyter-widgets/base",
      "_model_module_version": "1.2.0",
      "_model_name": "LayoutModel",
      "_view_count": null,
      "_view_module": "@jupyter-widgets/base",
      "_view_module_version": "1.2.0",
      "_view_name": "LayoutView",
      "align_content": null,
      "align_items": null,
      "align_self": null,
      "border": null,
      "bottom": null,
      "display": null,
      "flex": null,
      "flex_flow": null,
      "grid_area": null,
      "grid_auto_columns": null,
      "grid_auto_flow": null,
      "grid_auto_rows": null,
      "grid_column": null,
      "grid_gap": null,
      "grid_row": null,
      "grid_template_areas": null,
      "grid_template_columns": null,
      "grid_template_rows": null,
      "height": null,
      "justify_content": null,
      "justify_items": null,
      "left": null,
      "margin": null,
      "max_height": null,
      "max_width": null,
      "min_height": null,
      "min_width": null,
      "object_fit": null,
      "object_position": null,
      "order": null,
      "overflow": null,
      "overflow_x": null,
      "overflow_y": null,
      "padding": null,
      "right": null,
      "top": null,
      "visibility": null,
      "width": null
     }
    },
    "df4dcab2f6d648479aa88d4493fd2062": {
     "model_module": "@jupyter-widgets/controls",
     "model_module_version": "1.5.0",
     "model_name": "DescriptionStyleModel",
     "state": {
      "_model_module": "@jupyter-widgets/controls",
      "_model_module_version": "1.5.0",
      "_model_name": "DescriptionStyleModel",
      "_view_count": null,
      "_view_module": "@jupyter-widgets/base",
      "_view_module_version": "1.2.0",
      "_view_name": "StyleView",
      "description_width": ""
     }
    },
    "ea18b41e67234190917aac901d2d8670": {
     "model_module": "@jupyter-widgets/controls",
     "model_module_version": "1.5.0",
     "model_name": "DescriptionStyleModel",
     "state": {
      "_model_module": "@jupyter-widgets/controls",
      "_model_module_version": "1.5.0",
      "_model_name": "DescriptionStyleModel",
      "_view_count": null,
      "_view_module": "@jupyter-widgets/base",
      "_view_module_version": "1.2.0",
      "_view_name": "StyleView",
      "description_width": ""
     }
    },
    "ecc05922ca9e4ac7bcf24be11a9ca4d7": {
     "model_module": "@jupyter-widgets/controls",
     "model_module_version": "1.5.0",
     "model_name": "FloatProgressModel",
     "state": {
      "_dom_classes": [],
      "_model_module": "@jupyter-widgets/controls",
      "_model_module_version": "1.5.0",
      "_model_name": "FloatProgressModel",
      "_view_count": null,
      "_view_module": "@jupyter-widgets/controls",
      "_view_module_version": "1.5.0",
      "_view_name": "ProgressView",
      "bar_style": "success",
      "description": "",
      "description_tooltip": null,
      "layout": "IPY_MODEL_8d01239a5e0a4198acf95d1aaf0766c5",
      "max": 536063208,
      "min": 0,
      "orientation": "horizontal",
      "style": "IPY_MODEL_4e30193308f74272a2b1cdde1f2b0533",
      "value": 536063208
     }
    },
    "ee91be89d9b34c239436f696e1f50c56": {
     "model_module": "@jupyter-widgets/base",
     "model_module_version": "1.2.0",
     "model_name": "LayoutModel",
     "state": {
      "_model_module": "@jupyter-widgets/base",
      "_model_module_version": "1.2.0",
      "_model_name": "LayoutModel",
      "_view_count": null,
      "_view_module": "@jupyter-widgets/base",
      "_view_module_version": "1.2.0",
      "_view_name": "LayoutView",
      "align_content": null,
      "align_items": null,
      "align_self": null,
      "border": null,
      "bottom": null,
      "display": null,
      "flex": null,
      "flex_flow": null,
      "grid_area": null,
      "grid_auto_columns": null,
      "grid_auto_flow": null,
      "grid_auto_rows": null,
      "grid_column": null,
      "grid_gap": null,
      "grid_row": null,
      "grid_template_areas": null,
      "grid_template_columns": null,
      "grid_template_rows": null,
      "height": null,
      "justify_content": null,
      "justify_items": null,
      "left": null,
      "margin": null,
      "max_height": null,
      "max_width": null,
      "min_height": null,
      "min_width": null,
      "object_fit": null,
      "object_position": null,
      "order": null,
      "overflow": null,
      "overflow_x": null,
      "overflow_y": null,
      "padding": null,
      "right": null,
      "top": null,
      "visibility": null,
      "width": null
     }
    },
    "f58723cad853437998b7aba71f3864c0": {
     "model_module": "@jupyter-widgets/controls",
     "model_module_version": "1.5.0",
     "model_name": "HTMLModel",
     "state": {
      "_dom_classes": [],
      "_model_module": "@jupyter-widgets/controls",
      "_model_module_version": "1.5.0",
      "_model_name": "HTMLModel",
      "_view_count": null,
      "_view_module": "@jupyter-widgets/controls",
      "_view_module_version": "1.5.0",
      "_view_name": "HTMLView",
      "description": "",
      "description_tooltip": null,
      "layout": "IPY_MODEL_47c1fbb6ff2c482a87a1ba7d76b000de",
      "placeholder": "​",
      "style": "IPY_MODEL_d7d50abafee444bbb98883238ec92b8a",
      "value": "Downloading: 100%"
     }
    },
    "f8e9421cf4624c0cbe713217af8b36ca": {
     "model_module": "@jupyter-widgets/controls",
     "model_module_version": "1.5.0",
     "model_name": "ProgressStyleModel",
     "state": {
      "_model_module": "@jupyter-widgets/controls",
      "_model_module_version": "1.5.0",
      "_model_name": "ProgressStyleModel",
      "_view_count": null,
      "_view_module": "@jupyter-widgets/base",
      "_view_module_version": "1.2.0",
      "_view_name": "StyleView",
      "bar_color": null,
      "description_width": ""
     }
    },
    "f9e25c1fbbb24d33b93f15631eec6aaf": {
     "model_module": "@jupyter-widgets/controls",
     "model_module_version": "1.5.0",
     "model_name": "HTMLModel",
     "state": {
      "_dom_classes": [],
      "_model_module": "@jupyter-widgets/controls",
      "_model_module_version": "1.5.0",
      "_model_name": "HTMLModel",
      "_view_count": null,
      "_view_module": "@jupyter-widgets/controls",
      "_view_module_version": "1.5.0",
      "_view_name": "HTMLView",
      "description": "",
      "description_tooltip": null,
      "layout": "IPY_MODEL_b198b88d937b47f8ad803b25bf772cd5",
      "placeholder": "​",
      "style": "IPY_MODEL_120f7cb1e5de4af9a35aa597a73d1eba",
      "value": "Downloading: 100%"
     }
    },
    "fa99b46e3f6249058d3c6c2843cea6b1": {
     "model_module": "@jupyter-widgets/controls",
     "model_module_version": "1.5.0",
     "model_name": "HBoxModel",
     "state": {
      "_dom_classes": [],
      "_model_module": "@jupyter-widgets/controls",
      "_model_module_version": "1.5.0",
      "_model_name": "HBoxModel",
      "_view_count": null,
      "_view_module": "@jupyter-widgets/controls",
      "_view_module_version": "1.5.0",
      "_view_name": "HBoxView",
      "box_style": "",
      "children": [
       "IPY_MODEL_f9e25c1fbbb24d33b93f15631eec6aaf",
       "IPY_MODEL_10824e09337c43a2ac8ed5ce8916ad24",
       "IPY_MODEL_ce44e91374d34ef9acbede00512dcfd1"
      ],
      "layout": "IPY_MODEL_10ab185f40a84c34b9745c5c66a4336e"
     }
    },
    "fc5ac88148184226b28fc7c706ed6689": {
     "model_module": "@jupyter-widgets/base",
     "model_module_version": "1.2.0",
     "model_name": "LayoutModel",
     "state": {
      "_model_module": "@jupyter-widgets/base",
      "_model_module_version": "1.2.0",
      "_model_name": "LayoutModel",
      "_view_count": null,
      "_view_module": "@jupyter-widgets/base",
      "_view_module_version": "1.2.0",
      "_view_name": "LayoutView",
      "align_content": null,
      "align_items": null,
      "align_self": null,
      "border": null,
      "bottom": null,
      "display": null,
      "flex": null,
      "flex_flow": null,
      "grid_area": null,
      "grid_auto_columns": null,
      "grid_auto_flow": null,
      "grid_auto_rows": null,
      "grid_column": null,
      "grid_gap": null,
      "grid_row": null,
      "grid_template_areas": null,
      "grid_template_columns": null,
      "grid_template_rows": null,
      "height": null,
      "justify_content": null,
      "justify_items": null,
      "left": null,
      "margin": null,
      "max_height": null,
      "max_width": null,
      "min_height": null,
      "min_width": null,
      "object_fit": null,
      "object_position": null,
      "order": null,
      "overflow": null,
      "overflow_x": null,
      "overflow_y": null,
      "padding": null,
      "right": null,
      "top": null,
      "visibility": null,
      "width": null
     }
    },
    "fd0c2e107a1a4a07a13db74f086d385c": {
     "model_module": "@jupyter-widgets/controls",
     "model_module_version": "1.5.0",
     "model_name": "FloatProgressModel",
     "state": {
      "_dom_classes": [],
      "_model_module": "@jupyter-widgets/controls",
      "_model_module_version": "1.5.0",
      "_model_name": "FloatProgressModel",
      "_view_count": null,
      "_view_module": "@jupyter-widgets/controls",
      "_view_module_version": "1.5.0",
      "_view_name": "ProgressView",
      "bar_style": "success",
      "description": "",
      "description_tooltip": null,
      "layout": "IPY_MODEL_0e23355dcd004cf6b94a5738d47459b1",
      "max": 570,
      "min": 0,
      "orientation": "horizontal",
      "style": "IPY_MODEL_f8e9421cf4624c0cbe713217af8b36ca",
      "value": 570
     }
    }
   }
  }
 },
 "nbformat": 4,
 "nbformat_minor": 0
}
