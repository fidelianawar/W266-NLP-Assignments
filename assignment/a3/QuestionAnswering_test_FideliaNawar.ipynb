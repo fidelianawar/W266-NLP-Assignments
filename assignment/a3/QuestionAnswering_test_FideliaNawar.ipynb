{
 "cells": [
  {
   "cell_type": "markdown",
   "metadata": {
    "id": "XqdTypiKjOCQ"
   },
   "source": [
    "# Assignment 3: Question Answering with a Language Model\n",
    "\n",
    "**Description:** This assignment covers question answering with a language model. There are many ways to formulate the question ansering task and this is one of them.  You will use the masked token with T5 to develop a sentence construct that allows the model to answer the question more than 75% of the time. You should also be able to develop an intuition for:\n",
    "\n",
    "\n",
    "* Working with masked language models \n",
    "* Working with prompt based models \n",
    "* The depths and limits of knowledge in these large models \n",
    "\n",
    " \n",
    "This notebook will run on your GCP instance as the generation of sentences does not require a GPU to work in a timely fashion. This notebook should be run on a Google Colab but it does not require a GPU. By default, when you open the notebook in Colab it will not configure a GPU. \n",
    "\n",
    "\n",
    "[![Open In Colab](https://colab.research.google.com/assets/colab-badge.svg)](https://colab.research.google.com/github/datasci-w266/2022-summer-main/blob/master/assignment/a3/QuestionAnswering_test.ipynb)\n",
    "\n",
    "The overall assignment structure is as follows:\n",
    "\n",
    "1. Setup\n",
    "  \n",
    "  1.1 Libraries & Helper Functions\n",
    "\n",
    "  1.2 Data Acquisition\n",
    "\n",
    "  1.3 Training/Test/Validation Sets for BERT-based models\n",
    "\n",
    "**INSTRUCTIONS:** \n",
    "\n",
    "* Questions are always indicated as **QUESTION:**, so you can search for this string to make sure you answered all of the questions. You are expected to fill out, run, and submit this notebook, as well as to answer the questions in the **answers** file as you did in a1 and a2.\n",
    "\n",
    "\n",
    "\n"
   ]
  },
  {
   "cell_type": "code",
   "execution_count": 1,
   "metadata": {
    "colab": {
     "base_uri": "https://localhost:8080/"
    },
    "id": "14QhwWvujXh-",
    "outputId": "cbd0f967-5391-4a16-c406-92e14d0d5ece"
   },
   "outputs": [
    {
     "name": "stdout",
     "output_type": "stream",
     "text": [
      "\u001b[?25l\r\u001b[K     |▎                               | 10 kB 3.0 MB/s eta 0:00:01\r\u001b[K     |▌                               | 20 kB 4.0 MB/s eta 0:00:01\r\u001b[K     |▉                               | 30 kB 5.7 MB/s eta 0:00:01\r\u001b[K     |█                               | 40 kB 6.0 MB/s eta 0:00:01\r\u001b[K     |█▍                              | 51 kB 7.2 MB/s eta 0:00:01\r\u001b[K     |█▋                              | 61 kB 5.5 MB/s eta 0:00:01\r\u001b[K     |██                              | 71 kB 6.2 MB/s eta 0:00:01\r\u001b[K     |██▏                             | 81 kB 4.6 MB/s eta 0:00:01\r\u001b[K     |██▍                             | 92 kB 4.9 MB/s eta 0:00:01\r\u001b[K     |██▊                             | 102 kB 5.4 MB/s eta 0:00:01\r\u001b[K     |███                             | 112 kB 5.4 MB/s eta 0:00:01\r\u001b[K     |███▎                            | 122 kB 5.4 MB/s eta 0:00:01\r\u001b[K     |███▌                            | 133 kB 5.4 MB/s eta 0:00:01\r\u001b[K     |███▉                            | 143 kB 5.4 MB/s eta 0:00:01\r\u001b[K     |████                            | 153 kB 5.4 MB/s eta 0:00:01\r\u001b[K     |████▎                           | 163 kB 5.4 MB/s eta 0:00:01\r\u001b[K     |████▋                           | 174 kB 5.4 MB/s eta 0:00:01\r\u001b[K     |████▉                           | 184 kB 5.4 MB/s eta 0:00:01\r\u001b[K     |█████▏                          | 194 kB 5.4 MB/s eta 0:00:01\r\u001b[K     |█████▍                          | 204 kB 5.4 MB/s eta 0:00:01\r\u001b[K     |█████▊                          | 215 kB 5.4 MB/s eta 0:00:01\r\u001b[K     |██████                          | 225 kB 5.4 MB/s eta 0:00:01\r\u001b[K     |██████▏                         | 235 kB 5.4 MB/s eta 0:00:01\r\u001b[K     |██████▌                         | 245 kB 5.4 MB/s eta 0:00:01\r\u001b[K     |██████▊                         | 256 kB 5.4 MB/s eta 0:00:01\r\u001b[K     |███████                         | 266 kB 5.4 MB/s eta 0:00:01\r\u001b[K     |███████▎                        | 276 kB 5.4 MB/s eta 0:00:01\r\u001b[K     |███████▋                        | 286 kB 5.4 MB/s eta 0:00:01\r\u001b[K     |███████▉                        | 296 kB 5.4 MB/s eta 0:00:01\r\u001b[K     |████████                        | 307 kB 5.4 MB/s eta 0:00:01\r\u001b[K     |████████▍                       | 317 kB 5.4 MB/s eta 0:00:01\r\u001b[K     |████████▋                       | 327 kB 5.4 MB/s eta 0:00:01\r\u001b[K     |█████████                       | 337 kB 5.4 MB/s eta 0:00:01\r\u001b[K     |█████████▏                      | 348 kB 5.4 MB/s eta 0:00:01\r\u001b[K     |█████████▌                      | 358 kB 5.4 MB/s eta 0:00:01\r\u001b[K     |█████████▊                      | 368 kB 5.4 MB/s eta 0:00:01\r\u001b[K     |██████████                      | 378 kB 5.4 MB/s eta 0:00:01\r\u001b[K     |██████████▎                     | 389 kB 5.4 MB/s eta 0:00:01\r\u001b[K     |██████████▌                     | 399 kB 5.4 MB/s eta 0:00:01\r\u001b[K     |██████████▉                     | 409 kB 5.4 MB/s eta 0:00:01\r\u001b[K     |███████████                     | 419 kB 5.4 MB/s eta 0:00:01\r\u001b[K     |███████████▍                    | 430 kB 5.4 MB/s eta 0:00:01\r\u001b[K     |███████████▋                    | 440 kB 5.4 MB/s eta 0:00:01\r\u001b[K     |███████████▉                    | 450 kB 5.4 MB/s eta 0:00:01\r\u001b[K     |████████████▏                   | 460 kB 5.4 MB/s eta 0:00:01\r\u001b[K     |████████████▍                   | 471 kB 5.4 MB/s eta 0:00:01\r\u001b[K     |████████████▊                   | 481 kB 5.4 MB/s eta 0:00:01\r\u001b[K     |█████████████                   | 491 kB 5.4 MB/s eta 0:00:01\r\u001b[K     |█████████████▎                  | 501 kB 5.4 MB/s eta 0:00:01\r\u001b[K     |█████████████▌                  | 512 kB 5.4 MB/s eta 0:00:01\r\u001b[K     |█████████████▊                  | 522 kB 5.4 MB/s eta 0:00:01\r\u001b[K     |██████████████                  | 532 kB 5.4 MB/s eta 0:00:01\r\u001b[K     |██████████████▎                 | 542 kB 5.4 MB/s eta 0:00:01\r\u001b[K     |██████████████▋                 | 552 kB 5.4 MB/s eta 0:00:01\r\u001b[K     |██████████████▉                 | 563 kB 5.4 MB/s eta 0:00:01\r\u001b[K     |███████████████▏                | 573 kB 5.4 MB/s eta 0:00:01\r\u001b[K     |███████████████▍                | 583 kB 5.4 MB/s eta 0:00:01\r\u001b[K     |███████████████▋                | 593 kB 5.4 MB/s eta 0:00:01\r\u001b[K     |████████████████                | 604 kB 5.4 MB/s eta 0:00:01\r\u001b[K     |████████████████▏               | 614 kB 5.4 MB/s eta 0:00:01\r\u001b[K     |████████████████▌               | 624 kB 5.4 MB/s eta 0:00:01\r\u001b[K     |████████████████▊               | 634 kB 5.4 MB/s eta 0:00:01\r\u001b[K     |█████████████████               | 645 kB 5.4 MB/s eta 0:00:01\r\u001b[K     |█████████████████▎              | 655 kB 5.4 MB/s eta 0:00:01\r\u001b[K     |█████████████████▌              | 665 kB 5.4 MB/s eta 0:00:01\r\u001b[K     |█████████████████▉              | 675 kB 5.4 MB/s eta 0:00:01\r\u001b[K     |██████████████████              | 686 kB 5.4 MB/s eta 0:00:01\r\u001b[K     |██████████████████▍             | 696 kB 5.4 MB/s eta 0:00:01\r\u001b[K     |██████████████████▋             | 706 kB 5.4 MB/s eta 0:00:01\r\u001b[K     |███████████████████             | 716 kB 5.4 MB/s eta 0:00:01\r\u001b[K     |███████████████████▏            | 727 kB 5.4 MB/s eta 0:00:01\r\u001b[K     |███████████████████▍            | 737 kB 5.4 MB/s eta 0:00:01\r\u001b[K     |███████████████████▊            | 747 kB 5.4 MB/s eta 0:00:01\r\u001b[K     |████████████████████            | 757 kB 5.4 MB/s eta 0:00:01\r\u001b[K     |████████████████████▎           | 768 kB 5.4 MB/s eta 0:00:01\r\u001b[K     |████████████████████▌           | 778 kB 5.4 MB/s eta 0:00:01\r\u001b[K     |████████████████████▉           | 788 kB 5.4 MB/s eta 0:00:01\r\u001b[K     |█████████████████████           | 798 kB 5.4 MB/s eta 0:00:01\r\u001b[K     |█████████████████████▎          | 808 kB 5.4 MB/s eta 0:00:01\r\u001b[K     |█████████████████████▋          | 819 kB 5.4 MB/s eta 0:00:01\r\u001b[K     |█████████████████████▉          | 829 kB 5.4 MB/s eta 0:00:01\r\u001b[K     |██████████████████████▏         | 839 kB 5.4 MB/s eta 0:00:01\r\u001b[K     |██████████████████████▍         | 849 kB 5.4 MB/s eta 0:00:01\r\u001b[K     |██████████████████████▊         | 860 kB 5.4 MB/s eta 0:00:01\r\u001b[K     |███████████████████████         | 870 kB 5.4 MB/s eta 0:00:01\r\u001b[K     |███████████████████████▏        | 880 kB 5.4 MB/s eta 0:00:01\r\u001b[K     |███████████████████████▌        | 890 kB 5.4 MB/s eta 0:00:01\r\u001b[K     |███████████████████████▊        | 901 kB 5.4 MB/s eta 0:00:01\r\u001b[K     |████████████████████████        | 911 kB 5.4 MB/s eta 0:00:01\r\u001b[K     |████████████████████████▎       | 921 kB 5.4 MB/s eta 0:00:01\r\u001b[K     |████████████████████████▋       | 931 kB 5.4 MB/s eta 0:00:01\r\u001b[K     |████████████████████████▉       | 942 kB 5.4 MB/s eta 0:00:01\r\u001b[K     |█████████████████████████       | 952 kB 5.4 MB/s eta 0:00:01\r\u001b[K     |█████████████████████████▍      | 962 kB 5.4 MB/s eta 0:00:01\r\u001b[K     |█████████████████████████▋      | 972 kB 5.4 MB/s eta 0:00:01\r\u001b[K     |██████████████████████████      | 983 kB 5.4 MB/s eta 0:00:01\r\u001b[K     |██████████████████████████▏     | 993 kB 5.4 MB/s eta 0:00:01\r\u001b[K     |██████████████████████████▌     | 1.0 MB 5.4 MB/s eta 0:00:01\r\u001b[K     |██████████████████████████▊     | 1.0 MB 5.4 MB/s eta 0:00:01\r\u001b[K     |███████████████████████████     | 1.0 MB 5.4 MB/s eta 0:00:01\r\u001b[K     |███████████████████████████▎    | 1.0 MB 5.4 MB/s eta 0:00:01\r\u001b[K     |███████████████████████████▌    | 1.0 MB 5.4 MB/s eta 0:00:01\r\u001b[K     |███████████████████████████▉    | 1.1 MB 5.4 MB/s eta 0:00:01\r\u001b[K     |████████████████████████████    | 1.1 MB 5.4 MB/s eta 0:00:01\r\u001b[K     |████████████████████████████▍   | 1.1 MB 5.4 MB/s eta 0:00:01\r\u001b[K     |████████████████████████████▋   | 1.1 MB 5.4 MB/s eta 0:00:01\r\u001b[K     |████████████████████████████▉   | 1.1 MB 5.4 MB/s eta 0:00:01\r\u001b[K     |█████████████████████████████▏  | 1.1 MB 5.4 MB/s eta 0:00:01\r\u001b[K     |█████████████████████████████▍  | 1.1 MB 5.4 MB/s eta 0:00:01\r\u001b[K     |█████████████████████████████▊  | 1.1 MB 5.4 MB/s eta 0:00:01\r\u001b[K     |██████████████████████████████  | 1.1 MB 5.4 MB/s eta 0:00:01\r\u001b[K     |██████████████████████████████▎ | 1.1 MB 5.4 MB/s eta 0:00:01\r\u001b[K     |██████████████████████████████▌ | 1.2 MB 5.4 MB/s eta 0:00:01\r\u001b[K     |██████████████████████████████▊ | 1.2 MB 5.4 MB/s eta 0:00:01\r\u001b[K     |███████████████████████████████ | 1.2 MB 5.4 MB/s eta 0:00:01\r\u001b[K     |███████████████████████████████▎| 1.2 MB 5.4 MB/s eta 0:00:01\r\u001b[K     |███████████████████████████████▋| 1.2 MB 5.4 MB/s eta 0:00:01\r\u001b[K     |███████████████████████████████▉| 1.2 MB 5.4 MB/s eta 0:00:01\r\u001b[K     |████████████████████████████████| 1.2 MB 5.4 MB/s \n",
      "\u001b[?25h"
     ]
    }
   ],
   "source": [
    "!pip install -q sentencepiece"
   ]
  },
  {
   "cell_type": "code",
   "execution_count": 2,
   "metadata": {
    "colab": {
     "base_uri": "https://localhost:8080/"
    },
    "id": "hldMurd9pnTl",
    "outputId": "cab221f9-824b-4e3c-d5c9-69cc9d885083"
   },
   "outputs": [
    {
     "name": "stdout",
     "output_type": "stream",
     "text": [
      "\u001b[K     |████████████████████████████████| 4.4 MB 5.0 MB/s \n",
      "\u001b[K     |████████████████████████████████| 6.6 MB 11.0 MB/s \n",
      "\u001b[K     |████████████████████████████████| 101 kB 7.6 MB/s \n",
      "\u001b[K     |████████████████████████████████| 596 kB 48.0 MB/s \n",
      "\u001b[?25h"
     ]
    }
   ],
   "source": [
    "!pip install -q transformers"
   ]
  },
  {
   "cell_type": "code",
   "execution_count": 3,
   "metadata": {
    "id": "phetFLjypnc9"
   },
   "outputs": [],
   "source": [
    "from collections import Counter\n",
    "import numpy as np\n",
    "import tensorflow as tf\n",
    "from tensorflow import keras"
   ]
  },
  {
   "cell_type": "code",
   "execution_count": 4,
   "metadata": {
    "id": "pBWFf_-1pnxK"
   },
   "outputs": [],
   "source": [
    "from transformers import T5Tokenizer, TFT5ForConditionalGeneration"
   ]
  },
  {
   "cell_type": "code",
   "execution_count": 5,
   "metadata": {
    "colab": {
     "base_uri": "https://localhost:8080/",
     "height": 585,
     "referenced_widgets": [
      "a3a73421e4ac424680834784bec36b71",
      "01f95f0119a74c5d9e28434786d0a17f",
      "5a8139fc062947508b4122498e0fdb0b",
      "a7f4bb74700f4a628870ed65b4c2ec3b",
      "0339e0ded86845908a441266c86c17e5",
      "58fa176d86d440b195e950bc129dcc36",
      "2689bdf256134ab0a146bbe9f1ca6a71",
      "09ec6ed58c654238b5a61dd9288050ad",
      "e21ac901a5f24b34b3cdd202b5d9e7fb",
      "9fd5f87fb7cd412bb8b03038ac8fb32d",
      "4d072b2662724cf7824a39552a4e2eb3",
      "e9ff0266451a4c8f89b03672e28a962e",
      "836df5bcab904e3f92c11329c2831cb5",
      "344087c0caa94645b8a93ea64b9af742",
      "b0703a7c561a4da19db34820a31491a3",
      "cb650e9da2ae4a738b82e21a70c0a1f2",
      "63ba29470c644b7ea6b51fd8f164d10d",
      "0b28d0b4f3e946d2b4ec0607dd4b0ada",
      "f5884940a30e4a869ad0648da590ac33",
      "cdf6f1f725d0444ab4c2565c56f2cb8d",
      "2a1050f79cf141b3bf76e6931b7f016e",
      "f4df0db9e84d4d878f1c576daaf50c80",
      "a2e6d51b35d9460f96fffb935644c48d",
      "b98790eb6eef4d1ebf28802327417902",
      "58e46b892f3f4b4a8229b5d3f355053a",
      "476dc4312c934d0baa098d5ddc861caa",
      "6b403b6f2e2a42e2a19ab607df85959f",
      "ffc817545a3c419f90ad44abb6efadc7",
      "1c2be624036f46728b3f5e298a745dec",
      "447d471d88e944a68449eafdaa1c8404",
      "d253167d82c349edae76c794cd4bf260",
      "c43e48e50023496e9b265e0b084da896",
      "512f34a6480041e29eab7ff1ffc759e4"
     ]
    },
    "id": "b9-jQ_zezZg7",
    "outputId": "642ee40f-9137-49c9-be12-ca030a17290b"
   },
   "outputs": [
    {
     "data": {
      "application/vnd.jupyter.widget-view+json": {
       "model_id": "a3a73421e4ac424680834784bec36b71",
       "version_major": 2,
       "version_minor": 0
      },
      "text/plain": [
       "Downloading:   0%|          | 0.00/1.17k [00:00<?, ?B/s]"
      ]
     },
     "metadata": {},
     "output_type": "display_data"
    },
    {
     "data": {
      "application/vnd.jupyter.widget-view+json": {
       "model_id": "e9ff0266451a4c8f89b03672e28a962e",
       "version_major": 2,
       "version_minor": 0
      },
      "text/plain": [
       "Downloading:   0%|          | 0.00/851M [00:00<?, ?B/s]"
      ]
     },
     "metadata": {},
     "output_type": "display_data"
    },
    {
     "name": "stderr",
     "output_type": "stream",
     "text": [
      "All model checkpoint layers were used when initializing TFT5ForConditionalGeneration.\n",
      "\n",
      "All the layers of TFT5ForConditionalGeneration were initialized from the model checkpoint at t5-base.\n",
      "If your task is similar to the task the model of the checkpoint was trained on, you can already use TFT5ForConditionalGeneration for predictions without further training.\n"
     ]
    },
    {
     "data": {
      "application/vnd.jupyter.widget-view+json": {
       "model_id": "a2e6d51b35d9460f96fffb935644c48d",
       "version_major": 2,
       "version_minor": 0
      },
      "text/plain": [
       "Downloading:   0%|          | 0.00/773k [00:00<?, ?B/s]"
      ]
     },
     "metadata": {},
     "output_type": "display_data"
    },
    {
     "name": "stdout",
     "output_type": "stream",
     "text": [
      "Model: \"tft5_for_conditional_generation\"\n",
      "_________________________________________________________________\n",
      " Layer (type)                Output Shape              Param #   \n",
      "=================================================================\n",
      " shared (TFSharedEmbeddings)  multiple                 24674304  \n",
      "                                                                 \n",
      " encoder (TFT5MainLayer)     multiple                  84954240  \n",
      "                                                                 \n",
      " decoder (TFT5MainLayer)     multiple                  113275008 \n",
      "                                                                 \n",
      "=================================================================\n",
      "Total params: 222,903,552\n",
      "Trainable params: 222,903,552\n",
      "Non-trainable params: 0\n",
      "_________________________________________________________________\n"
     ]
    },
    {
     "name": "stderr",
     "output_type": "stream",
     "text": [
      "/usr/local/lib/python3.7/dist-packages/transformers/models/t5/tokenization_t5.py:174: FutureWarning: This tokenizer was incorrectly instantiated with a model max length of 512 which will be corrected in Transformers v5.\n",
      "For now, this behavior is kept to avoid breaking backwards compatibility when padding/encoding with `truncation is True`.\n",
      "- Be aware that you SHOULD NOT rely on t5-base automatically truncating your input to 512 when padding/encoding.\n",
      "- If you want to encode/pad to sequences longer than 512 you can either instantiate this tokenizer with `model_max_length` or pass `max_length` when encoding/padding.\n",
      "- To avoid this warning, please instantiate this tokenizer with `model_max_length` set to your preferred value.\n",
      "  FutureWarning,\n"
     ]
    }
   ],
   "source": [
    "t5_model = TFT5ForConditionalGeneration.from_pretrained('t5-base')\n",
    "t5_tokenizer = T5Tokenizer.from_pretrained('t5-base')\n",
    "\n",
    "t5_model.summary()"
   ]
  },
  {
   "cell_type": "markdown",
   "metadata": {
    "id": "YRvBDemGBBAp"
   },
   "source": [
    "\"\\<extra_id_0\\>\" is the special token we can use with T5 to invoke its masked word modeling ability.  This means we can construct sentences, like a fill in the blank test, that allow us to probe the knoweldge embedded in the model based on its pre-training.  Here's an example that works well.  After you've run it try substituting beagle for poodle and you'll see the model gets confused.\n",
    "\n",
    "Notice two that we are using a beam search approach and accepting the top three choices rather than just the first choice."
   ]
  },
  {
   "cell_type": "code",
   "execution_count": 6,
   "metadata": {
    "colab": {
     "base_uri": "https://localhost:8080/"
    },
    "id": "nt6yMNk5pnzG",
    "outputId": "e4545dbc-1d8a-45a4-e6c4-d1233216f72c"
   },
   "outputs": [
    {
     "name": "stdout",
     "output_type": "stream",
     "text": [
      "['dog', '', 'pet']\n"
     ]
    }
   ],
   "source": [
    "PROMPT_SENTENCE = ( \"A poodle is a type of <extra_id_0> .\")\n",
    "t5_input_text = PROMPT_SENTENCE\n",
    "t5_inputs = t5_tokenizer([t5_input_text], return_tensors='tf')\n",
    "t5_summary_ids = t5_model.generate(t5_inputs['input_ids'], \n",
    "                                   num_beams=9,\n",
    "                                   no_repeat_ngram_size=1,\n",
    "                                   num_return_sequences=3,\n",
    "                                   min_length=1,\n",
    "                                   max_length=3)\n",
    "                             \n",
    "print([t5_tokenizer.decode(g, skip_special_tokens=True, \n",
    "                           clean_up_tokenization_spaces=False) for g in t5_summary_ids])"
   ]
  },
  {
   "cell_type": "markdown",
   "metadata": {
    "id": "KjEDY_mSTpqR"
   },
   "source": [
    "**QUESTION:**\n",
    "\n",
    "1.1 Given the following countries (England, France, Germany, Russia, Egypt, Thailand, Japan, Canada, India, China) construct **two** different PROMPT_SENTENCE with the special token so that in at least 7 of the 10 cases one of the top three answers is correct.  Use the string COUNTRY to stand in for each of the elements in the list.  For example, \"I always wanted to \\<extra_id_0\\> COUNTRY\"."
   ]
  },
  {
   "cell_type": "code",
   "execution_count": 13,
   "metadata": {
    "colab": {
     "base_uri": "https://localhost:8080/"
    },
    "id": "bAKwWNoCUi6c",
    "outputId": "62e572fa-f7d0-482a-8a0f-7bee7a8963b5"
   },
   "outputs": [
    {
     "name": "stdout",
     "output_type": "stream",
     "text": [
      "['name', 'Canadian', 'wife']\n"
     ]
    }
   ],
   "source": [
    "#Use this space to craft your sentence.  You do NOT need to modify the hyperparameters!\n",
    "PROMPT_SENTENCE = ( \"I always wanted to <extra_id_0> Canada\")\n",
    "PROMPT_SENTENCE = ( \"My <extra_id_0> is from Canada.\")\n",
    "PROMPT_SENTENCE = ( \"My favorite city in India is <extra_id_0>.\")\n",
    "t5_input_text = PROMPT_SENTENCE\n",
    "t5_inputs = t5_tokenizer([t5_input_text], return_tensors='tf')\n",
    "t5_summary_ids = t5_model.generate(t5_inputs['input_ids'], \n",
    "                                   num_beams=9,\n",
    "                                   no_repeat_ngram_size=1,\n",
    "                                   num_return_sequences=3,\n",
    "                                   min_length=1,\n",
    "                                   max_length=3)\n",
    "                             \n",
    "print([t5_tokenizer.decode(g, skip_special_tokens=True, \n",
    "                           clean_up_tokenization_spaces=False) for g in t5_summary_ids])"
   ]
  }
 ],
 "metadata": {
  "colab": {
   "collapsed_sections": [],
   "name": "Copy_of_QuestionAnswering_test.ipynb",
   "provenance": []
  },
  "kernelspec": {
   "display_name": "Python 3",
   "name": "python3"
  },
  "language_info": {
   "name": "python"
  },
  "widgets": {
   "application/vnd.jupyter.widget-state+json": {
    "01f95f0119a74c5d9e28434786d0a17f": {
     "model_module": "@jupyter-widgets/controls",
     "model_module_version": "1.5.0",
     "model_name": "HTMLModel",
     "state": {
      "_dom_classes": [],
      "_model_module": "@jupyter-widgets/controls",
      "_model_module_version": "1.5.0",
      "_model_name": "HTMLModel",
      "_view_count": null,
      "_view_module": "@jupyter-widgets/controls",
      "_view_module_version": "1.5.0",
      "_view_name": "HTMLView",
      "description": "",
      "description_tooltip": null,
      "layout": "IPY_MODEL_58fa176d86d440b195e950bc129dcc36",
      "placeholder": "​",
      "style": "IPY_MODEL_2689bdf256134ab0a146bbe9f1ca6a71",
      "value": "Downloading: 100%"
     }
    },
    "0339e0ded86845908a441266c86c17e5": {
     "model_module": "@jupyter-widgets/base",
     "model_module_version": "1.2.0",
     "model_name": "LayoutModel",
     "state": {
      "_model_module": "@jupyter-widgets/base",
      "_model_module_version": "1.2.0",
      "_model_name": "LayoutModel",
      "_view_count": null,
      "_view_module": "@jupyter-widgets/base",
      "_view_module_version": "1.2.0",
      "_view_name": "LayoutView",
      "align_content": null,
      "align_items": null,
      "align_self": null,
      "border": null,
      "bottom": null,
      "display": null,
      "flex": null,
      "flex_flow": null,
      "grid_area": null,
      "grid_auto_columns": null,
      "grid_auto_flow": null,
      "grid_auto_rows": null,
      "grid_column": null,
      "grid_gap": null,
      "grid_row": null,
      "grid_template_areas": null,
      "grid_template_columns": null,
      "grid_template_rows": null,
      "height": null,
      "justify_content": null,
      "justify_items": null,
      "left": null,
      "margin": null,
      "max_height": null,
      "max_width": null,
      "min_height": null,
      "min_width": null,
      "object_fit": null,
      "object_position": null,
      "order": null,
      "overflow": null,
      "overflow_x": null,
      "overflow_y": null,
      "padding": null,
      "right": null,
      "top": null,
      "visibility": null,
      "width": null
     }
    },
    "09ec6ed58c654238b5a61dd9288050ad": {
     "model_module": "@jupyter-widgets/base",
     "model_module_version": "1.2.0",
     "model_name": "LayoutModel",
     "state": {
      "_model_module": "@jupyter-widgets/base",
      "_model_module_version": "1.2.0",
      "_model_name": "LayoutModel",
      "_view_count": null,
      "_view_module": "@jupyter-widgets/base",
      "_view_module_version": "1.2.0",
      "_view_name": "LayoutView",
      "align_content": null,
      "align_items": null,
      "align_self": null,
      "border": null,
      "bottom": null,
      "display": null,
      "flex": null,
      "flex_flow": null,
      "grid_area": null,
      "grid_auto_columns": null,
      "grid_auto_flow": null,
      "grid_auto_rows": null,
      "grid_column": null,
      "grid_gap": null,
      "grid_row": null,
      "grid_template_areas": null,
      "grid_template_columns": null,
      "grid_template_rows": null,
      "height": null,
      "justify_content": null,
      "justify_items": null,
      "left": null,
      "margin": null,
      "max_height": null,
      "max_width": null,
      "min_height": null,
      "min_width": null,
      "object_fit": null,
      "object_position": null,
      "order": null,
      "overflow": null,
      "overflow_x": null,
      "overflow_y": null,
      "padding": null,
      "right": null,
      "top": null,
      "visibility": null,
      "width": null
     }
    },
    "0b28d0b4f3e946d2b4ec0607dd4b0ada": {
     "model_module": "@jupyter-widgets/controls",
     "model_module_version": "1.5.0",
     "model_name": "DescriptionStyleModel",
     "state": {
      "_model_module": "@jupyter-widgets/controls",
      "_model_module_version": "1.5.0",
      "_model_name": "DescriptionStyleModel",
      "_view_count": null,
      "_view_module": "@jupyter-widgets/base",
      "_view_module_version": "1.2.0",
      "_view_name": "StyleView",
      "description_width": ""
     }
    },
    "1c2be624036f46728b3f5e298a745dec": {
     "model_module": "@jupyter-widgets/controls",
     "model_module_version": "1.5.0",
     "model_name": "DescriptionStyleModel",
     "state": {
      "_model_module": "@jupyter-widgets/controls",
      "_model_module_version": "1.5.0",
      "_model_name": "DescriptionStyleModel",
      "_view_count": null,
      "_view_module": "@jupyter-widgets/base",
      "_view_module_version": "1.2.0",
      "_view_name": "StyleView",
      "description_width": ""
     }
    },
    "2689bdf256134ab0a146bbe9f1ca6a71": {
     "model_module": "@jupyter-widgets/controls",
     "model_module_version": "1.5.0",
     "model_name": "DescriptionStyleModel",
     "state": {
      "_model_module": "@jupyter-widgets/controls",
      "_model_module_version": "1.5.0",
      "_model_name": "DescriptionStyleModel",
      "_view_count": null,
      "_view_module": "@jupyter-widgets/base",
      "_view_module_version": "1.2.0",
      "_view_name": "StyleView",
      "description_width": ""
     }
    },
    "2a1050f79cf141b3bf76e6931b7f016e": {
     "model_module": "@jupyter-widgets/base",
     "model_module_version": "1.2.0",
     "model_name": "LayoutModel",
     "state": {
      "_model_module": "@jupyter-widgets/base",
      "_model_module_version": "1.2.0",
      "_model_name": "LayoutModel",
      "_view_count": null,
      "_view_module": "@jupyter-widgets/base",
      "_view_module_version": "1.2.0",
      "_view_name": "LayoutView",
      "align_content": null,
      "align_items": null,
      "align_self": null,
      "border": null,
      "bottom": null,
      "display": null,
      "flex": null,
      "flex_flow": null,
      "grid_area": null,
      "grid_auto_columns": null,
      "grid_auto_flow": null,
      "grid_auto_rows": null,
      "grid_column": null,
      "grid_gap": null,
      "grid_row": null,
      "grid_template_areas": null,
      "grid_template_columns": null,
      "grid_template_rows": null,
      "height": null,
      "justify_content": null,
      "justify_items": null,
      "left": null,
      "margin": null,
      "max_height": null,
      "max_width": null,
      "min_height": null,
      "min_width": null,
      "object_fit": null,
      "object_position": null,
      "order": null,
      "overflow": null,
      "overflow_x": null,
      "overflow_y": null,
      "padding": null,
      "right": null,
      "top": null,
      "visibility": null,
      "width": null
     }
    },
    "344087c0caa94645b8a93ea64b9af742": {
     "model_module": "@jupyter-widgets/controls",
     "model_module_version": "1.5.0",
     "model_name": "FloatProgressModel",
     "state": {
      "_dom_classes": [],
      "_model_module": "@jupyter-widgets/controls",
      "_model_module_version": "1.5.0",
      "_model_name": "FloatProgressModel",
      "_view_count": null,
      "_view_module": "@jupyter-widgets/controls",
      "_view_module_version": "1.5.0",
      "_view_name": "ProgressView",
      "bar_style": "success",
      "description": "",
      "description_tooltip": null,
      "layout": "IPY_MODEL_f5884940a30e4a869ad0648da590ac33",
      "max": 892146080,
      "min": 0,
      "orientation": "horizontal",
      "style": "IPY_MODEL_cdf6f1f725d0444ab4c2565c56f2cb8d",
      "value": 892146080
     }
    },
    "447d471d88e944a68449eafdaa1c8404": {
     "model_module": "@jupyter-widgets/base",
     "model_module_version": "1.2.0",
     "model_name": "LayoutModel",
     "state": {
      "_model_module": "@jupyter-widgets/base",
      "_model_module_version": "1.2.0",
      "_model_name": "LayoutModel",
      "_view_count": null,
      "_view_module": "@jupyter-widgets/base",
      "_view_module_version": "1.2.0",
      "_view_name": "LayoutView",
      "align_content": null,
      "align_items": null,
      "align_self": null,
      "border": null,
      "bottom": null,
      "display": null,
      "flex": null,
      "flex_flow": null,
      "grid_area": null,
      "grid_auto_columns": null,
      "grid_auto_flow": null,
      "grid_auto_rows": null,
      "grid_column": null,
      "grid_gap": null,
      "grid_row": null,
      "grid_template_areas": null,
      "grid_template_columns": null,
      "grid_template_rows": null,
      "height": null,
      "justify_content": null,
      "justify_items": null,
      "left": null,
      "margin": null,
      "max_height": null,
      "max_width": null,
      "min_height": null,
      "min_width": null,
      "object_fit": null,
      "object_position": null,
      "order": null,
      "overflow": null,
      "overflow_x": null,
      "overflow_y": null,
      "padding": null,
      "right": null,
      "top": null,
      "visibility": null,
      "width": null
     }
    },
    "476dc4312c934d0baa098d5ddc861caa": {
     "model_module": "@jupyter-widgets/controls",
     "model_module_version": "1.5.0",
     "model_name": "HTMLModel",
     "state": {
      "_dom_classes": [],
      "_model_module": "@jupyter-widgets/controls",
      "_model_module_version": "1.5.0",
      "_model_name": "HTMLModel",
      "_view_count": null,
      "_view_module": "@jupyter-widgets/controls",
      "_view_module_version": "1.5.0",
      "_view_name": "HTMLView",
      "description": "",
      "description_tooltip": null,
      "layout": "IPY_MODEL_c43e48e50023496e9b265e0b084da896",
      "placeholder": "​",
      "style": "IPY_MODEL_512f34a6480041e29eab7ff1ffc759e4",
      "value": " 773k/773k [00:00&lt;00:00, 990kB/s]"
     }
    },
    "4d072b2662724cf7824a39552a4e2eb3": {
     "model_module": "@jupyter-widgets/controls",
     "model_module_version": "1.5.0",
     "model_name": "DescriptionStyleModel",
     "state": {
      "_model_module": "@jupyter-widgets/controls",
      "_model_module_version": "1.5.0",
      "_model_name": "DescriptionStyleModel",
      "_view_count": null,
      "_view_module": "@jupyter-widgets/base",
      "_view_module_version": "1.2.0",
      "_view_name": "StyleView",
      "description_width": ""
     }
    },
    "512f34a6480041e29eab7ff1ffc759e4": {
     "model_module": "@jupyter-widgets/controls",
     "model_module_version": "1.5.0",
     "model_name": "DescriptionStyleModel",
     "state": {
      "_model_module": "@jupyter-widgets/controls",
      "_model_module_version": "1.5.0",
      "_model_name": "DescriptionStyleModel",
      "_view_count": null,
      "_view_module": "@jupyter-widgets/base",
      "_view_module_version": "1.2.0",
      "_view_name": "StyleView",
      "description_width": ""
     }
    },
    "58e46b892f3f4b4a8229b5d3f355053a": {
     "model_module": "@jupyter-widgets/controls",
     "model_module_version": "1.5.0",
     "model_name": "FloatProgressModel",
     "state": {
      "_dom_classes": [],
      "_model_module": "@jupyter-widgets/controls",
      "_model_module_version": "1.5.0",
      "_model_name": "FloatProgressModel",
      "_view_count": null,
      "_view_module": "@jupyter-widgets/controls",
      "_view_module_version": "1.5.0",
      "_view_name": "ProgressView",
      "bar_style": "success",
      "description": "",
      "description_tooltip": null,
      "layout": "IPY_MODEL_447d471d88e944a68449eafdaa1c8404",
      "max": 791656,
      "min": 0,
      "orientation": "horizontal",
      "style": "IPY_MODEL_d253167d82c349edae76c794cd4bf260",
      "value": 791656
     }
    },
    "58fa176d86d440b195e950bc129dcc36": {
     "model_module": "@jupyter-widgets/base",
     "model_module_version": "1.2.0",
     "model_name": "LayoutModel",
     "state": {
      "_model_module": "@jupyter-widgets/base",
      "_model_module_version": "1.2.0",
      "_model_name": "LayoutModel",
      "_view_count": null,
      "_view_module": "@jupyter-widgets/base",
      "_view_module_version": "1.2.0",
      "_view_name": "LayoutView",
      "align_content": null,
      "align_items": null,
      "align_self": null,
      "border": null,
      "bottom": null,
      "display": null,
      "flex": null,
      "flex_flow": null,
      "grid_area": null,
      "grid_auto_columns": null,
      "grid_auto_flow": null,
      "grid_auto_rows": null,
      "grid_column": null,
      "grid_gap": null,
      "grid_row": null,
      "grid_template_areas": null,
      "grid_template_columns": null,
      "grid_template_rows": null,
      "height": null,
      "justify_content": null,
      "justify_items": null,
      "left": null,
      "margin": null,
      "max_height": null,
      "max_width": null,
      "min_height": null,
      "min_width": null,
      "object_fit": null,
      "object_position": null,
      "order": null,
      "overflow": null,
      "overflow_x": null,
      "overflow_y": null,
      "padding": null,
      "right": null,
      "top": null,
      "visibility": null,
      "width": null
     }
    },
    "5a8139fc062947508b4122498e0fdb0b": {
     "model_module": "@jupyter-widgets/controls",
     "model_module_version": "1.5.0",
     "model_name": "FloatProgressModel",
     "state": {
      "_dom_classes": [],
      "_model_module": "@jupyter-widgets/controls",
      "_model_module_version": "1.5.0",
      "_model_name": "FloatProgressModel",
      "_view_count": null,
      "_view_module": "@jupyter-widgets/controls",
      "_view_module_version": "1.5.0",
      "_view_name": "ProgressView",
      "bar_style": "success",
      "description": "",
      "description_tooltip": null,
      "layout": "IPY_MODEL_09ec6ed58c654238b5a61dd9288050ad",
      "max": 1199,
      "min": 0,
      "orientation": "horizontal",
      "style": "IPY_MODEL_e21ac901a5f24b34b3cdd202b5d9e7fb",
      "value": 1199
     }
    },
    "63ba29470c644b7ea6b51fd8f164d10d": {
     "model_module": "@jupyter-widgets/base",
     "model_module_version": "1.2.0",
     "model_name": "LayoutModel",
     "state": {
      "_model_module": "@jupyter-widgets/base",
      "_model_module_version": "1.2.0",
      "_model_name": "LayoutModel",
      "_view_count": null,
      "_view_module": "@jupyter-widgets/base",
      "_view_module_version": "1.2.0",
      "_view_name": "LayoutView",
      "align_content": null,
      "align_items": null,
      "align_self": null,
      "border": null,
      "bottom": null,
      "display": null,
      "flex": null,
      "flex_flow": null,
      "grid_area": null,
      "grid_auto_columns": null,
      "grid_auto_flow": null,
      "grid_auto_rows": null,
      "grid_column": null,
      "grid_gap": null,
      "grid_row": null,
      "grid_template_areas": null,
      "grid_template_columns": null,
      "grid_template_rows": null,
      "height": null,
      "justify_content": null,
      "justify_items": null,
      "left": null,
      "margin": null,
      "max_height": null,
      "max_width": null,
      "min_height": null,
      "min_width": null,
      "object_fit": null,
      "object_position": null,
      "order": null,
      "overflow": null,
      "overflow_x": null,
      "overflow_y": null,
      "padding": null,
      "right": null,
      "top": null,
      "visibility": null,
      "width": null
     }
    },
    "6b403b6f2e2a42e2a19ab607df85959f": {
     "model_module": "@jupyter-widgets/base",
     "model_module_version": "1.2.0",
     "model_name": "LayoutModel",
     "state": {
      "_model_module": "@jupyter-widgets/base",
      "_model_module_version": "1.2.0",
      "_model_name": "LayoutModel",
      "_view_count": null,
      "_view_module": "@jupyter-widgets/base",
      "_view_module_version": "1.2.0",
      "_view_name": "LayoutView",
      "align_content": null,
      "align_items": null,
      "align_self": null,
      "border": null,
      "bottom": null,
      "display": null,
      "flex": null,
      "flex_flow": null,
      "grid_area": null,
      "grid_auto_columns": null,
      "grid_auto_flow": null,
      "grid_auto_rows": null,
      "grid_column": null,
      "grid_gap": null,
      "grid_row": null,
      "grid_template_areas": null,
      "grid_template_columns": null,
      "grid_template_rows": null,
      "height": null,
      "justify_content": null,
      "justify_items": null,
      "left": null,
      "margin": null,
      "max_height": null,
      "max_width": null,
      "min_height": null,
      "min_width": null,
      "object_fit": null,
      "object_position": null,
      "order": null,
      "overflow": null,
      "overflow_x": null,
      "overflow_y": null,
      "padding": null,
      "right": null,
      "top": null,
      "visibility": null,
      "width": null
     }
    },
    "836df5bcab904e3f92c11329c2831cb5": {
     "model_module": "@jupyter-widgets/controls",
     "model_module_version": "1.5.0",
     "model_name": "HTMLModel",
     "state": {
      "_dom_classes": [],
      "_model_module": "@jupyter-widgets/controls",
      "_model_module_version": "1.5.0",
      "_model_name": "HTMLModel",
      "_view_count": null,
      "_view_module": "@jupyter-widgets/controls",
      "_view_module_version": "1.5.0",
      "_view_name": "HTMLView",
      "description": "",
      "description_tooltip": null,
      "layout": "IPY_MODEL_63ba29470c644b7ea6b51fd8f164d10d",
      "placeholder": "​",
      "style": "IPY_MODEL_0b28d0b4f3e946d2b4ec0607dd4b0ada",
      "value": "Downloading: 100%"
     }
    },
    "9fd5f87fb7cd412bb8b03038ac8fb32d": {
     "model_module": "@jupyter-widgets/base",
     "model_module_version": "1.2.0",
     "model_name": "LayoutModel",
     "state": {
      "_model_module": "@jupyter-widgets/base",
      "_model_module_version": "1.2.0",
      "_model_name": "LayoutModel",
      "_view_count": null,
      "_view_module": "@jupyter-widgets/base",
      "_view_module_version": "1.2.0",
      "_view_name": "LayoutView",
      "align_content": null,
      "align_items": null,
      "align_self": null,
      "border": null,
      "bottom": null,
      "display": null,
      "flex": null,
      "flex_flow": null,
      "grid_area": null,
      "grid_auto_columns": null,
      "grid_auto_flow": null,
      "grid_auto_rows": null,
      "grid_column": null,
      "grid_gap": null,
      "grid_row": null,
      "grid_template_areas": null,
      "grid_template_columns": null,
      "grid_template_rows": null,
      "height": null,
      "justify_content": null,
      "justify_items": null,
      "left": null,
      "margin": null,
      "max_height": null,
      "max_width": null,
      "min_height": null,
      "min_width": null,
      "object_fit": null,
      "object_position": null,
      "order": null,
      "overflow": null,
      "overflow_x": null,
      "overflow_y": null,
      "padding": null,
      "right": null,
      "top": null,
      "visibility": null,
      "width": null
     }
    },
    "a2e6d51b35d9460f96fffb935644c48d": {
     "model_module": "@jupyter-widgets/controls",
     "model_module_version": "1.5.0",
     "model_name": "HBoxModel",
     "state": {
      "_dom_classes": [],
      "_model_module": "@jupyter-widgets/controls",
      "_model_module_version": "1.5.0",
      "_model_name": "HBoxModel",
      "_view_count": null,
      "_view_module": "@jupyter-widgets/controls",
      "_view_module_version": "1.5.0",
      "_view_name": "HBoxView",
      "box_style": "",
      "children": [
       "IPY_MODEL_b98790eb6eef4d1ebf28802327417902",
       "IPY_MODEL_58e46b892f3f4b4a8229b5d3f355053a",
       "IPY_MODEL_476dc4312c934d0baa098d5ddc861caa"
      ],
      "layout": "IPY_MODEL_6b403b6f2e2a42e2a19ab607df85959f"
     }
    },
    "a3a73421e4ac424680834784bec36b71": {
     "model_module": "@jupyter-widgets/controls",
     "model_module_version": "1.5.0",
     "model_name": "HBoxModel",
     "state": {
      "_dom_classes": [],
      "_model_module": "@jupyter-widgets/controls",
      "_model_module_version": "1.5.0",
      "_model_name": "HBoxModel",
      "_view_count": null,
      "_view_module": "@jupyter-widgets/controls",
      "_view_module_version": "1.5.0",
      "_view_name": "HBoxView",
      "box_style": "",
      "children": [
       "IPY_MODEL_01f95f0119a74c5d9e28434786d0a17f",
       "IPY_MODEL_5a8139fc062947508b4122498e0fdb0b",
       "IPY_MODEL_a7f4bb74700f4a628870ed65b4c2ec3b"
      ],
      "layout": "IPY_MODEL_0339e0ded86845908a441266c86c17e5"
     }
    },
    "a7f4bb74700f4a628870ed65b4c2ec3b": {
     "model_module": "@jupyter-widgets/controls",
     "model_module_version": "1.5.0",
     "model_name": "HTMLModel",
     "state": {
      "_dom_classes": [],
      "_model_module": "@jupyter-widgets/controls",
      "_model_module_version": "1.5.0",
      "_model_name": "HTMLModel",
      "_view_count": null,
      "_view_module": "@jupyter-widgets/controls",
      "_view_module_version": "1.5.0",
      "_view_name": "HTMLView",
      "description": "",
      "description_tooltip": null,
      "layout": "IPY_MODEL_9fd5f87fb7cd412bb8b03038ac8fb32d",
      "placeholder": "​",
      "style": "IPY_MODEL_4d072b2662724cf7824a39552a4e2eb3",
      "value": " 1.17k/1.17k [00:00&lt;00:00, 4.63kB/s]"
     }
    },
    "b0703a7c561a4da19db34820a31491a3": {
     "model_module": "@jupyter-widgets/controls",
     "model_module_version": "1.5.0",
     "model_name": "HTMLModel",
     "state": {
      "_dom_classes": [],
      "_model_module": "@jupyter-widgets/controls",
      "_model_module_version": "1.5.0",
      "_model_name": "HTMLModel",
      "_view_count": null,
      "_view_module": "@jupyter-widgets/controls",
      "_view_module_version": "1.5.0",
      "_view_name": "HTMLView",
      "description": "",
      "description_tooltip": null,
      "layout": "IPY_MODEL_2a1050f79cf141b3bf76e6931b7f016e",
      "placeholder": "​",
      "style": "IPY_MODEL_f4df0db9e84d4d878f1c576daaf50c80",
      "value": " 851M/851M [00:18&lt;00:00, 45.8MB/s]"
     }
    },
    "b98790eb6eef4d1ebf28802327417902": {
     "model_module": "@jupyter-widgets/controls",
     "model_module_version": "1.5.0",
     "model_name": "HTMLModel",
     "state": {
      "_dom_classes": [],
      "_model_module": "@jupyter-widgets/controls",
      "_model_module_version": "1.5.0",
      "_model_name": "HTMLModel",
      "_view_count": null,
      "_view_module": "@jupyter-widgets/controls",
      "_view_module_version": "1.5.0",
      "_view_name": "HTMLView",
      "description": "",
      "description_tooltip": null,
      "layout": "IPY_MODEL_ffc817545a3c419f90ad44abb6efadc7",
      "placeholder": "​",
      "style": "IPY_MODEL_1c2be624036f46728b3f5e298a745dec",
      "value": "Downloading: 100%"
     }
    },
    "c43e48e50023496e9b265e0b084da896": {
     "model_module": "@jupyter-widgets/base",
     "model_module_version": "1.2.0",
     "model_name": "LayoutModel",
     "state": {
      "_model_module": "@jupyter-widgets/base",
      "_model_module_version": "1.2.0",
      "_model_name": "LayoutModel",
      "_view_count": null,
      "_view_module": "@jupyter-widgets/base",
      "_view_module_version": "1.2.0",
      "_view_name": "LayoutView",
      "align_content": null,
      "align_items": null,
      "align_self": null,
      "border": null,
      "bottom": null,
      "display": null,
      "flex": null,
      "flex_flow": null,
      "grid_area": null,
      "grid_auto_columns": null,
      "grid_auto_flow": null,
      "grid_auto_rows": null,
      "grid_column": null,
      "grid_gap": null,
      "grid_row": null,
      "grid_template_areas": null,
      "grid_template_columns": null,
      "grid_template_rows": null,
      "height": null,
      "justify_content": null,
      "justify_items": null,
      "left": null,
      "margin": null,
      "max_height": null,
      "max_width": null,
      "min_height": null,
      "min_width": null,
      "object_fit": null,
      "object_position": null,
      "order": null,
      "overflow": null,
      "overflow_x": null,
      "overflow_y": null,
      "padding": null,
      "right": null,
      "top": null,
      "visibility": null,
      "width": null
     }
    },
    "cb650e9da2ae4a738b82e21a70c0a1f2": {
     "model_module": "@jupyter-widgets/base",
     "model_module_version": "1.2.0",
     "model_name": "LayoutModel",
     "state": {
      "_model_module": "@jupyter-widgets/base",
      "_model_module_version": "1.2.0",
      "_model_name": "LayoutModel",
      "_view_count": null,
      "_view_module": "@jupyter-widgets/base",
      "_view_module_version": "1.2.0",
      "_view_name": "LayoutView",
      "align_content": null,
      "align_items": null,
      "align_self": null,
      "border": null,
      "bottom": null,
      "display": null,
      "flex": null,
      "flex_flow": null,
      "grid_area": null,
      "grid_auto_columns": null,
      "grid_auto_flow": null,
      "grid_auto_rows": null,
      "grid_column": null,
      "grid_gap": null,
      "grid_row": null,
      "grid_template_areas": null,
      "grid_template_columns": null,
      "grid_template_rows": null,
      "height": null,
      "justify_content": null,
      "justify_items": null,
      "left": null,
      "margin": null,
      "max_height": null,
      "max_width": null,
      "min_height": null,
      "min_width": null,
      "object_fit": null,
      "object_position": null,
      "order": null,
      "overflow": null,
      "overflow_x": null,
      "overflow_y": null,
      "padding": null,
      "right": null,
      "top": null,
      "visibility": null,
      "width": null
     }
    },
    "cdf6f1f725d0444ab4c2565c56f2cb8d": {
     "model_module": "@jupyter-widgets/controls",
     "model_module_version": "1.5.0",
     "model_name": "ProgressStyleModel",
     "state": {
      "_model_module": "@jupyter-widgets/controls",
      "_model_module_version": "1.5.0",
      "_model_name": "ProgressStyleModel",
      "_view_count": null,
      "_view_module": "@jupyter-widgets/base",
      "_view_module_version": "1.2.0",
      "_view_name": "StyleView",
      "bar_color": null,
      "description_width": ""
     }
    },
    "d253167d82c349edae76c794cd4bf260": {
     "model_module": "@jupyter-widgets/controls",
     "model_module_version": "1.5.0",
     "model_name": "ProgressStyleModel",
     "state": {
      "_model_module": "@jupyter-widgets/controls",
      "_model_module_version": "1.5.0",
      "_model_name": "ProgressStyleModel",
      "_view_count": null,
      "_view_module": "@jupyter-widgets/base",
      "_view_module_version": "1.2.0",
      "_view_name": "StyleView",
      "bar_color": null,
      "description_width": ""
     }
    },
    "e21ac901a5f24b34b3cdd202b5d9e7fb": {
     "model_module": "@jupyter-widgets/controls",
     "model_module_version": "1.5.0",
     "model_name": "ProgressStyleModel",
     "state": {
      "_model_module": "@jupyter-widgets/controls",
      "_model_module_version": "1.5.0",
      "_model_name": "ProgressStyleModel",
      "_view_count": null,
      "_view_module": "@jupyter-widgets/base",
      "_view_module_version": "1.2.0",
      "_view_name": "StyleView",
      "bar_color": null,
      "description_width": ""
     }
    },
    "e9ff0266451a4c8f89b03672e28a962e": {
     "model_module": "@jupyter-widgets/controls",
     "model_module_version": "1.5.0",
     "model_name": "HBoxModel",
     "state": {
      "_dom_classes": [],
      "_model_module": "@jupyter-widgets/controls",
      "_model_module_version": "1.5.0",
      "_model_name": "HBoxModel",
      "_view_count": null,
      "_view_module": "@jupyter-widgets/controls",
      "_view_module_version": "1.5.0",
      "_view_name": "HBoxView",
      "box_style": "",
      "children": [
       "IPY_MODEL_836df5bcab904e3f92c11329c2831cb5",
       "IPY_MODEL_344087c0caa94645b8a93ea64b9af742",
       "IPY_MODEL_b0703a7c561a4da19db34820a31491a3"
      ],
      "layout": "IPY_MODEL_cb650e9da2ae4a738b82e21a70c0a1f2"
     }
    },
    "f4df0db9e84d4d878f1c576daaf50c80": {
     "model_module": "@jupyter-widgets/controls",
     "model_module_version": "1.5.0",
     "model_name": "DescriptionStyleModel",
     "state": {
      "_model_module": "@jupyter-widgets/controls",
      "_model_module_version": "1.5.0",
      "_model_name": "DescriptionStyleModel",
      "_view_count": null,
      "_view_module": "@jupyter-widgets/base",
      "_view_module_version": "1.2.0",
      "_view_name": "StyleView",
      "description_width": ""
     }
    },
    "f5884940a30e4a869ad0648da590ac33": {
     "model_module": "@jupyter-widgets/base",
     "model_module_version": "1.2.0",
     "model_name": "LayoutModel",
     "state": {
      "_model_module": "@jupyter-widgets/base",
      "_model_module_version": "1.2.0",
      "_model_name": "LayoutModel",
      "_view_count": null,
      "_view_module": "@jupyter-widgets/base",
      "_view_module_version": "1.2.0",
      "_view_name": "LayoutView",
      "align_content": null,
      "align_items": null,
      "align_self": null,
      "border": null,
      "bottom": null,
      "display": null,
      "flex": null,
      "flex_flow": null,
      "grid_area": null,
      "grid_auto_columns": null,
      "grid_auto_flow": null,
      "grid_auto_rows": null,
      "grid_column": null,
      "grid_gap": null,
      "grid_row": null,
      "grid_template_areas": null,
      "grid_template_columns": null,
      "grid_template_rows": null,
      "height": null,
      "justify_content": null,
      "justify_items": null,
      "left": null,
      "margin": null,
      "max_height": null,
      "max_width": null,
      "min_height": null,
      "min_width": null,
      "object_fit": null,
      "object_position": null,
      "order": null,
      "overflow": null,
      "overflow_x": null,
      "overflow_y": null,
      "padding": null,
      "right": null,
      "top": null,
      "visibility": null,
      "width": null
     }
    },
    "ffc817545a3c419f90ad44abb6efadc7": {
     "model_module": "@jupyter-widgets/base",
     "model_module_version": "1.2.0",
     "model_name": "LayoutModel",
     "state": {
      "_model_module": "@jupyter-widgets/base",
      "_model_module_version": "1.2.0",
      "_model_name": "LayoutModel",
      "_view_count": null,
      "_view_module": "@jupyter-widgets/base",
      "_view_module_version": "1.2.0",
      "_view_name": "LayoutView",
      "align_content": null,
      "align_items": null,
      "align_self": null,
      "border": null,
      "bottom": null,
      "display": null,
      "flex": null,
      "flex_flow": null,
      "grid_area": null,
      "grid_auto_columns": null,
      "grid_auto_flow": null,
      "grid_auto_rows": null,
      "grid_column": null,
      "grid_gap": null,
      "grid_row": null,
      "grid_template_areas": null,
      "grid_template_columns": null,
      "grid_template_rows": null,
      "height": null,
      "justify_content": null,
      "justify_items": null,
      "left": null,
      "margin": null,
      "max_height": null,
      "max_width": null,
      "min_height": null,
      "min_width": null,
      "object_fit": null,
      "object_position": null,
      "order": null,
      "overflow": null,
      "overflow_x": null,
      "overflow_y": null,
      "padding": null,
      "right": null,
      "top": null,
      "visibility": null,
      "width": null
     }
    }
   }
  }
 },
 "nbformat": 4,
 "nbformat_minor": 0
}
